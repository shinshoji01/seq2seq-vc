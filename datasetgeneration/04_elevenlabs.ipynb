{
 "cells": [
  {
   "cell_type": "code",
   "execution_count": null,
   "id": "1ae3ce97-e64e-493b-b7c8-a74c7c8318f6",
   "metadata": {},
   "outputs": [],
   "source": [
    "import requests\n",
    "from tqdm import tqdm\n",
    "CHUNK_SIZE = 1024\n",
    "url = \"https://api.elevenlabs.io/v1/text-to-speech/pNInz6obpgDQGcFmaJgB\"\n",
    "headers = {\n",
    "    \"Accept\": \"audio/mpeg\",\n",
    "    \"Content-Type\": \"application/json\",\n",
    "    \"xi-api-key\": \"sk_7205b11e0ebbab711f1a8ea74f1801e601b536ffd7049a2b\",\n",
    "}"
   ]
  },
  {
   "cell_type": "code",
   "execution_count": null,
   "id": "7916e131-da92-432a-aa00-a620e686f678",
   "metadata": {},
   "outputs": [],
   "source": [
    "textdir = {}\n",
    "textdir[\"en\"] = {\n",
    "    0: \"Author of the danger trail philip steels et cetera.\",\n",
    "    1: \"I am playing a single hand in what looks like a losing game\"\n",
    "}\n",
    "textdir[\"hi\"] = {\n",
    "    0: \"औथर ऑफ द डेंजर ट्रेल फिलिप स्टिल एट सेटरा।\",\n",
    "    1: \"आइ अम प्लेइंग अ सिंगल हैंड इन वट लुक्स लाइक अ लूज़िंग गेम।\",\n",
    "}\n",
    "textdir[\"zh-cn\"] = {\n",
    "    0: \"奥色尔奥夫德丹哲尔特雷尔菲利普斯蒂尔埃特塞特拉。\",\n",
    "    1: \"艾爱恩普雷英啊新个汉德英哇特卢克斯莱克啊卢津甘。\",\n",
    "}\n",
    "textdir[\"ja\"] = {\n",
    "    0: \"オーサー・オブ・ザ・デンジャー・トレイル・フィリップ・スティル・エトセトラ。\",\n",
    "    1: \"アイ アム プレイング ア シングル ハンド イン ワット ルックス ライク ア ルージング ゲーム。\",\n",
    "}\n",
    "textdir[\"ko\"] = {\n",
    "    0: \"어서 오브 더 데인저 트레일 필립 스틸 엣 세테라\",\n",
    "    1: \"아이 앰 플레잉 어 싱글 핸드 인 와트 룩스 라이크 어 루우징 게임\",\n",
    "}"
   ]
  },
  {
   "cell_type": "code",
   "execution_count": null,
   "id": "45b034bb-6368-4099-b577-6c4e11a0c77e",
   "metadata": {},
   "outputs": [],
   "source": [
    "def process_audio(text, audiofile):\n",
    "    data = {\n",
    "        \"text\": text,\n",
    "        \"model_id\": \"eleven_multilingual_v2\",\n",
    "        \"voice_settings\": {\n",
    "            \"stability\": 0.5,\n",
    "            \"similarity_boost\": 0.5\n",
    "        }\n",
    "    }\n",
    "    response = requests.post(url, json=data, headers=headers)\n",
    "    with open(audiofile, 'wb') as f:\n",
    "        for chunk in response.iter_content(chunk_size=CHUNK_SIZE):\n",
    "            if chunk:\n",
    "                f.write(chunk)"
   ]
  },
  {
   "cell_type": "code",
   "execution_count": null,
   "id": "5ff52857-3196-4715-b022-0c443b56b3de",
   "metadata": {},
   "outputs": [],
   "source": [
    "for language in [\"hi\", \"en\", \"ko\", \"zh-cn\", \"ja\"]:\n",
    "    print(language)\n",
    "    # for sampleid in tqdm([0, 1]):\n",
    "    for sampleid in tqdm([1]):\n",
    "        text = textdir[language][sampleid]\n",
    "        for r in range(2):\n",
    "            savefile = f\"./audiosamples/elevenlabs/sample{sampleid}_{language}_{r}.wav\"\n",
    "            # process_audio(text, savefile)"
   ]
  },
  {
   "cell_type": "code",
   "execution_count": null,
   "id": "e1120b0d-bd7a-4d8b-904d-9a75a1b05731",
   "metadata": {},
   "outputs": [],
   "source": [
    "savefile"
   ]
  },
  {
   "cell_type": "code",
   "execution_count": null,
   "id": "71077c50",
   "metadata": {},
   "outputs": [],
   "source": []
  },
  {
   "cell_type": "code",
   "execution_count": null,
   "id": "ee7eb5d8",
   "metadata": {},
   "outputs": [],
   "source": []
  }
 ],
 "metadata": {
  "language_info": {
   "name": "python"
  }
 },
 "nbformat": 4,
 "nbformat_minor": 5
}
