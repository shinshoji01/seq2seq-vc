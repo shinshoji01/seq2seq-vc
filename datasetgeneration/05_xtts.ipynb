{
 "cells": [
  {
   "cell_type": "code",
   "execution_count": null,
   "id": "51906e62-15a9-44c1-a7c5-1285b0b4a608",
   "metadata": {},
   "outputs": [],
   "source": [
    "# !pip3 install cutlet -i https://mirrors.aliyun.com/pypi/simple/\n",
    "# !pip3 install fugashi[unidic] -i https://mirrors.aliyun.com/pypi/simple/\n",
    "# !python -m unidic download -i https://mirrors.aliyun.com/pypi/simple/\n",
    "# !pip install unidic\n",
    "!pip install mecab-python3 cutlet unidic-lite -i https://mirrors.aliyun.com/pypi/simple/\n",
    "# !python -m unidic download"
   ]
  },
  {
   "cell_type": "code",
   "execution_count": null,
   "id": "36a18465",
   "metadata": {},
   "outputs": [],
   "source": [
    "import torch\n",
    "from TTS.api import TTS\n",
    "from tqdm import tqdm\n",
    "import librosa\n",
    "import IPython\n",
    "def play_audio(data, rate):\n",
    "    IPython.display.display(IPython.display.Audio(data=data,rate=rate))\n",
    "\n",
    "# Get device\n",
    "device = \"cuda\" if torch.cuda.is_available() else \"cpu\""
   ]
  },
  {
   "cell_type": "code",
   "execution_count": null,
   "id": "99a5e8de-8dec-48e9-987c-91129b5fa6c7",
   "metadata": {},
   "outputs": [],
   "source": [
    "textdir = {}\n",
    "textdir[\"en\"] = {\n",
    "    0: \"Author of the danger trail philip steels et cetera.\",\n",
    "    1: \"I am playing a single hand in what looks like a losing game.\"\n",
    "}\n",
    "textdir[\"hi\"] = {\n",
    "    0: \"औथर ऑफ द डेंजर ट्रेल फिलिप स्टिल एट सेटरा।\",\n",
    "    1: \"आइ अम प्लेइंग अ सिंगल हैंड इन वट लुक्स लाइक अ लूज़िंग गेम।\",\n",
    "}\n",
    "textdir[\"zh-cn\"] = {\n",
    "    0: \"奥色尔奥夫德丹哲尔特雷尔菲利普斯蒂尔埃特塞特拉。\",\n",
    "    1: \"艾爱恩普雷英啊新个汉德英哇特卢克斯莱克啊卢津甘。\",\n",
    "}\n",
    "textdir[\"ja\"] = {\n",
    "    0: \"オーサー・オブ・ザ・デンジャー・トレイル・フィリップ・スティル・エトセトラ。\",\n",
    "    1: \"アイ アム プレイング ア シングル ハンド イン ワット ルックス ライク ア ルージング ゲーム。\",\n",
    "}\n",
    "textdir[\"ko\"] = {\n",
    "    0: \"어서 오브 더 데인저 트레일 필립 스틸 엣 세테라\",\n",
    "    1: \"아이 앰 플레잉 어 싱글 핸드 인 와트 룩스 라이크 어 루우징 게임\",\n",
    "}\n",
    "\n",
    "tts = TTS(\"tts_models/multilingual/multi-dataset/xtts_v2\").to(device)"
   ]
  },
  {
   "cell_type": "code",
   "execution_count": null,
   "id": "7c084fa4-23d9-4b9f-8f20-e27223d34bd6",
   "metadata": {},
   "outputs": [],
   "source": []
  },
  {
   "cell_type": "code",
   "execution_count": null,
   "id": "bb16ad1a-5866-4fda-9df3-e6759d212cef",
   "metadata": {},
   "outputs": [],
   "source": [
    "prompt_name = \"Adam\" # Adam, Alice, Fin, Glinda\n",
    "# prompt = f\"./Git/TTS-main/audioprompts/voice_preview_{prompt_name}.mp3\"\n",
    "prompt = f\"../TTS-main/audioprompts/voice_preview_{prompt_name}.mp3\"\n",
    "\n",
    "# for language in [\"hi\", \"en\", \"ko\", \"zh-cn\", \"ja\"]:\n",
    "for language in [\"ja\"]:\n",
    "    print(language)\n",
    "    for sampleid in tqdm([0, 1]):\n",
    "        text = textdir[language][sampleid]\n",
    "        for r in range(3):\n",
    "            savefile = f\"./audiosamples/xtts/sample{sampleid}_{language}_{r}.wav\"\n",
    "            tts.tts_to_file(text=text, speaker_wav=prompt, language=language, file_path=savefile)"
   ]
  },
  {
   "cell_type": "code",
   "execution_count": null,
   "id": "27fd8cae-7dff-4855-b74b-a7e71b4557f0",
   "metadata": {},
   "outputs": [],
   "source": []
  }
 ],
 "metadata": {
  "language_info": {
   "name": "python"
  }
 },
 "nbformat": 4,
 "nbformat_minor": 5
}
