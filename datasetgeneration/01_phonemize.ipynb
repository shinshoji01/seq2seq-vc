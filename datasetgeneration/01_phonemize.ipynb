{
 "cells": [
  {
   "cell_type": "code",
   "execution_count": null,
   "id": "a3ee6144-af21-4396-8ee3-befa6ed29c20",
   "metadata": {},
   "outputs": [],
   "source": [
    "# !pip install phonemizer==3.0.1 -i https://mirrors.aliyun.com/pypi/simple/"
   ]
  },
  {
   "cell_type": "code",
   "execution_count": null,
   "id": "2e96998b-436e-4001-a05d-07532d284d72",
   "metadata": {},
   "outputs": [],
   "source": [
    "# !export PHONEMIZER_ESPEAK_LIBRARY=/opt/homebrew/Cellar/espeak/1.48.04_1/lib/libespeak.dylib"
   ]
  },
  {
   "cell_type": "code",
   "execution_count": null,
   "id": "40abf240-ae7e-42d9-b770-583a7f58147b",
   "metadata": {},
   "outputs": [],
   "source": [
    "!pip install py-espeak-ng"
   ]
  },
  {
   "cell_type": "code",
   "execution_count": null,
   "id": "5a768bdc-15ff-4915-bdad-846480083ce4",
   "metadata": {},
   "outputs": [],
   "source": [
    "from espeakng import ESpeakNG\n",
    "esng = ESpeakNG() \n",
    "esng.say('Hello World!')"
   ]
  },
  {
   "cell_type": "code",
   "execution_count": null,
   "id": "e4af65b8-2e8f-4e82-a772-48211c2d3079",
   "metadata": {},
   "outputs": [],
   "source": [
    "from phonemizer import phonemize"
   ]
  },
  {
   "cell_type": "code",
   "execution_count": null,
   "id": "8a6771b5-1b7d-40bb-9f80-055804d808e5",
   "metadata": {},
   "outputs": [],
   "source": [
    "!echo \"hello world\" | phonemize"
   ]
  },
  {
   "cell_type": "code",
   "execution_count": null,
   "id": "de92f4ae-eddd-4a41-a497-63a33e5ee4e8",
   "metadata": {},
   "outputs": [],
   "source": [
    "!echo \"aikyasupu\" | phonemize"
   ]
  },
  {
   "cell_type": "code",
   "execution_count": null,
   "id": "99b0b6e2-f696-437e-8003-b2f292c311a3",
   "metadata": {},
   "outputs": [],
   "source": [
    "!echo \"ICASSP\" | phonemize"
   ]
  },
  {
   "cell_type": "code",
   "execution_count": null,
   "id": "d72f90ea-148a-4a23-8040-cf5cead5e958",
   "metadata": {},
   "outputs": [],
   "source": [
    "!echo \"hello world\" | phonemize -l en-us -b espeak"
   ]
  },
  {
   "cell_type": "code",
   "execution_count": null,
   "id": "289b2233-1eff-4195-a817-bd2f7c150830",
   "metadata": {},
   "outputs": [],
   "source": [
    "!echo \"オーサー・オブ・ザ・デンジャー・トレイル・フィリップ・スティル・エトセトラ。\" | phonemize -l ja-ja -b espeak"
   ]
  },
  {
   "cell_type": "code",
   "execution_count": null,
   "id": "501c48dc-dfe9-48cc-afd0-833d9ccbe052",
   "metadata": {},
   "outputs": [],
   "source": [
    "!phonemize --list-languages --backend espeak"
   ]
  },
  {
   "cell_type": "code",
   "execution_count": null,
   "id": "fa792c9d-b0cf-4303-92da-6f65c4e2246c",
   "metadata": {},
   "outputs": [],
   "source": [
    "!echo \"オーサー・オブ・ザ・デンジャー・トレイル・フィリップ・スティル・エトセトラ。\" | phonemize -l japanese -b segments"
   ]
  },
  {
   "cell_type": "code",
   "execution_count": null,
   "id": "a351aef5-4071-443c-910f-c3de185a19fa",
   "metadata": {},
   "outputs": [],
   "source": [
    "!echo '' | phonemize -b segments -l japanese"
   ]
  },
  {
   "cell_type": "code",
   "execution_count": null,
   "id": "c02c2d87-7540-4780-8f8a-6ebca47316c6",
   "metadata": {},
   "outputs": [],
   "source": [
    "# text = \"Author of the danger trail philip still et cetera\"\n",
    "# text = \"Author of the danger trail philip steels etc\"\n",
    "text = \"I am playing a single hand in what looks like a losing game\"\n",
    "print(phonemize(text, language='en-us', backend='espeak', with_stress=True))\n",
    "\n",
    "# hi, zh\n",
    "text = \"औथर ऑफ द डेंजर ट्रेल फिलिप स्टिल एट सेटरा।\"\n",
    "print(phonemize(text, language='hi', backend='espeak', with_stress=False))"
   ]
  },
  {
   "cell_type": "code",
   "execution_count": null,
   "id": "dfb3f542-c751-45e7-bc54-6775f37b4744",
   "metadata": {},
   "outputs": [],
   "source": []
  },
  {
   "cell_type": "code",
   "execution_count": null,
   "id": "6b86b5e0-ab94-496b-a406-5fba7b2fb4a6",
   "metadata": {},
   "outputs": [],
   "source": []
  },
  {
   "cell_type": "code",
   "execution_count": null,
   "id": "5c063036-9df0-45f7-a82f-0f24d92e2033",
   "metadata": {},
   "outputs": [],
   "source": [
    "text = []\n",
    "\n",
    "from phonemizer.backend import EspeakBackend\n",
    "backend = EspeakBackend('en-us')\n",
    "phonemized = [backend.phonemize(line) for line in text]"
   ]
  },
  {
   "cell_type": "code",
   "execution_count": null,
   "id": "f74342d2-f053-4bbf-922e-46e1d1785dcd",
   "metadata": {},
   "outputs": [],
   "source": []
  }
 ],
 "metadata": {
  "language_info": {
   "name": "python"
  }
 },
 "nbformat": 4,
 "nbformat_minor": 5
}
