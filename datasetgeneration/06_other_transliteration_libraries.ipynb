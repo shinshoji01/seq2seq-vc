{
 "cells": [
  {
   "cell_type": "markdown",
   "id": "dd32389e-7ebf-4633-9d6c-2dbb53c3e444",
   "metadata": {},
   "source": [
    "# polyglot\n",
    "https://polyglot.readthedocs.io/en/latest/Transliteration.html"
   ]
  },
  {
   "cell_type": "code",
   "execution_count": null,
   "id": "6f427358-33a5-4292-bb4d-cd15f2f6311d",
   "metadata": {},
   "outputs": [],
   "source": [
    "from polyglot.transliteration import Transliterator\n",
    "from polyglot.downloader import downloader\n",
    "from polyglot.text import Text\n",
    "print(downloader.supported_languages_table(\"transliteration2\"))"
   ]
  },
  {
   "cell_type": "code",
   "execution_count": null,
   "id": "c496ad4c-54e8-444c-89e8-241c373267ae",
   "metadata": {},
   "outputs": [],
   "source": [
    "language = \"zh\"\n",
    "text_list = [\n",
    "\"\"\"Author of the danger trail Philip Steels et cetera\"\"\",\n",
    "\"\"\"I am playing a single hand in what looks like a losing game\"\"\",\n",
    "]\n",
    "for text in text_list:\n",
    "    print(text)\n",
    "\n",
    "    text = Text(text, hint_language_code=\"en\")\n",
    "    words = list(text.transliterate(language))\n",
    "    words = [a for a in words if a!=\"\"]\n",
    "\n",
    "    print(\" \".join(list(words)))\n",
    "    print(\"\")"
   ]
  },
  {
   "cell_type": "markdown",
   "id": "79bbab02-c2fd-4de3-9d7e-b83427f06136",
   "metadata": {},
   "source": [
    "# transliterate\n",
    "https://pypi.org/project/transliterate/"
   ]
  },
  {
   "cell_type": "code",
   "execution_count": null,
   "id": "bacfd20c-a4e0-40dd-9217-a6463e0e33cf",
   "metadata": {},
   "outputs": [],
   "source": [
    "# !pip3 install transliterate"
   ]
  },
  {
   "cell_type": "code",
   "execution_count": null,
   "id": "d9ec7a57-9704-43e8-9d11-1c12a19512f3",
   "metadata": {},
   "outputs": [],
   "source": [
    "from transliterate import translit, get_available_language_codes"
   ]
  },
  {
   "cell_type": "code",
   "execution_count": null,
   "id": "aab72251-37ef-456f-8588-f05356a98cd7",
   "metadata": {},
   "outputs": [],
   "source": [
    "# text = \"Author of the danger trail Philip Steels et cetera\"\n",
    "text = \"I am playing a single hand in what looks like a losing game\"\n",
    "print(text)"
   ]
  },
  {
   "cell_type": "code",
   "execution_count": null,
   "id": "31cad6d5-0fa9-45b3-b833-95db63464789",
   "metadata": {},
   "outputs": [],
   "source": [
    "print(get_available_language_codes())\n",
    "language = \"ru\""
   ]
  },
  {
   "cell_type": "code",
   "execution_count": null,
   "id": "0ee2a53a-2c2f-446b-a806-e67c3f48752c",
   "metadata": {},
   "outputs": [],
   "source": [
    "converted = translit(text, language)\n",
    "print(text)\n",
    "print(converted)\n",
    "print(translit(converted, language, reversed=True))"
   ]
  },
  {
   "cell_type": "markdown",
   "id": "0abc0fba-7be7-4e0e-9e03-126a37c63e97",
   "metadata": {},
   "source": [
    "# ai4bharat-transliteration\n",
    "https://pypi.org/project/ai4bharat-transliteration/"
   ]
  },
  {
   "cell_type": "code",
   "execution_count": null,
   "id": "abf3ffb4-0117-472d-b83d-0ef2ed5b0f0b",
   "metadata": {},
   "outputs": [],
   "source": [
    "# !pip install ai4bharat-transliteration"
   ]
  },
  {
   "cell_type": "code",
   "execution_count": null,
   "id": "2c6b1333-3767-4a4d-a194-2d05954b80ed",
   "metadata": {},
   "outputs": [],
   "source": [
    "from ai4bharat.transliteration import XlitEngine"
   ]
  },
  {
   "cell_type": "code",
   "execution_count": null,
   "id": "1b6273e9-f70d-4b65-8903-eb25c00f450f",
   "metadata": {},
   "outputs": [],
   "source": [
    "language = \"hi\"\n",
    "e = XlitEngine(language, beam_width=10, rescore=True)"
   ]
  },
  {
   "cell_type": "code",
   "execution_count": null,
   "id": "acf9d1a7-d680-4a4d-a541-f3b38663d283",
   "metadata": {},
   "outputs": [],
   "source": [
    "converted = []\n",
    "for word in text.split():\n",
    "    out = e.translit_word(word, topk=1)\n",
    "    converted += out[language]\n",
    "print(\" \".join(converted))"
   ]
  }
 ],
 "metadata": {
  "language_info": {
   "name": "python"
  }
 },
 "nbformat": 4,
 "nbformat_minor": 5
}
