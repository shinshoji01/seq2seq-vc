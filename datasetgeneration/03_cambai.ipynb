{
 "cells": [
  {
   "cell_type": "code",
   "execution_count": null,
   "id": "e2588308-a37e-4599-af01-ae64293748d3",
   "metadata": {},
   "outputs": [],
   "source": [
    "import requests\n",
    "import json\n",
    "import time\n",
    "import os\n",
    "import librosa\n",
    "import IPython\n",
    "from tqdm import tqdm\n",
    "def play_audio(data, rate):\n",
    "    IPython.display.display(IPython.display.Audio(data=data,rate=rate))\n",
    "\n",
    "# API_KEY = \"b4f74fb7-8146-4ddb-8930-3ce009d59ac3\"\n",
    "# url = \"https://client.camb.ai/apis/list_voices\"\n",
    "# headers = {\"x-api-key\": API_KEY}\n",
    "# response = requests.get(url, headers=headers)\n",
    "# data = response.json()\n",
    "# for voice in data:\n",
    "#     print(f\"{voice['voice_name']}; {voice['id']}\")"
   ]
  },
  {
   "cell_type": "code",
   "execution_count": null,
   "id": "f36e4572-46fa-4399-8da1-d0c695f86dda",
   "metadata": {},
   "outputs": [],
   "source": [
    "language = \"en\"\n",
    "BASE_URL = \"https://client.camb.ai/apis\"\n",
    "HEADERS = {\"headers\": {\"x-api-key\": API_KEY}}\n",
    "\n",
    "def save_sample(text, filename):\n",
    "    tts_payload = {\n",
    "        \"text\": text,\n",
    "        \"voice_id\": 13012,  \n",
    "        \"language\": use_languages[language],  \n",
    "        \"age\": 30,\n",
    "        \"gender\": 1,  \n",
    "    }\n",
    "    res = requests.post(f\"{BASE_URL}/tts\", json=tts_payload, **HEADERS)\n",
    "    task_id = res.json()[\"task_id\"]\n",
    "    print(f\"Task ID: {task_id}\")\n",
    "    while True:\n",
    "        res = requests.get(f\"{BASE_URL}/tts/{task_id}\", **HEADERS)\n",
    "        status = res.json()[\"status\"]\n",
    "        print(f\"Polling: {status}\")\n",
    "        time.sleep(10)\n",
    "        if status == \"SUCCESS\":\n",
    "            run_id = res.json()[\"run_id\"]\n",
    "            break\n",
    "    print(f\"Run ID: {run_id}\")\n",
    "    res = requests.get(f\"{BASE_URL}/tts_result/{run_id}\", **HEADERS, stream=True)\n",
    "    with open(filename, \"wb\") as f:\n",
    "        for chunk in res.iter_content(chunk_size=1024):\n",
    "            f.write(chunk)\n",
    "    print(\"Done!\")"
   ]
  },
  {
   "cell_type": "code",
   "execution_count": null,
   "id": "ce1ea071-eb81-43e7-babb-ac87075d6743",
   "metadata": {},
   "outputs": [],
   "source": [
    "textdir = {}\n",
    "textdir[\"en\"] = {\n",
    "    0: \"Author of the danger trail philip steels et cetera.\",\n",
    "    1: \"I am playing a single hand in what looks like a losing game\"\n",
    "}\n",
    "textdir[\"hi\"] = {\n",
    "    0: \"औथर ऑफ द डेंजर ट्रेल फिलिप स्टिल एट सेटरा।\",\n",
    "    1: \"आइ अम प्लेइंग अ सिंगल हैंड इन वट लुक्स लाइक अ लूज़िंग गेम।\",\n",
    "}\n",
    "textdir[\"zh-cn\"] = {\n",
    "    0: \"奥色尔奥夫德丹哲尔特雷尔菲利普斯蒂尔埃特塞特拉。\",\n",
    "    1: \"艾爱恩普雷英啊新个汉德英哇特卢克斯莱克啊卢津甘。\",\n",
    "}\n",
    "textdir[\"ja\"] = {\n",
    "    0: \"オーサー・オブ・ザ・デンジャー・トレイル・フィリップ・スティル・エトセトラ。\",\n",
    "    1: \"アイ アム プレイング ア シングル ハンド イン ワット ルックス ライク ア ルージング ゲーム。\",\n",
    "}\n",
    "textdir[\"ko\"] = {\n",
    "    0: \"어서 오브 더 데인저 트레일 필립 스틸 엣 세테라\",\n",
    "    1: \"아이 앰 플레잉 어 싱글 핸드 인 와트 룩스 라이크 어 루우징 게임\",\n",
    "}\n",
    "\n",
    "languages = [{\"id\":1,\"language\":\"english (united states)\",\"short_name\":\"en-us\"},{\"id\":2,\"language\":\"afrikaans (south africa)\",\"short_name\":\"af-za\"},{\"id\":3,\"language\":\"amharic (ethiopia)\",\"short_name\":\"am-et\"},{\"id\":4,\"language\":\"arabic (united arab emirates)\",\"short_name\":\"ar-ae\"},{\"id\":5,\"language\":\"arabic (bahrain)\",\"short_name\":\"ar-bh\"},{\"id\":6,\"language\":\"arabic (algeria)\",\"short_name\":\"ar-dz\"},{\"id\":7,\"language\":\"arabic (egypt)\",\"short_name\":\"ar-eg\"},{\"id\":8,\"language\":\"arabic (iraq)\",\"short_name\":\"ar-iq\"},{\"id\":9,\"language\":\"arabic (jordan)\",\"short_name\":\"ar-jo\"},{\"id\":10,\"language\":\"arabic (kuwait)\",\"short_name\":\"ar-kw\"},{\"id\":11,\"language\":\"arabic (lebanon)\",\"short_name\":\"ar-lb\"},{\"id\":12,\"language\":\"arabic (libya)\",\"short_name\":\"ar-ly\"},{\"id\":13,\"language\":\"arabic (morocco)\",\"short_name\":\"ar-ma\"},{\"id\":14,\"language\":\"arabic (oman)\",\"short_name\":\"ar-om\"},{\"id\":15,\"language\":\"arabic (qatar)\",\"short_name\":\"ar-qa\"},{\"id\":16,\"language\":\"arabic (saudi arabia)\",\"short_name\":\"ar-sa\"},{\"id\":17,\"language\":\"arabic (syria)\",\"short_name\":\"ar-sy\"},{\"id\":18,\"language\":\"arabic (tunisia)\",\"short_name\":\"ar-tn\"},{\"id\":19,\"language\":\"arabic (yemen)\",\"short_name\":\"ar-ye\"},{\"id\":20,\"language\":\"azerbaijani (latin, azerbaijan)\",\"short_name\":\"az-az\"},{\"id\":21,\"language\":\"bulgarian (bulgaria)\",\"short_name\":\"bg-bg\"},{\"id\":22,\"language\":\"bangla (bangladesh)\",\"short_name\":\"bn-bd\"},{\"id\":23,\"language\":\"bengali (india)\",\"short_name\":\"bn-in\"},{\"id\":24,\"language\":\"bosnian (bosnia and herzegovina)\",\"short_name\":\"bs-ba\"},{\"id\":25,\"language\":\"catalan\",\"short_name\":\"ca-es\"},{\"id\":26,\"language\":\"czech (czechia)\",\"short_name\":\"cs-cz\"},{\"id\":27,\"language\":\"welsh (united kingdom)\",\"short_name\":\"cy-gb\"},{\"id\":28,\"language\":\"danish (denmark)\",\"short_name\":\"da-dk\"},{\"id\":29,\"language\":\"german (austria)\",\"short_name\":\"de-at\"},{\"id\":30,\"language\":\"german (switzerland)\",\"short_name\":\"de-ch\"},{\"id\":31,\"language\":\"german (germany)\",\"short_name\":\"de-de\"},{\"id\":32,\"language\":\"greek (greece)\",\"short_name\":\"el-gr\"},{\"id\":33,\"language\":\"english (australia)\",\"short_name\":\"en-au\"},{\"id\":34,\"language\":\"english (canada)\",\"short_name\":\"en-ca\"},{\"id\":35,\"language\":\"english (united kingdom)\",\"short_name\":\"en-gb\"},{\"id\":36,\"language\":\"english (hong kong sar)\",\"short_name\":\"en-hk\"},{\"id\":37,\"language\":\"english (ireland)\",\"short_name\":\"en-ie\"},{\"id\":38,\"language\":\"english (india)\",\"short_name\":\"en-in\"},{\"id\":39,\"language\":\"english (kenya)\",\"short_name\":\"en-ke\"},{\"id\":40,\"language\":\"english (nigeria)\",\"short_name\":\"en-ng\"},{\"id\":41,\"language\":\"english (new zealand)\",\"short_name\":\"en-nz\"},{\"id\":42,\"language\":\"english (philippines)\",\"short_name\":\"en-ph\"},{\"id\":43,\"language\":\"english (singapore)\",\"short_name\":\"en-sg\"},{\"id\":44,\"language\":\"english (tanzania)\",\"short_name\":\"en-tz\"},{\"id\":45,\"language\":\"english (south africa)\",\"short_name\":\"en-za\"},{\"id\":46,\"language\":\"spanish (argentina)\",\"short_name\":\"es-ar\"},{\"id\":47,\"language\":\"spanish (bolivia)\",\"short_name\":\"es-bo\"},{\"id\":48,\"language\":\"spanish (chile)\",\"short_name\":\"es-cl\"},{\"id\":49,\"language\":\"spanish (colombia)\",\"short_name\":\"es-co\"},{\"id\":50,\"language\":\"spanish (costa rica)\",\"short_name\":\"es-cr\"},{\"id\":51,\"language\":\"spanish (cuba)\",\"short_name\":\"es-cu\"},{\"id\":52,\"language\":\"spanish (dominican republic)\",\"short_name\":\"es-do\"},{\"id\":53,\"language\":\"spanish (ecuador)\",\"short_name\":\"es-ec\"},{\"id\":54,\"language\":\"spanish (spain)\",\"short_name\":\"es-es\"},{\"id\":55,\"language\":\"spanish (equatorial guinea)\",\"short_name\":\"es-gq\"},{\"id\":56,\"language\":\"spanish (guatemala)\",\"short_name\":\"es-gt\"},{\"id\":57,\"language\":\"spanish (honduras)\",\"short_name\":\"es-hn\"},{\"id\":58,\"language\":\"spanish (mexico)\",\"short_name\":\"es-mx\"},{\"id\":59,\"language\":\"spanish (nicaragua)\",\"short_name\":\"es-ni\"},{\"id\":60,\"language\":\"spanish (panama)\",\"short_name\":\"es-pa\"},{\"id\":61,\"language\":\"spanish (peru)\",\"short_name\":\"es-pe\"},{\"id\":62,\"language\":\"spanish (puerto rico)\",\"short_name\":\"es-pr\"},{\"id\":63,\"language\":\"spanish (paraguay)\",\"short_name\":\"es-py\"},{\"id\":64,\"language\":\"spanish (el salvador)\",\"short_name\":\"es-sv\"},{\"id\":65,\"language\":\"spanish (united states)\",\"short_name\":\"es-us\"},{\"id\":66,\"language\":\"spanish (uruguay)\",\"short_name\":\"es-uy\"},{\"id\":67,\"language\":\"spanish (venezuela)\",\"short_name\":\"es-ve\"},{\"id\":68,\"language\":\"estonian (estonia)\",\"short_name\":\"et-ee\"},{\"id\":69,\"language\":\"basque\",\"short_name\":\"eu-es\"},{\"id\":70,\"language\":\"persian (iran)\",\"short_name\":\"fa-ir\"},{\"id\":71,\"language\":\"finnish (finland)\",\"short_name\":\"fi-fi\"},{\"id\":72,\"language\":\"filipino (philippines)\",\"short_name\":\"fil-ph\"},{\"id\":73,\"language\":\"french (belgium)\",\"short_name\":\"fr-be\"},{\"id\":74,\"language\":\"french (canada)\",\"short_name\":\"fr-ca\"},{\"id\":75,\"language\":\"french (switzerland)\",\"short_name\":\"fr-ch\"},{\"id\":76,\"language\":\"french (france)\",\"short_name\":\"fr-fr\"},{\"id\":77,\"language\":\"irish (ireland)\",\"short_name\":\"ga-ie\"},{\"id\":78,\"language\":\"galician\",\"short_name\":\"gl-es\"},{\"id\":79,\"language\":\"gujarati (india)\",\"short_name\":\"gu-in\"},{\"id\":80,\"language\":\"hebrew (israel)\",\"short_name\":\"he-il\"},{\"id\":81,\"language\":\"hindi (india)\",\"short_name\":\"hi-in\"},{\"id\":82,\"language\":\"croatian (croatia)\",\"short_name\":\"hr-hr\"},{\"id\":83,\"language\":\"hungarian (hungary)\",\"short_name\":\"hu-hu\"},{\"id\":84,\"language\":\"armenian (armenia)\",\"short_name\":\"hy-am\"},{\"id\":85,\"language\":\"indonesian (indonesia)\",\"short_name\":\"id-id\"},{\"id\":86,\"language\":\"icelandic (iceland)\",\"short_name\":\"is-is\"},{\"id\":87,\"language\":\"italian (italy)\",\"short_name\":\"it-it\"},{\"id\":88,\"language\":\"japanese (japan)\",\"short_name\":\"ja-jp\"},{\"id\":89,\"language\":\"javanese (latin, indonesia)\",\"short_name\":\"jv-id\"},{\"id\":90,\"language\":\"georgian (georgia)\",\"short_name\":\"ka-ge\"},{\"id\":91,\"language\":\"kazakh (kazakhstan)\",\"short_name\":\"kk-kz\"},{\"id\":92,\"language\":\"khmer (cambodia)\",\"short_name\":\"km-kh\"},{\"id\":93,\"language\":\"kannada (india)\",\"short_name\":\"kn-in\"},{\"id\":94,\"language\":\"korean (korea)\",\"short_name\":\"ko-kr\"},{\"id\":95,\"language\":\"lao (laos)\",\"short_name\":\"lo-la\"},{\"id\":96,\"language\":\"lithuanian (lithuania)\",\"short_name\":\"lt-lt\"},{\"id\":97,\"language\":\"latvian (latvia)\",\"short_name\":\"lv-lv\"},{\"id\":98,\"language\":\"macedonian (north macedonia)\",\"short_name\":\"mk-mk\"},{\"id\":99,\"language\":\"malayalam (india)\",\"short_name\":\"ml-in\"},{\"id\":100,\"language\":\"mongolian (mongolia)\",\"short_name\":\"mn-mn\"},{\"id\":101,\"language\":\"marathi (india)\",\"short_name\":\"mr-in\"},{\"id\":102,\"language\":\"malay (malaysia)\",\"short_name\":\"ms-my\"},{\"id\":103,\"language\":\"maltese (malta)\",\"short_name\":\"mt-mt\"},{\"id\":104,\"language\":\"burmese (myanmar)\",\"short_name\":\"my-mm\"},{\"id\":105,\"language\":\"norwegian (bokmål, norway)\",\"short_name\":\"nb-no\"},{\"id\":106,\"language\":\"nepali (nepal)\",\"short_name\":\"ne-np\"},{\"id\":107,\"language\":\"dutch (belgium)\",\"short_name\":\"nl-be\"},{\"id\":108,\"language\":\"dutch (netherlands)\",\"short_name\":\"nl-nl\"},{\"id\":109,\"language\":\"polish (poland)\",\"short_name\":\"pl-pl\"},{\"id\":110,\"language\":\"pashto (afghanistan)\",\"short_name\":\"ps-af\"},{\"id\":111,\"language\":\"portuguese (brazil)\",\"short_name\":\"pt-br\"},{\"id\":112,\"language\":\"portuguese (portugal)\",\"short_name\":\"pt-pt\"},{\"id\":113,\"language\":\"romanian (romania)\",\"short_name\":\"ro-ro\"},{\"id\":114,\"language\":\"russian (russia)\",\"short_name\":\"ru-ru\"},{\"id\":115,\"language\":\"sinhala (sri lanka)\",\"short_name\":\"si-lk\"},{\"id\":116,\"language\":\"slovak (slovakia)\",\"short_name\":\"sk-sk\"},{\"id\":117,\"language\":\"slovenian (slovenia)\",\"short_name\":\"sl-si\"},{\"id\":118,\"language\":\"somali (somalia)\",\"short_name\":\"so-so\"},{\"id\":119,\"language\":\"albanian (albania)\",\"short_name\":\"sq-al\"},{\"id\":120,\"language\":\"serbian (cyrillic, serbia)\",\"short_name\":\"sr-rs\"},{\"id\":121,\"language\":\"sundanese (indonesia)\",\"short_name\":\"su-id\"},{\"id\":122,\"language\":\"swedish (sweden)\",\"short_name\":\"sv-se\"},{\"id\":123,\"language\":\"swahili (kenya)\",\"short_name\":\"sw-ke\"},{\"id\":124,\"language\":\"swahili (tanzania)\",\"short_name\":\"sw-tz\"},{\"id\":125,\"language\":\"tamil (india)\",\"short_name\":\"ta-in\"},{\"id\":126,\"language\":\"tamil (sri lanka)\",\"short_name\":\"ta-lk\"},{\"id\":127,\"language\":\"tamil (malaysia)\",\"short_name\":\"ta-my\"},{\"id\":128,\"language\":\"tamil (singapore)\",\"short_name\":\"ta-sg\"},{\"id\":129,\"language\":\"telugu (india)\",\"short_name\":\"te-in\"},{\"id\":130,\"language\":\"thai (thailand)\",\"short_name\":\"th-th\"},{\"id\":131,\"language\":\"turkish (turkey)\",\"short_name\":\"tr-tr\"},{\"id\":132,\"language\":\"ukrainian (ukraine)\",\"short_name\":\"uk-ua\"},{\"id\":133,\"language\":\"urdu (india)\",\"short_name\":\"ur-in\"},{\"id\":134,\"language\":\"urdu (pakistan)\",\"short_name\":\"ur-pk\"},{\"id\":135,\"language\":\"uzbek (latin, uzbekistan)\",\"short_name\":\"uz-uz\"},{\"id\":136,\"language\":\"vietnamese (vietnam)\",\"short_name\":\"vi-vn\"},{\"id\":139,\"language\":\"chinese (mandarin, simplified)\",\"short_name\":\"zh-cn\"},{\"id\":140,\"language\":\"chinese (zhongyuan mandarin henan, simplified)\",\"short_name\":\"zh-cn-henan\"},{\"id\":141,\"language\":\"chinese (northeastern mandarin, simplified)\",\"short_name\":\"zh-cn-liaoning\"},{\"id\":142,\"language\":\"chinese (zhongyuan mandarin shaanxi, simplified)\",\"short_name\":\"zh-cn-shaanxi\"},{\"id\":143,\"language\":\"chinese (jilu mandarin, simplified)\",\"short_name\":\"zh-cn-shandong\"},{\"id\":144,\"language\":\"chinese (southwestern mandarin, simplified)\",\"short_name\":\"zh-cn-sichuan\"},{\"id\":145,\"language\":\"chinese (cantonese, traditional)\",\"short_name\":\"zh-hk\"},{\"id\":146,\"language\":\"chinese (taiwanese mandarin, traditional)\",\"short_name\":\"zh-tw\"},{\"id\":147,\"language\":\"zulu (south africa)\",\"short_name\":\"zu-za\"},{\"id\":148,\"language\":\"punjabi (india)\",\"short_name\":\"pa-in\"}]\n",
    "languages = {a[\"id\"]: {\"language\": a[\"language\"], \"short_name\": a[\"short_name\"]} for a in languages}\n",
    "use_languages = {\n",
    "    \"en\": 1,\n",
    "    \"hi\": 81,\n",
    "    \"ko\": 94,\n",
    "    \"zh-cn\": 139,\n",
    "    \"ja\": 88,\n",
    "}"
   ]
  },
  {
   "cell_type": "code",
   "execution_count": null,
   "id": "bbd8d33b-a927-404d-bcae-ba1a55bf4465",
   "metadata": {},
   "outputs": [],
   "source": [
    "for language in [\"hi\", \"en\", \"ko\", \"zh-cn\", \"ja\"]:\n",
    "    print(language)\n",
    "    for sampleid in tqdm([0, 1]):\n",
    "        text = textdir[language][sampleid]\n",
    "        for r in range(2):\n",
    "            savefile = f\"./audiosamples/cambai/sample{sampleid}_{language}_{r}.wav\"\n",
    "            save_sample(text, savefile)"
   ]
  },
  {
   "cell_type": "code",
   "execution_count": null,
   "id": "1b3b2cbe-86ae-4719-8cc3-09b9c256b215",
   "metadata": {},
   "outputs": [],
   "source": []
  }
 ],
 "metadata": {
  "language_info": {
   "name": "python"
  }
 },
 "nbformat": 4,
 "nbformat_minor": 5
}
