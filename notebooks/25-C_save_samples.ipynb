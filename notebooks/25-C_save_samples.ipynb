{
 "cells": [
  {
   "cell_type": "code",
   "execution_count": 1,
   "id": "ccd9f9c4-cc61-4ce9-bb55-230d41c90af2",
   "metadata": {},
   "outputs": [],
   "source": [
    "# !pip3 install -U openai-whisper -i https://mirrors.aliyun.com/pypi/simple/\n",
    "# !pip3 install jiwer -i https://mirrors.aliyun.com/pypi/simple/\n",
    "# !pip3 install noisereduce -i https://mirrors.aliyun.com/pypi/simple/ "
   ]
  },
  {
   "cell_type": "code",
   "execution_count": 3,
   "id": "97faa7e1-5b11-44fc-ba79-692e832df006",
   "metadata": {},
   "outputs": [],
   "source": [
    "import warnings\n",
    "warnings.filterwarnings(\"ignore\")\n",
    "\n",
    "from pathlib import Path\n",
    "from tqdm import tqdm\n",
    "import torch\n",
    "import librosa\n",
    "import numpy as np\n",
    "import glob\n",
    "import os\n",
    "\n",
    "import sys\n",
    "sys.path.append(\"/home/shoinoue/Git/cuhksz-phd/sho_util/pyfiles/\")\n",
    "from sound import play_audio\n",
    "\n",
    "import whisper\n",
    "from whisper.normalizers.english import EnglishTextNormalizer\n",
    "normalizer = EnglishTextNormalizer()\n",
    "import jiwer\n",
    "import pandas as pd\n",
    "import scipy.stats as st\n",
    "import math\n",
    "from IPython.display import clear_output\n",
    "from scipy.io.wavfile import write as write_wav\n",
    "\n",
    "sr = 16000"
   ]
  },
  {
   "cell_type": "markdown",
   "id": "6ffd5967-b219-4a83-9304-a4fd82ee5003",
   "metadata": {},
   "source": [
    "## Whisper"
   ]
  },
  {
   "cell_type": "code",
   "execution_count": 4,
   "id": "a1d9d35c-6bc4-4686-a153-8a201d823623",
   "metadata": {},
   "outputs": [],
   "source": [
    "files = glob.glob(\"./SPAT/transliteration/*.npy\")\n",
    "files.sort()\n",
    "groundtruth_dir = {}\n",
    "for file in files:\n",
    "    key = os.path.basename(file)[:-4]\n",
    "    text = np.load(file, allow_pickle=True).item()[\"Original English\"]\n",
    "    groundtruth_dir[key] = normalizer(text)"
   ]
  },
  {
   "cell_type": "code",
   "execution_count": 5,
   "id": "d394cb1c-2c5f-4c50-b1c2-830db2edc063",
   "metadata": {},
   "outputs": [],
   "source": [
    "base_model_dir = \"/mntcephfs/lab_data/shoinoue/Models/trained_models/AC_01/ckpts_16000/\"\n",
    "model_paths = [\n",
    "    # \"VTN_fine-tuning_nocondition_gt2syn_melmel_hubert_norepeating_small/100000\",\n",
    "    \"VTN_fine-tuning_nocondition_gt2syn_melmel_hubert_norepeating/100000\",\n",
    "    # \"VTN_fine-tuning_nocondition_mix2synVCTK3hr_melmel_hubert_norepeating_small/100000\",\n",
    "    \"VTN_fine-tuning_nocondition_mix2synVCTK3hr_melmel_hubert_norepeating/100000\",\n",
    "    # \"VTN_fine-tuning_nocondition_gt2syn_80mel80mel_hubert_norepeating_small/100000\",\n",
    "    \"VTN_fine-tuning_nocondition_gt2syn_80mel80mel_hubert_norepeating/100000\",\n",
    "    # \"VTN_fine-tuning_nocondition_mix2synVCTK3hr_80mel80mel_hubert_norepeating_small/100000\",\n",
    "    \"VTN_fine-tuning_nocondition_mix2synVCTK3hr_80mel80mel_hubert_norepeating/100000\",\n",
    "    \"VTN_fine-tuning_nocondition_gt2syn_hifiganmelhifiganmel_hubert_norepeating/100000\",\n",
    "    \"VTN_fine-tuning_nocondition_mix2synVCTK3hr_hifiganmelhifiganmel_hubert_norepeating/100000\",\n",
    "]\n",
    "base_dataset_dir = \"/mntcephfs/lab_data/shoinoue/Dataset/\"\n",
    "dataset_paths = [\n",
    "    \"PD-AST/SLT/English\",\n",
    "    \"PD-AST/SLT/Hindi\",\n",
    "    \"PD-AST/SLT/Korean\",\n",
    "    \"PD-AST/ASI/Hindi\",\n",
    "    \"PD-AST/TNI/Hindi\",\n",
    "    \"PD-AST/HKK/Korean\",\n",
    "    \"PD-AST/YDCK/Korean\",\n",
    "    \"CMU-ARCTIC/SLT\",\n",
    "    \"L2-ARCTIC/ASI\",\n",
    "    \"L2-ARCTIC/TNI\",\n",
    "    \"L2-ARCTIC/HKK\",\n",
    "    \"L2-ARCTIC/YDCK\",\n",
    "]"
   ]
  },
  {
   "cell_type": "code",
   "execution_count": 6,
   "id": "ed217a45-64eb-4585-bce9-ba43aa7dc4bf",
   "metadata": {},
   "outputs": [
    {
     "name": "stdout",
     "output_type": "stream",
     "text": [
      "VTN_fine-tuning_nocondition_gt2syn_melmel_hubert_norepeating/100000\n"
     ]
    },
    {
     "name": "stderr",
     "output_type": "stream",
     "text": [
      "100%|██████████| 105/105 [00:00<00:00, 264.81it/s]\n"
     ]
    },
    {
     "name": "stdout",
     "output_type": "stream",
     "text": [
      "VTN_fine-tuning_nocondition_mix2synVCTK3hr_melmel_hubert_norepeating/100000\n"
     ]
    },
    {
     "name": "stderr",
     "output_type": "stream",
     "text": [
      "100%|██████████| 100/100 [00:00<00:00, 251.23it/s]\n"
     ]
    },
    {
     "name": "stdout",
     "output_type": "stream",
     "text": [
      "VTN_fine-tuning_nocondition_gt2syn_80mel80mel_hubert_norepeating/100000\n"
     ]
    },
    {
     "name": "stderr",
     "output_type": "stream",
     "text": [
      "100%|██████████| 100/100 [00:11<00:00,  8.90it/s]\n"
     ]
    },
    {
     "name": "stdout",
     "output_type": "stream",
     "text": [
      "VTN_fine-tuning_nocondition_mix2synVCTK3hr_80mel80mel_hubert_norepeating/100000\n"
     ]
    },
    {
     "name": "stderr",
     "output_type": "stream",
     "text": [
      "100%|██████████| 100/100 [00:10<00:00,  9.99it/s]\n"
     ]
    },
    {
     "name": "stdout",
     "output_type": "stream",
     "text": [
      "VTN_fine-tuning_nocondition_gt2syn_hifiganmelhifiganmel_hubert_norepeating/100000\n"
     ]
    },
    {
     "name": "stderr",
     "output_type": "stream",
     "text": [
      "100%|██████████| 100/100 [00:00<00:00, 593.42it/s]\n"
     ]
    },
    {
     "name": "stdout",
     "output_type": "stream",
     "text": [
      "VTN_fine-tuning_nocondition_mix2synVCTK3hr_hifiganmelhifiganmel_hubert_norepeating/100000\n"
     ]
    },
    {
     "name": "stderr",
     "output_type": "stream",
     "text": [
      "100%|██████████| 100/100 [00:00<00:00, 582.26it/s]\n"
     ]
    },
    {
     "name": "stdout",
     "output_type": "stream",
     "text": [
      "PD-AST/SLT/English\n"
     ]
    },
    {
     "name": "stderr",
     "output_type": "stream",
     "text": [
      "100%|██████████| 1132/1132 [00:20<00:00, 55.10it/s] \n"
     ]
    },
    {
     "name": "stdout",
     "output_type": "stream",
     "text": [
      "PD-AST/SLT/Hindi\n"
     ]
    },
    {
     "name": "stderr",
     "output_type": "stream",
     "text": [
      "100%|██████████| 1132/1132 [00:21<00:00, 52.50it/s]\n"
     ]
    },
    {
     "name": "stdout",
     "output_type": "stream",
     "text": [
      "PD-AST/SLT/Korean\n"
     ]
    },
    {
     "name": "stderr",
     "output_type": "stream",
     "text": [
      "100%|██████████| 1132/1132 [00:24<00:00, 46.90it/s]\n"
     ]
    },
    {
     "name": "stdout",
     "output_type": "stream",
     "text": [
      "PD-AST/ASI/Hindi\n"
     ]
    },
    {
     "name": "stderr",
     "output_type": "stream",
     "text": [
      "100%|██████████| 100/100 [00:19<00:00,  5.10it/s]\n"
     ]
    },
    {
     "name": "stdout",
     "output_type": "stream",
     "text": [
      "PD-AST/TNI/Hindi\n"
     ]
    },
    {
     "name": "stderr",
     "output_type": "stream",
     "text": [
      "100%|██████████| 100/100 [00:22<00:00,  4.41it/s]\n"
     ]
    },
    {
     "name": "stdout",
     "output_type": "stream",
     "text": [
      "PD-AST/HKK/Korean\n"
     ]
    },
    {
     "name": "stderr",
     "output_type": "stream",
     "text": [
      "100%|██████████| 100/100 [00:27<00:00,  3.64it/s]\n"
     ]
    },
    {
     "name": "stdout",
     "output_type": "stream",
     "text": [
      "PD-AST/YDCK/Korean\n"
     ]
    },
    {
     "name": "stderr",
     "output_type": "stream",
     "text": [
      "100%|██████████| 100/100 [00:28<00:00,  3.54it/s]\n"
     ]
    },
    {
     "name": "stdout",
     "output_type": "stream",
     "text": [
      "CMU-ARCTIC/SLT\n"
     ]
    },
    {
     "name": "stderr",
     "output_type": "stream",
     "text": [
      "100%|██████████| 1132/1132 [00:00<00:00, 2886.06it/s]\n"
     ]
    },
    {
     "name": "stdout",
     "output_type": "stream",
     "text": [
      "L2-ARCTIC/ASI\n"
     ]
    },
    {
     "name": "stderr",
     "output_type": "stream",
     "text": [
      "100%|██████████| 1131/1131 [00:21<00:00, 52.94it/s]\n"
     ]
    },
    {
     "name": "stdout",
     "output_type": "stream",
     "text": [
      "L2-ARCTIC/TNI\n"
     ]
    },
    {
     "name": "stderr",
     "output_type": "stream",
     "text": [
      "100%|██████████| 1131/1131 [00:22<00:00, 51.32it/s] \n"
     ]
    },
    {
     "name": "stdout",
     "output_type": "stream",
     "text": [
      "L2-ARCTIC/HKK\n"
     ]
    },
    {
     "name": "stderr",
     "output_type": "stream",
     "text": [
      "100%|██████████| 1131/1131 [00:26<00:00, 43.39it/s]\n"
     ]
    },
    {
     "name": "stdout",
     "output_type": "stream",
     "text": [
      "L2-ARCTIC/YDCK\n"
     ]
    },
    {
     "name": "stderr",
     "output_type": "stream",
     "text": [
      "100%|██████████| 1131/1131 [00:28<00:00, 39.82it/s]\n"
     ]
    }
   ],
   "source": [
    "fs = 16000\n",
    "save_dir = f\"./../../beaqlejs/audio/20240815_spaccent/\"\n",
    "testsamples = list(np.load(\"data_split_ARCTIC.npy\", allow_pickle=True))[2]\n",
    "for ij in range(2):\n",
    "    base_dir = [base_model_dir, base_dataset_dir][ij]\n",
    "    dirnames = [model_paths, dataset_paths][ij]\n",
    "    for dirname in dirnames:\n",
    "        print(dirname)\n",
    "        accentdir = save_dir + f'{\"___\".join(dirname.split(\"/\"))}'\n",
    "        os.makedirs(accentdir, exist_ok=True)\n",
    "        files = glob.glob(base_dir + f\"{dirname}/wav/*.wav\")\n",
    "        files.sort()\n",
    "        for path in tqdm(files):\n",
    "            basename = os.path.basename(path)[:-4]\n",
    "            if not(basename in testsamples):\n",
    "                continue\n",
    "            save_path = accentdir + f\"/{basename}.wav\"\n",
    "            audio, _ = librosa.load(path, sr=fs)\n",
    "            write_wav(save_path, fs, audio)"
   ]
  },
  {
   "cell_type": "code",
   "execution_count": null,
   "id": "fa1335aa-a233-4c99-8989-aa14d0f5621d",
   "metadata": {},
   "outputs": [],
   "source": []
  }
 ],
 "metadata": {
  "kernelspec": {
   "display_name": "Python 3 (ipykernel)",
   "language": "python",
   "name": "python3"
  },
  "language_info": {
   "codemirror_mode": {
    "name": "ipython",
    "version": 3
   },
   "file_extension": ".py",
   "mimetype": "text/x-python",
   "name": "python",
   "nbconvert_exporter": "python",
   "pygments_lexer": "ipython3",
   "version": "3.8.19"
  }
 },
 "nbformat": 4,
 "nbformat_minor": 5
}
