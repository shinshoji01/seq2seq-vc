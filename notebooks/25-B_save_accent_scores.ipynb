{
 "cells": [
  {
   "cell_type": "code",
   "execution_count": 1,
   "id": "24182e13-4f90-4085-b10d-80dd9894bb73",
   "metadata": {},
   "outputs": [
    {
     "name": "stderr",
     "output_type": "stream",
     "text": [
      "torchvision is not available - cannot save figures\n"
     ]
    }
   ],
   "source": [
    "import warnings\n",
    "warnings.filterwarnings(\"ignore\")\n",
    "import torch\n",
    "import sys\n",
    "import os\n",
    "import numpy as np\n",
    "from tqdm import tqdm\n",
    "import glob\n",
    "import librosa\n",
    "import pandas as pd\n",
    "\n",
    "import torchaudio\n",
    "from speechbrain.pretrained.interfaces import foreign_class"
   ]
  },
  {
   "cell_type": "code",
   "execution_count": 2,
   "id": "f8e60fb7-6e58-4b58-a744-9b6f77a9c62d",
   "metadata": {},
   "outputs": [
    {
     "name": "stderr",
     "output_type": "stream",
     "text": [
      "speechbrain.lobes.models.huggingface_wav2vec - wav2vec 2.0 is frozen.\n"
     ]
    }
   ],
   "source": [
    "classifier = foreign_class(source=\"/mntcephfs/lab_data/shoinoue/Models/trained_models/accent/CustomEncoderWav2vec2Classifier-a72df039c801fa14a1c3226e95ab8c14/\", pymodule_file=\"custom_interface.py\", classname=\"CustomEncoderWav2vec2Classifier\", savedir=\"/mntcephfs/lab_data/shoinoue/Models/trained_models/accent/CustomEncoderWav2vec2Classifier-a72df039c801fa14a1c3226e95ab8c14/\", run_opts={\"device\":\"cuda\"})\n",
    "accents = [\"us\", \"england\", \"australia\", \"indian\", \"canada\", \"bermuda\", \"scotland\", \"african\", \"ireland\", \"newzealand\", \"wales\", \"malaysia\", \"philippines\", \"singapore\", \"hongkong\", \"southatlandtic\",]\n",
    "\n",
    "tempfile = \"temp.wav\"\n",
    "def run_classification(path):\n",
    "    audio, _ = librosa.load(path, sr=fs)\n",
    "    torchaudio.save(tempfile, torch.tensor(audio).unsqueeze(0), fs)\n",
    "    signal, org_sr = torchaudio.load(tempfile)\n",
    "    signal = torchaudio.functional.resample(signal, orig_freq=org_sr, new_freq=fs)\n",
    "    outputs =  classifier.encode_batch(signal)\n",
    "    embeddings =  outputs[0].detach().cpu().numpy()\n",
    "    outputs = classifier.mods.output_mlp(outputs)\n",
    "    rawaccent = outputs[0].detach().cpu().numpy()\n",
    "    probaccent = classifier.hparams.softmax(outputs).detach().cpu().numpy()[0]\n",
    "    return embeddings, rawaccent, probaccent\n",
    "\n",
    "def cosine_similarity(e1, e2): # from wespeaker, delete the normalizing part\n",
    "    e1 = torch.tensor(e1)\n",
    "    e2 = torch.tensor(e2)\n",
    "    cosine_score = torch.dot(e1, e2) / (torch.norm(e1) * torch.norm(e2))\n",
    "    cosine_score = cosine_score.item()\n",
    "    return cosine_score"
   ]
  },
  {
   "cell_type": "code",
   "execution_count": 8,
   "id": "1c6c1430-a092-43bf-b801-0383bc5012a1",
   "metadata": {},
   "outputs": [],
   "source": [
    "fs = 16000\n",
    "accent_dir = \"/mntcephfs/lab_data/shoinoue/Dataset/PD-AST/SLT/Hindi/wav/\"\n",
    "native_dir = \"/mntcephfs/lab_data/shoinoue/Dataset/PD-AST/SLT/English/wav/\"\n",
    "base_model_dir = \"/mntcephfs/lab_data/shoinoue/Models/trained_models/AC_01/ckpts_16000/\"\n",
    "model_paths = [\n",
    "    \"VTN_fine-tuning_nocondition_gt2syn_melmel_hubert_norepeating_smaller/100000\",\n",
    "    \"VTN_fine-tuning_nocondition_gt2syn_melmel_hubert_norepeating_small/100000\",\n",
    "    \"VTN_fine-tuning_nocondition_gt2syn_melmel_hubert_norepeating/100000\",\n",
    "    \"VTN_fine-tuning_nocondition_mix2synVCTK3hr_melmel_hubert_norepeating_smaller/100000\",\n",
    "    \"VTN_fine-tuning_nocondition_mix2synVCTK3hr_melmel_hubert_norepeating_small/100000\",\n",
    "    \"VTN_fine-tuning_nocondition_mix2synVCTK3hr_melmel_hubert_norepeating/100000\",\n",
    "    \n",
    "    \"VTN_fine-tuning_nocondition_gt2syn_80mel80mel_hubert_norepeating_smaller/100000\",\n",
    "    \"VTN_fine-tuning_nocondition_gt2syn_80mel80mel_hubert_norepeating_small/100000\",\n",
    "    \"VTN_fine-tuning_nocondition_gt2syn_80mel80mel_hubert_norepeating/100000\",\n",
    "    \"VTN_fine-tuning_nocondition_mix2synVCTK3hr_80mel80mel_hubert_norepeating_smaller/100000\",\n",
    "    \"VTN_fine-tuning_nocondition_mix2synVCTK3hr_80mel80mel_hubert_norepeating_small/100000\",\n",
    "    \"VTN_fine-tuning_nocondition_mix2synVCTK3hr_80mel80mel_hubert_norepeating/100000\",\n",
    "]\n",
    "base_dataset_dir = \"/mntcephfs/lab_data/shoinoue/Dataset/\"\n",
    "dataset_paths = [\n",
    "    \"PD-AST/SLT/English\",\n",
    "    \"PD-AST/SLT/Hindi\",\n",
    "    \"PD-AST/SLT/Korean\",\n",
    "    \"PD-AST/ASI/Hindi\",\n",
    "    \"PD-AST/TNI/Hindi\",\n",
    "    \"PD-AST/HKK/Korean\",\n",
    "    \"PD-AST/YDCK/Korean\",\n",
    "    \"CMU-ARCTIC/SLT\",\n",
    "    \"L2-ARCTIC/ASI\",\n",
    "    \"L2-ARCTIC/TNI\",\n",
    "    \"L2-ARCTIC/HKK\",\n",
    "    \"L2-ARCTIC/YDCK\",\n",
    "]"
   ]
  },
  {
   "cell_type": "code",
   "execution_count": 9,
   "id": "ed217a45-64eb-4585-bce9-ba43aa7dc4bf",
   "metadata": {},
   "outputs": [
    {
     "name": "stdout",
     "output_type": "stream",
     "text": [
      "VTN_fine-tuning_nocondition_gt2syn_80mel80mel_hubert_norepeating_smaller/100000\n"
     ]
    },
    {
     "name": "stderr",
     "output_type": "stream",
     "text": [
      "100%|██████████| 100/100 [00:02<00:00, 33.60it/s]\n"
     ]
    },
    {
     "name": "stdout",
     "output_type": "stream",
     "text": [
      "VTN_fine-tuning_nocondition_gt2syn_80mel80mel_hubert_norepeating_small/100000\n"
     ]
    },
    {
     "name": "stderr",
     "output_type": "stream",
     "text": [
      "100%|██████████| 100/100 [00:02<00:00, 34.20it/s]\n"
     ]
    },
    {
     "name": "stdout",
     "output_type": "stream",
     "text": [
      "VTN_fine-tuning_nocondition_gt2syn_80mel80mel_hubert_norepeating/100000\n"
     ]
    },
    {
     "name": "stderr",
     "output_type": "stream",
     "text": [
      "100%|██████████| 100/100 [00:02<00:00, 33.51it/s]\n"
     ]
    },
    {
     "name": "stdout",
     "output_type": "stream",
     "text": [
      "VTN_fine-tuning_nocondition_mix2synVCTK3hr_80mel80mel_hubert_norepeating_smaller/100000\n"
     ]
    },
    {
     "name": "stderr",
     "output_type": "stream",
     "text": [
      "0it [00:00, ?it/s]\n"
     ]
    },
    {
     "name": "stdout",
     "output_type": "stream",
     "text": [
      "VTN_fine-tuning_nocondition_mix2synVCTK3hr_80mel80mel_hubert_norepeating_small/100000\n"
     ]
    },
    {
     "name": "stderr",
     "output_type": "stream",
     "text": [
      "100%|██████████| 5/5 [00:00<00:00, 32.35it/s]\n"
     ]
    },
    {
     "name": "stdout",
     "output_type": "stream",
     "text": [
      "VTN_fine-tuning_nocondition_mix2synVCTK3hr_80mel80mel_hubert_norepeating/100000\n"
     ]
    },
    {
     "name": "stderr",
     "output_type": "stream",
     "text": [
      "100%|██████████| 5/5 [00:00<00:00, 34.71it/s]\n"
     ]
    }
   ],
   "source": [
    "save_dir = f\"evaluation/accent/\"\n",
    "testsamples = list(np.load(\"data_split_ARCTIC.npy\", allow_pickle=True))[2]\n",
    "for ij in range(2):\n",
    "    base_dir = [base_model_dir, base_dataset_dir][ij]\n",
    "    dirnames = [model_paths, dataset_paths][ij]\n",
    "    for dirname in dirnames:\n",
    "        save_path = save_dir + f'{\"___\".join(dirname.split(\"/\"))}.npy'\n",
    "        if os.path.exists(save_path):\n",
    "            continue\n",
    "        print(dirname)\n",
    "        files = glob.glob(base_dir + f\"{dirname}/wav/*.wav\")\n",
    "        files.sort()\n",
    "        raws, probs, embs = [], [], []\n",
    "        for path in tqdm(files):\n",
    "            basename = os.path.basename(path)[:-4]\n",
    "            if not(basename in testsamples):\n",
    "                continue\n",
    "            accent_path = f\"./evaluation/accent_embeddings/Hindi/{basename}.npy\"\n",
    "            native_path = f\"./evaluation/accent_embeddings/English/{basename}.npy\"\n",
    "            accent = np.load(accent_path, allow_pickle=True).item()\n",
    "            native = np.load(native_path, allow_pickle=True).item()\n",
    "            \n",
    "            embeddings, rawaccent, probaccent = run_classification(path)\n",
    "            a = cosine_similarity(embeddings, accent[\"embeddings\"])\n",
    "            b = cosine_similarity(embeddings, native[\"embeddings\"])\n",
    "            diff = a-b\n",
    "            raws += [rawaccent[3]]\n",
    "            probs += [probaccent[3]]\n",
    "            embs += [diff]\n",
    "            # if len(embs)>5:\n",
    "            #     break\n",
    "\n",
    "        np.save(save_path, [raws, probs, embs])"
   ]
  },
  {
   "cell_type": "code",
   "execution_count": 10,
   "id": "c02eed97-0757-4bc1-9053-2a92491a5fe3",
   "metadata": {},
   "outputs": [],
   "source": [
    "def get_basic_info(key):\n",
    "    key1 = key.split(\"/\")[0]\n",
    "    if \"ARCTIC\" in key1:\n",
    "        data_type = \"Ground Truth\"\n",
    "        speaker = key.split(\"/\")[1]\n",
    "        accent = spk2acc[speaker]\n",
    "    elif \"PD-AST\"==key1:\n",
    "        data_type = \"SPAccenT\"\n",
    "        speaker, accent = key.split(\"/\")[1:]\n",
    "    else:\n",
    "        data_type = \"AC_\"\n",
    "        if \"smaller\" in key1:\n",
    "            data_type += \"small\"\n",
    "        elif \"small\" in key1:\n",
    "            data_type += \"normal\"\n",
    "        else:\n",
    "            data_type += \"large\"\n",
    "        speaker = \"SLT\"\n",
    "        accent = mode\n",
    "    return data_type, speaker, accent\n",
    "\n",
    "new_columns = []\n",
    "for cl in [\"Data Type\", \"Speaker\", \"Accent\"]:\n",
    "    new_columns += [(\"basics\", cl)]\n",
    "for cl in [\"classification score (before softmax)\", \"classification prob.\", \"AECS ratio\"]:\n",
    "    new_columns += [(\"scores\", cl)]\n",
    "new_columns = pd.MultiIndex.from_tuples(new_columns)\n",
    "\n",
    "spk2acc = {\n",
    "    \"SLT\": \"English\",\n",
    "    \"ASI\": \"Hindi\",\n",
    "    \"TNI\": \"Hindi\",\n",
    "    \"HKK\": \"Korean\",\n",
    "    \"YDCK\": \"Korean\",\n",
    "}"
   ]
  },
  {
   "cell_type": "code",
   "execution_count": 11,
   "id": "7bd8e88d-17a8-49d4-8e4c-cbcc80d11bff",
   "metadata": {},
   "outputs": [],
   "source": [
    "mode = \"Hindi\"\n",
    "if mode==\"Hindi\":\n",
    "    labels = [\n",
    "        \"CMU-ARCTIC/SLT\",\n",
    "        \"L2-ARCTIC/ASI\",\n",
    "        \"L2-ARCTIC/TNI\",\n",
    "        \"PD-AST/SLT/English\",\n",
    "        \"PD-AST/SLT/Hindi\",\n",
    "        \"PD-AST/ASI/Hindi\",\n",
    "        \"PD-AST/TNI/Hindi\",\n",
    "        # \"VTN_fine-tuning_nocondition_gt2syn_melmel_hubert_norepeating_smaller/100000\",\n",
    "        # \"VTN_fine-tuning_nocondition_gt2syn_melmel_hubert_norepeating_small/100000\",\n",
    "        # \"VTN_fine-tuning_nocondition_gt2syn_melmel_hubert_norepeating/100000\",\n",
    "        \"VTN_fine-tuning_nocondition_gt2syn_80mel80mel_hubert_norepeating_smaller/100000\",\n",
    "        \"VTN_fine-tuning_nocondition_gt2syn_80mel80mel_hubert_norepeating_small/100000\",\n",
    "        \"VTN_fine-tuning_nocondition_gt2syn_80mel80mel_hubert_norepeating/100000\",\n",
    "        \"VTN_fine-tuning_nocondition_mix2synVCTK3hr_80mel80mel_hubert_norepeating_smaller/100000\",\n",
    "        \"VTN_fine-tuning_nocondition_mix2synVCTK3hr_80mel80mel_hubert_norepeating_small/100000\",\n",
    "        \"VTN_fine-tuning_nocondition_mix2synVCTK3hr_80mel80mel_hubert_norepeating/100000\",\n",
    "    ]\n",
    "elif mode==\"Korean\":\n",
    "    labels = [\n",
    "        \"L2-ARCTIC/HKK\",\n",
    "        \"L2-ARCTIC/YDCK\",\n",
    "        \"PD-AST/SLT/English\",\n",
    "        \"PD-AST/SLT/Korean\",\n",
    "        \"PD-AST/HKK/Korean\",\n",
    "        \"PD-AST/YDCK/Korean\",\n",
    "    ]"
   ]
  },
  {
   "cell_type": "code",
   "execution_count": 12,
   "id": "b526e00c-642f-4d9e-9478-a4dff056c616",
   "metadata": {},
   "outputs": [
    {
     "data": {
      "text/html": [
       "<div>\n",
       "<style scoped>\n",
       "    .dataframe tbody tr th:only-of-type {\n",
       "        vertical-align: middle;\n",
       "    }\n",
       "\n",
       "    .dataframe tbody tr th {\n",
       "        vertical-align: top;\n",
       "    }\n",
       "\n",
       "    .dataframe thead tr th {\n",
       "        text-align: left;\n",
       "    }\n",
       "</style>\n",
       "<table border=\"1\" class=\"dataframe\">\n",
       "  <thead>\n",
       "    <tr>\n",
       "      <th></th>\n",
       "      <th colspan=\"3\" halign=\"left\">basics</th>\n",
       "      <th colspan=\"3\" halign=\"left\">scores</th>\n",
       "    </tr>\n",
       "    <tr>\n",
       "      <th></th>\n",
       "      <th>Data Type</th>\n",
       "      <th>Speaker</th>\n",
       "      <th>Accent</th>\n",
       "      <th>classification score (before softmax)</th>\n",
       "      <th>classification prob.</th>\n",
       "      <th>AECS ratio</th>\n",
       "    </tr>\n",
       "  </thead>\n",
       "  <tbody>\n",
       "    <tr>\n",
       "      <th>0</th>\n",
       "      <td>Ground Truth</td>\n",
       "      <td>SLT</td>\n",
       "      <td>English</td>\n",
       "      <td>-9.251676</td>\n",
       "      <td>0.0</td>\n",
       "      <td>-0.462143</td>\n",
       "    </tr>\n",
       "    <tr>\n",
       "      <th>1</th>\n",
       "      <td>Ground Truth</td>\n",
       "      <td>ASI</td>\n",
       "      <td>Hindi</td>\n",
       "      <td>13.304869</td>\n",
       "      <td>0.632042</td>\n",
       "      <td>0.223873</td>\n",
       "    </tr>\n",
       "    <tr>\n",
       "      <th>2</th>\n",
       "      <td>Ground Truth</td>\n",
       "      <td>TNI</td>\n",
       "      <td>Hindi</td>\n",
       "      <td>17.53969</td>\n",
       "      <td>0.883807</td>\n",
       "      <td>0.286671</td>\n",
       "    </tr>\n",
       "    <tr>\n",
       "      <th>3</th>\n",
       "      <td>SPAccenT</td>\n",
       "      <td>SLT</td>\n",
       "      <td>English</td>\n",
       "      <td>-9.04173</td>\n",
       "      <td>0.0</td>\n",
       "      <td>-0.568643</td>\n",
       "    </tr>\n",
       "    <tr>\n",
       "      <th>4</th>\n",
       "      <td>SPAccenT</td>\n",
       "      <td>SLT</td>\n",
       "      <td>Hindi</td>\n",
       "      <td>13.955082</td>\n",
       "      <td>0.819328</td>\n",
       "      <td>0.568643</td>\n",
       "    </tr>\n",
       "    <tr>\n",
       "      <th>5</th>\n",
       "      <td>SPAccenT</td>\n",
       "      <td>ASI</td>\n",
       "      <td>Hindi</td>\n",
       "      <td>11.895964</td>\n",
       "      <td>0.353793</td>\n",
       "      <td>0.237296</td>\n",
       "    </tr>\n",
       "    <tr>\n",
       "      <th>6</th>\n",
       "      <td>SPAccenT</td>\n",
       "      <td>TNI</td>\n",
       "      <td>Hindi</td>\n",
       "      <td>14.682575</td>\n",
       "      <td>0.723657</td>\n",
       "      <td>0.277133</td>\n",
       "    </tr>\n",
       "    <tr>\n",
       "      <th>7</th>\n",
       "      <td>AC_small</td>\n",
       "      <td>SLT</td>\n",
       "      <td>Hindi</td>\n",
       "      <td>16.172733</td>\n",
       "      <td>0.897837</td>\n",
       "      <td>0.466295</td>\n",
       "    </tr>\n",
       "    <tr>\n",
       "      <th>8</th>\n",
       "      <td>AC_normal</td>\n",
       "      <td>SLT</td>\n",
       "      <td>Hindi</td>\n",
       "      <td>16.50685</td>\n",
       "      <td>0.943469</td>\n",
       "      <td>0.487807</td>\n",
       "    </tr>\n",
       "    <tr>\n",
       "      <th>9</th>\n",
       "      <td>AC_large</td>\n",
       "      <td>SLT</td>\n",
       "      <td>Hindi</td>\n",
       "      <td>13.173969</td>\n",
       "      <td>0.835076</td>\n",
       "      <td>0.436191</td>\n",
       "    </tr>\n",
       "    <tr>\n",
       "      <th>10</th>\n",
       "      <td>AC_small</td>\n",
       "      <td>SLT</td>\n",
       "      <td>Hindi</td>\n",
       "      <td>NaN</td>\n",
       "      <td>NaN</td>\n",
       "      <td>NaN</td>\n",
       "    </tr>\n",
       "    <tr>\n",
       "      <th>11</th>\n",
       "      <td>AC_normal</td>\n",
       "      <td>SLT</td>\n",
       "      <td>Hindi</td>\n",
       "      <td>17.808607</td>\n",
       "      <td>0.948258</td>\n",
       "      <td>0.525615</td>\n",
       "    </tr>\n",
       "    <tr>\n",
       "      <th>12</th>\n",
       "      <td>AC_large</td>\n",
       "      <td>SLT</td>\n",
       "      <td>Hindi</td>\n",
       "      <td>17.112174</td>\n",
       "      <td>0.906899</td>\n",
       "      <td>0.505283</td>\n",
       "    </tr>\n",
       "  </tbody>\n",
       "</table>\n",
       "</div>"
      ],
      "text/plain": [
       "          basics                                                 scores  \\\n",
       "       Data Type Speaker   Accent classification score (before softmax)   \n",
       "0   Ground Truth     SLT  English                             -9.251676   \n",
       "1   Ground Truth     ASI    Hindi                             13.304869   \n",
       "2   Ground Truth     TNI    Hindi                              17.53969   \n",
       "3       SPAccenT     SLT  English                              -9.04173   \n",
       "4       SPAccenT     SLT    Hindi                             13.955082   \n",
       "5       SPAccenT     ASI    Hindi                             11.895964   \n",
       "6       SPAccenT     TNI    Hindi                             14.682575   \n",
       "7       AC_small     SLT    Hindi                             16.172733   \n",
       "8      AC_normal     SLT    Hindi                              16.50685   \n",
       "9       AC_large     SLT    Hindi                             13.173969   \n",
       "10      AC_small     SLT    Hindi                                   NaN   \n",
       "11     AC_normal     SLT    Hindi                             17.808607   \n",
       "12      AC_large     SLT    Hindi                             17.112174   \n",
       "\n",
       "                                    \n",
       "   classification prob. AECS ratio  \n",
       "0                   0.0  -0.462143  \n",
       "1              0.632042   0.223873  \n",
       "2              0.883807   0.286671  \n",
       "3                   0.0  -0.568643  \n",
       "4              0.819328   0.568643  \n",
       "5              0.353793   0.237296  \n",
       "6              0.723657   0.277133  \n",
       "7              0.897837   0.466295  \n",
       "8              0.943469   0.487807  \n",
       "9              0.835076   0.436191  \n",
       "10                  NaN        NaN  \n",
       "11             0.948258   0.525615  \n",
       "12             0.906899   0.505283  "
      ]
     },
     "execution_count": 12,
     "metadata": {},
     "output_type": "execute_result"
    }
   ],
   "source": [
    "save_dir = f\"evaluation/accent/\"\n",
    "basics = []\n",
    "scores = []\n",
    "for dirname in labels:\n",
    "    data_type, speaker, accent = get_basic_info(dirname)\n",
    "    path = save_dir + f'{\"___\".join(dirname.split(\"/\"))}.npy'\n",
    "    raws, probs, embs = np.load(path)\n",
    "    scores += [[raws.mean(), probs.mean(), embs.mean()]]\n",
    "    basics += [[data_type, speaker, accent]]\n",
    "    \n",
    "array = np.concatenate([basics, scores], axis=1)\n",
    "df = pd.DataFrame(array, columns=new_columns)\n",
    "df.loc[:, \"scores\"] =  df.loc[:, \"scores\"].values.astype(float)\n",
    "df"
   ]
  },
  {
   "cell_type": "markdown",
   "id": "1f5a8b2a-0b7e-4b9b-97f1-59ec6e006e99",
   "metadata": {},
   "source": [
    "---\n",
    "---\n",
    "---\n",
    "---"
   ]
  },
  {
   "cell_type": "code",
   "execution_count": 82,
   "id": "80bd4bf2-7c9a-4ee3-9860-297ce1f9a7ca",
   "metadata": {},
   "outputs": [],
   "source": [
    "import IPython\n",
    "def play_audio(data, rate):\n",
    "    IPython.display.display(IPython.display.Audio(data=data,rate=rate))"
   ]
  },
  {
   "cell_type": "code",
   "execution_count": 94,
   "id": "437dd982-5643-4fe2-bbfd-89a939aa8b3a",
   "metadata": {},
   "outputs": [
    {
     "data": {
      "text/plain": [
       "['PD-AST/SLT/English',\n",
       " 'PD-AST/SLT/Hindi',\n",
       " 'PD-AST/SLT/Korean',\n",
       " 'PD-AST/ASI/Hindi',\n",
       " 'PD-AST/TNI/Hindi',\n",
       " 'PD-AST/HKK/Korean',\n",
       " 'PD-AST/YDCK/Korean',\n",
       " 'CMU-ARCTIC/SLT',\n",
       " 'L2-ARCTIC/ASI',\n",
       " 'L2-ARCTIC/TNI',\n",
       " 'L2-ARCTIC/HKK',\n",
       " 'L2-ARCTIC/YDCK']"
      ]
     },
     "execution_count": 94,
     "metadata": {},
     "output_type": "execute_result"
    }
   ],
   "source": [
    "dirnames"
   ]
  },
  {
   "cell_type": "code",
   "execution_count": 108,
   "id": "7ba03c5c-5a24-4099-9dad-a11fe23ef216",
   "metadata": {},
   "outputs": [
    {
     "data": {
      "text/plain": [
       "'PD-AST/ASI/Hindi'"
      ]
     },
     "execution_count": 108,
     "metadata": {},
     "output_type": "execute_result"
    }
   ],
   "source": [
    "dirnames[3]"
   ]
  },
  {
   "cell_type": "code",
   "execution_count": 119,
   "id": "18866de4-aca4-4e68-bfbc-012f855c2ec4",
   "metadata": {},
   "outputs": [
    {
     "name": "stdout",
     "output_type": "stream",
     "text": [
      "PD-AST/ASI/Hindi\n"
     ]
    },
    {
     "name": "stderr",
     "output_type": "stream",
     "text": [
      "  3%|▎         | 3/100 [00:00<00:03, 25.17it/s]"
     ]
    },
    {
     "name": "stdout",
     "output_type": "stream",
     "text": [
      "0.00014754343\n",
      "0.008029114\n",
      "0.00015568953\n",
      "0.030948617\n",
      "0.016338497\n"
     ]
    },
    {
     "name": "stderr",
     "output_type": "stream",
     "text": [
      "  6%|▌         | 6/100 [00:00<00:03, 25.14it/s]"
     ]
    },
    {
     "name": "stdout",
     "output_type": "stream",
     "text": [
      "0.12190316\n"
     ]
    },
    {
     "name": "stderr",
     "output_type": "stream",
     "text": [
      " 10%|█         | 10/100 [00:00<00:03, 27.80it/s]"
     ]
    },
    {
     "name": "stdout",
     "output_type": "stream",
     "text": [
      "0.9993624\n",
      "0.062480107\n",
      "0.13647039\n",
      "0.008438088\n",
      "0.03447999\n",
      "8.364659e-05\n",
      "0.76364535\n"
     ]
    },
    {
     "name": "stderr",
     "output_type": "stream",
     "text": [
      " 18%|█▊        | 18/100 [00:00<00:02, 31.37it/s]"
     ]
    },
    {
     "name": "stdout",
     "output_type": "stream",
     "text": [
      "0.009492325\n",
      "0.0043796813\n",
      "0.045252267\n",
      "0.30996418\n",
      "7.413668e-05\n",
      "0.08642574\n",
      "0.046502452\n"
     ]
    },
    {
     "name": "stderr",
     "output_type": "stream",
     "text": [
      " 26%|██▌       | 26/100 [00:00<00:02, 32.70it/s]"
     ]
    },
    {
     "name": "stdout",
     "output_type": "stream",
     "text": [
      "0.18222715\n",
      "0.022986688\n",
      "0.99999654\n",
      "0.004850798\n",
      "0.000642827\n",
      "0.9999237\n",
      "0.9740253\n"
     ]
    },
    {
     "name": "stderr",
     "output_type": "stream",
     "text": [
      " 30%|███       | 30/100 [00:00<00:02, 31.49it/s]"
     ]
    },
    {
     "name": "stdout",
     "output_type": "stream",
     "text": [
      "0.996268\n",
      "0.9171059\n",
      "0.21955495\n",
      "0.74247193\n",
      "0.40034926\n",
      "0.37467194\n"
     ]
    },
    {
     "name": "stderr",
     "output_type": "stream",
     "text": [
      " 34%|███▍      | 34/100 [00:01<00:02, 32.66it/s]"
     ]
    },
    {
     "name": "stdout",
     "output_type": "stream",
     "text": [
      "0.0010665461\n"
     ]
    },
    {
     "name": "stderr",
     "output_type": "stream",
     "text": [
      " 38%|███▊      | 38/100 [00:01<00:01, 33.99it/s]"
     ]
    },
    {
     "name": "stdout",
     "output_type": "stream",
     "text": [
      "0.06647582\n",
      "0.9983581\n",
      "0.004748252\n",
      "0.0037327996\n",
      "0.00016251238\n",
      "0.0025123204\n",
      "0.18319948\n"
     ]
    },
    {
     "name": "stderr",
     "output_type": "stream",
     "text": [
      " 46%|████▌     | 46/100 [00:01<00:01, 32.59it/s]"
     ]
    },
    {
     "name": "stdout",
     "output_type": "stream",
     "text": [
      "0.4091967\n",
      "0.6578353\n",
      "8.194143e-05\n",
      "3.0529452e-05\n",
      "0.72272897\n",
      "7.578044e-05\n",
      "0.0011683299\n"
     ]
    },
    {
     "name": "stderr",
     "output_type": "stream",
     "text": [
      " 54%|█████▍    | 54/100 [00:01<00:01, 33.21it/s]"
     ]
    },
    {
     "name": "stdout",
     "output_type": "stream",
     "text": [
      "0.34511834\n",
      "0.02367429\n",
      "4.0323594e-05\n",
      "0.56227386\n",
      "0.13464628\n",
      "0.57383627\n",
      "0.00020234624\n"
     ]
    },
    {
     "name": "stderr",
     "output_type": "stream",
     "text": [
      " 58%|█████▊    | 58/100 [00:01<00:01, 33.64it/s]"
     ]
    },
    {
     "name": "stdout",
     "output_type": "stream",
     "text": [
      "0.26356584\n",
      "0.96218973\n",
      "0.38934943\n",
      "0.0113590285\n",
      "0.9806614\n",
      "0.17678198\n"
     ]
    },
    {
     "name": "stderr",
     "output_type": "stream",
     "text": [
      " 62%|██████▏   | 62/100 [00:01<00:01, 33.19it/s]"
     ]
    },
    {
     "name": "stdout",
     "output_type": "stream",
     "text": [
      "0.9997979\n"
     ]
    },
    {
     "name": "stderr",
     "output_type": "stream",
     "text": [
      " 66%|██████▌   | 66/100 [00:02<00:01, 33.63it/s]"
     ]
    },
    {
     "name": "stdout",
     "output_type": "stream",
     "text": [
      "0.82535404\n",
      "0.02411915\n",
      "0.8802959\n",
      "0.0036265713\n",
      "0.0012406424\n",
      "0.2708689\n",
      "0.00555961\n"
     ]
    },
    {
     "name": "stderr",
     "output_type": "stream",
     "text": [
      " 74%|███████▍  | 74/100 [00:02<00:00, 32.94it/s]"
     ]
    },
    {
     "name": "stdout",
     "output_type": "stream",
     "text": [
      "0.024703868\n",
      "0.32713932\n",
      "0.008272682\n",
      "0.94084024\n",
      "0.98983765\n",
      "0.035464507\n",
      "0.99626994\n"
     ]
    },
    {
     "name": "stderr",
     "output_type": "stream",
     "text": [
      " 82%|████████▏ | 82/100 [00:02<00:00, 33.71it/s]"
     ]
    },
    {
     "name": "stdout",
     "output_type": "stream",
     "text": [
      "9.321819e-05\n",
      "3.056692e-05\n",
      "0.9872066\n",
      "0.5601963\n",
      "0.88697505\n",
      "0.9568446\n",
      "1.6767779e-05\n"
     ]
    },
    {
     "name": "stderr",
     "output_type": "stream",
     "text": [
      " 90%|█████████ | 90/100 [00:02<00:00, 33.89it/s]"
     ]
    },
    {
     "name": "stdout",
     "output_type": "stream",
     "text": [
      "0.99905723\n",
      "0.9700633\n",
      "0.010576587\n",
      "0.0039412044\n",
      "0.25270325\n",
      "0.99415106\n",
      "0.9322106\n"
     ]
    },
    {
     "name": "stderr",
     "output_type": "stream",
     "text": [
      " 94%|█████████▍| 94/100 [00:02<00:00, 32.21it/s]"
     ]
    },
    {
     "name": "stdout",
     "output_type": "stream",
     "text": [
      "0.365449\n",
      "0.09940741\n",
      "2.4538922e-05\n",
      "0.09791985\n",
      "0.5217823\n",
      "0.9882206\n",
      "0.9999753\n"
     ]
    },
    {
     "name": "stderr",
     "output_type": "stream",
     "text": [
      "100%|██████████| 100/100 [00:03<00:00, 32.41it/s]"
     ]
    },
    {
     "name": "stdout",
     "output_type": "stream",
     "text": [
      "0.42606127\n",
      "0.9980476\n",
      "0.0002677649\n"
     ]
    },
    {
     "name": "stderr",
     "output_type": "stream",
     "text": [
      "\n"
     ]
    }
   ],
   "source": [
    "save_dir = f\"evaluation/accent/\"\n",
    "testsamples = list(np.load(\"data_split_ARCTIC.npy\", allow_pickle=True))[2]\n",
    "for ij in range(1):\n",
    "    base_dir = [base_dataset_dir][ij]\n",
    "    dirnames = [dataset_paths][ij]\n",
    "    for dirname in [dirnames[3]]:\n",
    "        print(dirname)\n",
    "        files = glob.glob(base_dir + f\"{dirname}/wav/*.wav\")\n",
    "        files.sort()\n",
    "        raws, probs, embs = [], [], []\n",
    "        for path in tqdm(files):\n",
    "            basename = os.path.basename(path)[:-4]\n",
    "            if not(basename in testsamples):\n",
    "                continue\n",
    "            accent_path = f\"./evaluation/accent_embeddings/Hindi/{basename}.npy\"\n",
    "            native_path = f\"./evaluation/accent_embeddings/English/{basename}.npy\"\n",
    "            accent = np.load(accent_path, allow_pickle=True).item()\n",
    "            native = np.load(native_path, allow_pickle=True).item()\n",
    "            \n",
    "            embeddings, rawaccent, probaccent = run_classification(path)\n",
    "            a = cosine_similarity(embeddings, accent[\"embeddings\"])\n",
    "            b = cosine_similarity(embeddings, native[\"embeddings\"])\n",
    "            diff = a-b\n",
    "            raws += [rawaccent[3]]\n",
    "            probs += [probaccent[3]]\n",
    "            print(probaccent[3])\n",
    "            # if probaccent[3]<0.1:\n",
    "                # break"
   ]
  },
  {
   "cell_type": "code",
   "execution_count": 117,
   "id": "f3820124-cadd-40c5-9377-ff219d637761",
   "metadata": {},
   "outputs": [
    {
     "data": {
      "text/plain": [
       "array([ 17.33565  ,   3.4303904, -13.373028 ,   8.514436 ,  -7.551818 ,\n",
       "        -5.6582313, -10.052798 , -16.763783 ,  -6.071382 , -16.28312  ,\n",
       "       -10.090539 , -14.04483  , -11.300481 , -10.176998 ,  -7.3399386,\n",
       "       -15.123959 ], dtype=float32)"
      ]
     },
     "execution_count": 117,
     "metadata": {},
     "output_type": "execute_result"
    }
   ],
   "source": [
    "rawaccent"
   ]
  },
  {
   "cell_type": "code",
   "execution_count": 118,
   "id": "e3924256-ad09-457a-b6b8-8e5cdf4e3a5e",
   "metadata": {},
   "outputs": [
    {
     "data": {
      "text/plain": [
       "'PD-AST/ASI/Hindi'"
      ]
     },
     "execution_count": 118,
     "metadata": {},
     "output_type": "execute_result"
    }
   ],
   "source": [
    "dirname"
   ]
  },
  {
   "cell_type": "code",
   "execution_count": 112,
   "id": "c6f21f39-57b4-478e-85a8-e8b88020ec5b",
   "metadata": {},
   "outputs": [
    {
     "data": {
      "text/plain": [
       "'arctic_a0024'"
      ]
     },
     "execution_count": 112,
     "metadata": {},
     "output_type": "execute_result"
    }
   ],
   "source": [
    "basename"
   ]
  },
  {
   "cell_type": "code",
   "execution_count": 116,
   "id": "c6e512ac-4a41-44dd-9df4-fffa780300cf",
   "metadata": {},
   "outputs": [
    {
     "data": {
      "text/html": [
       "\n",
       "                <audio  controls=\"controls\" >\n",
       "                    <source src=\"data:audio/x-wav;base64,//uQxAAAE4GFDC0wycnoJGb88w5lAE8rsQQjrOhIa6yj5fN/lAEry2fkAAAfKhOAcdBAQCeKAoWEgwJ5mZiWJZ/As0wPKwEg8OHKBe5ZMnrk4xgQI9sQC7Bwu7u9tokmmyD4emTSIFk7dMwhHjwTs8mnZMmTQMIY2eEN/snftOP4iEM92TTu9xzEMbwQj9z07u7/8RERn73r7d7/CEQhEXZNOw/oAAAAABnj8w8AMAPzAVaXh0aJLk25UMBTBWn+MATkvQiQ5C4BKzwIUeJ+oBDVCjH785EfXcZAMe6PqsRKQk7cqeglLl6zmbKyRHkKWc+WacCH9zlhJgwwdEqsZ6ObQlpg790JCzKb37ZqZ5oU7TsmQSLi81vnr6tp7DbTvDbHyObf9kHf8jwB2XVbStpJKB8CvhGI5PxMRBo4m59H4GqLGKBOxJCa0QJswB5QmIF1xthm4Sb1ORk1GCJ447hVUSrm5bhx1ghiMjAoTM35LBwoIJXFjUOO5B6Qh0Y5ltswPvHSvMKLMzXnUyKKT7kb20aZ0l9Y/ec4R265QjCk//uSxDsAEB1nMaekcOoGMOf09I4/plEwx889c+vsuFLMkubkkbSBLN8DIMFGBIi3tACyXYxhLnGUgchbpUwrlQYXn0hR2qzG0BhpHXJVxWCXVmigzHcWOJzt8qR/KlfaXS3JdK+mh7PzMc6BOgSgt2ZRh99/aPyeady/0+I53KZNGZTPpRD35w9v81+z+tAg5C8JIFILlIoozDUxfrSzzLKKAEABktYMxD0wyIsvgHCGrCxAxoAoAIePIzqDHJhx14BKoVgq/2mOPNR+cEh1NogRtMIRdolJwq2Wo+2D5AIhslSM42sofPkCE+8hOl7IXKJEtp2wcITBU8DBOiVmFHCYqkZRrIIIUVIkSelbcdXtdZTMk2ceZRGbw5+yY6KwNE5dmCqNhI1Q/gW12M2CG+DqlUWXKQd8om5WpMxllJPOvLLuCqlRxuLgE2C7qSZFhDWAi7yY/uWsyCBMz1JEcNgw1HZfavRUxOFMwHTGQtCwnWVP8xJlrOAFZDdstGyZJNEhQBmZMaFDRRc4Gkb9d1JkuMlBWA4NILOQgmdEBAkMOP/7ksSAABYFjRStJNPCfrHkMYSaKbqm9QHCCYKQI3hBziPSFdiy3o+DZLIHSYtNLbcrN8s/w1nl+fZZTb8tGEM5H647ag75naCrbH+Lv93US1KDiBxhr6eebD62Jowh+Rcba0KqCbl/fsbZRAbMxQYUMX9Q6IIBERTNVNnTDkwi3AWAqxfzeLYjLhU7pu/DT6vGemoqIomQfbJScqSrxblIok9sRIlezPo22WZ4Ronutt9wnOVv3MQ3SbnmZGU0WxvsxhjD0VLRZxVOW75/VkKcurUGzaloaSeZh5bVeRPM0pFSe3yJKVtdgXQY+EukMRJYbBxrcfgfG5UASXmm0kkUlAyMZoP38OZcYACMD0Ai6UikBDQlbhrCtMDu2rpdjEW7QUruTSHpCIBkyJ4Y0kGFhtAkT2lE0cmSomD7AqYUSTmqatJERHUFp97kzlZZQ7BeDl003o3n0WpsUpUOnBdggZpkygNFevGEMiapM7jeo1l6tTxbRrTYSj2/0BNlOzdiifiVylBS8bXlLGroEmZKQkb6MVzTUihPkdNIFFYtxpD/+5LEnoASpYMrrCRz6ruz4/WcJHhK0p23LXroADoUEACPLcMBUIhxuC4GHmTQAJmrKMBlzIiJAr0S7YdQNbWXRMsWc4pMOB3Gk3Fi4rH52ypKRwyjfJh5YsITYhBCjP0NeSTc8cPxrPGXojk89UTmUq9J2SoVvieefAZu4YrT1xeZvxp8x+A8yZX6JotheCUZrU4PPPSeSIPAvbkS7d0muoksfubDGqlHKTjJ85U87vxKF2qZx09n6PET9cRPYLFyAnJXkZGpAsEm2yR0lVFkjSLVLx6MebkHE6pwFty22/SiY4YmYAFqYSxAGNUaiuJWhWu0wFS+edduy4WAxSkgYDCIgErxCQkbDTMiJ5cuNJIGW0Qo0nJU6kiVhIwjEimxHQxxTwnen6QLLMkmTjo4BEI5IhlGnmp3W7CJkKQ1RpkVmfu+YrtmJOrnf/W6WFwc075dnp3hnuf/n8xm3mJIJyjtIMHtDDn303r3hy37VGLGLQGi3EWcADGGxnBHgaiNO1xgEkYYUIw60UQC38vVYqvaSGTmfdPlJtlE8AigZLko//uSxMMAF/mfFS0xMcJcs2UxhJodZZHGy5dsqsXGAGYEgpO8kIw1o8DRGSEYfi025ZG6rI3d6nRL9gjvC+XMywmqapYqgYFAio8ZlSF+BpO2FowTPk6KJnoMWaZV8R6U7L2qZkq5m4buk3k+dOikYyOaapFEj7ezV6FspBFylao+k9JHWkkkYY2FwWU2NzAb9gDM0wzKkcZQIYOIhIIKLEPJEv0ZiEIQ5UIk9JpOtW5FaG4gqWZX+xNsQPEYNEplebbESBUuEgvMRtoWIjrK4k4wko5MmSb0uwUYnDXqoZ0r76faRronSILkFSJGRElp3M301WnmW3Ut1uvTiro2m493R2GZWZTC6jOrVu5qd3nanztr3Mt23NmYyNs9BcsbCDBoQqi2Lig267gafEaBiFEBJRxlNSqxqrBoLxwEIe8Os9MyVOO88GAaEaCgq0dCIm0FUSYg1gTHZGVx4RyS6w06OBpjl43FJmmWEUoWR2WSEFseC0vQHcmZRHQuBdz1jAXW4QEgaAB8lsL6cy6JiQcvSbDBOIPk9FeO4+YqHDAeKP/7ksTeABVdkxmNJNHKf7FlPYSaPQdExzxFGyDaVAm4nacQCMQ4b7iJ8rWyKDYSkAhyGHyjXOCst6nb46uJs/uezYqE6sHAayIa11cfXQuIl2JRmxtrcE4lnywbEFdsi6QZuQlJGfyGO2oiFeRCl9aYnOGmlw5nuwNTMvJQ/oTVCLngZSyuOpXiLPaZSrCsPtJuB3LlviNibVEizthlVMJOu2+CrZBcsu8fFMC1HX4/9gKWSNJtNJJ0YjMt8G8oCxAeDjh1h3SQVFVLlAwGkJrL1elopeYZCmci6tCjQKqUSihR248VAdchi1hJ1ZOR6r1HIrIynVEJlVuns1zuy/jqlsTcbLxhyplfM+pEu7WmVJ0gJx4qpJlVFV6gu1JdQOE8m8qHbhjOfM7u5PIrqRSQoWm2WMpb/VMZVWpNY9IO73vdii49qSLVYONXleXzveYVtUxWivaKXjuoqecYM8eA2IN5JFiRmF7e2o2U9j3fdvYty2xAagA4ZHEaRGrHGkQgGQmEuIHMiTQrML5H7QYYjgPMEwU2xIx5FgzIS/ZECM7/+5LE/wAhnaMNjWXlixi0Y7ay8ACdNCbehUrEF0l1gRMSAVEuM+612sLmAGGIvZyNRmENPXewcu4mu0Eeupg3d52uNq27MZ9UUWe0vu0oiGp1HJZD83C44/l/kjhyvzv1oBzprliraklieoubkccfirbhjUep3ptdppTJeQPhuMcwiEOZtvEJwlGiOmGDiF0zcwIUrtiFbnyvKvSX692u98YqO/G4fsWKeNz64mBy5168Ql2TkS50Nd/n6/X////wQ1xhjiQ1GIo1yHLvw3PwuMU7FGnz7fz7X6Wbzp7korc//0Xf/DQIA+ghl3NlObtEpqUkolFgch3NyV4OuxlEathMTg0usYHDYKMRh8QlvSIXq9cpPF8Q4HRlIidRNEcRC5jYqAgEzIwTNMIFlmmBBiZhgQMzRhkDMiDAEhFgwwFQwWDEOiQBgYaYwaAYRMoZDMicyiIM4QzXQ8wAHDhQwMEeto8NJIOFDGMBwl+q++f//+POY2ZmdpM6eJ0+Oevzxy3TYU3LtLO01Lp04q+bWXldRxG9kLLds5ppiYlctr7t//uSxNwAIAGZL7msABPssmh3ubADV7OqPU9a7/Ob1jr9fj3Ore3jvH+bxxpaKtlTWpq1MS6PxGWUshfGad2QW3VlkZymMuT1HS8pccdXcrWsP3uW6BslRipEGTRAtP1pys2HHWCFhAptb0UedUSkYWMFIwgBVTcLIpWNYFmJW0KPqGVWmQalY2660gGEq4kKiCwylbUmSVHRhTc5qNuxST0lU0iJdBPkHSJ4skmIERQVslFI0iKw5Pdo5//+OEIGBMA/ZhhBP9fZ5xYFUUcRXKBJTopBaP09NMkZ7dIptmeo9Rn+x0g5eTw4VYf8nj5t8WpeDeNV/90z+1xH6QpR9TVB/oYuy80odJarB2BwJ3YuaoeZO52oDD3t7Ejp9eZYWaP4varzz95iHNQAY0ACBMikzAzY3AiA1YkWfm3otgFPccYKEQMxIQyopqpZRcwsJbsCh/pOyNuyJCGRnxaKxyzKiAUWl01ZWSjoR2IWrXDRc4I7FCX1L0aLskKYvwDehSFpXYnh9z5gVlzjefDvakKK9UsFlZRgCMqvX9YGPnOe+v/7ksSkgBoto02sofxTgTRoNb08+mPxvJij1OZZ+wIDi3MyMQxBKswHIySvG+fiiBrE7EAOYOkFIEoON+nUSxOGncPWvrPz4EKC9gWzeB3C+8+E27aZ8ajK7KUjWetjos2E6i6WX0s6TTFHbUh1iauIjrv40nzXLVSl67s7zQA8AAyICzAAljK4RTAQxzkCYiYWTKg3AcH4CCsODJu5QBr6IG0I0CUfLIscBgHkwJlUEigOSURzIcfkOBp0eBhOBZi8TRiOAxgeRIJAMjxVYRptUWSqaGh0dPBhCrporAcJEmlRSHggdAJPFVNitORCplu10xS9/rMPckSf0w1MivVT994Ovf78LwapKMu1ygDQbiXngMBCx62FCiClvdi6DqDDiAgALIPwxRZy+kEL2crw/nkDtWd0tP7Pq1kx4GXuIEzPWaWFloeMXbYMz1hccM0dczRlQk0IN4vTenVSqGtsNeGnefyufq5cT0knfQdvMt9lx93ieHeZiqiIBTDFIjYcEDB4pDyr2zR4qDMc/zEAGgCTJZlfLVkMisABGBqaiTL/+5LEkgMfmaMwbuX0hBA05QHcJvBguAgwC4JBohBQBAOYChwYGD6YwFyYcOAY2DCY8lIYuhUY4jGAmtMQhgMhR3MKALMJAfMBgBEQMixFhmhPIx+G6jvLtZkVQpGjgDGAeGsyzPynDtzLv1bGU5z///33u87lD3f51+8n7uWrP01+nlrwtwfppiRTSmEvKWhckkUUCiAR6ZMS2ULBDR0yHsToQfkEQWOyl5ZmM3ZudqyDuWv7duat85UnEKjRZMqAqZ0VSMg8B8EBCwq5VckNFZETHHWWWiz6QxaKnNXWuU2oFctlm6zZRupHtS1YZpkVpQYACQAqDwGGDIbnIIvmFomGlIHGMoamMQsEQTmEQGMcHQBTVTAShLgrphKmqWoUBkABCXi0MQnTqMgQ6NAiNa3GSoREMiOMiIVRTkZK099Y7bitNOYS29Wzk68HEeOTTuSTU5mQokJdAYlV11+bS17TqWK6pHOzP2/p6HPmsKJeuRvHPXL5FkfjMWl5KXD4uAWSGZd9wplbzvVtWa33q33srXZegPnuxbFDsMNDo+ia//uSxFgAGh2jKu7pi8OYtGPl3bG5ejyB7Wl1+6q3WfeXHS5qC5VPfZdipCtYmvbeZyzub2ReAAQAFgOYJAMYTzafIqcYjk2akikmUZNkWIQCEhLSsEgYRHLXjwI2UQ3ET3IQ4u8kGBgAdBDDgwwoFOzkj7wQ0pCNRGgIEDy2aaOEwOChWDwcDNQdBmbSxYFdWAZBMrTgR/lOkUom/sIuSeOwBBrQr0PUd6zfoKEqmaavt+WnDI/OzIipLNyq6jRboz1DuJaenJ3CeE6x8XR+WkMmwiUqEpVo5F0gE5DKIhLsuGmVkvv/lqTKFFOw0zuwuuZ8kB6s4RM2jPSU45rY3vaw9mkZdrgPntpShH8p2pmxpM6xaaVfr1Zjs+QAB3MAAq2qSmCiZY7TGSYx4bAQ6QB5nYUvlKwLACtDcUMX+iDQXeSrfGAWtwAoAYGBAT2MW8aEDShopatlThM+ir8MUhpvY3Fb2FP2W145Eog/Uut3q8tpcpdG5y3M7o43WjeXLWWP2fsTWdemjlmVy+UWZRjc7vH8K1aX6tdtT3crtne7Pf/7ksRDABiNjS+1vAAD27MmfzeAAO3LVNfs/luHcf7hqbw/sz/P1nrd+zrfzv8/KZvc/d/X/ud//w/8e7/O5v/jt7L99s5/v5d+/3/3bP/9lUFC4AACFSgCAABGMl9kSjKLZJk0aY6PiCMMRBQCiGgB5WNs0KgQ1AWVBQFDngHIIMFDGCIwcVNpeaoyBxFLjcQyJAlg8QlAe+MDZoLGAWlLShqcMzLFewfA1EmonGkW1tpCgUfr1IQ+9dt6d0UmB446JGmhcFulqXY08fhxai/OKYM7GFCSQS1+8LcL3hZmNW6enn6kQbeAEl2tL4iLW7TrUEXuVL269JTSylp//dhvUdISytf8oaw4mP/zf//83/c/7rWff78ricXklFSOxHZHEIc7r+bz1h/7/+f/P/v/zf//9+xXp7dJLMYbl8vqXqSMUn////udW9UARplgEAFL+EBCbAzN8hFmeZmKEACsbsGDTqmosbXIXohgGDzEA77a0MDmaAvFxLizrIB0PdWnUXZVTs0hKUk6mPJC1CwJ9QIa4C7BzHNMchniOpSdXJP/+5LEK4AcSdU/maeAAt205mO2wAFHqlr0kk+spo/0XNCZnbfqTFYmWJtXT6OXB4knKC9e2Up65tBzmNGRrgwo2CsTXbTCnP0/pi7uT+BNRxr52+bTrLTMyttL2m7DWE11zvOLah5vV1N96/mhz91AfObWqlIlWNohVx931uHd82xa7v/v5vWsudTazWjnjdP7//////////xrBY+Lf+9iQC/AAFhhha0Ze8mFBZxAsYSFEAKjApjKYKWywGCV1v82612g7WAWHBp1k1CQdR1PnDPmCyjcwxQl6GfIZeZVr/TLeZzt2yeBnsqhQ/VGfJYIVWrFlGc5qD3qoWuHaNkunCu6/jduxyyT1xpRYSywpLVkFIO69zlDn1Y2t3/ao/eZgo7fd6dzmZ6t+me7t6ZndztvM6w7C25bbdp+qVHiC/PQJjlXtKL60jT0rN0i6rXzw2hMkLb/0kAFaXVWR2RkJNrS5w60wns5kEq8i6fYOAIREsK4R31MWHl5IJJGJccCj0e+yILCSH4sqx3cmc/7MrgslV3Cu4NvO9Nbw0/KV7PM//uSxCUADfj/UewwaWG6Huq9gw4cjyOlCjH5th2rOWO0aGwgtq2sfse5g2xK4HoSSLlSzFh4VQyCza5ACZ4hzPf6RyZKwWQNIkIhTAM8iJFEAimkEPIo6yaGXicuvJrFVgKsuB7UnMOjj9j6FBLhBrhqsGg3bIeamZtOn5jf+cdpF7S2P7hePPhlDCikGdHHxNCRYFYhcz/ppXs1qgKAio0OrQSDg5IFWuoEAAkoAqpGi5blvTEe5zHUEDB0LDBExxYOjAECgCLLfIJ3TMtFJqZYLGkAI1pOvPPLXdJh9dKlPiAWQUkBXtYfX585uUS5W5lh4QcHjBDUGoQDg80srsHyFu6bNZ4SuepzGEIVojpsfl+3VxeL9IQIB0iCIgqUA80VBuDeKgUtoFv4S7+2//jj+96/m0r+UTe8exaS9IKD/2qx/5TvvGT9OMm5/v1ABixQZLJU1F5QkxwzEsd3HcMyp5E0LlWCWWnR5xHe2CgbVhAAh5xZH2phJ3T0mufTWb2pMeGaROYmZyUVnGzMG8Pt9X/VTy+OL5g+24fKzUpm7f/7ksR8ABSliTCu6QnJ/SuptaWefJz//srfDzQnpk9BA2eAII5AXEBIG44YX1u3v+jZjaJ92b3P5NBeDbcNv0uy9egI2k25JIEmXnJpAEM2VTtDlCaqvE/3X5RaaNramgoAIDDhFtQ2smwcHa4vUtwbgoQOFgKSdy6CNh6BFF+2q3UjWSzCaPRNpv/6MpjHKUVFRQITCgsFhC7+hMVsNuFY5KUxQXGrQlbEXbmICBEIGgEzoyDC4FNlXkjhwULRvUMFnhoADQWV0wFxQMEqAUBxiYLmFQGZbPYcUTC4bRgZ4jTkvHebrQEqk40OXbUHbodamaGnnXnrwy7T2yRoLgRmYABzEEhIWMKk1SVZ1o79irY6TilXkXezq5VZRxW+cAdKgYngruHANyadpUMSSe7rXMf4oRTYCYa4hTYRS5aXPXgWQLxgaYj20Ig5q1K25EC5FSAgUHQFQ0WIAKXQ2n01loU69cI42OZDkIiGuOFrhUPjxrHaFSYYJY/5vOxzerg5iSXoaooev+p0bC8/mg4AgTIhzCgmcvXvr/7uxBD+9tP/+5LEsAANYPtjrCCvcnOgpsXCs1C+UQQnYj/vsN9gZV2xkwOIYTB5K//yHMPigfklRoedE5rDQolIAATgBQCABgASnDB4VO8hwWApnPrmaAWIjoEClUocCF+lxXdTtZ03wsGkLDG52FgcCgyTAtmDO4QgPUFZ1P0stiS14FbS7A8VtzmF2o9dPWTphsqCN2AIY8i4Kkn/XC8a1IEWaxKDRZ9qRaADHjpDBgtMfB6CYD6n84aMIC4T1VwqZKxI4qMp4joRjAN+EELtZovtJZCtcAGTdo2zUOyBGOstS4eNdKS8PrvRsh9l4VAR4UqCBCAFpi6RwB2myJlJdv6ShsXSEgJiDO6tM8TLLkspa1qzn3Pv/8P6Z2HqcZ1fueMPzqRvJTzVjFryIzzW6gggPI2x1eYXJiBCSNDNFQbUewXQTaZODS691iJAq2syVlNFWXCA6mnDBCFDkluMjHosgRjiCYtJJZhmS7fgrVJLrz9RlPYIrlpEveQ57ptjE5MxVdhm1ljMaFE8bXji15aSABjYnAdUycwo5YVLVZLWNPLXDYrW//uSxPKAD/D3Zawwz/QpNGapzKa4qV6nY+oSKTh6GCnrzh2BuBpErZXMaBgRjgbKo+Caidv///Xqmv5iY7uOJuf5p4+P7p4vHVdFjEFqq7Vhw21HQOpQIAW6CXQAADWmMQgPkPHgAPTiSEChChoYMeW1IADHFPDoBY9BSlrCZErtSuEIEItBKzKR9J+/FDfYkYeGC4MauQLWzRRhmaLOpz4PB2SdzOxWQmeK8ZTLPiE+tBgwWIu+lwhauczRiUhQoKlOsvo+9Foo1dBfMJhKttQLOWZtH8YmI6ylDzYTIWy6D1rk3DL0pDmZXTMXqViUm3b2HNfUl9+2/9f/9bJM4uhn7YljtdBlidtoefOpRYQwvEUJQNnbaTNNi5OgoSGk2HgSUQhMWBFYmcUPLPV6qkQpcU40UinYtMG+H6qnWDuVWCqxPozGeEKmpg6okoiVVj6djusvShl6wUWtuLLY/Em42BCdGBwwa1XF4pYeFJkqQmANGiFhIDysbIR08i3NtUZVWPrImdnkpERCSimAqJtrqxuuhQoRppdHSJcUpAksTP/7ksT0ABOlm1usMRPbYLRodaemuBVRY1ixpIVAGk8UAaXQtmTpCS/5it58zL72lkl/2HJp+rizbSSW9Z7UHRv3CWylUvdNb0MVVWULLMa+2lsULKUIwSDYxFRM/rk4xPEg5ZlwMz0wYSUBKqKAuGCujMiAkQIAFRjKoOptCIPDHoXC9AiAV4k9XujC04vZX/HWPhcM+20ey8aNDVi9ekUsXSfxczQqkoh6BVrNdBQ8Cv8wgLDDwyZCc6uGHw0/t2SRuy2JiKVMrZa88cikPQ7Inhi7uthba2ghVXaG15+ncjcGx2Zf5YWAmxNMlLNYkumKSpnM69LAZmea0wZiLS1HVtsSmgOg6JgGhuM80C6J25glD4RR+1pRaOwzMRxer5ssqXc/0ugd+vKjLJ3NeSbULfj3rSXTW3KF5mlYbG7bWunYwqWqpE9qdabbSTqSxsuLwf0lHXS9RJWoClSwvI5sOq1ZvJkTBwiwlDUU9+8lVBVq3USaXnXuP33dAp55I3jCCvH3nShnfOUrjXBhsWQzkc9OVSoiiIdb0YyCqqho8Y3/+5LE/4AWWZ9NrOEl2741JEHcrngWOL0377Lp0e2jVYb0Jumr8dxMPvuEOovUVv8YPsbWAbBAQJKcxhMCphSlBr7MZiSPxzVIhomDhg4GocRJhEDgUBAFASYhiSJBCOAYUDuwo2I1PgL7SskFzioVsCUFel6VyGE3yZmWcM0wRybkTFGlAIHLggiLC2YM0lC/Y88NNQutFwcDeQuI/4yBUGL+AISz9F7KK0eVrrfM/lgsDlAjVJSX8DcrAZRvvXFUqZVneBKngiYcBL7Q+deGKo0g1rhqOeNVACwHsli3n4dZzjIBA3JPHUaWncIpIHPOj1eej9kj9jKTO4JxWZIMAWEtIsujIc/swjhpdeU8TspXW02Jn1qPcmJ9tnnItGXlICLU/0T07o9yBlpn5KajXFXM9K6Vj2DOskxBTUUzLjEwMKqqqqqqqqqqqqqqqqqqqqqqqqqqqqqqqqqqqqqqqqpAyONWJttFOyodOCrSo+yW4ZxjVXFRo4JBVcquhU8LV7cHZPRbfQIPANDo/bJEbliKeQ3kdHRD+xuJTcWBaW93//uSxPSAD12PXawkr/QXtGTp3T24ToppwUeAwOLmHOnUkDFIPe4eZhB3HjFTFnR5yi6C5S2dlazsVlsZWD4k4sj/VtH1Fay7xpebpSrO8fxKiFmZEAvVFmVoiO1LHVcoupbBdcjsctkcvf5SlcF0gDa4YQhkAAhE4DJxhVqBGHrHTBV3HdsCXUCLRSE3hxGBNJROxZ62bXOHKySvKp99FfsEM5BSSDluMg7yuNUy2xcsUbWMtKFbj8K6J84L50WA/JZIZVlA/YWoS5iGhbMIj9xALbSGhOr0jcKaJuPY8iiX0QjknVP/VrG4+fWbZ5y8G5S+LG3qQ45tmqxsQrG/519YvovaURkcwHsdwaDmUREFZBEwfRHOATEw1J5sDQTzI5TKSecCBC0ej+4yuOVDdW01EHGmpIk4tEkFjDTtBMZQNpemJQRj4KVBkSNX8MKF2uiIYTHT/aH1FB4mJtbQVkSnTsYu/dcG00aHJmTdnbs5aianFZ/7NjetZX+sWj7WwMipevV3WPw9SP4H66vZajaP3RyO0ONYVTWOI/zFvuptP//7ksTmgBGdm1WsPLLzNjRsdZex9kus+blbn8lNbYRSEj+eCLlzyZUk1aQXW67//9vOf/v2v7F5CpMYo8guHmk6FkV1h4Rqj0KPunPcySsis6GnmtSAcFUJgWH5tKMRhGDBo+1QKHgwthgyyHAwfVkxlFclAYWQoFB2CirMKBOMDGbN/EaMKA9NdjWMegGMHBCMGAqNLgVBHWHUMME8nklTx6JkC3QlY1lUj8NfpmjQLMDzLMgsMrhx7EqZxJoYWDMoQCBEp6P6VTh/jezllJf+0jQilR19HS1P7FNF6wfj5KwcuMIVojFALB5s93fOzM3lplPZGqcEQ4Cw9Og9NmT08QDeyUkaxLt3cm/zN5ZptK1vuw+fVva7R4ZRIChScQoBX8G6AjHhMYF4eCBEOp0aLSxES6rrL1afuYc6I8c75zY1OW9mtUxBTUUzLjEwMFVVVVVVVVVVVVVVVVVVVVVVVVVVVVVVVVVVgAABIkmtIwA5OGQgQCmVeK7zDXA34KEKid+KlqjIA6GxCrluTBi8S8RwSPjMRoJM3PVrkJMJDFr/+5LE/4AWRZ9XrbDau8W1JYncsihAfCzBRWFhUjfJZRQISp8dRW1HoOmmh0yKdidrSSxKrVIpc0CDgZlITNaNbdXRxUHWWMVz/71ZB8nKlEhBLY4TxNxz/N/++o29MonBHImHzTQLZTWLFZN87JKcoeq+/////755Xk6aBCf80yjkj4qifbLqCEbHSgMHy/IR/EYuSWkshaQOWyzc0VFO3H/rsaRsQRUatSkmSAhmC6AihgtMoDKFCi1S56VK1vrqrW6Nm3BNHNQi7FvlHJmfkkm5a+5LNSD5VVZpA+v+f5TVWe3qED7EH/6FlK0+eXIGH54mMRzkUu5K3/57szJQ5iU8jYyxyc+Z//4ibMy8YxBWKxJBz9LPCzwnHH4jYX4O0WmvpaR3qzvSS8aH3lrVqRUZIJbciSb8mSMLnv+cNbDRVtpoicCDqxgCTBUEi3sdiamdMtRSUAL8u0nyXj6Qp8JDqTfXpYnIcIOrg0KMRqWYxqw0mRvzUTdB6IELhZT/6lqkZtff9vnB0MgABIgLqMu+Wx0X/++snC7UQGigh6JB//uSxOKAGM2bOO3BOgovs2y1hRtmLWwRXaNk9h5dGZXTae1XnG5xTnmZep7CaU0oo3szKJ0y0QYaUNQR0OB4ULruVFhCkJDxMoNlsm6Kbk7yo27rEQaGABEhRSOw6qiiEw85xAMDATDO030LET8acCCAZAoHCTBwwoBECBEYvwZCAIhGRpyeQoeHIBKNg8cO6CQxYpIYXiBJqKJnVxudupGFhCEvBXAyVASeEdZ2A00gYBDlceV5vb/X911AkvBdVbdZ3p0axLjPZh0thMFCiFTqkizs+WL+/8S8G0sSkRAw1TESbgoC1GoPWTlPjdL2J6MU+C5oWc0h8Pklmsefeq3rPbboKroWVa+BylbNpOWcy+whOD6JRqEVh3HAqh0JAYFghq7sOrCDYS1Z8kRQkvUJxpTMNllWIcAQAACsBBd8xQeOyDwwAO5eDCg00gvCfoAKR2gAFCdCqjHQ1SJIECQqqsLIDMTBScSEBReNIEUxjLyVgwiF2hiMcKBhmQYB9WEyUalsEznXmmHIg96ntzlVSilZYA5BG0LpA5l/tj888//7ksT/gBZhm1usxTo7izQnnbeyuvw869ffMuqXk9oZmxcGhLJakGiHn8kVvVTdCxgfo3RHUH9IqaFJUCeII0G0NjxauGY6h/SMDV52Pn5+v/5dwU7UXllJc4/DrKlVUpI8QQNo0zERS0ANHiRGzRqTRc1jJtFlWRTAr+Ezv2AFAAAcgLbcRGGDJYvJgGZYZ4NGBqDuGAREoeZIAo0GUt2LgIVZ6slpgZaNtgMbAoxkJgBcsDzIbChERaex1exQXNO/SOvfie6Gexk8umJyS9xh/1cV7ojsHx0l5Zbfy8rZn9i+3w64dpylQC+1Hdzv+dtL9axIZSXE+i02Kh8uEuEsWfUklALJcaP6MVilbVqb1raZ6ZnL7B8NMaiWsPofIR/1rs9HbWL7Fj7MNvf7H3YI23PrS2oq5CfQM81sV1VU8wZlsIltRTl1qbtMMjCTLQT8ssXkyx2SuUu6wwq+FxgePXPtM+Q/uik5kcDaBVkUrPhvtpS1PdiVBoWyQTgJB0cxy+lxEXt//FFFkjjYNOrb/rUZcoaQggSJIJFs88XkvIX/+5LE+wAaTaE7TazcyxCzp+nMsXkwPBQyKlK+uLZv/h4/mL+4muPml/+a44i1XW4uZ8YLi1XG7Fi1UZQ5wUoAFAAA0obgqADARVNPCIwwpDYXTMLIU903TJg1HS+oAYRBhg4HgIAAgFuClGpAhFlMxGamQA5ipic8HmDhIcAOeDhUHBAgAjHxChNdGBYLEYAvdTB9Zepw6kPP/UpGwwM+lSu1pc5g4AmGxagSFlkBQqZnrcYhm/O1vbvSfnG4LOqhSNZcLVR6J9FdspDy5wBQf4JOlNTAWVhyWj0ORxCVaXR0aBqYoQlgEEeIcSkhV1YfjYjPYCR1LCY7ik9dYeewkylri5dxcTuSyaFn+bWK5ee+qnTWNCabSrbF8uL5aHcfnZKQpYuWTwqOFOg7LD5GXg9Px+7bUkxBTUWqqgKRV/TAg/PfEY0nWD76qNNmI0yjQMtjIwuVeYKCKumvJIJeL5IAesGMCMw+HTGRrMqIky4IRocjQJAwCMYkNWJGEwn4LqW4X3WBUsV2wVWF/3XijiU0Hs1lsTnlTRJJlYrer+gQ//uQxPYAESWXb6wxDbveNCbpzbG4zM/Qi1lUx2+phXbMETEC3U1GNirU9aeVO0Zrr7FW0b49LhxK9SIPAuJY7FZBDtKhsg4JliKckZCWPoZy27K1bb56FnLM1pOzeOC806rcMwe7S71s3bPTRjZvNI7ZixiYeeuw67WcdZptVr/5SrLK5v2CHXdcnftAlVoJJKNApysUWKBCEM9UECINE4XnnExhJBffqPXO0+ly+YisHqHrjE8MQlDQCjVQH4iBdSXn8ee0q2udmWa21NFN12N5GIiO5KjTNZytNRkns6NuKlYpWZjZp/Wmhv/uhAdh4mMVrtWyRAHhOHYPIDYUBF4DseMs6z1T7S4+ePqUgQzxlbTjF+NF+r6a8fmY2pWMbHDyLnVl0RjEuax9MPY6TEFNRTMuMTAwqqqqqqqqqqqqqqqqqgQABwAAsnFRDjABBrMGwEU0oheDCQAlMWANuBDHyEMNgEtgBQWMgtKIqBQeAgjCI8NAYDTPAqHAEbrKYqWDIE8AS9MamdmIjBAkJQsRQU+xQQmTgUKgEHCpkibh//uSxPiAG4GlLE5hksqLNGq1l6G+vEbOsmqjKo8XEY8crSXJIsIQEB8ACoHmcxDG90wyRp2J+pVDZq3iskKFMpbJ2MfuMUibrLNnWcUb2dcdDyxms9JiPhkepxkZEYdSZJ+dCgK8ZAHIC4Mkf7tCW5wjsCvL4qIcCPeJ4c9/vD+M5xoM+JVt5BcG/UeSG/3un/nxmbM0dsmu3OL9sjKSMyQYDBFiv4USjxtcocebDUyQ3bZSdVvoFpYiVgcwHAW5J2QXqwSm7mC5BF2PMzif6GNzLZicFwio82PIgMV7JIn5q7h67th9BbWjlEMac2bCw6K43GP/37zTTBFHCH/9TDy/Tqtm9T2dxeaeca5jui//5ziI6A1HQXiXdtCXnMnj08WEiuRtEWGOLJWIOUacqkxBTUUzLjEwMKqqqqqqqqqqqqqqqqqqqqqqqqqqqqqqqqqqqggLABIBALMWkAAwhwWTQ5GsCgHxleAwlYIxmYDl0wgDpmCERMrMACQucMmYz4CTMEqM9hQwKXzShhEIEXCQhkdGQ0SjJCBBRAAJoBx+Jf/7ksT0gCEBqS7vcefJuzHtdPOOvgwDhMShJPNayQwzhChohpIYUZkKdnUx5MTlo5RPHp9G6jJIGvr//6mz9239tW4bjv4x/9X9cW02unsR7FX0JnL6botJVkEPg0R3hbEhPhlEOAfgfoQkXhdhSi7EGEyg0V2H19bz7YhYrusmlNHzBrrbXLGef6tCYv38v/7HC0qMW/qrGZ6z5xusFh/amLeLdu1aLWLV1BrBrbW5LSfuWww1npIcsJRSljKUvsLCDuI8KjipV9LBS1oUFOPMQNQuzBUIl1+42/J22q87HkpB1fKqlKvWoUUdbtkPmAaBMyIrlcJ/3aP6ZhgkhF9raNz+qOtMPCKGdEAYQHmEnKrCTN/7daJ9sV8pW78tBrawNUDPqJCz2EW4i6y+4K9MQU1FAUFgwcDDYXjldDDH9TjJcCiE0jX4XTKsIACH6EBgiC4EBEKgCQgGGDAOxTdDziLSCaZiWZpgdnECCxiUZqxgQeNCcMMXNgUBzB/I/LFyPXdeJ9azd2YO9KfrxmeuRytLoGZIikj++imUUuSyhqb/+5LE7YAeBasuL3Hn2eMxazWElmfoKsos12WntmlHTpGqOn4n3HZect8bj0C9ZGY3VK2VtBBMrUFR/Urg8nLA64TiqdP0M1FW1Py/FvWtWYVlZbUwWPegi1mi5mrcEzMUVps/F3LrnridHp6fXOWsSIfTite7VLBF0KnIL0zZ/IvceDr8iFVgAOIABIyMpMdFCwvGajZg5CLGJjwEcuWAoaLyvAgDQrRNXYDQRiCN6RYAtCSoQmlAV6HIchxVkoSqkjpiE21gvY6Rc37j9U+oXuuHyHwxdVmBR65VtiDAlxHoU4PZhaA0kDp0fEKRly0C5uKnN3r9ayxo5RlFHonlLLAGku75+y1fMt3LO3271vKRN13ezTE/tR+VaLZk9GV8rWaMOJods/Ys7146XVqFAAFHggEH97pblShdwLFEkNU7w7cmTKUYRSVDWXGhOde+lqw594lFgHjicjWTB9HWXxqPmH6aiuclhCcevW1MPT+pMSUG4So3p2a50GFV7XDtMOjGKOBybE0C9onuovJt15vGPeClDKNwkcSgkrnNp1p0//uSxP2AHA2nIE7pjcKgsKZ1t5n12u7aZtX4a6Mnj/2KrrpPlNeNktu9u21u7yiZplYmc6BYYxp3SAoAErWjqpkMCOYHEdAMaQhwsgjzkJNAiQwLY5CswpMcNjTkUPGwNmQAshCyczl40ZQzSAxxwYLGDOHQfhyaNhaERKCypcJuo0dTSZ6ymHR0nYf6JWR5GWSleXmFmPZDkmCiAYjPZTQRqlGAHPpjbUooTdc0m5IlGqtDk8gkPH0h6SWhTi2sCcJHHRMcoiCsrQiU6oz2O1cRlWaSnjsjKnUowpQ3VK0K0vseKvqxKduY1lORI8dpZHzx93jXhi9obU8jTPW6V6ssTK9bX5/MbCxssRXQNMsCK8cok2arTDqIu2F+3Qm9ghQH11bdyZoO2tqaoUG9n+ZZL0gUi71ISmxfjtUkAGmEQTm2ullAyCAAs1BGPMgEgQrEochQPIS8jiUbWH2pl3uAKHsDBXWEAciMSyeaqCsTCevgWp1BaKygrpNPTZfjrBgWofdOMeMI9ZbEpikfP1cWf13nGmLsJXo9eqy2zMbzzP/7ksT/gBLJZT3sMNFsDDVipc08+TSGty6Ru7dYGqwWcUbFBavu9SzCP1+ZFfPrlIrTmx+51aW/Ia77lPzZtTXq9ObDk7T8ytJrH/TlnW5JaUwCL5lMAggAhhACAAAAAAAckC6YIl2Z5CaZRh8a9TybJiYZxCGYOAmY4AwYJAOTUgZqFCBgyFAsMGwOMIA4MkyiMZUDCoyZEJmgBwQhmtcZ1nwMgY6OmDAKPRlxEOC5ye2aScm8FocBqVJdKVESeJJZiwoqmaCpGw0BgamZwWJKCwsBhdAStQhCS8QKEDCABDqcYimmshpgymmY0Nr/b9VTNBR/CIGKBYQAxMOCQip2IkgxI4Fm43gSNGMTEz6xWjEmd934WnAChSNiwOUCSYjsGCnJMhGfDJiI8Y+bGGjJjgBLrOGnlp+xmGmev8W8BwY/r2N7jIjEEEw08MDQRwvMUEjGRVwQEOGEgcE35qk7O4U1/C86sN34fxsz87bfuUJ9hAghWg8qqupgTEX2bsuvdurauZaoZ7LHstxlW5ZbiHym0zSH6CX2brl5MkUxUUb/+5LE+QAUvXs39YYALinEIqs7sAFG6yOBcNmZbwu2gCSpWVgxKmyu51L36y/////////////Ddb5zL8/5z+//////////xF4JXIILpJFeprvbMJUCCAT+Cocxl1PPMDIKk9EdMNgzt2eDjMy8yQGFhRC5mrbO7YYax0EskisA0hxFBJOvKHj8AQQ5bJSTh+TabsIpuXHipQwVJEInLg9dr7nJKota3hxBMtzo/pVFGG01JFdWpaxrW0gcdJ3ZUnWrTPu5pkQebPNUjtm4pvTrvhnDr3/F27vqbjPR/+49EvmX0sa41rMqkIMickBoCChZmBwhGGRDHZSPGLBOmHxhGEwMGhRLBgZiwhI0JaOKsDJ1O4DiUsj0v1B9LLtQPJK0EO1UlWucwv3aOu6+HVEtjnDoHQDAgSDYY4yGsoVG3jSBorzkCgvUGmpwQKFR3JhVtbOKjWG2lzPcyy8WMRyRvQ8bUIIEppSNVZBD3oL3CJBv4hiP7nykJ4SAhFYTsd/mdtU29UJggMaViovd5E/pH061YADu8kk0jblKKDe1WRN2//uSxKcCEoVzLN21gAqpsSXd1D8wAEgbyl+jIjixpUqHxISnJArVen86xN4nb6kjf21jwIkNwa2pnkpqKyIpaNizGF5zu7N/9GHDXMERhoQPORJy7JSmnpT2MtzunR9Pfr99PUzKt1PxQiGF1Dkj5e0TH49pAEIAAKwZjAeAUNIoF0xkxzj1hCHMmMNY470KzD5CNNKw6gwRwFDCvAXHgqzBSAzLJhgL48oMZQQWERQeANCIjWBQwgAHA1GwgGy5oEGBqRPMUB1GxLvScU1W2vsRnwYIbokiwBXsbY9LFmNDMsJHhQiFAQGqePqpZwXKp1/rNistysmVP4edT5js6rRgIE7QGUlKiDkMA+9L8d9PF7/U8ZgpvtjjJhjRb5Dm5uOM735xQ1EaDhhgYEPQJkRMWnUkCNHh5X8z1pT7hay5vm5ybnGO/vpMv1QjJcKxsP1Ck8glUbjJMomSOZ6hN1ClhQUnO6rtS2+bsb2J43cP/N28XUvc9zm2suVMQU1FVVVgkybWyPyOOxg2EoVYDEJ2BrWLPkFK05ufrwSZYjLEJf/7ksTOAA3hgV2sPOn0GjQjTe09uKw6u77v6lFXt9ht0n8PJTDl/Sr6hqVDgcYNmqZGba/9VAgtMKKZ2v/a/TzKyGKhHC4xTkKQ4i/RL6vv/7unV2bO6IyVEh4mJMwkKio1eHRIf0ogFO2WN+QMMIFOAshAVBgg2Qe0y4bAVAUo6Fk6OjURUS5q2YdfB85p8o7PQw/jd0k2ymKAXnjtsglFmjUeir8vfU4w/7i4okMASxWClPADVUZNstNFgp+079PzL/zSQpicJyAoGpBK7v3t9+pkyxdPebMRfJ2+Vi+voXliEQC2qdiCMKk31Uql0hZ8ozWp4VpFxSFT/6zrF+2f4rtuZcXeUet9sJ1BQor6M+GfCQk4zZPqCrWJ6UKFZgQ19mYnXXc2J8amy++vF74wHANTAVOaMfsZExakzj6YODMDtQw8zatTGpAWNWQV0wpwZTD0I1AxKZh4DgGDcDcYBoW51hQNtmLLklePiMAa8WVDTohhU2xwtIESAQHO5oNAMFbaNQGOjwcdKJNlQQimCkwDKEAAaJJtF+5enm7qfrP/+5LE1oBONYFjp5y4MyW0KnWmPyZz1RkAr1Akpip5usNzEi7j/dXaW5yLXIZs4Y4zOdtkzKV3SNwVaAcpiTLW702NLMyOci9NIMbOr0zO4y+xnNNAfwEGQkohmOqmQwAHOCCGFLARwhEV91eyluLvxJ6W6xitavZW3f48E7QS2vXu5xykot5Tdqms2oC6+MO6pJS2lxccSgGGnibSJTrxy9cU4+roQ7DsKsvjqST2e86v3qK5exsXrs78/y12h/+TedTv/rPC81ClLEAa2Sm9IXERlcDmBUYalO5hU2mt5cysexoJBQEPCBFCDFg6RDA8Puu8f14PmmdxpnMw0+onrbgvU4LzAzkaYrdrUtpHA+n6XEC5hevEV/co3TdkcNY2zZYhccnUTjaVqT03//z/rE4gVVBOGQgjMG1jEzO7JmP/+f/8+pUMh/P/XR/oiLZrTTjA4O8fB/k8wQZEhBeDbXJntL8XlRaUhAUdaSc1gScIRTQJqVj1WYO5kKoIi1hlyHJm5AiZcQNZIzxCIBS6Ki5MkZ6LYNSnKpC//3/dmtFs//uSxP+CJPm7GA9rDUJ5MCedzSzyOFEqBVHIv/1ddOhiCw0Oica81rU//VmZDDDCIsLA4kJAYs3/T0aP//om7+A5kAieIOouAI0AUYEoBhhAkamVmFgYWa3prgJeGCsPscBo6JiDg8GvZhmF4HGCIJgYFTGkTBJGTCBEz/izzG5fTZsIjJJTjVAETI0AjIYQQBWPpvNguPMpMGbMiqEgxCEDAxZ4oHKwl6nCAxGuUBGIOLKojfgevV5Kh4EMhhCDLKtzdtvmmulDUh5hVtdjcT7LrsqlueVLyasQFDUOUtdMVMNkt+idaFUM7hZ5Z/Gx23SVtdisDTEjbkhxYk5al0RT6XwAiDKnNl0AR/OVNOg1yeW7k/Uv919DYqZYQ9YlsPSadn71iQ9+K/rCYiMOzl2GZBA92aoS4M+4SbtS/OyWNsmnZlMK3+deapt/+Ov/8ua1WzuY/hya00MHfNPzakxBTUWqqqokmRhOSzWqS+xuB0ZUAMlaNIGHSyBoNf2VOT2Uv6HPU8/0oKEk0CT9qJAlRUGhL03bfviUEo1yMNf6+f/7ksTjAA19bV2spK90XjRjze7o4VFvTc5xEcLkYx9d6zf76IVJmQxxMHUYpijTpPfYkoDKnOrZMS7kgUa8Ni8Vp/6G3pFZASEIip83BLgw3HcyxMEy4Is4pKUx0GAOE4wcBkQhIOgCFRHTPMCxchw1UnMgxzrMc5aJMNEzKAwwYcDgIaKlcDABBSSkQlC62AvHD7LW6OA3VMtp9uW9jLuWbMSflvmTu62s1ActUebqtuJQC47+RGiySCzXAuXEszXOuoh6Tm8YJj4ej2tiMIViGzGuJgYS89k3XOKvwQniVe4goBLbWAPKy0f0ErilmtDonAwPHXC+ydj2Xi0hoyvKYotpOLu6zOlVw/94+y1C4dk3tUu6TYn4hVHAkmhWfPN52vehrs35h261raxUgIUAYBi3I01BYbM+3zHCUFIpmzAYiCgqLNXEyIKCAVlZeUYASQARZQPGRUxA3P0oHPgpVFhq7UmxSaNUTovzPO9AFWXW47SMTaa6kERi3fll+guYz7SVtSJ7n7ilan1hqhuUUruW9TmVyYxj8R/ktt8rbkb/+5LE5AANMP9hrBixM7C0JE3dsbnU5dK5DRZ0FPamLMsq43rWHM53O7R1rnxWUU/LdeenIlKNX5X3Kjl8u3P0/0uVStqz2kubucs1J7+5YZffyz+5qm5hzeX5/hlcyrb7lutj97HDtfdm3Xv3+X7lTlz72W+3LnN2LIAABSBW9veg9X5tTTaJv0MbmJmuiRgbqYoomhCJzosiIZKEIIjFiNQgwIHJlkw4GBI8FRs2BQCwwLBsEoMI9mMhZgwWYiKBUJEqAxkkWQcDImJEggPS4YCB39cwxsbDo0wMNFkczgWCHY0APN7M36EYSQg4YEKwKBjgTBj9qLm/vZs5+ZaFtZhqEsQm2uS9U6UKgi+HbdxailbS1FEzQwgXhGmsMQdJ1UyVKniUuLTx9gdLH4qr1trbITBxMOF32jEkkTls7fGRymXUMQhEOroiq64sycLACtJgoOYCCgoHaCmgriWdsUv3+fuzhhOfVr75jvWQcDxV0FN3HfiejHz1fuX44/hln9nt/9/f+/+Gt44WLveVbcMSCXVsM4zcsQ3G8IWEv/8W//uSxP+AGuWhLVW8gCS0MuW3N7AA//UCaAGqJCITdHQ2iJYBgDAYDApGih0KpBTFaV1LRJpTEGWB6LwnLIAiztqqQ6V4MLGkYZbuW9fsDNI/J/DhbIGwDoiQo4AFg1MA4UD9ZPC+KZESfh/y7xtIkzhAghdD4COQuaS+8PFvX2Ycwiac6Lumqm0FoMKtuCrhk8OYYvu8Dxo+xm7NwGwxgqnM2+jzxqJNAbtAMnYr7OGvKHrPo34hp1nOeeXy5mDTXfdRTRkkMwLYa25q6060AiAxjUBSRdcNzssjFm3lh/ZFKrF+X/3f/t/5XTz2eFr/789RxuUw+38rlG7MglFyKV/pYrWjdSxSw1nfi/9lFScwpotem4TzOT6lBj//W+7/w0aahmVHh2RlhJJCkDEDXE+AThDyxBdJEGavmMQQkYpIxj5JwYQ8eJhDAMLhwDJ0CwhTY4Qjjr/qZxpQeHHB09HEzFVWNWIvgUmztiV3XqZeBi5m6ujIIowU960pVdDVgaU9xNGGWOoUxRbiJ6r6v49a/ifTv4vnhpfihquY/OWcLv/7ksTDgCERlUf5jIACPbLsf56AA8IsOLm8Fi+KNZFiP2OGSIY5TEFlZoh3VXiBJBcLqBJC+Oo0hwhWmU/CMk/US4KY+T9Vb5ZYEzDduENsneKiPMhRQZ/CjmvXMWSGOgdiXQzPpwPjI4hCMz95iKVszmCI9P2IunaELIcusGPvo/es7/1Zv/+Rl+okqPcpxTubhzAAsNM2JjVPmMua37t3msAALYAmWKhl1zVVk+H+Syay0xNQawtBIlrQKHJdJpHH4puODyYLUa2yoe2PNCRJHphzj0Qa0jldtWaRhO3/R87Z/Jb/cPik1cu/pzOSTNEoJiQJjnbQ5VkQ7HAeAJfjBQkoFVxGd/n5TP///rzn7wz9v/NUbf/Zz3s0z9EolB9xn7SR1WFodwrtuJYB4NoFO3MAGspCXKwu5+jiFtOotytMwn6Tfx1cunA9C/v1VDcnC2Xs/+2Z5rLnRdqhtOhQmsIgzxCdL9pyqYQaklawaOLpNo+Dbv3FWgUN5kmbJlfJ7t1fBibVo3BiTVaHMI+xqUKMqrQ8je2CxKWBNWTQYo3/+5LEvQAOgYtn54xVkk6y632GGVnBeo36Bn8T+QZLpQ7AQeJG4HBcNuS+RHJe0qni5aciyEtofiUBqPOkzljr8zrWaLGBaeHIlZpp6x+86DdKafW/7Vf7/+r/m/0icQkzb7m1czqIsQ1/giUmbTWV9inHpKIMioKMABGRF0n+lMubUAjACIMw1FAfAoDQVDkOIQjAKlmhwI56XyrY5P9OqN21Z3st7XK4/lO+cRZ20JT5vS8avlXSZsy7CY6/VmSB3X3d5sciVko39npTJknX7ch3px/l9P9IZRI3dlMGULItyl+3SeSVUMRaiyARhcFIZ9lNkfoZjLXXFU1VXWg+ytzgspZqzxejA3AZ8wBOOy1SH2S0sUeC5NYRiGqavGeP9q53HWd/y1qrf1yF2RznkhGUTdSRMeNYZi52MYWO50RHHiwiEiaDxRqPjHgCRlIAAAAAFyEo0e1V4lCoDZe1uHZTJGkuxHLboNdiK0WpO9B1PZn8Mpj6neRZpVVuR/Y/S1DUngCeBGUOPMggh4AQFcGYphwnMX2ESgcRP1Q5rsoD//uSxP+A25GTQIfhOUMyMyhQzBbwtRA3RKJlCVKplhxJCiIdHxLF8f5OWNxR6oXJPJidNi4G6cQkiFWHqLGWZooW/2TZeMaspchGRHB6zNL4S5GHgTc1WBxmhQmNrcrR3WKtclrRYv7q4iy6ar10VlQQznsVl7AhDoqTjUcxSi49ANmVCjCHbfEs0XSgSIAAAOCtUpqw851EpmRpPJxtRgZXyuUFmnVJWvq8/Mplb277WF1pKFjIuiWiUulRmIUAvg8BpGsjFRRCIi9IvNWbA20mosxM4jYMMqszaVzQssyk+JhgiYawPCsSoBMCwYVRiEIlwqgRtM0C4KGhcdVQRCHWB1KNBRJLOzqfd702/Udf7Uv21pf1rZOQWzRGLViBY0+sQJlNsoAqW7ZxIpfRvpKi6URqAX0AAEY1KlOZ9hkpbxhzQpS/7gQBYh3k5Dr/rRGRIbRd2IbrxK/PRt8I1DbqyqFU2sFoZ2GIg4IMKOompClKkziLmaZKi4kiRR+stnFHGULgL4msQhZIynLAvhHjyJUsmS3KMdp2nafIN480ef/7ksTxgBkti0PMPLXCr7RpfYSaeBhCm8KVlbz0J+rQizIJIOIKokq+aJXhoMRaFxEVOQtx2mIDUMwtwgYfotpRE7Uivq0TEgJ4pU+rUOiOEtqQtv95jR5zDt9sxjP+/2jddCKQombbIsfNnBZZCYM5HAr6OlWDg/2T5WnBRFoHEUOhCyKIqDKjhAA2iehdoNSmuh5KS+jpb0E1l5OaGpE8oX5kGlCdqRGvvFcbNK0umtty4v9oUd6tVBSDdRjYpHDCLSMZKx82dsrFZGHkpmRuT8BQxUy0ngnIkjieRbnJubiQvU6ojqZIqudG6Vp9mcTg5AqDJemaHSXI4y/h/qhOnSWNZXYM8TgOk2VGLkkzlZ2MzIEFHXUTvCxVmq5v49re0OUsvUf9yMyu1Y+qV//XuS9zoEz6vTXeeUYsdhe5Rc50WLZsxFVCIFtj5yt91STJ6AAaofhY144ssZkoUrYCGKFqHL1KcihcGrbKnlTPGScz+WZ/PdWv8sKp29qcp4S+KzuEOeM1PnBvxFiO3GLO5WVz5mXTMuFWr4MeEq82TTb/+5LE/QDb2Z83DDzZQyG0pxD3mrm9eGqno6GqhKxidKKEQU5iDqlAljX0yaKtRxBS8n6yM4gBWJFRmWngEoV+6eJsuymQDahMFanhKRwli3O601vLnzQ6Qfc7DFe26IIzai7s5Xx4iTOJvUs4szMegQyiAiYTlAKIDg+Mh/oNnmaw0NMQAsIdNAwQUaOMV2wYs2TMUOVKoUiYg8hjMvU4UhX9CWbQ7DMMQaRnClnnBJHA8gavtD+61S0PuJn+OjFatLqmO81pSB3nOqps3XlmPRVfds1/NrTyFQtePVyh0vnhXiKxZL6kcR1gKY+jxQjqbElYFBgCzDyBPJHj1inO+kikdvc/dap9PXQuFV8vP8utq66dRVNG10DDE0kxUiHG/F5Qi0VpJpeBVg2iQMyDCIvjagG5oQAPdZqryEtjdR9mVtYkjuzsAUsEzNiH3Jf9jFtlVE2aDJ6U01yNp9xZ0vDQxib4cVwXBlscY4VYqnBhWFTKpT+gVivZ+rD/ZUnAkThZuB1miq3NHO204kLVrJMzK8niJyqlYh67OFfHoVQa//uSxO+AF2mXOIe8tcLUsuf5hiZ5lENhxMJTmGqDHJVhNKoWgNkvZ7h+oa2m4Nwua2Xsko/lMrCyXShVrOcsdDnFWGVM2tEJls5ZSSXRNKR+fenXzVHeL0cNNWwso2i7DJnS9lEae2PvRE0TMGJqJcySmD6sLTgeZcpksurbrjqLUk0S5WYUQOUAOCp04yarBAR0ASTXBw1L4y2EKlXSGDaK77dmsuyxNxmYj+aFVddGfpDYqJBzUoaDeHUIxOCICg0gPjhSJUTmRG5e26MRtYylQeKDg8Rkc3LynFaSdxQNI1DUyFQbonJySaRtAhOYhCBZZUZVFY4IxZsqCyOZaInOIDNsnm83MUizNyr1/9t6zakql8MKJ3k+otFopYpnb9WbaVxBvtE2xGTmUc35GQ2nNPUrSuNJa10nrgFIAAA1qYEoC5hINLdiAiClW0F5n5a5E7rYxGRERD1GxizyM+baC4wza22j8PWzr0I6kydrqU+TAZEYFG4jNEzTh/ynSr0oxwp5MulF5cMsNZbYxKiYogdpA4ipNxT5fNqYjth1H//7ksT9gBt5uTKMPTXK5DQnuYYmGOcqmP5jOxOtyrKZxVQ6RYllkLcOEnJ19KpQ6EWejs4x8C5pw3S6k6LyuDfMA6mCMlTsfdcK/6Y0p2bPgazv2daB78/NZq3HK2iLOuqWxZXdjaIzwMiiR1j8BQFMkE90Oep+NWCneUU0EibRxYMvslf+BAmUAkgEAuQADgIM3VyY8wkDigKGASOGHqeZghIWIvVXaM6B6SwMMZ42CcIYaI7UGxsJ/q1Fs6BRTCwRU+gDKGcCEiNrtE8yyzBg9OivYIiaUpKh8lQXkJSZcreT22VaTkTa21KKhlZoQtoEppsxx8KdSxZUlxCuOKBXOksFjZCKCLSiqG8fVr+NepKsoZ3m/qlcVk1+62XS9LqxJSVRtUrkVSw1qzKGUm60jZqCubTXlsooUyB2aEMURJyEOZbI4ITDYAMAhk8PYjpg2MVOsx0RjBgEMFBEaEgkF0YGDhwdCoNAAiHg+j4i3Gl3roJQelItVOpItrq68QHiorwHNHtaetC4X0EzBiycXeldZqDsn6ZfbauPW4sY/uv/+5LE+YAa5ac1DDzVytM0Z3WXpdhy469WbReDroeMeFiFlTp+1+IpxzohISDRcFs2HZ0Sl3BP9xH8GT9xNTfDt9/13HwUTyySMFR0SIi3m+QdAz7KN7KtlqjbAwAAEytaYQhQAm8iw5gakm3xCavwRm0rGphYUMX6REEZEiEJeGuKAjeAERv6AuAL3pQDAEOfFUWPVgEWABYkY9CWGgNECk5EPZmhims47UGFTDP98T9mOisCZvaZb3YmFOuLC8jtR4pg5obA9p6xnUI/0xJr5gvpGZbevOwZiRWZ1NvW/WDGxiaSCx1g4VmjLHEg0PSjOpiEvk2iUEZk8jlfDVGmfodXvpsb1PfU8PHu8g6o814dcuLfjwoCkeuUBQth4NUWspe0VZ+q39ITvb9TOGrRJozZPAruFBdqAFKwwEQvQgnMwESCTCEDAMLsLM0RRLzCIAUMNMH0wAwGzAVAaMCQCIWLBgoiAI+mbjMfiKBEDg0AGJA8JMkaFJQfS7Rm4JGHQUYWOQ0bzA4pUkOBFOQwkH1REQRRGLJz8ity6SwFNuE+//uSxPoAFaGjSe4xFSN1tGZpzTzoClKxkTFrpOMUYgvyuQ0nuOGVZidNUm23m7pxwuNKl/cy04mTrSLUzp87VwehGapdq5NPnoYSFw3Nh/HofCQNhkYvVhsSz5b9/Op/NOmuavMG+aL8TXkIkPMRag7x4z7DxlAjk6aFN3V0xWihhQshpE0eRar0gBIACH663NDJmPS5UgQEWAGHNwLwsjk8kkYCiwSBERBQSFhYwZkJs0kJWmAUOVtJAImBUOCsI4BF3RUHFkJg5QBN8k1RtnwX4tCBwPHXWCxdU2PyMG6QvsFoG4ztb5mZmZu/Ru8TX7ZNFPWYk/fP7Et5YiPFpoe2U9HMezt7z0mHLqHx4WztYBcODpZ5fILQ8R0/Knt71n5mfn/dDPclYbJ1CMNigM6TAMIBcNujIwdjDNy5ZLIWNMHfRUxBTUUzLjEwMFVVVVVVVVVVVVVVVVVVVVVVVVVVVVVVVVVVVVVVVVVVVVVVVVVVVVVVVVVVVVVVVVVVVVVVVVVVVVVVVVVVVWUS4E2mpo25cNdNmyjBBTwI2M6haP/7ksT7ABvFlywvcWvC6jPn6bYe8LpGncIkkHHKbfR5IbczyOaRJJBcpZPJmXDfhj3f3tJCQJRggz//OVAVGMYM4Zi6X+HU6nUlEy8zvODViBxRR1dngLtZ0f///+rKxdTiAanoczDRx3o6KiG8RbW0CdtxWkpY2pXIKyKIkfB5AUfHtCB8KFKdI0qLU7phDaHZidxK6RrO422bvW32goAA1Wgq0XtFLhe6GTDAeJCI2R3PLPMc9QlqXUwjDt59f//+bG+l8IzbRAWYCpcmmzl0c8d6fbbdm6m1KlkycScVMKLrybtX2l31o/FcULKet2E4jSVSub3Tejcwbe3xj///////flZDWacyuhevpsq0sYHAoKASAMRQQiYF7Nsk1n9SmY5VBpnCtjNh/qyGG0xBTUUzLjEwMFVVVVVVVVVVVVVVAAFQIQJNrl0uKpsmPEBsOqIJCNAMRx86rcFwIOLhhcdQmBDBUob8MvorERFYkdZJEXyssplRiQUsc/B+sIawgmtFqRr75NznYDtPrRuzG3RmW4qfgEUDEeCP/PW5nyD/+5DE0QAOPY1rp4i5cvS0a2mXpr4wwykucQHKIURUsywm4QMFEgogFDkCT8qKUYZtJvjtm1x1AABAFDwPCuTNq4rU8/9f/////1TM7tKyUkR+A0NlZH1GAcEIbRjZwJPE5YSKOT5MK0F9CiizGNq3L5rMYROJApAIclb2OtRocODTnBzAmDvFSpPOQDi6Dy2VqDAUWwwMOgHTcvTRbTp9fqbYU4oAG2oF4x0T5PJLvArpzJVWJHym8OMHBEjH2qBMzMzMzmwJ3cRmBRcL64PisiLgSHw8GjcSQ+LSwOlw5WLUnurYqz79mSqTS6tQzUexwBSMYD4HJFHkTlxbeI7kUxflnrdn98//9//r1hfPjYNEWQdIZA5ImEBigcFBcMN0zmX7SItPjflcqjtJLFJMQU1FMy4xMDCqqqqqqqqqqqqqqqqqqgAgAAAUulWgFu800KMOWzrCA0ppKLUABZpgKYGDFqQAAgYRXgFTkHEwyOpjg0cU3LAdGEynTRBXe5L+BUUBQmFQQwENBING2cLrjxLMw1Ma6sPNUK2G5vFUwGD/+5LE9YAYBaNJrTU6IuIz6J2mGrsoDeMoWUnZypeuP//8+sHTNedjshJlIElwxhuluJClVa/dze1XNmnkVxWcrTNtbby+mVUs0nWEkeSylSkFKerfQd2bT8V7ZamTBec2393RQwc1lbURpKyt9Uhr0AplUxLtjZEjVDQfmxd950zPYVcCqtMSPb+x2t32Qyhpo3EUonK75YOLAQmEQbwk0yGIE1x5aiTXoeBAh5lCa53GqUD1JLaGr2WbJbsBQohhLEmV06/zatf+9k1hR4iKcfplQX+f///rbNLon0zQ+TC0GzE2ndzf11y85KrIhjpYsQZ/TOsNU0nEEoCUw442k49nqxZl2eOPtSu9vPxtifU1l/p6M55pMPD6qaQUveTk0uSSSyeyNVj6ina3W4TVACAAEEpxxhQEVJwwEAhmGEzKpQY7C7UjCoEcks5JlKYCAoYXUDAchWq8ICpACFxsae9fKeLPk3ombhrXQC+miCb4LeaIKFRiIabLGXQZz2QyqD5S211zIyqZrQqE052LVDr/5+f02OU/R/qYmZS0t/4D//uSxPQAGqGhNU29lwKAsut1h62/KwHCZDK3jhVBnlnuzZ1PbwJtHILttJFVWGXS4iWe2JS0lxEuJcyxXudZP51ml4uoAgsrbN0hLTx5rkbOsPNlSaQWPDZuQbrEytxaQBPORDBsFQweME4+nAd895dL5F6ooH05911RyXEcrqqogAGEMDIxQJ8/OBUwTcw+xG8wvEkyHIAWA8x2BJIowIA1mhgaBEIC4UhwAGFYjO4BRHYKCQWVQISB0kMygIW0EFoiLBZyC4ia2QAlhIZAw8LMWCEeC0KiCttt+I2wudfeHHIacn/J3jQtJAZA1HgwIFSEYfjQW+Z95EY7qlkkahivVnGeNxtmCgYyCsjZElnI38gfd/XN6v/Y5bZeYOLzhU/kxl8iR8f0WZqvu/P+Xvfzh7k2JQXy/bsk+/WpkvWPfCp/hV1akwMEyp3xMIGE7OCaom/9Y5ooSnnNbZ0qZCurlasickviLhPWXEyrqUEcBAaMWVBCvaNd11kNKrx34Llr3SFhMsyvTD9Nhk7GSKsQe3QYE4BpB647Dc64f7IA+//7ksT/gRvJozVOZZHTdLBkid2mOGSIWiwuHwanV3Ltj6Z/xLi+wRDgBxaPCasTfP1/o0C3Kr7SDNRK4oYRLMpGZNwa7v4z8/WVqb+7jEfAmhH3F27bEVOrP4ke1tCRsLIiqvbdQmtlQnaX6Kr8V8OG7x3zhAUubaDbSTcjZL4PovkJXUoQyQDBnTsprkIiQaH6A1Eg0gK44x8g6k2VitR7+SBARZ/MQkpkJ9owbkmsvLWXjkgKkM5Plxxex6JQlH8NFX9Q5OWI52r9UhwhA+BctBcKR0Yors9mwbHnbLjCw+X3pBn8zEeI17qRdaKxs8hutTdp3J+Du/L6rq7AcrmeVvMnpiufgu7tWVz+bRpSt45OEbR8JJNUtEJmJDPD7Hlx7EzBjy/uqy9uzBHoABUAGTAMCuu//mBBEZDwQH+phwRG3woTDIyQDDDRiM+gcSDg0PgSIgKAzA4fAQcUbQ/HRKeTNUKzpOg6thbzbSBn1RN9QUhYgCCjA4Tp13vaG/LfW4g77OFh34kDVFVVrw3Iofk44VkLJS5TjNEaHH5qZlz/+5LE6AAUTYFZrC03Ou0zKTWXsaf88tWaOzUr1o0qs/zXU4VNYGLSyxdUNSZ6oeWu0OVVoah6Ozl5p8GOdDjQHdh9h7FJ+ZX0x11WFrZdNu1phTDtN83FtZRKoManFJZhKmmYyiGoat2GZyOntQCyynquVE3avSqLXGZUncZxt41Nzr8zmTMJbYqW1xZxr7MLilNZqtV32pL3UltaXyKnmo+89PTyt/LVWclU9H4pQYyjMABFdVNUNUWWOWf3+WRNqM2S7zJAONyPMyMHzCeWMDlcADAxyEjEx3MCAgySXhoZBQIgAutyMHE0eAIIBR2fEzIEPgCQhYZDcyBwrW2OKFxR5h3UFAMkBvwCcYxAGXbBbEZEkLbrjcRxWaOoiY4MRLnvOUCPuaQzRkmCIpjstaE67cE7l/CQMRxZq0hdUBo13k1yYJ5F1pWMTlT6sPkYGGlT7Pmy6WYP2/cFtfZPlXl07D8ofuFUdP2lw1TX6Xk1nKMc6tDcl9aWc3zeG8df+u8/e9a5//n+F/tjPP/33Xf/P/3zmW8e/r+////8x/6v//uSxP+AIfGjJ7XMAAPYMOX/OZABcOd+opZ6NQAiCxKEgAAAgIQwGmADM7XM5lc0gHTTgwMU0o+D7zGIQCAcY2BYcGDJ4OKAWiiYTBqDpg8GFsTDREMKGBpI2Bc0Q0xUYMEhiALBjAh06xgKb0IuQCAwFYdYMRgoYZUynK/KJCcQMAvw3YLlwK3EuZpBimBgwYWDGYPxaLpmmRLktRKlQF6TFClImlTgwkIRCTqi4gBBcS9j9M2Yi6UNySzThYQKgBgOFQhhRwkNDBcSaxdh9ubzTcC43Z2aa9TuI3FPumQkNMT7kblvxSX5fDb7WndjMqlsooXYY870MOcsO70rdSGopT2rE9SvO2CPS6T1uVb+5la1FFnep8Kamprne36vc+48tcsasau/yzVwsWfrfrPLvcLP55fnv655hsTDQ5/5VY3/8teAZgaFBi+MxqMQ5lc1oHNsxgZsJB4xNAQxGA0tkPA6VAZXWQggtIRA6YRgMYpgCY+LGP/oRVGapZUCQIJLDIOuGiLNjoQMDBnw4XZUPUxDhJ2W3jj2PXbagiGMCv/7ksTDACVFjzG5zQAD47Nlh7uwAocQigk1UAFokxgFXAIEChIrBHHZY6X6nn2fqNY2rUM6jV/689lqt+4xGIbsy38uVaa1vHdXGkpqerHt1q1LNz1RxKDb5v6mRClcts37aoZ0q8nJZZJ49LJ2k1AdvLnN8z5v96w/8rO9a5u3Y/8rGGX3M6TPVyvH57eE3MXt93UnZPU3HYHt48u8m7l3PKginN445akFynKA8VYT0+2InbstRCyFOIYD7BWACQEUBqAilyCdV6tGa3AqWRigCYymxHhOzxo0336pAJCMyYmaqZfqeChFkphQWEVCaoGsjtbpL/NLF7n+uihDTFiyYj+OdkGTP7Y6H9WGjBajVKoIUetB//X////Zo95fBlWy8s0UbyOoEWOXAQ4QLpU8So1bHeX6BB1zESQjZalR3kkAFR/C7BKnxoCap8fJ4FyDjMSEERTNUrpUZUHW/fHkwlvJP/L6x9KrsBMxIYXDHM9Tw3MTIvzBDECC95mXG1/PP4fsepcDKpOokEPyCmjL/V+Q/+N6/8yY/ZlLUoarWHz/+5LEeAAQoXdhp6B3udcsazT2DaexAmglnEGTFfqoxUxBTUUzLjEwMFUEu/QtFqNtuZBxl9BClxDnPMSck6QEsX9sLcZF0waSnw/7HVi0juLwD4Mwv5k8MOIGTBZ5djT84kk5yb+v0pkGolRkDDA735te2/zEpjhXSSjXBj1c7shAiWWl/093O/znnCXP6R7xlWwBAcj3oymBbbYznHfwBI1aUIyMckcdxUdYuWApxqRIlPInlCoBlssL0kib9GxZhed+jijL/w45hpQKDstzxSliNtm9WcW4TDthPGxafh+/bPdSDzy7jjbq+52zChrCUWFSyZlqvQ82if5FGut6404qw6CXgcYLmaq//Q9VFaTXPWiDC9mbYfczMKEDgsMoHVULFkcx3O6Cd52ZSkqqIBNWkyMglG3HYPBB6iLaIREAjAgSAxwORJREWQNIAkypLqAU4yAVznQ6YXUnnwr11DSChPfH02PN/H143VzUwxFlF9sUECBM8iajQpWyeBPJGas1VrbEZ15Uq48xNNPIWN6+c58uoOFUxVM///a7aMTv//uSxLwADrk3V6egU7o9sOt9hhY+ocVcpE5RqD8z+7/+V0/1ULLd2iyVVQoYnNaUvhvcOfyk1CC4D7NZrh3oEAVVQ9MwrJC/xVdP/U+9w2w5to403E5JWlGauDwogLIBjboRZ6ZBq1YmLGHBpd1XyC599AQUEgxlhCFzVJxBPJmlzjHImnESAGnEo55RmHL0THbE3gHjGrpl3HkfBSRwYaEA/S+jThDNQxxdI1+9XEOOwOdLfMrNZ22TnspB9lOBzwW1GRcSTXnziWNd2inKVRMk6cU7ko3qGlvRwwlchyGr5j2OlfwvYYtQHP//WfuSG/ldc6E2vm0f8/g4LklUiPLVIbGS9dZSqnL4yQL3LsarWTrc2KHIPnZ3GTu9ICgUrGzp6DHlv2BzliS/U9tz7moEmSAIm7NeRJYWEawCZDI1oSBAOpGAUSjEKUkiBfVUIZcKnhu4uSOwBIInEb9NHqjqvat6el4FAOE48N229vHbD0qoINkR0mjhXXd3pdbP2/yc2fatc5PbKGBENDPl85PNvrFjltftBkv8goQQLHpROP/7ksT/gBWNk1XsvTH7hLRp9a08/umYEfcxt/////35Da8ZutiKnVEc9dV9MDeyZ6jy33pmp8xMmT5infHWuIht/LSGdnBJdZSIZqcjtQlJM1MOrHkpWeAYc0aUFLjXmTNlDTDguDUpEJ1CWaMKNAWlrMRIV0mdRLpZnGn3nXUhtq7etMZM5ciIjJgIapzvo6rzwFbiFqLwlxGxIhs9dUurB616N4JNI3YklpMWdpKa1W1y/Tayt00JvIqO4l3CWsO7I6V9o1BsBvEwp4ZWyyyJMYGXiTqZnIEADIWPoT4sDnDgTRMRKLRSxS1S1UIJYB2BanApkyzmXpkxiPFcXPC/OkmeOpVafkDUrLV9Bh4U0je6UsRiVysZU9GXahXZ0MZXmWrCaC3E1GCIo2D1guz/IQTcV5XiyoaJuXcmI+hPjfVZQtYhB0FLBRAtzGrVCimF5QICO4ZGhE0wa9AhB+dTxA0ZPu5jABYSozFgBKkdPwCKmUqwoJg4ADghviyJQKMgFgZE9iBbCNIqM+EgMdCxYK0ky4jlqkZey9YFaUeX5dr/+5LE/wAUMZNNjDDXPDS0abWsPn5nRiL3w4z1sQGB0bQ4rUWGkrPFlv6lil/99yxSyBeMhUFxuoM29Br2QIEQhi15SdCW5CSRohEgWXELT4I2hUERR2LT3fGb8Ubys/////////3ISmgkuulr8QEJAaIeWbcTEFHU2D4rV0vFqDPqCufHJN3ZoFRASbjkpEKaMAjudI4IRAgZ24gMHki1SKhdhgRuBvywl8GoWJC2SFNxuNfry3T3Pq2dn9E4VeL16abhNPZyzys0VqxUfpYSRRsColI5n6/1uzjcRXByP5L8a9GziVw2hFxXq9zdX71zadrvGBKo0evrT8SVQao4W9VJ3H4m4aVyLcnsmZmZmZmZyuXpBbH17C85Nk6wslJ8xTpI1JWOFZdPm0jaGc/eJa03E1etZj+Md1VMQU1FMy4xMDBVVVVVVVVVVVVVVVVVVVVVVVVVpLv5FaSSbIpqvCT5HVcZwS5LF+NoRqhaqIx+HFmTWEyay/Ukl0Hd3p6nhn+tXZ3mjhHAXE4mTe+anZx/fxwq5M8RThBIJJb6i4tB//uSxO4AGFGbNE2tOkrHMyjdk7NLRCmMbyyfe6jGk6VWVZZrZxhtD6fmNT9IWr/1////xUfaJkp59UnSpYfVZTRsnWseKT6suh59GfkyviLrY1aUuqx0ECJuONCAbhWacSDjgfQRXjjgp85ApmGYmgTA68AIGCwkqygFZcCqY2lQwCryI5NinH3oULAhspTti0TBsIuPN9nq/ZeqGYJ9XEPCFKJTK7WdZzC1f2+8avTNXqdPE+YagHpL+Uhf1AZLaZSIQZdkeqkY1pU0JlcpVqaPeHt+mLkibVWwyqIlRCiUgPYrDpETQ5vU5cRzppUn+aCiQ0v6tR7KqVfFtt27d0zPfWOYTpeZeSD5Z4lDEvHryMmg1JqYYGilIpSKdQj2hidTlWVENXpXcjVbPQ4hKgAJJdXiFFYtkaGYGFARsqOWVPiCgBLG2CQMYQcPGCzBhgAYUPuuBiRrJQApay9NqJLmgRPeDUaxUCJgxfKXaZUYX9KGdR5Z79KgaZF4IjEocl+miSd226lkGuLIEgHZNv9FbXoKiwQiQeOlXMN0gZSvGP/7ksTsABFNn2VHpW97azRpaZeyvmpHi6y9Hs//3Krdi7Gk1hBFdtogph8m902spFEpOqle2xHf/X+/+4XODJd01VQUPYHfK0mQuwcMS2ak9zvSyh7Y4mEfwAVfboYOmwVjgYYLqYOhOZ+KACBuM7WLMWS+OdBAMDC/MeQqMSzENhhuMOjeOcuM7zAoE1qExo0HICE8mOhihACFUdNUWADAzs8BBwMeL1A5ACEY0DACEHBxgksQ4gcRCEY1gyIQgKg0wg9vjDjhoiGUAqwMORQUZTIFR5/3///+Z2fmZ+Fg+IeHpsW7kz37Su6KytkiplWP21t7KV7Zs5VU+iO1AOYPZmWrquNj+KjaOjkOJsn5z96D5mZmfnJrFjzVRPZxz3jST9Io4UDuO6IpbVj4DaF2sbUU7SCOrux85tcq2lCbGspMQU1FMy4xMDCqqqqqqqqqqqqqqqqqqqqqqqqqqqqqqqqqqqqqqqqqqqqqqqqqqqqqqqqqqqqqqqqqqtEDCoiSXa5K5pvePkOEHPLb1V9QGo2hJSIbIjSooNIltGnJDDr/+5LE/4MW0YM6bZ06S6A0ZYndMbgxcnm4Y4eYBSiHW5oE2qMEWf/z8KcHmijAKiCL//////ZELDiAaqLn8w6lHGpBZ/vV9f891cGFseHoAIgPQaUFg9FDy5GGJq3XH////99X8Co04gQRUWPYok4WJLFyWHoo84bPu1jxigt0EugIciUmIj7RoFelqArmDworQiSxfsaVTsEjyRwHeogNTAoBEInc1qBKkN1n7bo2aCopRRr8c33ATB6dOfHx/nx3i0yIVEemgXed3/v//017+n3807ic30pozdat8yQ6zpmRyidmU8Zj1v6xh/54NlzI1oW9NNOlqwsV8teHrZqbWdS6////3//Xzbj6h8kGdJD4CLY3hA1JBJQKhAjuQNiAPtJSC2jCsXXfH2r1yoXVCJHsEoHAZjWFhnIIBhC7RkEMRgV3Bk4PRuAEBjQKRhmMoJBAw1HgwlGg/NR8OFIypEEx4yO6QDHDIAA5ibgZoKGXHhlo2aonGYHByK+THIJCDEgwz8aLiEhEYoPmFB6difrLwwLYW6ysrB4SrGvNwzCB//uSxNkAEcV3Y6wlETLEMmrpl66/0EgpiQahJMmCVLBIGjDJoE7evfvn6IjSfb4pxFmxHKOQfEQ+w7Eqi7EXDu8N/VGjgoac4cHh4QeDji9CGcL5xgyqr//r//+/xk9I8iEHYcMhjEigtTFlVJgubjbJn/ta5Y+5cYh6ITJHjbMH0nM/gBM7xnNOgbNJejMcACMURMMlREMAQmMBQFJg4MVxHN6E/DGyMrFcB5MZG1hQlMjTzQx48+PJEQ2VnNPliwGGBEIEAwKNkxYSEaNggIR5cMNAowi8ybsvVRk7IXHdhr6sjIxgIdgDAzAm9BFH2dp1rL2Z+CQ+Ja7tk/aBvSZxrJlY8w+1c5Nwuy+5tz1LjNljM+QoIZGFMfTUrNVCQucM5eTb1f/////r/evVG11taRSOYDT8OQEKiKXOvilrvYePPctzlrVMQU1FMy4xMDBVVVVVVVVVVVVVVVVVVVVVVVXR+EjFbW3bpAV80taiKrapfIJ1zsRcS1HnKYc40FvnFqeNQJiwqAYhjy8Q+YQusUCJlDFDF11KcWcZ8i8pbP/7ksT/g5rNeS4u7Q+DPK8mAd2t6GWxl5ebS/hbCjH1PVJpdhvtJT+K7HENqj/dk3urGlDxsaXIEzUkXaw2OfO///7amjrcoLhUNjsoPmlghGNihdKIPNyv6ydSBYAGJtqWMTIS4vDCiAOPGZzBm0SCIhgUoVAoEMt+WAIqFCFqDRkw4cOLhNDZ2vdK5XShRpD+PU7DcCTDca0YlXEyUKsdaZN9NH63Ho2N5yIxgJgrDuJw9+rw36fNBQakgQ0+LeGGBAAyC4FscH6fZ+KGI0owwgFAbbRisnRm0YjAAGCQwz4wVJEGVNdcnR1YbD4Li+OQE6PIEAonIgE+6Rk87n5v185z6jb/NGuxlmMTJAoxEPCBvoCRAocgjDA51BQgb2DetkaNuafRo9TRvmqjQUoAIAAAS3bI8ZBkAzRlWRnwxpzYaxHRAYNBZxXbakzMqOMuErzEtGVKl301RAJQjBELQNg0AMBIfkY2ORxNooXa4pMvOmyKP6blpKBUPiCOm/zSVhKRS7AIKGMQ5lWlIg8iS6TVVQPIrHSNpGdNLI1KVCP/+5LE5YAQlY1jTCTx+080Z+mnpmzRLOCqVWUBeWDnFpVTwRXZ76pjFk5SnBWBkTDOiDCZWOzEuN4fntJXO8qho/22pae+7ntWZtri6PGYFy2A+hXSy0XVK51QrdOT1pk6TnsFj7sPjF45PVP+7q2Www01bv1KDvcAQZ3BmKwexR7zhySzR5Evy1BtX4Egjn5CJi4T+JMLWlS74LYs0dhjiNFhl6AiFZil+tS6et6sKz6sRQzJI8nhPOBwMg5PSwykJUerVnnvMsKkN85l5KatViLKqMuGS72CVAZHS06EokhSfWD4hISgadMZIhChLIpXDOcXVSExGAYmFSI2hQYpZZE0vi+KNU4lhidpPaRT2lbnKDMYUxvMIiILH0J6wPFIVEKClziUCWaIVLsroThrOhbVmmyhni1MQU1FMy4xMDBVVVVVVVVVVVVVVVVVVVVVVVVVVVVVVVVVVVVVVVVVVVVVVVV9B1lxWz/X/oTxEkBSL0MIMcTChrSPSGpfxOpt2qtdVUacpFdDxOLCCuPJcElkesqchIKC6OCvyysjPLvw//uSxP+BGamfPU1hhwsetGadliaosrbNlRcpRDxEV3VZPPnothK8Z1AQFMWi4IxlgozCI5MiJM1WtekUvOSHSSdLA7wZjj5XGFEPCaZYBJFDDV1JYU6eH/pKijNjhu+nvL/GZVRrfm7ReqeYf+Uta1zNS8vtJCIHmHFJ1ZCFYGkYrJJKYVgOUMtBghUOfgBZs9SjGlTMBXuz9EFJCAUVF5TxfqPPIyiUtidIpGIRBQJ4EaL1jZyuDlYU2oh4IzZ0WnxGPzJKXyUHgSEgKCsTOMTE6ju37CllFlMTo1/LXj5mjZ6tjq7kEJuVoblm0NT6LFfMXZQoi/nvNsvLC0lbhNYYZs9FHwJm5Yuyp01+6PfUS2fDkyrFV/0CNM5HHcpbScZf5qB+EZedPuCPw5HQlc41cUgmZZHMcRJWUFDiDoyoDbzAKIBeFuC6gjXBXZydCeo92X0BQCdYOIe5YBBSKSpXCuH4d+JP5g8SGDHLLKFL1plny19ty23cR010S2leFDNFdx27rvfxgEeaw7q00V5GsROtY6Y7NjOsPrw6rjy4Pf/7ksTlABSBg0OsMNFqzTHmtZYafZRHKGVpmLCcao6UaQxIOcL5zQGscZCBtQGkEskwzTPPNdM4FhJACqmeCBRzhpDIjq+OACNAqDhqAoyRgrEGBClUMYwQYQMLFjOMjWEEOY6IM8eBxxPQxRo27E041RxO0yJMSF4qZsiMKFL5rra3I2QLolMql9jOINYdyMSiMNff+foWlsvnoYfx34fg+UUTW3HlUOM7ed2J1TNTd/n8fxQNTeHmwgkCmvTsDUHSIUEYaXDTXZAwSAVToOJgXm4JiLEZw7jOFryuJsDRPXXnXhtrjuJVQAQAABNSASKCifqGpv4BVMprAkMxh4K7BYLrqldBi76JgqBJzrdk6YKuWUpIteZ07s9G4qzaag6tH83Fex9XsuNMLtxNkUfVuaVA9pAI1B9YpD+MWlEjkdO4jCYHQ2XSXoLZCyYVHMwVr65ACUAr5oQAozuUkWOGJXPE1FhLXl8uy6IYoKhM0M5QLtKvOLsLhrNQYDEhAiFB050rWTFgZWMzCw6EGgNupiAghkZZDAioAIHQYY0J303/+5LE/4Ao1aM1rOdR5EK1JiWssrnU3myPe27vM6V1Uhxp2UFxaFcjNJ+SxyNwDsSEtV2hgKpdRIR3FEdIAioCAT1MlZQfikDJ/GPhjliWXisfQrJNj1GP24ssXkS/4ljTksvq9iebHwGCrEnV1QABUAAW4OcLMSQsKNJOOEnLmqDVMt8+hLyGSIA4mAuTMrmJVvmU5qxoyx+b09MWgmRnY8KzqkrThjKp6mJ6tam8pyawTj5pKWSawfNLWUMyE8sQDie7LRYXfdDQkxOjdMqFYKkpNSFZwGyM4MpsOKl7AdAvNLIkqLRjPIur1OSbprbfW6Hecs1tNaTnxw5R83mwb63SnHc1jsQNIeXZTtuqU3jJeRM5RQMKShWkwxuMBy1uLdJE2RzIah5+OUucmpt+m1n9A6cusiVbiYSSIhtfF5Os5WXMldK/uw+NWKpr3ytWrNmd6N79d2Iza5cfYpEoxPW6ev2b2dfQxfUpjOWQ20UFJ4Mo4Dta1tRMQU1FMy4xMDCqqqqqqqqqqqqqqqqqqqqqqqqqqgE2uoV2az+x3fhS//uSxJoAEyl3OIew88nKsGm9gwpoQhP0YQhCADCMGRkMsVBdENdwOvDkubZUsoy/o8cPyWssIhxAd2Cs1D7lqVpSel5WlpZ7PTuRVo9yFstFrlVHdzCVo5Guk9XaZP1T5mvpdtt9M3wbnLQaLHGR73KqKVskbSUjIKlQK1AuAzMyLMOnA1hoTFBTJmgI4NFSDQ5J8lzShoGsjiGFwLod4t8c5F2fjNMywHbPFjvIjfiA5E/UgOgtxXLh44J4zDxUCZKIbOG8ENNpChBNFAA54fAQBxfDIhNVjEN1JnwisiTijSZUgneSaxldDB8zGGmEs+I0jCJtoeRsV2qy2qvbqvG4X47meWpxTZ7VMq/EH1hddIWkAAnDcRhPgIiOBpGJYDyxlGQlA8TK0UwurKj2IYi9Ikki40EoscyMgriAxIbcOQmzXhTChDCgzRh0yAELYuChAwGa+Sh0DmhPw+K936qQ7AbE4mrfH2nsIV5E3uj8ar8lNuNNYQAUgQXn2CRZe6wcjUMis0LQhFI2S+0fLJrkCY2Rd5bWAhp+Ko7zFHU7Q//7ksTMAA0BZ1fnsEXi+DRpdZel7nM11ey1V0VtvGY2FQnYl2G2H1ns0+Y15o7Jp4pmtlYlW+dmQMs9jQRJwGMi1MczGx6Q6OwOW55YGI2qUi6Ozj/99XPtrtsix2Y8Ssri2uLg0j8VCSOYjjSWgiLAktDsYjmnRlFKSDg2SEwwt6I8ebgxotIiWVJJlSMJR5BkSPBABCHgwAPHONG2lg7EBhqhSWjEAwaMgG/Ubj6DRQCTJBRMLgUr3KhLsOWo9DpawtIpq+qZ623LjtHavTNpkcrQMgJTuHl1tHklC7mIj3iZtb/2rvNPPrisOBAQAaWbMTC1Zi41jN056ats1zM+ZvPsGDEWHFj0bhPo/KIohOI4vDdKpqnurYMOfGdapLi+vSlIeJs0km1ust96ibvuOwUeQG+W0BGKVMGSxqo7TucUKD8RilQZxuCkWVQX92h6nZmxUaT8W7fWSIwR80i1YT2kcbKtpTlCOk2FZliGCcNmLKVUHQnpaXSPdZiUpatmzZ62yDIIWKburytTyWQ1kuHwooY3BFM5lcrNDAf6I9T/+5LE/4AclaNLrT2bM2M0anWmP14IpuU4AGzm231xvjfBMCgaR6MqTtjHHSUO0vKyWcJ8T1f/BkhJQP6ZCBg0fCHKR/MT9W5JrLOWh/P////FT49H9TTknS61QlmdtAuekwZWXCgPEtEaRBYebICqcyFp7aStRB0Hu/2AfAAHwS3EwGlxoUmbXUceD5nHpmwg+HEoxABwEA5wCApJIMDMcRRhhF9RUIBDEAcSQgQGdCOYqGgKZgAOB3yDZEyIBjodLOgMQtMgaCQVew9MSSGVMYYApYhIMSwskeVwJAAaDVDkAT7DnyhDLTMaZp2po1+q1zGzlqzZ+T4fpxHi1On0F9svjWyMCyPuijivoMR/NBYIaIQqAIcTESIRYu4I0GmFqESL4PIrB2nEVN0zEeMzy/nhY///+/8bw8jRGzS4gLDY7a83Y4btn3pufRXmqzQnNcw3Oi2xoch7i1PpEMXCwqIMZtm3DjSd5GrC1Jp4gTCZCDDbzW8AA5eFIABC3e24i69QosHJAwVb0uWqq+mntfZ12ZGxSAMnJr3DkJQfUP9z//uSxOcAFOWHZaytN7vvs2blzL5YZkGpNUzLvV61p9up2eklEJKgxaDxv/d36IcOhEcZjIzK4WHXFmVSipVzke6uovUVFSCprFFEFjOrmb//orNR6PK03rXqVUNM9Sirh4WcpHRRIweCk2QqaYAPAADSceDZpoJHr4AbdRwoMzbJ/M3Asx4Mwgcp9FwgKAFMBEAmQOE8SlUSZIvFMFK8TsYcl911g4ydBFoeIKhPR1hWg51ewK9UMwE1l+XBg12FAS1KmqDYVEPYb1oLJ+UfP52z/KW0kP1Lx0YkJISjdGDVAO+ioy8HINVi4xYt+4ut9ma0My5CAqw+gWTEcqH7QjoRWXsEkiqmeOXlsz3zP2mYO6WT1pc9jf1dxr5y8Xa7WZhz5w+ucu2UNBMO3hzF7Jwg+mNo62QkU1OVM9OrZtns0kxBTUUzLjEwMKqqqqoGAAAEY9ExlXhG2wmagbZh1snQj+GGkwYBhUKkwLYpdhb9IyuAyQLgUQBEtymYgnMBBExmD0qzDRWOXC7gtES+E6IumowsihgyPLxoJiQtmoI43f/7ksTcABBpgVPsMK2LUrQlJcwxuVyUEoBemM8jOColBR3Y82dqkCS+apP3cm69tuOtqVeSX07Q1zcfrlrKtfkTJ6qpt1+a/xZo+coRTPBxhGxiNRQCkKLlsf3wdU0dzWYZ3I5mdmWtma33flD6mTCvnEqKd/JlK780ihjhQyJ9oYyoYWhFQZZR2u3aW99W9vmVtMy1aAgb1TGBFmSHXMRT/UQKD2RGIhCq5OFfiAlibQVyF/3hXcz2NOnSUNjB9m7sUfzOasjwKjvh1GbvO0n2BNT6bIkBMKmSSH9zqH+b72Npv2CCMGIUlO2samt8a9+/c6l6X9IdWfMnUqKACzKrZoEqaa21IQut87b9SOSGjluy2SP1i7ttzxGdobTtxXPEnyZjnRDm2Nj8KaL/jUxBTUUzLjEwMFVVVVVVVVVVVVVVVQAJI0ACHGXICjpq34o3ApNCswjE98Aw4AEhjHCyIbAKZzdzAgmFLqEQd3HmfVKlJJCsmWCwYdodB8msT0dgEROqGHuDMfag0zuJyuB/JdOIWSWCuihN8Xhby4rS5ZX/+5DE8AAadaEgzmGTAmQvp/2Emr37thwkOsYxtlskNPPnJMLHpoTkqo30zy4cbOnVuotv8adfR6yRlw4DJIO8bKQsnawonR+DVb7nR/rPw7S/OPRUaSRypKH3gJZNPUOJxpc6dQWpaNa98N0SUxMLzJyuRlKONlbY5Srb0Qj6Lsg+XPtekw2SIkTTToIhiWGSCyYoiIwy5BVGAQ4ePIVrBhIFHUrSrULKgGLiL5yWGeaShyJogB0JyCXjpePYIv0+sCWkSxtES7uiHBaFYPvLCKWHUrrETn2aaMWuaghv9iM+oX/p2t4pyepIz1qz71+tPkpSAUPlCQQKFYySbyahT4lIlKSGJ2puos2jiyZ6RE42y4nXZ5tSq1rY5z2zNjy7+F54Zk1sSJtJdL/Kf4oREohnMCk+GzAgMLYdgLBwFIFu3GGjysgEiKEDgQgDL7xBJVmLTEcVVWlvZL7TWYwzWxIpFMDsDUZDIOyQ+vH9ScrzRosKxxVwnIpHvXgoWOM0qsJfvwp3DBHd7uLq1Y0v0sxPITDFHUt0h8hKEI9u0q3/+5LE9QAaHZ8lrT2TApouZn2WGj1oqZVuBpQzVYXh+O5WONLTAYkfCVaZqJZmScvILUbS+UbRoKgd90wksq6qc3YWUDWdTLEooag6OkVFxM78YtRrLyEcdFF845rV9RCSEjKtOi0w3DfXKvRqtLtDNSIMVABwiFgQqW/W0HBrQhCN6h8DLEexrERicw/rT56UO3BrOKVQNPQs+0NgkHIS4Ia6YwpLGk4oA5WA6C4a/1VS05pWDkMpAwBgRwgqEsmSENwGqJUuVCG3g5lZbs0rD0LvCowMd1y4aaTBVjsoVgUvjSW6myvH+Z6mqnW6EFq7py96SccYnADS11xxxHcksFL3dii3ca5BtqKVJYAQDCAECQqTkQsAcT1slz6iCdYpBOUE3zgjkgs47ayCsGCpOeXxuSoTh5PXsNhQwRro0b21m0YwJG5cgFCqiSmqQhm3FvIty61pK0i4R9DTlEbXInw2F8yDrEJOM4DgTjUsIUsztrO8gQN0q4vplJM5St5yXZ6A31R7TmBREDhYgBAF4DOaO5IuYLMCiyVkPIAHYZQp//uSxP+AFyWbKcyw1avatKT1nCZ4w9LspZtZQYMwomFSHS7ABhrIHlgLWjBJmkmmaHVM0WCacQksYgBUDXUhgUIlYp0EEA0EtysEhmg+gwDVzZRLAidC/nhBIKSjI1tJWhUEaDMBJOlWMvOmEvSkc92GhvoZ5tj0EscQtYgwCGdacUhf0u1ohSO0+8orInzS0k33NfeI/1DtqSXOoD+G5xJdqQh6ILYX1BwXBqMMdDKzHIkULU52e0qsTh0XtBvIp93Y1fJp/FkAKcqAAKHKBLyYhL2HzzcXueVlUeqyBssTkb+y+GJt+pfA7qMrVvfiAWYPJSNfaYoezZYqgxYAFQKpSFI4NHGyDGR9gRmcOSYsadj4LKgjQZGoKgCJMNLUDrqjpecs8PWGIMAoEFXdEYA8ozdMQClGBQX8MYkIGAIAVIRQT0EiFckgJeZdzSEiAiIRiGkMIxDaOGpGjLcMcMyBL4DML2AQs32QAkWvEeAKtHk1Bg54axAhLws2BKAMEYKncSCpaJAwpJggHirBZ99HCWAityJvm8VPQQPWn7l6k//7ksTuACBJo0eH5fd0P7UmEayzYT3+VY+yKd/bbdu8OVxmjeyTDBhVA0ibTn8BkRKnAkBJ0F4KlZ9h+ByYT6WIqZ/z16fd9pWzxFVWaIiHYzYBAKkKQmYQ4I4OOKKE9hCS7HSSY7SwG8dGQWJTYPn6m+m+o2sm8aHw8r/62omhGMNQLW5vchXj4626tyriTnOVyu/SijGMg6rFHAxR6hxBw8WVyHlkS2hy1TQpvb/71lf0u3uxUZWkKMBXFIwdhyHOxXcVd/8M1Znh0EAAAUR9gKcyTLOEhCnLnc6lQaTO8VrcwKzwJXlIKsof8PT6q/rgLDQU60otOTLJTJGfFBhoaAoZWVMWPS1S5nTYWxw1Upo7czxYcNlbnrMhRokYF+XZ8cL9PGklk64wUsYjTBic4gZw9KtOZUFhQo5WB2gilPh67OZPyq5dTTUZIj6RmbW59DrGrrUsE8w7NEcUTsxFhUYaSVBJAHUJQqd6kExBTUUzLjEwMKqqqqqqqqqqqqqqqqqqqqqqqqqqqqqqqqqqqmZt/6yQUSXLMkIyy7zm4iL/+5LEqwAPaWth56St2pqgKLj8vpCqVwQhYaNu487+QU/kAXHNDgowCMGDjTT2cfDCyGNO1zNCOHYaOlSZXeCUs66GLV/2UW5rdKl7daa2DCjc5TGodH2ZjfdWbGTvla2nyzUlbumbNujYMSg5jlQdkDDAzQrAxeBkLXokXb/YyQY2pczkhuN7CiD0w0IEgYGoPEwS6aDiRaSBbASFIAdxub9vtK2FYvFAa+l4ngHPieXFYTGB0Z9ec72SqJo6dH8dYYORWZd51e7Vc8tdOrRqFtHuXVa2zC4ygWqxJLaXoOgqtNI1tKx4+wvPjmtDy92e2a+ufpBbNy0qmJ3ay52NpumYu+Kd79mZiZnMmf/XUvTlEkK5ompB8ic1CCMJtOyXdbnwFcrIs1SeYxM9PVeqTEFNRTMuMTAwqqqqqqqqqqqqqqqqqqqqqqqqqqqqqqqqqqqqqqqqqqqqqqqqqqqqqiA7ZWgSG0pbXFSJMCZcHg4GT7iyElujWZmM5tbpl53Iaxf6xGsIC3Hr7kZSzTZJbhYqnVZeNPB0PQlMlF50EWd3//uSxM6ADtF9WawgT9rPNGo1jbB6es36HQPzXOH8C2d8l2SNNzFflSxsKaxrB6S0nGoKGrY7Tth8ei/NrjRSsOx2vXNESlLmnK/NXqNrQX4niDltYpqDvMK0F1sQx3eKfFazFVlKWveUhBnhmVBJVaLcpB3q9hXYu6jMAi/RvcXoNrVepxuGpU7aA6FpwxxSMJJzMQNnN+MWKAqoIw3TPRgdxJ2vaLS05SGfNbGU1DWIAll51DYZqUhGPjl1X5lrignPF/1Kn606Vy712QMlm8TalUeqxKdBkpKy06ORQFQ5iUOIZGpk6bvKAbgwPkTRPihafYWStLMxmLuHaNh5RA9RicoetIzl+EzvGba4dQUOIsWtIzG/rH7ko7PTrmjCjpF59TWW32LRWS/v79fg6kxBTUUzLjEwMKqqqqqqqqqqqqqqqqqqqqqqqqqqqqqqqqqqqqqqqqqqqqqqqqqqqgAJbEAAI0E42QZToOCwJroVNgCBAGH7dx4JPwj0MgcWOa6nywtOAlBY+mguuQEQ8gROCt5uhGXOR8I2hoIXXU0WHf/7ksTnABKZk1GtIXebGzRrPYeyJlom1xX2hZzF1FRHctMwxA2lkNSCXgZDYcqwlJ2ZKqArNCoVmMdSxmDDRNbJLJ5aWli9Mdwg3dJ6Rw6YTbc5YLDI6FpAXGgCoBSHxDLZVIw03SllQXDxilbXzrUmbZ+S1No7fZ3nJt+zHRbFln+vjNWcnoVrab8TLmEOT18yRytcjYhTQH1F0doc6bT83n6RUABX5sgp2xW7qs8+ODRJZATHvJ5p1O8Wpbgv2YqzkG07Tn/coui0NQQsoVQzGP/luUVOhlCqpcUsLJP4MPyDWwQ9Jlr7IPkqR2av+9PiVD5SxjILcY2Rt3FtzCxXUeNCoqiwsTT1d7X3E/PHH3P/xP9V89ztY4wgwoOipEGrENrvPH8ELGasU0Mh28YBAnq3QjalhClqiBaeY0hDUwmDFR9OxTyOS6V5K3IPStpSeziuTIYyDgiDQuieDLaMWRIAzlbk2UIoDBQhDyGRwcVPHkUYTs4rpQVTkFFzgLjQBFCNbokaNa7v6WmnEF8gMcwuHJrbLkDJyLEDT0ZRDMP/+5LE54AaPaM5rmWLwiuza3WEoivJgI9K67ln8uKyMu/3z/3u971s79nzvrR3hJ4gtd4qrJpAgRQGYvARUg90ah5s8mQUXD7AABgAACQENAdjwQQ0FKCVkzAfbqhkyBfsHN1VVl04+S+gMBvUnehMDAogBRQMBgKOAoqcRGUEbipBNd123b5VRwJGu2OKVEwBriX5a1PUEEaMgY7cYUuQYQca9DDoUUbbi+j9zEgdF2Ybio6QNCPOYK1ovSpN53nXC1hkkCO7FC8TIUH39jK73TcZNxc6w6pgwZcNez5L/Elqbq7UabdQmGGMNGWDYe4peN/zKsCKfguqgnHWOYsITx5EwFeEuq2xOqZAuaEoh2qmZxW6yWbNt/+dQ5o8+90ZIdIUKJM4wnt54BuKpFyH7XmeaY7yGPF9XmujFEqVCWNVliOE15tKZWMpuIeb64U6tb214zmhEZZIcOBHpSd7Kr3m4tK63EpHu/lVNSeMpSEokSAY2HIPJxEhSaEOFgEPvmw1XK8HwcB/oCaa9sqfuWx4uOwPirybQMWyssjZ8Eoi//uSxP+AFMGXS+wk0ayKumUhvD557JW4OJ/BlY3eZ/vqMJdvM5h0WW9zIrz84J0/atn3evKwScWWWFRQ1EghKjLIj6kkocvQvnf9f/yL/7DOnYmW6gzKmqgjqVBDqXWOpRQ5D6k6nTMSiHIQFFAOEiARKFA50GXBITAWOmBqbZMpH935eSCdBeSh07D+DJsHqld17rLyu5I2fUb/UMOw3F50hBK4OYAgCx6JJPJBcEgpQjeNlvmV/pxmUl6EXDhUYjYrr0GK8WH6s/HpkBI7e9c5WlIOBLMQHEgzBIEWkAyLBrVyUfACVMDoaCg2ewmAKOuAKQN8soIlEyU40z215S//vZXdbbHqtWOMwfZkguSi1IjqxMQuOLhWFxMuISqiKkgBBczR0+RpXFATOIkm1E4zWJdAMIpVQCQAAEU1UwIIweTWa+Bu0imsEOI7jwu/A0lL7rqR8EIUmlOkBitrSWxArC6keVR0N7C+YzLW1XR2uB8CrB0DoAnDmLgbCTnZktHUT1caQyA+Vrm6N43GM6mEVZvgLZ+E5SSnbzWk0jYhbf/7ksThgBEBj0vsJHHLQTTnOYYm4E8vPzTYFYchOHE8j4EmSMol1eXYP4SQb6Fq1D0wkHt1o0D+RiHEqQ031ydFYHCMmMRmdiQrqZwrVivkWusf3zlfvuT15z+t/x9D9l0dWryhVm7tHSYey2avHK1aWdE6KvLNovQMXssuVbvbr1vkdMysslNnX/qkUvMqIjAiiVc55sCDUiThwS2xmIISLEVhaalSNcuQf6eGmuDYOpiimceh/srM4ryfRZSkqN5ZTqxPCwuUNliMaQNVUKmJ4kWbF37JvRy2FVVQ0okI0SxtLW40W8KbKIkrWqlrkRCI+jutZc0I2URbcZ2063OyqhhskSsPNLaSa+75w/8pbWSyW+vJXbvLi6zLVSkiJtNEp2KW4rAhAbrET0UjdNoM1CWalSJpI9GqTEFNRTMuMTAwqqqqqqqqqqqqqqqqqqqqqqqqqqqqqqqqqqqqqqqqqqqqqqqqqqqqqqqqqqoRBHhUIAABACdRmAieO+Iw1iZTIZpDDsnqChQmgpogPTXHg2lfq8TLCBwt5X3VMqUsg0n/+5LE+4Ab/asvDD2TyrkzZ/2HpXlrKn3mgNPZCERnUHdCAJ1oLqymNT1WPwM9TAEh4HWkggTvNH6WnJUU0QzcrCJ1klGVDyt5f2E+mynpTpSQszISCRWpEYpgbzUONPSXVbhRzGVoGo0nrNmtySCPTa6UmP2KZZ24+f9s1tP/qNaV/ql4wWZVN3m0BSp5cxUWzUFmnRSgsknCNLLwVKKm9KJRiQSkdIGjWHFYzlEhTCbat0eaA46iyk1V3Fa20LdHMQjF+5ixvvwBMwWn1hN75jcp5dL3FfCVP9F4cj2c3zL/D2k25bHUe+apQUHOVD727GWkbRwH/DV3iVrpFGtVpbO9Uj99xcFk8TfiJ53gTVyv0873C28vUrZt2lbRQLKrHCBmkQ2C3EHuVnqowXw7TEFNRTMuMTAwVVVVVVVVVVVVVVVVVSIEaHc0NEyROWIjtA3ZINLiyGGmwd3y1TkMKkyHWpKSJc3RuE69p6rDT6emlkKpWAOtMalPbYixAOzCuAFXBYgKzr83PPu/d/8NW06v7Ow7H2DxhQn5hJu2kn0y//uSxOAAF3mjMe5hKcJIsqn1kxdmUfbSkURTC6MgQEnuOw8fbFFGsoxQdS9RVktEmuVIb49l/jryO6xM0P3oIZQWXew8yOZpV+X7yyB+gABJFOBYFMpMj6w8DGRxSeYcLCRYpoYKEFYiFAtZ0EroGRORM9STiL8SxFJuoqEr0GQcmA000HxQDRNMHCBojdCliiZ8XaXD7S2MsLftDJYqK48Tukpw0xXEPvpClhJDdltvLl+lxy+9m8PL8kOjBa7C4kXpy4kWx4sOTNfZckoOiwzPyN6dQ+FAljyW0OOrUH2mhlLsEsRYj9hY60VIkNVl7J/WRku5IZpud2vTu+7sbDjLSw8bKxYcEWeZOHAegYaXOgTwlqXFcLYcCXRBWOixwkIy/kUjmi3OVnt47hRbyiICSGVCNIyMuTib5McqVI10ytE0kxmxFDkLzlgqXCUw3pZzPYZ6n8CEEMFn2RsQIuxprpnX4EN9DZJ2J+jYx2Rn2YeZdEDF7f+18zsVhgVGw7ik/7qVLKV68t1KpLEFTwT6KycnJ2yiApSV17/+f19le//7ksT0gBJloVfsJPdzjjRmqbY/oluqNoKyFMap4MTIHtO3y///9fP+9hfJNeVmkkfK+SNROVJpttX0lDKtYBMAAEDKTxgKk5lyKRj3257SjxjCKRjwAZgSEwMBdFgrAFNIu3ULN6QBxktRFhADS/xwJGlgQEgwEzFfo3YdEKeb2DgRfKIcwJyOFFAQKA4+HQ8eDCoAlpHNDglYhQgzxpoYvowVJfoDCpEFGBCaUhMGLApFy2v+H6z1zLHCk5TOQoS3N+EJY4BLRbaI02o2/EvgSAYFm52tTx535iH4ks9kCtKKrBWmpmcS8V+XUTzRtYO0VkcOwzLY/KZdC9FdrextYXhIqpJKlWxGwI6p9x9+pPMR3lL+zPZ0zk5/YOi8eX6dgxuOAUgpzGNk5WDk62c169i+jbi/r8/t5vLHyCLW00xBTUUzLjEwMFVVVVVVVVVVVVVVVVVVVVVVVVVVVVVVVVVVVVVVVVVVVSAnrGgCZG5bNFRdwhzs0howTL1R4qWlRBLdBb0BFAoBWZ3FW3gSjon29sUWlCn5KMiAUaR6aSj/+5LE/4ATbYVd7D0r9Ao0ZSXdsniyPD9oPEYTOqmk3Faxijz8nJmZ7J1qA9oAKKRijYf31NZpJv3f3NiuV0gEjDZEqCQ+BoggNMlqq97Ls/hWZd+PmxDo2ZoeziZ84i1+sbf////8H8iaqkhxQQqHIkTYwxGAhAzgPorwbaqtjl4xjmXSAAOxtgEttSSmKgbDAUIwOELtRaiJgAA0ZP9v0aIAVl5b6Do4zW8tqpFnLC0luCgIVMjigR8CNIstVZXzGomNfbiWvFmA3v1P0hP/////V/r0MEyACyCXlKCTyZuV1aut00oKlSqy6JEsTMKNIzj0rU1S2xSb21kz103SBglJZyQxKoouNkpIGoHNSyMtv//7/VeHplY0S9tA2uAyMlWzoO4zaxo8xg98gSOVTDe+rKSjibnCnMkUwEDgAEJQUPGQJgSMwwQSnJ8f6fhlqu32pkg9q06fSn9fEadVd3F2DpCFlbdOlgT///////50rThKDfwZBwnXU7fzywMs25Dlpv2wt3mFMpuwRu597lAr0MHDHBGCBRQAwIdb9v9K//uSxOIAFOWTT6yxNRqor2l1t6W7qM4J2BGKHcYOCFmYZwiKGgPZbaLgANVgAAZ1tNPcLvMx8FTACsM5GAG2o+0QzEggJoVFN+ioLCQmMksqHRlH0VAV/N1b8lBXhb9gBgg0YWJGOxYQmgwzAwaYCDhAa5S4UMLZKywnQdwYIjwEieQBIWQLAv0SIIqYQ2S4gahNlIu5GJgqb0c/B6omdwWpvUQ2U8T08DpUDGniZk8FPQCKRKLZmVuZlcRb83iMpRuL0py+aQmIn1ylU6pChT4r8r6OVchn0vNa0WVsu45tGwik8pEkhLY1oQm3BGSH4+ZD7Sb93ZxU1Hm5vEm3XcPqpthKZkNQujaniFMS5UJLh2xVGyoLJY0HM7Vjku3jkqWCSPZbhtkNw87gXQRgjtVMQU1FMy4xMDBVVVVVVVVVVVVVVVVVVVVVVVVVVVVVVVUAACAAACkggICwvORUJlB3OOB4y/6j5AGMRgQeOpel2h0LJaCwAlDi0JABkyDDACyjDCIYKAjNkwsqNBOGBJiijgGyAJkDUQcBDS1TuBHTS//7ksT/gBDNd2OnmFd0HLRl9c28+IBAxdwIIBiJVAMAqrI+sGijcGwAgEwJKtdcduS3crsvtLH9hiG+a+KnriIvLCXx6lfFA+Tly7urv5bXYq3dk9ijhR/qM7QgLiGO5fNishgfA29yxPtdvK369jMLuMWiLR6igiSSSMWOxw3glyk/OX3486CFe8/RHHHAiQok9Ua+la1mXe6dbvk5zjnXmBdDaFHSiRPtWSDv40CV5Ck8VE3nUPirO0gYDR9FBMDSvuKxrHgaVv0oZICUpUASIEKOOiEJnQmmeUZhuGvtM5lYUeWWCDNySqMvGV/+pPtsZbALofRIeQUcJKqHW//vmMcaVFg6WKEigRUdDnva2qLejlGY1VNsjrm19LbXuzIVNH5h8eiXDja7CMddpmVMQU1FMy4xMDBVVVVVVVVVVVVVVVVVVVVVVVVVVVVVRL21iBS0rjmIwNOMULFzE9VULGASy55bkMEqeAk94cSXvN2lrjP7R1Xe7Cqek3ZEfOQnJjIB6g46OnUUZmjagVeQYTCaaVsp0Vt08mpVrfRcfW7/+5LE7oActa0trmmNyhOua/WEnf+z97KoUPUKPRhczDYlOrj1c1KtOoFIXx////9Z9W6Mh0U6jxRxWF9jJhmJVEZn08PV8b3/uaHAhsFGR88QS54ZYjScLVpyUqn31HL16esspu3nzy8CKZo7FNAuSqk3RQU0objvecelaXXZL12hIb12+8PGTBEYGGa8DSDxx0KAAs0s9KBUsvVRa6XlUuWnFVS2Qx4RBsOJZQ1pJaEL7SNlq6HN+eb5upNWmDSIDqBsSekPNfH/5HbG1rsJ2ZCdehYH055DTKKZR+fmcmZnO/dilr4lCQ7PxatQ1xbgt1qb89uTnMQPrpXGJ2pS3WVqtg2lZ2r62u3zqdVlh2mKTOJBMYaiOmdcLxMA0fWUDyqhe+Est9Ncx5NG13y6AAKkZAAAlZ9vRkAMQ9DPRg2NQDmwwhVYcYIcDwARRCIgcCl55IQgLLgsDP+0yjYlASk2ejwLJXORfclCS0kqlhd4xoTZw2B2ENJnBN2dQP4FVAuUMOwZxphcq4ySDtk0M+me2IufrqxJnlhufmOnECTt//uSxPAAF4mjW6w9NfLGtGr1gzICiPFGkBYiEPy5Ihohx6MVJ5LtThWAzR23bVR8jEQHQX85isD9HEII4EQ/DejiqO0zPzM/ChWctvIZ0IClCFZYLNKyC8dDA4fp/HWqFbOXSHYTqmAMZ2s6EmNiOZqL0jPW7pLbOvU6e38nerz4BCAAIYRCwZN9wRVSYfcqARjMp2yMDgsMXB7MFAKDBIAoBSUtq/bNIHHg93Qwvsix6juJRwyRjTAosJCRgQcTA5jaUIDA4qXMHPD0RVWIBCgNJnIhl+kpICZvKqjkTjxqMEAk/QoMsVMHCvHqfaamVrtAzqruFBSeyQEQQRaWhaEIAtnShBHrJoOLhHt8fX/3aV/edlVC2j7q2WZib0QXY7VzDZIkxtvb4mg/Ov/nG3KSEztGqNzGmsKZmdfH1Phl1byVrSDWk/tlWzyQdb7WdTNEbTSng2XauYl9i0379PLr7+vvOsfXv4idpypMQU1FMy4xMDCqqqqqqqqqqqqqqqqqqqqqqqqqqqqqqqqqqqqqqqqqqqqqqqqqqqqqqqqqqv/7ksT/gBu1ozXtvZdDrrVkId29eqqqISN4hmMQ3W23JTWKwVxVC26K4dZBS8DifOQ7nxiqQVDQRQvOxrlGCwgDco+3v3OLC4qoqIEzdNJBhkrFiiBgxRVG//0NU1aEdpmuu//7eN1x7pnvq0itYCGukmSdYCaNEMpmbbJJLdHTp8hn2aHVQXWsoQzWOQLaAm4sQWKsBHyUEgkU6rN14OybKjl1VpUiXtGs8fD1GS5OnyyYE05kag/PiWA0tmRLdXJ4otmkFIUylYdFkT0hPMRGBrwFwGDoOA+EykU2+0znScetKolHZAjXniZQVYkI1LRLMGzmJN1ensnHd34Hc/UY829b4p7kI2+buKnnDX3KNXV4Wz1QiF0hVZWEjwpPB8GfDTolqKXSf8tPc9LcxjsAAKlACRNZguBBrxvZtuWJ6wZABAkzWBAADyNGqCBfXwVCl2A4AVKCBhCMvovc7YQy0FXLxAAMKro0CjsTDhQouWhN509ygxJqTL+JI7p93OldOSZuu8kFLiOltWXKAyKBElK4qpKQzhXKMvieAfzWpk//+5LExYALrRdh56Sucu4y6n2GJvfuadJuh2jrJUpBNgnEVAjO4dpOyQJjKy4ODI6i3iLU7a9XahbWVPum2kaBGprGPHi6gSLEt0OSWoh3u3cqlNWeBOpW773tJY8uVuFpwVudoh1N4xrbhQIDShMz2g0WGdqwjGW6fctSP1vOcxMUden1mQE1r7nACCgSNGuEN+y4OwUbMTRsMGxZMCg5MXgbCgOgINJCz1X7nPsporSvNR8DBs6jSHBnoXNW4WAELiIAdXCBTZkFkl8r0YEkGvSVM4h92qB/IoJBI44LZ0J601WXOFx13wRKi2soZJC+Ri8+mTI1asyKYPCSIB8J6lS4so+pM4F+9HVpo9uy20s9zLYs9prKr5tuORdrdnMrncl/YY18nrM5sOPfmXmb2j/fgnIJcnMvHAXn0Dm9c76MmtPo7DmKr2dree6Zn8chHKbvjSBFQkDA3WyMqYX8zfWazVlHrMgEAoLgImFUBYIHTc/EYQsAgLMUI0EgK2ZjYKOMhi8w8HAYMiQdmRwsZaFQGOpsdjmWwKbyihkuVmoy//uSxP+AHO2fHY7l6YMqtGNF3LE44YaFx2jrGinqZ7Oxhg8mEUAYnPhjIYmABEYvFpkImGKCAYmFJoMxiALGPTCYlLBnwRGEx6ZzRZi8YDRlAAkCgTHgzg9z2vnEXIUfUU2wdbT7vzL34daPOQ5CVb0RW8/buPcyZZJfIiBiRbO1tKAw04S06R120Y82qsb4s9UGEgJjBSmC82huo5S9Eq2VIqKYo/wBOvxG5dDL9QJk4kXceOS+hi7+SO86DU6Ws+81LK1eGKaijEvpr1NXuSqzOUcQld6epYTKpmkn7kfq0c/ST03Fow+/Ifgumd+xHZQ/9E/8bm4tH49FKbcMRinvVKWms52OVaSn7u8ekmgDq6YL//3/wQEBhhxg2GKYC4Z6CDRkEhQGK4FoYGAABgvgilYyhoUAZWBF93FGhtiIIABQEAQMVBAeUV0mIgoGVwa3nB8hjp6a+VgxLNwHDMxE8wTAqIX7McIwCBiABSLEtkRSiQKXHSCaGKTYGFSvN08QCmqQbBZSQSoOrLqSWbqVPnrGs9448ylUXfqUrkv2Of/7ksTtAynxrRYvZ4bMDTEkRe3k+FbMzzGWw9VoZrKrS2OVdv1LGgrkZIMiFzUIB6tRdlgMOR8Hm0j1bVNl/JALYikAyG9R3e9taxubgmXWpXIJQ/lZrEpmZVKnssSOa5Vwy/HPn/+P/ll2p3XfmbW7F2pLa2VLW5fuZx2Fdpak3Voa2+/qcWVAdDGX6qUAOSQgAr2qW7Q5r8NGoeESHbUBNKHy9nC/LEbYaZgB4aIVcjMTsRdYks1NZvn5LsxtD/kZej589Xina8mP2jlEqpE7bd/mZMgqHa6q1e03vNfdN8QspXRggSEiacK2FhILSzOxM8L9ezqmmc2usSuDRI6g3XgdjGrp////1/mJZ9W00NloJ/TB4HMynZiZq3XC2kAZQABGQElMSU0mCQ+ZRvJigNmLhhaIhS4iTRMi2qxVlAjywQAFd+D/DaOIV5LFk5OdBvIgebmhT9akerqz1yPCO8gL82oElDRTgehayFwSrY3/Xm8gNLXbXh8nlRj/f9XWpanjdGjQqbFRMwIjIJFQ0VW1Pd3P//6/7NRnGetvb0n/+5LEigASSYlRrLFt0nmvZ2nHpToIpresz/////1/CLmKeQzn36iXggLSUrHKj7e7QgIABghjozmyQyegnJ18ImdSUNFkBJtTdiCbi/38acSAMAGDmuHso0ozRHoGi2hPcz6YbC0kLmxEeIpmOS92IhK4AnWiNCISlmO3VCW8vj8ZxhCXXSXVeK+/z9Xn//z8XzFz6Saz9f1z7Y19Z02yw4CsP9XE/PtXk3VghafLhEK05T/alOjIr72/rff3JGxPCkbGN5FYIrVI1RIMAQU/wmNYKGiQDNgzCIowiRNa1oF65qNN+spyMLIzAhEKFdUQtBak1mSxbo4r0U32pC907l9tnrt1DVWN41ieB2qUlbxWKXOK9ID89M/+HlCshn/xcdIy2GiIjC57Zr+oZWf//LSrCszKpBBERFkSM+DCGbm4q0f/30FhLR2GkHgw+p2v//6VI0SMaxUZEHpeDJ8PcbXVEAwSDjA0yMKAA8KkzbAxN+uQwCHB0Jslb94oLh6ZQ5uaLBQlFAgIhhIQBwsS9YGopE2Ttosp2B4ZnmeEGg1K//uSxLgAFb0nLk5l6dIJLux09Jcm37XFBmwNloXyUVKzjT0oHoqvw+sqcJZ7K35pbOv/ff7h3WH/+8KexYt08U1E56My+aprtnDmrtzlu5YlMRj0GvK9jDl3S5StG1DBO0MYXML/gJ62AxEpWuyVh5KCR1u/7Sd+rNZYQ/cd+B1e8h8mCIEFUv/2x8AiVohEYKJSDNl+hO0EIQNTQaUNCCc5gpzTAFPMFcwsDDCYITLrLql7k0rBnfZKYFGwCJAjAoCFDjM/YbGrT+yKSoymDASCAiBhDRSLkbP08TkH00gjJ5iYrhTp6RfMlqfsuq6/1rdrYzv/FdPYE8TDC1ORy4cHKDPPbNqU1vVsuMLTU+b8F2UZNTqUS5G8ADinAQRFAKQkK5H6zN8K2/Btj5+/i0LMz6s1pXpRNykbN7fr/nZ1YgVmK4+cUsMc9xdFqRUEu7wyNGtJ20pAdag4slIgakHSCEUhTKVlR6RzR8pWsymAoHfaTLGfWH4ZKkKMQScnuf6hxVXr7q4WkogEw8p173mRArQ4czng/Pomq+VCxl2KO//7kMTmAZhBJzAuYZPC2S+mFceK8fVYdvL7rz+b503Xr2jAwPMWcvP7/iykr27t/HY+p+DyXLcYYLxy/N07/X/aVlrOYW36wmnrf2KC7INvpQ/BYK/nSL408uREMpKPGVA4jfOCAADFIlMyGwzWMjN5SM6s43qXSIbooqxtAZu5ilbVXIQmo+KomBwUFQGKh4wCABI1gEXhgODheECBS4vokQhenJRoHsUVYCgG50tCgMMZhgwwJDGoCMoFwxEYTechMBjg0gIDLDGMcIsChQxqUTDoUMUmEzAbB7Yw8vILBFZzIl0ejbODRiU5hIoCIBlhYYSBRMDEzZIkkAcAMzDB2Mw6EadEhMSFtaNoENeWPEXMrGN8MAREOJR0CGDhzT67Tc6Qe7NC5NzyPMyNBYM7fBCI4DBGgHVjFDgoIMmTNCNMkwJoxqpwdMNvBGnxhlA8dN+hBScygYVFzoOHoMGDMhgt625KUQ+tQQgy36k2OMsjr5Mjj7xM4kGPzx9JBosmbQXJd4Y393igjXbrKReLuaciGHRRCFEjUW6jKAXM0P/7ksTvgBRFm1GsMRPd0Tqklc0/YYhKCcMhOw506yIS6E/LuXIgheE/3yEkLLM22VebXz3bUp0k8o2KzMz9zvdyiT41bW6yTPK2ZLKKCDjrAAOWaQmFRpZBzzEX7bV64RNOLB0NQC+8YltLDygRfZpzvy6jxv2ZbRSiAoGzmqtNMvYpY5aBwVyQcMygABDSRRiZRqThaUGDl7S/K3YCYaq15W8UHL9RlpytzvMGQiUmhl1dJVehQtVUUZfoBNUxGQBE0s3pGusnAg4EsmVBcY0LXa+A8EzNONjJmICBTkDF4ubwgUpkADiI8girWgCoHJUPVSfxuwWS5SHjW5tnDFnIZeyCA6SN1cpbrs53k5zV/TAa+5Bpb5rvnSz731qdkyOi/1iE1ai1LxFfRTdT4ORwabJaNv5t7KYxFzZjW5aMqzMwqrWmkFaL0oiUAz0ADBJK5BUFYUZmjCTw+0QoCF7R4wAoJHoPhjNIdIgAf/FHVQBSWkxw5kvrvvZcl48pKyxSsiszmMpT5lQqKxhRFXQ0rbFLqVGqoVu///xlbbV+Vqv/+5LEqoAePas6jODbAcis7LzzCfIWyl5mm4UYAywUDp6+zesAADhVAAAAASzKOqFLXpseWtZ9Gs1nAjqfSSqoxng2PaqSNCvSJiDAkeyQYOY29RtTxnZZhAjiM0yX8UW100Mgmj6NRqXjqOMGpJH15eVoVJfgd5kwksjsX1qIRi5pitdLCc8KRMqfjqgv1NyMisOyp3S1qEyPis2GJWoJwcL6u3fk5XQrZdm9fz6X5kueE6kIX+4JBJ5wEjxxdbnVrCAj0AABFLRMmjame+65HThEHNcsQe8sUh2bfKG6SZoZTEyUa2DUe3izU9ko7SggEYTkSDIGyFAwZHBOJToOLD7RIJiY640wvKN4TqeNGA+A600hJREEzwuLorIrIRAWNJmdsDMbareEwLsmFs0oeT+Q46mBucZWbu2KPLuBa1t+LqcFsDg2KT1n+WeFzl00w7sXDM98dbAAADxEwhSWpDxF2lrB0WewaRLSHaMyMHAbaT3GcSh2naZ1eazMTVjovPfmmy1MZOuLmDEVGQ8OjYSx5fJw/LCCPS8dRBs04tiZ//uSxL8Ak7kdNcw9i8JIoiZxlL44U8kVUiPqn7iWFs6PkIrCc0YutBMSkxGbGKgg+dmljNcRHiaE4sWPxsnw+jKwYFckajksPZCEZFUIPw3VLK/3LCdFFam7GFORHtdxDfbxYjjCqlZEF3HHr4qho0uDn4DnHzRR+yBABrkQAAI7V8wVAxRxRQvoFhCq6ErMuzASfaSDDGUSN5GKSFrsahmJx+rJKsjU9YHV8LbEsRITp3zdSbeXNRxjThk5eH41JEEYLGzMJ0F0NBMocqbKY24DOwmYjFe1otRKgvBeT9JyeyrO4cRDDwI5LqI3jCL6lT+O8jJPS6IYaIrpeAc6GEgT7YbZGi/Rh2CNl5D6HyZRGjEYVDAuMPFWuLLLFYNxW2aaGUsPV2Y0n6qV3cZXmx9VX83Tiz9TXrswypRg27dffRLdmk9UW0vFACQAADjzwxsdIjgWEzBgMuigAXGiEnA3GgbVpsUp5Y3GlemWwPXnqSq4q+ranITfG60wxmKO5KOpoh0n8dxwDfVpoGuzFiIIe4fCMRY8TZUJ085IJlqg7f/7ksTtgBZ5ly+sMRPLOzJkJaemeW1Tm82KwdqgYjiWFeW81oZ1EwIMMouxmhTk6UqnR6tVjjCdC5GwXtDiRkcLcXoOo5AIwpqGnWMIes5j+ElULYMnC+FydRu2FTG1OG0jY2HkhVtBKbNq/UsWn7q88JW+wolT/9bMptS5wSfXdC/fu/oBc/zsZBABkA0hHt5wLMFVHgl0SsBcVCcWEK6TcbE6rjWlXAIjMy3w8A6BhbQ/FKZYQzlXUqVt2RsOFpxeUlUVS0wz7hfDZWSxGOj9avX0tHZVV63QbypaYwNQ+XUK6W1GWVJdfVxpm7HCKvE1cxZlDbPVHKYbeW0pjeXvvZbTJtuTS0ztZmCloF3tL45gmLfdg6X4Z7cjmBi2Ln879vW0zaH5plPutytOybR/khUAAAhAAgAAwmB4wqDoxaG0FMUf9PIY9C8YbAGYOA+DQOCwKGAgXEINGAwIjwAAgDFBQYBZgmFJhgJBk0oVIMpEsDpLoNDS60xJAyj2Xhg46IvwWKFABUgRAINEoIwqLFtJT8RNAgCERlIuim6g+Bj/+5LE8oAY/VMdDb0zyrazZPawwAHkNg480Akn0oR5ZoKQ4wkABFfiIwu6kWGPgoJUIMgNgKNrkMBFBUqlKXoPLAgQsmJBpRCKBrS1AMhYmAFp58y6ggdMeJGRBGVD1rDIyM5KqngqceyCjBNsWaBoiWJqQo/FpjPEDHlUS4AEFR+GRKQKFpFuqSxMlkC01KU02qMraY6rztLcp32AIlK2XGhMjfRvnUi73NHX1GYS4kYcaET0fgR1oZdhk9x52sNanXDmnpdx/YVDtA8recdZ0W7yZ4INk8BwRjIn+g+GrNJNO7UjMdkGTjPxlAtBF8rFJPbq4b3h/P/H//////6eGKb8bXbFavz9fvmu4f/////yKO7yy5YhgnjcwAQEAAAAADMwDMpAY0wFDIBKOZo81I2jJQKMBgUEm0FAAy8XhoRAQNGIAQYBAxggswcnkaQkCSoZiEHoaosKmbjpeszEXL9GroxjQaaSBGOjaOICNgEIDQmDAIOBCYPMdEjAyoQDbjo+igAgoYQEDQAwdPgt2kAAAtBpYsy3zqqFt9cRHbm0//uSxP4ALqoXCJncgAzRs6PTObAANHhWN4mjRpuwNA3VXAu1pr4pE0MZaY8ziP4ihAKdb5s9YE49OrYXniEVbV1HJtylAxStJNIBgbB2SPvD8nYQIgUKAC0U04YfpZE8y1nRd9P5lrVGJyhxIpD7uVZ/faev1m7cZI7cCRqXS61WjVSDKT5XlvnMrtiH9Sy5MSyksW5Zdl+PZTLIep41TSvcZhqSzlaj5TYUXaeruzUpcrv/3C2NGp/8GBh5t/+LmhZiISdkQBLkickYWugaeOBPR+sHrzaDFGvSCjgeG6jwRUfQOCANwXiGPNE4Dw/C9GQ/M5Q4UujKsXDs4TmRZUzXvF9frIwt34j/244uURIebnvRObjfRDJn/m7//iqv4eOKm/mYSvf/7rr35iP4TqngyvEGZ1Sa2ATJGgEF23JaUhDf0TTRIfHbU1FWSt3rxzNxLIilGd1G8MpyKIbBELwGBQLRIp3TPZiS1K3mxm2ZrX5g+uRehHhpy+/Y09VK/61cXxhPnuxiiYShScKzGIECwqQebTP3XU13Q0UFyZo9vf/7ksRvgA61aU+9hAAaGy/qNZYduqci310t2bmoTnDSQHCBQ4uODVwFkRsjjYbkyse9FUxBTUUzLjEwMFVVVVVVVVVVMCN4ZVICnpCnMgJLmDRZyuOcxn4craXZrUhWQ4qLqiEjCg3X8jG5SgeU938v6cD8NdtIRLFh+KFt7t9xCgdFwr+VhsRFHQxLDSLMos4sNcYJjxVBBBTJt9a22Mp1jlZVUSHCVH9PeyePpGo6C8WQcYIqrqQaYNyWohKaxkAqtAp+kpaBTn9U0bC+bMqdm8ODcLjVDkmSthQIYFGi/kEpKCTG5MzzPxQqoIkJ95jU8Tv1ORxjszF/YGAgyOZn/1RgyOqrpt3QMzgT5Stb/rI6QzFcE52sRjqx00/25NjGiyM1lCoVwhyFDjw4I5UsAIZRo0ZNBUfvaGYMC4ZYC+YBEqAiTLbKxF4WIwIOgDeqtSHGipXRiYCYOEhByZ8PGTxRjpCZgfHboQJGzJRo1GpBzAbWnGLgxgwi/7Ql20peJKpM4VIy84YXpWqZMxh0vMjUlK9KMy7lrXmxumPn////+5LErwAPEX1h55iy8csvq3WGCX/+2K1yxvZJv/amWpdrtlULmx+ZwnfNbM5VMkvpxJcWwDIb5PAdwhAGEuo6jKboxYlerFZEjQM1fwJd1lZU0wsmFFHiN2WGzjV9G3nUSHjUKld43Az4u40t5m/Ne+ZmVrdvIbkncq6rXFbbQo/gDlmCG9ywABGAAAJECk6ph2fZgkFBy+yxjqRwQdwQEAOAoEAS3zsgALwXUALAltoBCoAOkEBFAmwqXyJzQlThcAyEKiLoxBUzvPVT00dk1NNuYXtY7FWNOk5QzDE0IVEfX2qx9uPXx9uspUNjAd2Yk//rZDzhEN1W0lB1vSJQZiKaqkENolOkICFJwbTu01Ow5fvmpmJYbU+9E7HDYSVWYqyeZ2V8Njp9zXprPVWcfbbHNP22yk2uGuYdUgAlI2Al8LQyVkCp1bLCMRd5ZQ0KUsoSu9k7CicTgcL4HTYxbtp3VhAJZaPVa1v8r3aw23li2vRNLmzlCWk7qnbOV0pAZA3UT9pJd2Sz/1aJSxQb55rS526JagtkTi+nBLUWcozp//uSxP+AHJGHJg7t68LUr6W13C05La32Pjzr/o48z6xnz/NP3of/42fXrfz94xv/yHdf4hrbgVywQGISCAYca8RKDiaARLJgXAImO6GIHDcmBEAUYBwApgBAFqnAICqGIwDjAMkWyMMBkpzKg1eL0kAwY2cgVBMoGy7Jox2AgMAKJhcGMBcAlylV0Ay7igHXLSMnZ4jOXEW/SgkIplKlpI0tzX+iO3IpUahalNNGrouqzWKeaESni4qddKDqhVQTjOlduus0jyrTWWBlYDFN6EnzfuaJ5t55GkLWI0RUcrhtAvhvAygJ4MpBi3l9HMTI6DrZDhS7+M9LzuWIu1ZDU3hPzEbXli+pRTEur/JVWOa8qfbSQZe8rPRH+2GFLtSLiz485eoh8sXrhJq6E/s4pN5emFzNJiDAhz73jWPh5FvecUBE+xsgakv/e6oQI4iHYwEnsTldAWOFFGMCVS9EsH5WorxZyPS7YJcWOWWG3YYi8uh6V6hqLSl8qWXCb+Mf3MoUIVxlli5MExEhWNnptG1tivJBBfq7UjlQpk0RYRxv+v/7ksT5ABEVbUGMMM28SrYhxe29ePs5rdO4zqrlKeRcxGVIh6cvitZG2Q7Kp2hdJ2qnKpUbPcs3TjbzSCn3SdT8KZKT73K9omIRh/YSAAjqIAEq0bhJntb5nz8eaHmsKI09gUxL3GXiooKgIhTyMKDUly5sfXyGBitytySDIFgW6hcJdpjEwoAnACFDILAtWXpS1bchoXxlzou45L2QZOvBLJPGItDDc7ymUAsrf+dfB3KV24pT0FeXuxCJbuvSw209msM8eiZn7uE7F6fUmj8agiPQXJoLzpIzH7dL2XS+blExUsMOcvUP4y2xJs38tU2VrdyPQLXyw12xDtDbpcsYJi1bWOUdpqXnN7mIbzs2vl0antXq1XT6U+H53YzPxSXazytu5has5zsZoq1ur28+sutY/93cVyYMoBhrwIq//xoAIiNMlo0rJRGEtFtooDCoY/mZBQEAwqumUAQOQpSDgsygeDn1sxWFqCHAPRrggMCJqnWNFg0k9rjogEBBLSjShMDvz0UdYlMOLcx6DNAGXhrsuuWFyIADJgkcILB2b9n/+5LE8YARwYM57CR1o9IzYrK3kAGJ2Z8hhzmKOY4CVRAabCgOIV4ZQiSAUlOYkzvUQEanVYHRQ6pi6SwgGLMdEIjMwoDAIhM9LoqHI8qYp6IqKwR1ukBRCDnLvuQXLTDbdAKjMWmBQUpjDEqB86CLRuHonYrgQAFALEQSGEIlwp9YR1J50S1KPTN03VNnOUpi1fCthWx5jQaL4ISFeF43mcxg8lzXezsCjBwQgFLxAkBZy5kwmtPTAv/2/937u/z7rercYsYVJZykqWKe/yf3KozDLkw1AzowFRui7TWmVSl2f/8Lh8AO/8AmXxoJS1NJxqW1guBWOAQrGTazysevSIL3dCblUUZAxxr8iBYOhAWEQbGlBwF4ajhQeGwqZ58bqTdUaWQisuxbvZDtxacNUcmxx6Xl7THU1n6Tf//7GEzwfkyTIY6Mjab71fH7ZC765NsT6ZVNb4o51WQro5LZPa5dLmKyJXPC4Caya4gFSJrr7mJAgLaYDgPu1GO093DGUS2stIAGVOrXDbH3YhcAZJkARRkk9R7K2xQFUY4my+aK//uSxPaAJv2ZK7m8gBG2JGkrtHAC5ZaTsMEP3vv5lmxWnMnY+P6fTaW7+Pn/k+loXk4kE4wOGo68n1p1z13wcuWeiN9ol7IOJ+otN/1zByR/4HhE9RgQkkgcchmgPBkutNsUJjys0qVrbena0lgFQkwSMDAUUKwWd5XRkahGfeaZkXgfXjFBeMHgQCB1XYXAwFFINAoMMRnhLmUBObgCRgoTN3CDeYAkvFJMHAEEpgoRqV4jkg0QGFAwWECi/i3QoEUvY/SMRa7ROjNUMociBhCFl6pG0WtFSXviJ1EnX050XMxE/UykcKXWbVap5h03SY/43u9TsxHaRwQgQBaN4ME4UCUUiKsamyErKsY6Hstl3esrpKuQdeulf0/bEsTbmhSXLKF4hUbQrj6bsgpcg5J82lbrTOzVwxW2UfefcAVF99RMQU1FMy4xMDCqqqqqqqqqqqqqqqqqqqqqqqqqqqqqqqqqqqqqqqqqqqqqqqqqqqqqqqqqqqqqqqqqqqqqqqqqqqqqqqqqqqqqqqqqqqqqqqqqqqqqqqqqqqqqqqqqqv/7ksTqABP5n2GsJXa7VLRlSc0uIKqIqaBMqP7Nyv4ArNAAcUCBRYKiRqLvv0wVHxzGFvXncfCVoPvXaJRQHVDPxO13xeXVEFXvNHbw9B+21cWxJyOshJwA2zRFJHIArXyozTuE0KoMdCB6YFGhyt5/8EP21/DT/DRZpQoaSRGkkjUW2qzN7VrNMsk+Mo59o3K1v+23kGuzdAxImSYFGpGGLNJmoFPkafWZzrljsayw9hpEW7MpLTbS7VE7ggfmobY6waxBeOd6jhIzFX1ShVi4RppGCmEhQXp4K8rB6aELFZPigbSkWRip+r/CUo5X5NlNyQJade6+QgQ3AeX2/70wZhwQKggMJiWwqE1n9L/+Hx7YelIUXP7/fxGoyQxgVI2xYVjGBfJ5vWNzajXj1opMQU1FMy4xMDCqqqqqqqqqqqqqqqqqqqqqqqqqqqqqqqqqqqqqqqqqqqqqqqqqqqqqqqqqqqqqqqqqqqqqqqqqqqqqqqqqqqqqqqqqqqqqqqqqqqqqqqqqqqqqqqqqqqqqqqqqQDViAIjtjkuaDsaEsx//+5LExgATgZVdrDDROfYxrLT0jiZIJ3U4oCtwMyOVtH1LZp1RiaMdD8FeOjDSWv7SWsc6uvPZaq2hIewvC4i66N9w44UJjBBSFNdAS9Rh2Ucjt76IMOQPvD4sFIIOPRyxVVb+1fkGjJnLkUz/v36jHyWGCwo8jBx40OB9YdRCCQi9slZ7SLl+hDNm2lulQ4ZAQ+GK1hkwgaXGKpzYYSQhtxLQNeX8xqfKx0BVkotUOQBSwPY+pNXJnUN0Si3EoRuybwqRMQiuzZZ7gvP7SXl8OYDYoQRFTDMERMiXVVplPOP0ggm4r6SRIMqqiyhRh4FkgWLCND3y2VI3MUneFnRjC2qqT5ObO9V9yr+npen+V06/mJzhLnPTaUca1GxgcxVJGEiyaz1zy/6pr9fw76VVTEFNRTMuMTAwVVVVVVVVVVVVVVVVVVVVVVVVVVVVVVVVVVVVVVVVVVVVVVVVVVVVVVVVVVVVVVVVVVVVVVVVVVVVVVVVVVVVICeyAIakaajKBbA6hwCeuYdSfDCUI9JBA4kmUjgnlGpT0Lk2F6ULxTCz//uSxM2AD82FWawkr3qnM6t1liXujrfvPw1xWVhKVVL9WTTqrMRVu9S/s2+MmjKbCI6WcH0sXIJfpo0nJWou1n+0mnOEGVSKDK8ZTjPcl9KU0xDiB0qrI1xrbq6q+/vSnsj9KGU1UKOQFZVGoYVQeIt49Q9oQCXtYSlJI23aYs6QxGsg6I9sio002JTvDojw2GsQSM0PKZDBkONzVhhS5YAfscEgJQPlVc6d6hDI7WnLxWPn30UJNjTkmJwyXZNY//tZOlyYBxNEiBDPSjhOH9YdE3DqVzSprDqBy+VZo+pFIkDzEWi4ZouZQMususS0ouKtI0n95Ei07a/qS23WO8pR+Ynq1NS3nHMbbCsaXmf9aRPF5mLA9CSxhYOj4bikuFmpoEI5RM0gTVc2rlsnVUxBTQSpYiCY2kUnWC5GplkghSXaWbFB5LtIiNuyNwU0ozJFV3/fB5nkAouckEjBKliSi0m6EpKA4MHir9ddLLMrESq4lhJqdtDAjMmmFSloig5qkQYs9dXSZ5td1OqfKcXciFE8E1iBq1eC4RhRrPQbBv/7ksTbgBFVj1GnpLPy5rQpNYYmfkDycF+JiZU1zzJ3IGNhXdA/cCr9m4kbpgXFKrAAKMAARJJJszZ3PO9R4UM1GDY2QIXDIaYOpTIhoxYGFkUtOhwYaYiHonQ4Ih8BCZnq8ZOOmDgYWiHjAtMBqAKQEQiR6NqF6wrpp2voCinSDjXgasjy+6qrPVK3/fW3TLGZbIH6UwnmKs5fyHYjTy2bfSJw89rP7eU4/dmgkk+8zeyWVRAcUMgmxLHsYA40WCYZhwdL3h+OSWvHSB8djooD8QD8+EKBWkg5SDVqF1CPCqalpaaPF4ul9slYYoDh/J26VqGB7Aydl1DsZMGqg5LxWaYPT5BVKW0r6pUpNXFMkhUdnadc+dHJVZHtBLJQPD+V7pUcdo5/3+8vB5DJeUVMQU1FMy4xMDBVVVVVVVVVVVVVBAspAArRIJRqTwX7BzQw6I0ZkDDzSPy9JhgJkhhQZjBhg5iU6TjsywQBwIFcNVKCi98LAAeHjNIEP88tu3j8nxcToEyGsfphNRVFwQlUp+Y/kTgw28/SmaQEOAsJniv/+5LE/gARVYlDrCRxO/u0YvW8sjA/ohPCyr9nIKyNWDS51CmDVIShReImhARUcKtFh8uscXHR6SYwUwGBi4wmSKFUl8DLB0omgQsnViiaWsVyRVC2ypppN7AKba5IabOMqpQ1vMNpFi8LonjsCJJG55K47Jac7YvWFUO4pii0LT7aMSEniIA0eusbkQtBsTaQYMhcGHIgvygOB1XvVuQLY4ng/TCmQwAJBqYQEsRQ5HU7oZsFX/YEuo+BMJZy5dDUtqUp+qOiqvO2ny1CiaZfRCeTWWYjsf49Lql5tuB+qj3lzDHLqpa1L8WnVulZbIawurVjXTAzWi2Ks0c1lnq/C/M5a0uNTszBFlcxPlP+H16TooautRra9e5+xacte7k7M1X3/MeZ61rzMDryLzlCIDZkSYbTikTaSRKSJQNuGgqyGwqIcTHDHRvq6CDUwQPM8QgcZm8jpvDAkgY67GfBJj5WcE6G/GxiguRDxoJ0SCB5uOdm+hAWl6Kj5ZAkCRCCnfkJsJWiCCCpJtENqYs1AYKFgkLBZloOaadmMgICJy7A//uSxPYAGZGfIa09Muq0sWY+sMAEOF06hwNDgVF2YYeymHTYkAFIj0IaJ7sTgxhsagVGhuleEdkqNosBGABQOFIy1AvHLHufZ/mnNTp5dK43uMRioy8xoSMKFAUUGaja1oHm7mF2tqgy5u9QYVNX88QMYQJRykQgoYDmIhIGB1nwzXw3UkPyHsrsX6eR3Ls92vnhYibtwuLRGfyrz9BKP+vezlO6S/lvnPxsTe7tyUY2r9u5etfXvVbeUvjcvkNefpLPc6fX////LgmakAAJAAAIVkBJQDASFFMJQKIwcwvTFdAtMNQEw0wzkTBGAUIgHDDEA2MDgDQSEtCAIzAZAYMJkIIkAIBoNpcswSAPDeas120N9NDEg0CgZaIM4jEzgxgZBw6NDTejgCFRoMBzJiZHwoEp0vW8SwTYX5bUuzDxgYWZUPhQDWS5jIyYASueasm6LBS1b9tjE+3MvwwV3WYT7/OVRSOXT8y+rhRVZ6OZfFOMuUWyb6y7ryP1dsPVKYMuNhmbMIYqrS1tDZ2V5Os1xt10Juu++aajlMviM2WlZ//7ksT/gCVBmx+5vYAUnzGkpz2wAO0QuEmOsSDJHLWzxRpzU2Gt0f9ptE/12ZswzS0vKt+v+sq2tWpfaprW93qW5IpXFZ+AZyH4vS3Mda73HDVnnKXnP5+//X/q5ohA6Hv/+x//40imQPmlIyNSVQItmGAnIwMEiEJrUJhhlTcJqq9blOG+1CcodCckYcqTAhBCE1VDkIOKB+Qbl3NvJ83/8T3sv/okVa11/+1RMtHc35EXPGJmFxppg8aee/fdHDuLn4r//rnPd6h3v3v+///+K8YRUshA6kgSCZIU+e6vz7h+kACNORJKxlyZCgVVjDkRtFmsjqqbvpD7dn2ZI9K1n3lQbC73EycDOXvNgwhUfKEqkqcQk7rkFgVPvql9K0c7Ky9ezmkd2tKpMpyvMl0MQwzt2sb//3vhgIwU2T3/9NJ9xo5mxkbaagAEgo2wNSG4KAQxgqjIJ5P0xowvRTKgDFlSGAcu0IAAnKmSh8EC13V/JHRhnjDWhtajzfPtIMYnKoYlpWCYEaasDXlWPtcHY0hAEjoUoY/EpY230oPSOXP/+5LEnQAPcYlNXZQAEZcuKbWEieLkSpxJHqj1ioCIwfIMK5Ffz9nRMRTLvN4rbKqTUTzKIai0TdE2KmzopErsVcGiYxkajs7z1+o+M5TVrIprICekDaubVb//8/zrPbS0yUXJ1kbU2RGXMq1sZtxZzJFouPAACQAUgBIwLgSTClBiMOYIk0rA/DCcJ9DAKDXfIaSBZAMFGAUeDwqDQ5JWXjjE5ejFUApZb2tFJiaBRUvyTgC08GJJuZutqi2sGIpABkPyhGoJDFw1Nb9nUjGp4q8wRXikcF7vd71aE3Rm68zZmvpfTlPlRO3qRXoTjM5N+zmaDSVZ+zpJ6WwuyHHEXEfRLial00eB2sqbVsTeZf95t76o6lhUVLYrla4MzAX5PmrZ+33rnX1//vH9u27b5paJpshl9TE87Ur5Ud2GHmLctmS4w2vUL7sAgmSDYQk1bjDEfEEyMo+kw5pTSIfMJOVtCQDsZHgaVg9mA0Co0JYpTfL2vIJwycMKZmgK7DMEOZB/sibw13b+cQ2CKJVOcshqrUBVQXe0cic6mxaBmOy5//uSxPKAFvF9L64xNkNWL2Sp7byZiCCy5MSNafxqdygyhE6BopfQeGstF0AmTSMvQkRQKmgyJB1CuK8WTHSrFvnGeRzxiuRdNgT2J0B8pMRi4XRXn2GTn//7/hUFItqYmwTBQYgyIyIkQQKZpGizI1eRh/b0oMwAHsAGsBBGBYMGTxtGTo3n/JOGH8FmloEGKxwMDKAOBohs1FgQGQDQDJTRdFp0keTBkU6QQK7mdQIcZUgxTVQSiXWc5ZF2+GUhx3pCOcbi9l1iO4qpqB+AoAeV6pWrNIG4JTXICrZBGPfNSa6bicxJvsKzqyVVgUF0RSECMLMI4q4JjK6RiNVG/L75dNA2ZRpIXhoaXJBt5Bjctycf/9r5tf34qbBEgiFxSYXEgq1HC0CbyOGLW9bhKFEoIVUAAIuQAKQhpGBwMmmoWGD1LmuC+GURYnHIFGP6SrUL1jQ4g5QQMLpYivZhJcBgxdovWmInE88ErWWP3OV4OUttOqHpTKuxa3V6/j8rwd4DQLnodlWs84VxcI+1oP5JR19s+rHAgFyEovtjOGNKpf/7ksTygBc9lylOPS2K8zFk6del6PmOMaD5K6mofHKRdEoXWfTmJWREy6c3doggPMh/ou5paeMmp1ss0ydp+t2qWh7NR3IdCc4fFOO69o3bQ163Gl9P3JnIVh9q1YooJx8JF6rC4YGUZVME6ixzbnGmf/7u5LrGtc1AALnR8nZVBY0cIkwsYc/wFkzKro1NF8yNMoICovcBiOMAwEhsvSFUqkLwrIQCpCSF/qzeyxldiGbUZaTDJkCqvTvrdkW9fWkj/xiEyR7mfS2q7Mbk0pyHYjat0wjaahSWgmiyeVoaGp5a6p4gmaxMhPic2thW+ztGextxSbj0be0YPrR291m1W4Fihepr0pkUzOq4OaVj1tGmRNWmbUbT1EbF8Vzky5sz0OzaUj1B/TQ0PozssaPks9YtwVguu6fllH9rtfSfaNXKTEFNRTMuMTAwqqqqqqqqqqqqqqqqqqqqqmXnkK7GY85n1gum5Z1GQiSmxgvmHY0GI4RBwfmOSJ4XKRxFSBmiF6/woVEiWT7evq5c+8rsU7O7ipkgnamaz6k1YkWE9OD/+5LE/YAaVZUjruGJwyMz5GXcMXhgjVHEBJkSlJkaKgOjuXGzZMUFN3I2cO43WzVaiw5Jr6cliQO48jWkDVUePnAgKWFqNk+KhJLt9ElCC4GRimbL7hHPEAjxnRKHcsL4KR4+4/mzC4xMKN+KVzxVXFXq11/EKbm/5MG7+OUjz8KWYbexk3IJ7g2rvQ2yKkaXpnMj0+xAhPNAvGAAMu6yyRxEyTH6ylTuLSJ4RDxJSRBU10OKoF0pMyCpJGBRBuzKakps5yd90ygvnPAWwiOEYowu2dKkRksz22uYpzRMJGDBSOpuzGKMtzxhW54dxJgw849Yt5+xUgdJlOU+yyxNZqcKcncItwk3JqPREL+WRsq+cUdSy5rHMp3l72TzmUeUi1gqXFQ7bFimyRV+Uf6KTEFNRTMuMTAwqqqqqqqqqqqqqqqqqqqqqqqqAARcrrSjakiQZymxELlNiBslEzDTMwjBAcLLCwPJQEqYuTASu29YOjykyt5EJMVk68bPYGgLrlY3GYXcI3tARRuLi6ytsfISmpViXHhJHqBeEwlmTaJ2//uSxOmAGZWPFg7hiYJPsWY1pJ58BZpMieSr2Kk0oIR1DI2E2ebcWQCo2CzJ9SNro2opxSlU5RJEc2s5E5d9eQpRomO/o11op4nSpNhJqTU0ARatRGecmwqipU0k1U1mZtOTcqdYbyRCfekfSQz0lTVvyP4pi3QM6S8oBFm81ssiScMYCjgKMyuRAVwChFzhoUhkVBnFJAd7FLFVmtJhrCpknw/AKEcA0SRGXbqz/BxIQhiTAYLT3TNGX2bncaMto+L52VkE5Wapp0PHLye930VjHLXaLbBDNleV5c4euZt2FyhyVP/R6qy7GTlj8vltYd9hg6oantYnv7HqbDWCVrk3ajvRYsZ52NKt+DnYocgapV6P4oa1t61FjusPNwyufg1LVt9bTG7Rw07oNtk6ABAcCSlEIiSAJABAAAMtUPEyZg6DJWVHM/YW8yIyWzTOPyMEQDMKgJGCmAqYIgHRj/BMGEGAiYEQCoOAGMLgCgaCWMMwCkIFYLABph/rBtCwV4gQumsgFQNNkyMOJMpQM4LNWeAy5izEFgEugEMMuFGQY//7kMTyABeViyOuMTaKz7JltrbABcGWgWyIgIUCF/V3pkogEAYIGEwSeWaGAUwg6YBkJbovUps4jcJc0KLtQL/pDtuXUSELxO7InoeQCB4NXe865JfEHmfxIhAQhgCQKx40WZLARHqA3qaUmFB0ojT+TsxO0sM0Tuy1cjqZxR+H8UDWasK6zRUyVmMeR5vQ7bnYdlMows1JU/DiSBx5fFYHf+Wv2/7co1BMBLSZ1KV/QNQ2Pvy6Xbyh6S0tazLdTuMvdxyIAjbkSpkjDH8h+7S0eqDubkuk15TVsEvZS8DhP9g/uVPaz5rDv6x/f/////////9un33Dl7Lut/z+8////////k19M/MnQgCMzh0BQTGeAGGI69mXhtnEThGiQfGB4niwyGBQNBgCtKMEAJMCwzMBwpIgCXSHISMmBWqdGyxVSxtIVAK0rGRRtzI8XaiZTjDEPoH+YSqPBJs7q+JZ9Ymt86zi0Cnpr/4y1MHbGDWI90+r+/Z4E148Nj3Xev/9fO/85xWP9XkvA1aJSsCl/e89Fx0CMpY3smb/+//Eu//7ksT/gC0WDRO57QAKkyEkw7rwAegyOYoZcMn1yd3u73//VUQE0pG1KmkmugEsTtQrQfooRwgqHpxEu1orhgkmJoK+r1VloatuvrqduJeqG6s1/vV0uw2FzqN9yfiXqd0OQ8akP6nr8UhkbBcMihDRseOsjbf+xxioXHSg0IFFuRKONgdLogdPuQMhiuyJ49qwM0Tgexb+kAgEAAAhoY2PRhiXhyvNQCIw0OTETQPjlgzOQTCgoBx0dApWkoUzwAgfHhMHf4gJ0YsUoADgS5pHA8BRDqVoiAmFBAI1D0qjtzVmHfcFkiuwUKZeQ65BSIMlEo2L1n31qPeUko1Ub/6kljzyBYO9V4hD4Rx1gjLJuJCbkkruv/6/YiN5oHgEwExUkB/IMYj6RXvuGotqP7/2v49Wzqr/revW67r6mGVPnDqMFjaujRY/AKhIUE42vqVMQU1FMy4xMDBVVVVVVVVVVVVVVVVVVVVVVVVVVVVVVVVVVVVFE2ExMupEKRRDixFXzW2JL5bkEIelBG0FgMiT1PrAaBnjsiOekofWKYeEswj/+5LEvwAOkP9Xp6T2cuAupRnNLTjJi5a7k9mplr50e4d0bWP9Eb1s+tXcs+tN/qYPHo46430cRRoNqtv/2TMEcg4VEwlkTHcij0Wz//9rr7ubf2X0moUfKECimjUbFyBEycI5K59CThpdkWJaDiSccqZbkXAQQwsTDEYwIdIGV7AoeuX+fIWKXWrxPlZDxKHCpcCOSom5udF3Pw9AuTIcwyx9p9oV7PVNKjQpQc5cVAqVarVUSZDy2m03r8C0BuvDex1frP//+Zn7jNh+zXXZN3ytLyXVD26Hf6+te/Te/sLOmYWycuJCQcBOLxCaXgClXl/E8tlpCc29OT/OevpE40aHrrxPVpDRXeW72tPwTNqOT0BffSHHnpNQ1SLo0lFtb0OX8aejtSuuUz53X2LqBD8Zl1oJPIrIMwXbAQqolCmGSidhEWumCkuyhItHoZI2rQWvyBs0XllO6UBOQs9trCkpIwmo6yn+Mh4MgNHRTNB/PCeqLJLWGVGXT568CkkY9fp+ZmkZEfPk44J3lwKnpu8ofZtOz3zec97m6L7WriIz//uSxN0AEHGLU6ww7fMPtGl1l7I+o2uWRlVsTB7I5zdl4jnZwtfpAykRnr0K5RH5SMrgIbFQpNKrZp5r/Gvm5/ScLaQokLRYnwPt8eMz7RKu2w/rQfBbLnU1oYEAKYKFRwVGmrYObcMJp4SmC1yYjT5sk6n+g6PNIRCcOCYsAhgEpdAoFBYFjomMbBIyiPjAqlMQDAdIJgoBBUCCQkBxEHBWIxUYjBIYRBwFRRJhGyWOeytqrzsvWW7yrxYSgw1GRT9qVzickRzUcOeNjuTuWC9g51v5xhktDlY4aZTzpOH2tvVU8WJ4Frf/Fb3Z12kznH+daDJAN4E4EcCQA3DAC9LkCOPwFB0AoPIxOaYJhG01aFZIXNozpM0Qnz60jYVDJAXrFU22XS2vDKqMRhx69PHyEhONvGA8ONPjlxXlOe058/0+1GFOT2boz742ZkxBTUUzLjEwMKqqqqqqqqqqqqqqqqqqqqqqqqqqqqqqqqqqqqqqqqqqqqqqqqqqqqqqqqqqqqqqqgIACBABhYVMmUDNMsw8HNAADKHozxsM9djZEv/7ksT/gBcFmUVMMTe7yrQkCcenIUmFS2a9ELGCqrtidhFwaCRIVMQHV4AZeJoZiCAgeARABEggLCQOA2PSiHIBlepPQWKemaMndFhqEBMbmRWSe3ZU/Bde9y6a787MzMzfqt+oscnbJIHUn1WQdMzOT+7nN3MCpZAQBDJagiBKF5QAcAolEddEnZhes+x18z4trFr1v97ZC973u/Nb+t/1n7MQzTgQWkUgpRy0DZ4KZ3MlbNc76o4i+8a1CJKliJSdbBURgYI3FVod4nxuGu7OqIqzOM+IwkihTK5hnWF3CrFk87rdJ6eWdajyBKTHHlUVEI3ovVSv/WwQE5hIqQLvP///G/UNaKB4ko+DT1JykppbH/6a/4furDEKNz+Z3/+XWlqYxdXBMyVgcME/9FVMQU1FMy4xMDBVVVVVVVVVVVVVVVVVVVVVVVVVVVVVVVVVVVVVVVVVVVVVVVVVVVVVVVVVVVVVVVVVVVVVAB0ACAFMvj04OMDScAMzCwygJzHc6MRykysFjLIQDgynMLAptgSCwoCXVLXInorJ2mDAmKj/+5LE1AAYTZkq7bDZQcsfKrTzmucYSGQEJphIRGLQAYEBY8FywBQcAU9ADIOU0DKQo2ybkrI2i3g5kNGoPlQGUn1bGS0qdirMkm7y3xqsTVtf//+ki8rWtSo1sbEYhDJN5ppqaiUgObE1F4KwYAnFQuRbCNgd1KCWAWzpQ8SwasUw1DoPpuhL6dWYqzEeSa1h9aFvU240uI7ySWnOlJgEaS1wUIAON6kjFtzDDkZbLQJVPYUTBs/ZOy9bKp57WcypsvJdW2kXd7Ck3mwlGcUgSMsCgDBExYx4G8WbHMLKbqURqZ0XLJbJLR+N+J3ujfaYV7K+HkSWvlW7+j5vRBb/iDjxRRgHFiGGpqdLmDx3Wx0v6O5kczsVqoOa/f9Ppp/p7ffd+w/ONVhqLi7wjq49TEFNRTMuMTAwVVVVVVVVVVVVVVVVVVVVVVVVVVVVVVVVVUhLtsmm8kUo1ALlESxUDNErlgxZwAGprAA5iOnOU4tohQuJcyoUQTtmVFHWQY7jv27JSgIkxfDJEV58PyKgeRLyUQbHYEh5yOs31Lb///9Y//uSxOEAHK2jIy481cmpr6s09JXu2co8REBIQnQmPKIKv/aQ1SuIJkiIQvRnRGi0GB4BTeoJ367LTyXw21a34rP+/aPz9SuvB2p7Xd+9b+Nb8gdR1MkJuXk4Yw64m3DyHfNDnXu0OxsGUBIcukJTdcTlbiORI8BVYiHAh5qlg7Iz0nJA1IKcQPMMdPFYZqksY0wZ0nn3yldUwAcum5iMpmOllcHtVCi3r1rMIvyhRpfjKllYZY95U6nUa8xP/////jOIaJL8phim6QoNkAZFfBJCQCjYFATRHmQ1PKv7199QWNctC8onSOQtZeJTKFK66uDq6GuyYM7pvUHHpc1wUOJZkd/eTljEd0T7zhmaHY/zZYxHratci2SCHmavODvH0nkc1lqOQC6soy+zzUT0KkxBTUUzLjEwMKqqqqqqqqqqqgSZdYSW4kpI/wwktMmrHUOBWO+j7Da1Url9JFqPqkSWi4UD0fk3ZlUUrmzkTxifKfktHqChO3QE4cFBHE9E9eUcD8ZQn9+oP////bfYkZNRXNEJdK4aJlVlIpJ54XppNv/7ksTugBSlk0+sPSl7FDRn9Zeuenk7oIyFNX91pB9AISEZEW2f9tyvWZ/HsMco9fDG7yNzjvykDMkmofYz391xY/97qW7c5RTZ2VbCHSbE7+9IAR1VzTGW+0XMgaFegseHSvEQrmQooO6gHJBT5nAA4MYFFWgE+oBLCZdxgwpOw6xxk9JYoD4IGbxr6HGzKCMkyPQmxlHA3rz8IeYml68F868BIwDJhqHEFkxVUH9uBv+1svILicqJQpWizmIPhrXJdX700jWRKrRRlIpcKUbDTcalBHsdRcNBKPyeNTRaIxJqEJjrN3UNc3iVW+7F0KHKEYHrR1Ysko5oNJoenT9CHp2LB0XPH1EKxXK9JRSsXLS+pkqFtQ8mygfjuy6e6UzlowItqLj2M7atBRe49aoCAAGCgaZygZiwumGBo8IYZQM6TEAQT5Y8W8XQv6lepLdEtmUlXbapqJw2nwyhgSpJgi5i7ClIEUgOKPewBYyG7L0umgPfXAohGAAiVogFYRk8GRF8aSknJVZsawo7V7suvTk/lr909lw1fPXABakuah//+5LE9oATtYtBrDEvW3K0Zj2XsjwXDWU2JZqHd1HEk4YJ/qRi0NQhh7V3ZcKHmDp3u6s9ymcQJndlOCh8Mv3GaByScXkesK/2Cs3my1h49bueO+M4ROIKDiUdHpeqgI4Vq3z6vPUnegh602Q4p+j9F0WR2ot+N2OsXa9WjvVq7J3lUcTl//6CAlWyAMBsFnMIl2Fg4kEz7CnWyi0FCQwcbU2L7l634T4i7LYk7b+T8AwXYdpXTNVHH2axDqv7TFWxtdaZHoxablKYcWYlvAOt9k+NW0hJDdW3G2/riWi62zNPZqdXPBoADGR0wjENCI5MaEQmHZyygq3PTxqXW1hiofSGI8jigGEMKxYhnuaz5Oxl1f6SXXS4lZAJEkDMMOURSMXBHHfEfjzdXSi0k70tAw20UyVQ2hWaclD6Zh2sQAFWDAABwiYCGAzFaMwE2lgUVBBwZEOJas4U4UVY3uGHRU0SsTKpX/bo4UOKToG3BAAYuBKrJcALgsIvwFkCmWxmJ4Q4vJxPDfMEFAAJj1XTeyqF8rEwfqdanHEKHHh1UL9n//uSxP+AHIWTGK5hk8rqsmRxhhtZXT/5gVskzoNhViBELJ9OWooEQUJYhqIanA6SkHQyJeSVxiv30SEiEKnOdmgKxzLw/KdGICx/Acff0tTZbdfQ9GneNhgE2AV0PtTRgXGHZRIZF6TWtL+ePdrGoUsS3nGMpbkllDtXVwt3xOC402gaUF5lBJdG0BObSQAuhFushGHCD5d1Z5uCiEP4JiKUFpUATztIQ3eNJhpcgahVZCPR4RR3XDy8hm66E+VFrxCWGauAuHrZGPbAfU6YOrGzkvmB0fnTloKnKet6TtJn6dQk+maOhakOj49N24HjKA9yA5e5a3gwkZdHuDLSzwWc9nefXre6ODzWx10knp5x3ZLGxt/6FOhT/9tfuDbwcWQZvjY6ZpRMFMhkqp+XgudFLSNFZqd2RKYkN0aGZBgQCMZM8W0WxS3QSrPRHd5W1OFT+moOJDEuly5jo2HBK4KCUewJrtIa4+Wu1w19IsOyygv3tdjWLGi6nAcitu+5lP8d3xaBh3CVMSOylmkLNfun58vhS52nSdWlY/6nRrx5+P/7ksT2gBqxjRitvTWCoLJldYYaOcd8w0tHvOySXEjfu2UdZjf1tU1f7Zix7Njm2Xdqs383EXvpXLGvssS1XgEBAADrysxPHObYQAIGCIwc+mQhJi5gYWCIrhwEBgtYZXilSGwKEGal40rVA29SzZAHABIIJsAbgo5M8QkUqVSL3GMKrUcC7TDBwTW1bEkUQUO4VGHHS6WfBDIXebxgkyvhWLCFKaQJGNRKWteoIMlVyMOhDjzNozVrjP0MIcX+pUhKHgF7EUlNWhL5pGGMITqSXaZDLhu3AMejUDsBVw9z6R5YKigBm0bf+kW+3jPGywqjp2hnBXSG4ldJ1A8ItQPl0uP3GkcSMw0MIDEknLSVZ5UfM32eMjsdDKF1gwYJ/E91eeoFUEviXy81JlIF56OCs1JUaDuiUmsSYI1/tM1grl6wd+0nY1Fm1ZLO2kxBTUUzLjEwMAa7tW0UoSpKZCJKlpw96Mpi0NNfZBEjIghdBHRaDWHblKb7yyb25iCWEg9OJxKWuHJVJHvna0vHsKDqEeSNBzzKJfGqkllw8oeG1V3/+5LE/gATRZc37DDRLDI3IdW8MnkCasWw0m30+nq0jdTosLoFx486TffaXfWKYWUa2qUkY4UAUCfw3TY0Jo9j3Ot4LIEjO1kgcQHKRoJRkIbUXItZUmHzbZCIxOVmMEqRaBdZmDTzjwQkgWlZI9C4wlL9N04K2gs79I2pSnJTaQBoQXGvr0NwDUAF8UPQmAQSKgGI9S3UDobDBMoUAbM+LK1TtMYuAUcQjBiS0l0MdlqCrRMSZ4kQgAgTJXun69TJSWehE0yWIlyVpUT722etLtGFvrU5kbDyS2Ey1WaJYVVddjfW2lRSj61plOoZ4srFp0zzdgErYTSPWNtXSPWcgK0DQBRRgUVpACdZNKzpa+oxRaZfa5WxxBjByaVVaeHq6R6yiBTF4aZjWc+JWuRqTEFNRTMuMTAwqqqqARKpICOBOcAXmVLANhDKxIsD7kDqSKIAOYGS0mihqeLluGK1y/8chhda/3yaLA6mSXUFt8xKNDsPoSH4+H7RXEEShzE8mXqAcqh8oWkWISCUOJiYhGpEpIkEInhaVI1hzDGeNKNM//uSxOyAFbWXKaww0cris2U1hhp5JGfFIBoklwTgdJQfLCfQflxXOn0M5mrenUdm8aXQtvk2RCOkzrZOJp4hvK0a2kSRlYs0+YUQr1hbZvEXnmX9Yuujqs9a1e9ImY6UedxvS88sbsmcMmz83iLkKxxsttGqc7qW2U3ITzb62ifHqx/neKAJKyNCGkjZIKgOmNjD0v6gICjRA9WsMgXiUJf5RF8GbsoSpXaaRnvTlBnF8esifVy20KhkhSKFcqSWSR6rHp0KEUAjVCiIIbxyk02JWyUk0VJHOmEJQgWcZQMgaiAlhYIiDkh4Uqw0xydVhhktIEdYyKPss0qUSONbpvG9n8U07HZi0QRGk8S8pzOpaZOzLSv0UjAIRskaU5BMaZ5g8pS6fY3+zSCb4x27VkxBTUUzLjEwMKqqqqqqqqqqqqqqqqqqqqqqAIKUAM0AsFwR7qpu3JtSC/DMJgaSAoUvcTJR4MEBi+gKElwTHTkM4VNWiNMUTXOYTJzXHTlsFTjDm/kUWd+GoGdKDpmRT0ExB5keWbKCs3h18XGh2Iw0Lv/7ksT5gBrVpRmN4YXCqLNlfYeZ5TgZCh4GRUNiAaExGr3A2nyYTsJojhEqKwdLLAIKQZEwkMEk8xAnENEbDCFCIAsluWVNUKqcsJBWVRUbQKJpQPlA/h2DaRdlCSE5yZrCd2aqVqlI0qc6zcE1GufZe4+wjJTySpUVFkZRs4XiVJJnFzypg+UetGUl+vJbATb3NdAEMnhUNZYyiVE4CABVOlmPFDIJ+pOJ8ytCylZcwdYOG0y2ZMud1/roOsEhQEg1zxM2bWoQtl0Bg/g4CpMijRfLJGzw7bo7CnWksihSe+5XFpu3a1ETvYQ18bSehalBbIuqc3zaA7FJE2vW1veUc9ms7v0y/OGOrPzWNkzbnNnfDPDNun5d/zBppjHnqKn4efCbviBD5ksby0HFwbcBS3yKRokklGWDTx6RnEBuFmgrkdIBLvWJJV65qXiRipVM3sX0vOKL2k8DR6PKUEflQ8F8uDgPCcjtE5U6htsHBKlEVFSA0duuOImYq7jTbEtI6za65YiYdSiVA0yvOFuj6scI9Do6X1aeQzoPqnK9Ecn/+5LE8oAa0Z8XjWErynGyZb2Emj1SAwKTy/1kbJscvO0g6JaFm1YLpUlrlFS8CYOLSWiRbETCjevUDWKa16aeYdzdTI5aKjgJknR04s3cRRWxHDn2i9vC2lwADCQRAAFCRjEwGKoYYiO5oALg48jKwCdOAczywa6DAh0CBEADquqFQnaQmLlUBYG4tVjpLDgGghtMmJVHwmB0OANxaLxKEs3BIlLBmIEB2P4+Ho9G5AJFCisASJBsRCGXS6ZHpmYnyInpRQIojvkQmGAdPwxcMCs0PgMysQjl1GPfjYok5k5IRLDED4oMzsxTRK0ozW+2WDJXZCbbQoE6AiaSHZ8XSmeKkFYTB2o0P1pudjkT9OU6ZWjSrzxaXEio8W0PB+WUggHrIT9+NCgTolKZxX6VDcjXOOrqQw0evrwodFgWIhU054VVOnm11ehCABViSXUs2Mbmo4CLTULMA0OYO4WWHFM7JoJNSsOG0N92YspSFlriO+LTgiPRDChVWkuIjJB2WRoUbEas5hMyQzl1yEcLnFJSQLo2EZ5/KH1tjNH6HdRJ//uSxP+AFtmbI6ww0+vDs+GtzLCwdj1bPPPHpqVudpZCs96HDsKm3iq1TA6amA5Uuwmj7S9tutMtDmfkF8uzj9c+n2yPHWqKrXhnW81jaJm0S67n96x2NS5GZXVsnZCc9huCM5YVqYLxP28+yZJLXwEXVcBOLDDY70xuFEZAYYRCMJJj8t+BQYOEDAAOkAISEAak08UYX4WrRxNsDsTMLaWzVlMNQZDJHMjkSAZJxyLoTHClShOHYxRlDi0TV5UMF6U/dcB3VJwZi8wGo6Rro1oGDQ9L7Lb6cEyMgGzILowqeJpRUQqoGKFWNkhKPNckXRBYgSGVHpuMiKDJaeNjDay8h/LetCzmmXnBM5Po2XqYvpuLVu3uVn0bjkRhZAqTlgqQYUXLWsKVjcLbIsic8WnE0X3CSjLrHIHqYbCGNJp/qkxBTUUzLjEwMKqqqqqqqqqqqqqqqqqqqqqqqqqqqqqqqqqqqqoLKrt1tppJOAagEJmwqcICtAXZZWRNjgIWGTUmAUiX/LzQC2RbyKEEvXLn2iMYiAZMmydIPsrGxQ2HYv/7ksTyABZJjxuM4YOLRjPiIbYmoAaiSvECLCcq0TLG3lyxkQRgSH+ueNRJ3IFVWUkjRoVnMgJUDpFECEkpigdYVYateNFmWqwgF5T80ktQJHtSSILncSTqmS5uFFGm8pNZIwknR5ZkSktWnqckSUicdBamLol3PGjGIJHhUFB+RIrWRI6VaySGhcpO7aMEVlWGmHlmcSdEoDJgKJVZAMxwyBXO3AvguxSx3lgFR3JEvNfqQUkhwFlpJSFm6osF+FchIbU2SFIeSpA+2+84ot/Jcg4/LahG/bRqbeLtvWfDppNkaAsYMBlXJNKVsKOLKRmSi3p5qyS5ism2boPJzJV412WVFZtNU5cUSSyCUJJQikdKBbw6kT5qjUzjkyT2ck6bOXWlMfWrK1QHaUCCG55MQU1FMy4xMDABp6aEAI8MwwG88wo5I4eKGdGGJUGNEiygEEANCLAkeGqHpgBAcGCgcHfUu8yFOYKklRPSfHqbJyKdJIWjWZOxDuOs8C7k0RaNL8uU7Iwp5drhzeL8dwPsyWlAo5OrhJMasU6APkpMZcb/+5LE5AAWgZcdrKTTyocw5b2GGi3c9wiRjR0Kh5coTQExKTGiFQ6MI0jYsoJmWiULB8gB860S6yiy8meXg0Ze58yVrHoVsLFkaibD0kblEbBVZXsrLLsJoDTnmSFRdJG6ZhoVEKISnx1GIEZ0SD5QVmT54XJjqwpKNpFzCA+eol2RyaGRGGxqGMeZ66QSk0m45YkCmAtg3TkT6uZVCYy6NJWF1ncHULn5yzT5NmnjRxd9Vs3afUvL05uWVLolnZxmKRxHIagLJimwOMUrSsvTRF3gRYKCMCmAQHqYiDkq3YkBOBoQ5ABFgFoTiqTQ0KOuUXR2snApgV/h7nImso+IbOYSXHSpwxZpR7URx3gKqaOJVhsqO9QiZgpNoipmpLUifcotuYUc5vouSRzHf/sqTEFNRTMuMTAwqqqqqqqqqqqqqqqqqqqqqqqqqqqqqqqqqqqqqqqqqqqqqqqqqqqqBBaZRskkonXDkYl16W01DTUMxqfnrEtr2KlDUr4V4hP178zSbzv3LUokMOr/dFJyq/jztSaaVHR3Uk0TNGQksrD5//uSxPsAHBmjDy09MUKKNGG09hm885ywiB/Udjk6LKA6qPEIxbIA/kOYjURKPRssSWgfXVYcheQRuYsfISCEwwj/Um9ZHJCykTwi1SrcySFMAg9Hhh8lEbkKIhoLJoyY63FhdtBykVUB0xKLZQiGEKhGdlBNuaVy541JEkm1GyJBFyqapApb5tOiajQGuEfCri16VHaK1CoTjdtmu21s3WnQpJA/j6B4cS8kRunzO8urWBtZG69WxWTqFalc6dIb6EZjr56Ex+sQDzJMFTiNA28iSLiqtWA1yCqrDs2caqJHkno0wcRY3ceXysJCk1WAQJZy0qrXIlacy8JOx6N0bD5Va7UWj+SpigFvBUEvznhI3DUTsNVvJLnDY3CReWj6Nl/zr3CRcHjTt5xaMwSyC0xBTUUzLjEwMKqqqqqqqqqqqqqqqqqqqqqqqqqqqqqqqqqqqqqqqqqqqqqqqqqqqqqqqqqqqqqqqqqqqqqqqqqqqqqqqqqqqqqqqqqqqqqqqqqqqqqqqqqqqqqqqqqqqqqqqqqqqqqqqqqqqqqqqqqqqv/7ksTngBidpQNMMTiiYLNidMSbBaqqqqqqqqqqqqqqqqqqqqqqqqqqqqqqqqqqqqqqqqqqqqqqqqqqqqqqqqqqqqqqqqqqqqqqqqqqqqqqqqqqqqqqqqqqqqqqqqqqqqqqqqqqqqqqqqqqqqqqqqqqqqqqqqqqqqqqqqqqqqqqqqqqqqqqqqqqqqqqqqqqqqqqqqqqqqqqqqqqqqqqqqqqqqqqqqqqqqqqqqqqqqqqqqqqqqqqqqoEuNySRpttuBgYAORiT2UMDlBBwiDqyhgYJ3JqCBhBxIC1RyFAIaVHI1ZaEcjJlkpG3/cqA1I7P+qKi92WuNRJCRJh6F4kROKPhNSREGEgZialzUs15/lScVcbmzTu2/92d2///d/83KNKKuNzZOLLA1QYlDVYqrpMQU1FMy4xMDCqqqqqqqqqqqqqqqqqqqqqqqqqqqqqqqqqqqqqqqqqqqqqqqqqqqqqqqqqqqqqqqqqqqqqqqqqqqqqqqqqqqqqqqqqqqqqqqqqqqqqqqqqqqqqqqqqqqqqqqqqqqqqqqqqqqqqqqqqqqr/+5LEdQPO8XzroYjceAAANIAAAASqqqqqqqqqqqqqqqqqqqqqqqqqqqqqqqqqqqqqqqqqqqqqqqqqqqqqqqqqqqqqqqqqqqqqqqqqqqqqqqqqqqqqqqqqqqqqqqqqqqqqqqqqqqqqqqqqqqqqqqqqqqqqqqqqqqqqqqqqqqqqqqqqqqqqqqqqqqqqqqqqqqqqqqqqqqqqqqqqqqqqqqqqqqqqqqqqqqqqqqqqqqqqqqqqqqqqqqqqqqqqqqqqqqqqqqqqqqqqqqqqqqqqqqqqqqqqqqqqqqqqqqqqqqqqqqqqqqqqqqqqqqqqqqqqqqqqqqqqqqqqqqqqqqqqqqqqqqqqqqqqqqqqqqqqqqqqqqqqqqqqqqqqqqqqqqqqqqqqqqqqqqqqqqqqqqqqqqqqqqqqqqqqqqqqqqqqqqqqqqqqqqqqqqqqqqqqqqqqqqqqqqqqqqqqqqqqqqqqqqqqqqqqqqqqqqqqqqqqqqqqqqqqqqqqqqqqqqqqqqqqqqqqqqqqqqqqqqqqqqqqqqqqqqqqqqqqqqqqqqqqqqqqqqqq\" type=\"audio/x-wav\" />\n",
       "                    Your browser does not support the audio element.\n",
       "                </audio>\n",
       "              "
      ],
      "text/plain": [
       "<IPython.lib.display.Audio object>"
      ]
     },
     "metadata": {},
     "output_type": "display_data"
    }
   ],
   "source": [
    "play_audio(path, 16000)"
   ]
  },
  {
   "cell_type": "code",
   "execution_count": 88,
   "id": "a1946538-49f5-45ed-8cbf-793ef90cddf0",
   "metadata": {},
   "outputs": [
    {
     "data": {
      "text/plain": [
       "'/mntcephfs/lab_data/shoinoue/Dataset/L2-ARCTIC/ASI/wav/arctic_a0124.wav'"
      ]
     },
     "execution_count": 88,
     "metadata": {},
     "output_type": "execute_result"
    }
   ],
   "source": [
    "path"
   ]
  },
  {
   "cell_type": "code",
   "execution_count": 85,
   "id": "f9993233-ffe7-4025-a0f2-75ced738a04d",
   "metadata": {},
   "outputs": [
    {
     "data": {
      "text/plain": [
       "'arctic_a0124'"
      ]
     },
     "execution_count": 85,
     "metadata": {},
     "output_type": "execute_result"
    }
   ],
   "source": [
    "basename"
   ]
  },
  {
   "cell_type": "code",
   "execution_count": null,
   "id": "d39a1090-31f3-471f-a915-6b589afd7a6e",
   "metadata": {},
   "outputs": [],
   "source": [
    "play"
   ]
  },
  {
   "cell_type": "code",
   "execution_count": null,
   "id": "c3a72c59-1ec6-4c6e-ac7e-27c7e0a13c67",
   "metadata": {},
   "outputs": [],
   "source": []
  }
 ],
 "metadata": {
  "kernelspec": {
   "display_name": "Python 3 (ipykernel)",
   "language": "python",
   "name": "python3"
  },
  "language_info": {
   "codemirror_mode": {
    "name": "ipython",
    "version": 3
   },
   "file_extension": ".py",
   "mimetype": "text/x-python",
   "name": "python",
   "nbconvert_exporter": "python",
   "pygments_lexer": "ipython3",
   "version": "3.10.14"
  }
 },
 "nbformat": 4,
 "nbformat_minor": 5
}
