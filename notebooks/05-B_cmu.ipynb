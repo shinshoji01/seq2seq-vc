{
 "cells": [
  {
   "cell_type": "code",
   "execution_count": 1,
   "id": "24182e13-4f90-4085-b10d-80dd9894bb73",
   "metadata": {},
   "outputs": [
    {
     "name": "stderr",
     "output_type": "stream",
     "text": [
      "torchvision is not available - cannot save figures\n"
     ]
    }
   ],
   "source": [
    "import warnings\n",
    "warnings.filterwarnings(\"ignore\")\n",
    "import torch\n",
    "import sys\n",
    "import os\n",
    "import numpy as np\n",
    "from tqdm import tqdm\n",
    "import glob\n",
    "\n",
    "import torchaudio\n",
    "from speechbrain.pretrained.interfaces import foreign_class"
   ]
  },
  {
   "cell_type": "code",
   "execution_count": 2,
   "id": "f8e60fb7-6e58-4b58-a744-9b6f77a9c62d",
   "metadata": {},
   "outputs": [
    {
     "name": "stderr",
     "output_type": "stream",
     "text": [
      "speechbrain.lobes.models.huggingface_wav2vec - wav2vec 2.0 is frozen.\n"
     ]
    }
   ],
   "source": [
    "classifier = foreign_class(source=\"/mntcephfs/lab_data/shoinoue/Models/trained_models/accent/CustomEncoderWav2vec2Classifier-a72df039c801fa14a1c3226e95ab8c14/\", pymodule_file=\"custom_interface.py\", classname=\"CustomEncoderWav2vec2Classifier\", savedir=\"/mntcephfs/lab_data/shoinoue/Models/trained_models/accent/CustomEncoderWav2vec2Classifier-a72df039c801fa14a1c3226e95ab8c14/\", run_opts={\"device\":\"cuda\"})"
   ]
  },
  {
   "cell_type": "code",
   "execution_count": 5,
   "id": "ab24c718-8632-4e32-b2f4-0fda29633238",
   "metadata": {},
   "outputs": [],
   "source": [
    "data_dir = \"/mntcephfs/lab_data/shoinoue/\"\n",
    "dataset_dir = data_dir + \"Dataset/CMU-ARCTIC/\"\n",
    "fs = 16000\n",
    "speakers = [os.path.basename(a) for a in glob.glob(dataset_dir + \"*\")]\n",
    "speakers.sort()"
   ]
  },
  {
   "cell_type": "code",
   "execution_count": 8,
   "id": "2055bf7f-e235-4e20-af2c-f932a5ea9228",
   "metadata": {},
   "outputs": [
    {
     "name": "stdout",
     "output_type": "stream",
     "text": [
      "SLT\n"
     ]
    },
    {
     "name": "stderr",
     "output_type": "stream",
     "text": [
      "100%|██████████| 1132/1132 [00:45<00:00, 24.84it/s]\n"
     ]
    }
   ],
   "source": [
    "save = True\n",
    "\n",
    "for spk in speakers:\n",
    "    print(spk)\n",
    "    ae_dir = f\"{dataset_dir}{spk}/accent_embedding/\"\n",
    "    os.makedirs(ae_dir, exist_ok=True)\n",
    "    filenames = glob.glob(dataset_dir + spk + \"/wav/*\")\n",
    "    filenames.sort()\n",
    "    for path in tqdm(filenames):\n",
    "        signal, org_sr = torchaudio.load(path)\n",
    "        signal = torchaudio.functional.resample(signal, orig_freq=org_sr, new_freq=fs)\n",
    "        embeddings =  classifier.encode_batch(signal)[0].detach().cpu().numpy()\n",
    "        savepath = ae_dir + os.path.basename(path)[:-4] + \".npy\"\n",
    "        if save:\n",
    "            np.save(savepath, embeddings)"
   ]
  },
  {
   "cell_type": "code",
   "execution_count": null,
   "id": "2f9a8122-e13a-4d08-9b09-f8417d61dd18",
   "metadata": {},
   "outputs": [],
   "source": []
  }
 ],
 "metadata": {
  "kernelspec": {
   "display_name": "Python 3 (ipykernel)",
   "language": "python",
   "name": "python3"
  },
  "language_info": {
   "codemirror_mode": {
    "name": "ipython",
    "version": 3
   },
   "file_extension": ".py",
   "mimetype": "text/x-python",
   "name": "python",
   "nbconvert_exporter": "python",
   "pygments_lexer": "ipython3",
   "version": "3.10.14"
  }
 },
 "nbformat": 4,
 "nbformat_minor": 5
}
