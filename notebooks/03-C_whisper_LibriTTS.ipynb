{
 "cells": [
  {
   "cell_type": "code",
   "execution_count": 1,
   "id": "eeb79c0a-f442-40b7-bbca-6a690edf1fa3",
   "metadata": {},
   "outputs": [],
   "source": [
    "# !pip3 install tgt -i https://pypi.tuna.tsinghua.edu.cn/simple\n",
    "# !pip3 install librosa -i https://pypi.tuna.tsinghua.edu.cn/simple"
   ]
  },
  {
   "cell_type": "code",
   "execution_count": 4,
   "id": "ef0b73ba-70b5-47cd-8fee-1e02edffbce4",
   "metadata": {},
   "outputs": [],
   "source": [
    "import whisper\n",
    "\n",
    "class WhisperExtractor():\n",
    "    def __init__(self, fs=16000, device=\"cuda\"):\n",
    "        self.fs = fs\n",
    "        model = whisper.load_model(\"large\")\n",
    "        self.model = model.to(device)\n",
    "        self.device = device\n",
    "    \n",
    "    def get_feature(self, path):\n",
    "        # (#features, time)\n",
    "        gtaudio = whisper.load_audio(path)\n",
    "        audio = whisper.pad_or_trim(gtaudio)\n",
    "        mel = whisper.log_mel_spectrogram(audio, n_mels=128).to(self.model.device)\n",
    "        options = whisper.DecodingOptions()\n",
    "        result = whisper.decode(self.model, mel, options)\n",
    "        features = result.audio_features.detach().cpu().numpy()\n",
    "        return features[:, :int(len(gtaudio)/self.fs/30*features.shape[1])]"
   ]
  },
  {
   "cell_type": "code",
   "execution_count": 5,
   "id": "24182e13-4f90-4085-b10d-80dd9894bb73",
   "metadata": {},
   "outputs": [],
   "source": [
    "import warnings\n",
    "warnings.filterwarnings(\"ignore\")\n",
    "import torch\n",
    "import sys\n",
    "\n",
    "import tgt\n",
    "import os\n",
    "import numpy as np\n",
    "from tqdm import tqdm\n",
    "import glob"
   ]
  },
  {
   "cell_type": "code",
   "execution_count": 6,
   "id": "252570ef-9653-4f4c-ace2-b41603d3c118",
   "metadata": {},
   "outputs": [],
   "source": [
    "dataset_dir = \"/mntcephfs/lee_dataset/tts/LibriTTS_R/\"\n",
    "feat_base_dir = \"/mntcephfs/lab_data/shoinoue/Dataset/LibriTTS_R/features/\"\n",
    "\n",
    "extractor = WhisperExtractor()\n",
    "speakers = [os.path.basename(a) for a in glob.glob(dataset_dir + \"*/*\")]\n",
    "speakers.sort()"
   ]
  },
  {
   "cell_type": "code",
   "execution_count": 7,
   "id": "16af6b55-0580-4793-914f-0d9c3c5e8c72",
   "metadata": {},
   "outputs": [
    {
     "name": "stderr",
     "output_type": "stream",
     "text": [
      "100%|██████████| 1230/1230 [00:02<00:00, 567.97it/s]\n",
      "  0%|          | 7/160267 [00:08<55:01:25,  1.24s/it]\n",
      "Exception ignored in: <function Group.__del__ at 0x155479692710>\n",
      "Traceback (most recent call last):\n",
      "  File \"/mntcephfs/lab_data/shoinoue/miniconda3/envs/whisper/lib/python3.10/site-packages/regex/_regex_core.py\", line 3035, in __del__\n",
      "    def __del__(self):\n",
      "KeyboardInterrupt: \n",
      "\n",
      "KeyboardInterrupt\n",
      "\n"
     ]
    }
   ],
   "source": [
    "save = False\n",
    "\n",
    "files = []\n",
    "for spk in tqdm(speakers):\n",
    "    files += glob.glob(dataset_dir + f\"*/{spk}/*/*.wav\")\n",
    "files.sort()\n",
    "for path in tqdm(files):\n",
    "    embedding = extractor.get_feature(path)\n",
    "    savepath = feat_base_dir + \"/\".join(path.split(\"/\")[-4:])[:-4] + \"_whisper.npy\"\n",
    "    if save:\n",
    "        np.save(savepath, embedding)"
   ]
  },
  {
   "cell_type": "markdown",
   "id": "e2cd08a4-73b9-4775-a1ab-a0e4623fbe78",
   "metadata": {},
   "source": [
    "# Normalize"
   ]
  },
  {
   "cell_type": "code",
   "execution_count": null,
   "id": "0d78731b-6f00-4ce1-8c4a-84bdb4f1a657",
   "metadata": {},
   "outputs": [],
   "source": [
    "from sklearn.preprocessing import StandardScaler\n",
    "import numpy as np\n",
    "import joblib"
   ]
  },
  {
   "cell_type": "code",
   "execution_count": 26,
   "id": "1a2a5479-2d35-42e1-b992-2c1d8684bad1",
   "metadata": {},
   "outputs": [],
   "source": [
    "scaler_name = \"LibriTTS-R_whisper\""
   ]
  },
  {
   "cell_type": "code",
   "execution_count": 30,
   "id": "a73d1afb-5a45-4c87-a2e5-c43afa2b4751",
   "metadata": {},
   "outputs": [
    {
     "name": "stderr",
     "output_type": "stream",
     "text": [
      "100%|██████████| 1230/1230 [00:04<00:00, 282.54it/s]\n",
      "100%|██████████| 333/333 [00:01<00:00, 287.49it/s]\n"
     ]
    }
   ],
   "source": [
    "scaler = StandardScaler()\n",
    "files = []\n",
    "for spk in tqdm(speakers):\n",
    "    files += glob.glob(feat_base_dir + f\"train*/{spk}/*/*[0-9]_whisper.npy\")\n",
    "files.sort()\n",
    "for path in tqdm(files):\n",
    "    mel = np.load(path)\n",
    "    scaler.partial_fit(mel.T)\n",
    "            \n",
    "scaler_filename = f\"ckpts/scalers/{scaler_name}.save\"\n",
    "joblib.dump(scaler, scaler_filename) \n",
    "# a = joblib.load(scaler_filename)"
   ]
  },
  {
   "cell_type": "code",
   "execution_count": null,
   "id": "115cd03a-3792-4a4e-8dbc-6a184f44061f",
   "metadata": {},
   "outputs": [],
   "source": []
  }
 ],
 "metadata": {
  "kernelspec": {
   "display_name": "Python 3 (ipykernel)",
   "language": "python",
   "name": "python3"
  },
  "language_info": {
   "codemirror_mode": {
    "name": "ipython",
    "version": 3
   },
   "file_extension": ".py",
   "mimetype": "text/x-python",
   "name": "python",
   "nbconvert_exporter": "python",
   "pygments_lexer": "ipython3",
   "version": "3.10.14"
  }
 },
 "nbformat": 4,
 "nbformat_minor": 5
}
