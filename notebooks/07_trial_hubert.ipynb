{
 "cells": [
  {
   "cell_type": "code",
   "execution_count": 1,
   "id": "bfd75610-8d3d-4064-ac20-4832faa40ca6",
   "metadata": {},
   "outputs": [],
   "source": [
    "# !pip3 install soundfile -i https://pypi.tuna.tsinghua.edu.cn/simple\n",
    "# !pip3 install npy_append_array -i https://pypi.tuna.tsinghua.edu.cn/simple\n",
    "# !pip3 install sox -i https://pypi.tuna.tsinghua.edu.cn/simple"
   ]
  },
  {
   "cell_type": "code",
   "execution_count": 2,
   "id": "156a34a3-b3c2-475f-bdc7-5d859d259cbe",
   "metadata": {},
   "outputs": [
    {
     "name": "stderr",
     "output_type": "stream",
     "text": [
      "2024-07-12 16:06:26 | INFO | fairseq.tasks.text_to_speech | Please install tensorboardX: pip install tensorboardX\n"
     ]
    }
   ],
   "source": [
    "import warnings\n",
    "warnings.filterwarnings(\"ignore\")\n",
    "import logging\n",
    "import os\n",
    "import sys\n",
    "\n",
    "import fairseq\n",
    "import soundfile as sf\n",
    "import torch\n",
    "import torch.nn.functional as F\n",
    "\n",
    "import sys\n",
    "sys.path.append(\"./../../fairseq/examples/hubert/simple_kmeans/\")\n",
    "sys.path.append(\"./../../fairseq/examples/hubert/simple_kmeans/\")\n",
    "from feature_utils import get_path_iterator, dump_feature\n",
    "from fairseq.data.audio.audio_utils import get_features_or_waveform"
   ]
  },
  {
   "cell_type": "code",
   "execution_count": 3,
   "id": "69d3be0a-32c3-4dbf-9f66-6b7b932eef39",
   "metadata": {},
   "outputs": [],
   "source": [
    "ckpt_path = \"/mntcephfs/lab_data/shoinoue/Models/trained_models/hubert/hubert_base_ls960.pt\""
   ]
  },
  {
   "cell_type": "code",
   "execution_count": 4,
   "id": "37da8960-ce60-431d-a785-458c7d800efa",
   "metadata": {},
   "outputs": [
    {
     "name": "stderr",
     "output_type": "stream",
     "text": [
      "2024-07-12 16:06:33 | INFO | fairseq.tasks.hubert_pretraining | current directory is /home/shoinoue/Git/seq2seq-vc/notebooks\n",
      "2024-07-12 16:06:33 | INFO | fairseq.tasks.hubert_pretraining | HubertPretrainingTask Config {'_name': 'hubert_pretraining', 'data': '/checkpoint/wnhsu/data/librispeech/960h/iter/250K_50hz_km100_mp0_65_v2', 'fine_tuning': False, 'labels': ['layer6.km500'], 'label_dir': None, 'label_rate': 50.0, 'sample_rate': 16000, 'normalize': False, 'enable_padding': False, 'max_keep_size': None, 'max_sample_size': 250000, 'min_sample_size': 32000, 'single_target': False, 'random_crop': True, 'pad_audio': False}\n",
      "2024-07-12 16:06:33 | INFO | fairseq.models.hubert.hubert | HubertModel Config: {'_name': 'hubert', 'label_rate': 50.0, 'extractor_mode': default, 'encoder_layers': 12, 'encoder_embed_dim': 768, 'encoder_ffn_embed_dim': 3072, 'encoder_attention_heads': 12, 'activation_fn': gelu, 'layer_type': transformer, 'dropout': 0.1, 'attention_dropout': 0.1, 'activation_dropout': 0.0, 'encoder_layerdrop': 0.05, 'dropout_input': 0.1, 'dropout_features': 0.1, 'final_dim': 256, 'untie_final_proj': False, 'layer_norm_first': False, 'conv_feature_layers': '[(512,10,5)] + [(512,3,2)] * 4 + [(512,2,2)] * 2', 'conv_bias': False, 'logit_temp': 0.1, 'target_glu': False, 'feature_grad_mult': 0.1, 'mask_length': 10, 'mask_prob': 0.8, 'mask_selection': static, 'mask_other': 0.0, 'no_mask_overlap': False, 'mask_min_space': 1, 'mask_channel_length': 10, 'mask_channel_prob': 0.0, 'mask_channel_selection': static, 'mask_channel_other': 0.0, 'no_mask_channel_overlap': False, 'mask_channel_min_space': 1, 'conv_pos': 128, 'conv_pos_groups': 16, 'conv_pos_batch_norm': False, 'latent_temp': [2.0, 0.5, 0.999995], 'skip_masked': False, 'skip_nomask': False, 'checkpoint_activations': False, 'required_seq_len_multiple': 2, 'depthwise_conv_kernel_size': 31, 'attn_type': '', 'pos_enc_type': 'abs', 'fp16': True}\n"
     ]
    }
   ],
   "source": [
    "(\n",
    "    model,\n",
    "    cfg,\n",
    "    task,\n",
    ") = fairseq.checkpoint_utils.load_model_ensemble_and_task([ckpt_path])"
   ]
  },
  {
   "cell_type": "code",
   "execution_count": 5,
   "id": "9d5baee1-de52-4031-865d-73aa634cf349",
   "metadata": {},
   "outputs": [],
   "source": [
    "path = \"/mntcephfs/lab_data/shoinoue/Dataset/L2-ARCTIC/HKK/wav/arctic_a0001.wav\""
   ]
  },
  {
   "cell_type": "code",
   "execution_count": 6,
   "id": "966e3410-c11e-485a-a6f0-a4abbe4ad07d",
   "metadata": {},
   "outputs": [
    {
     "ename": "OSError",
     "evalue": "libsox.so: cannot open shared object file: No such file or directory",
     "output_type": "error",
     "traceback": [
      "\u001b[0;31m---------------------------------------------------------------------------\u001b[0m",
      "\u001b[0;31mOSError\u001b[0m                                   Traceback (most recent call last)",
      "Cell \u001b[0;32mIn[6], line 1\u001b[0m\n\u001b[0;32m----> 1\u001b[0m wav \u001b[38;5;241m=\u001b[39m \u001b[43mget_features_or_waveform\u001b[49m\u001b[43m(\u001b[49m\u001b[43mpath\u001b[49m\u001b[43m,\u001b[49m\u001b[43m \u001b[49m\u001b[43mneed_waveform\u001b[49m\u001b[38;5;241;43m=\u001b[39;49m\u001b[38;5;28;43;01mTrue\u001b[39;49;00m\u001b[43m,\u001b[49m\u001b[43m \u001b[49m\u001b[43muse_sample_rate\u001b[49m\u001b[38;5;241;43m=\u001b[39;49m\u001b[43mtask\u001b[49m\u001b[38;5;241;43m.\u001b[39;49m\u001b[43mcfg\u001b[49m\u001b[38;5;241;43m.\u001b[39;49m\u001b[43msample_rate\u001b[49m\u001b[43m)\u001b[49m\n\u001b[1;32m      2\u001b[0m \u001b[38;5;66;03m# if wav.ndim == 2:\u001b[39;00m\n\u001b[1;32m      3\u001b[0m \u001b[38;5;66;03m#     wav = wav.mean(-1)\u001b[39;00m\n\u001b[1;32m      4\u001b[0m \u001b[38;5;66;03m# assert wav.ndim == 1, wav.ndim\u001b[39;00m\n",
      "File \u001b[0;32m~/Git/fairseq/fairseq/data/audio/audio_utils.py:188\u001b[0m, in \u001b[0;36mget_features_or_waveform\u001b[0;34m(path, need_waveform, use_sample_rate, waveform_transforms)\u001b[0m\n\u001b[1;32m    186\u001b[0m \u001b[38;5;28;01mif\u001b[39;00m \u001b[38;5;28mlen\u001b[39m(slice_ptr) \u001b[38;5;241m==\u001b[39m \u001b[38;5;241m0\u001b[39m:\n\u001b[1;32m    187\u001b[0m     \u001b[38;5;28;01mif\u001b[39;00m need_waveform:\n\u001b[0;32m--> 188\u001b[0m         \u001b[38;5;28;01mreturn\u001b[39;00m \u001b[43mget_waveform\u001b[49m\u001b[43m(\u001b[49m\n\u001b[1;32m    189\u001b[0m \u001b[43m            \u001b[49m\u001b[43m_path\u001b[49m\u001b[43m,\u001b[49m\n\u001b[1;32m    190\u001b[0m \u001b[43m            \u001b[49m\u001b[43malways_2d\u001b[49m\u001b[38;5;241;43m=\u001b[39;49m\u001b[38;5;28;43;01mFalse\u001b[39;49;00m\u001b[43m,\u001b[49m\n\u001b[1;32m    191\u001b[0m \u001b[43m            \u001b[49m\u001b[43moutput_sample_rate\u001b[49m\u001b[38;5;241;43m=\u001b[39;49m\u001b[43muse_sample_rate\u001b[49m\u001b[43m,\u001b[49m\n\u001b[1;32m    192\u001b[0m \u001b[43m            \u001b[49m\u001b[43mwaveform_transforms\u001b[49m\u001b[38;5;241;43m=\u001b[39;49m\u001b[43mwaveform_transforms\u001b[49m\u001b[43m,\u001b[49m\n\u001b[1;32m    193\u001b[0m \u001b[43m        \u001b[49m\u001b[43m)\u001b[49m[\u001b[38;5;241m0\u001b[39m]\n\u001b[1;32m    194\u001b[0m     \u001b[38;5;28;01mreturn\u001b[39;00m get_features_from_npy_or_audio(\n\u001b[1;32m    195\u001b[0m         _path, waveform_transforms\u001b[38;5;241m=\u001b[39mwaveform_transforms\n\u001b[1;32m    196\u001b[0m     )\n\u001b[1;32m    197\u001b[0m \u001b[38;5;28;01melif\u001b[39;00m \u001b[38;5;28mlen\u001b[39m(slice_ptr) \u001b[38;5;241m==\u001b[39m \u001b[38;5;241m2\u001b[39m:\n",
      "File \u001b[0;32m~/Git/fairseq/fairseq/data/audio/audio_utils.py:109\u001b[0m, in \u001b[0;36mget_waveform\u001b[0;34m(path_or_fp, normalization, mono, frames, start, always_2d, output_sample_rate, normalize_volume, waveform_transforms)\u001b[0m\n\u001b[1;32m    105\u001b[0m waveform, sample_rate \u001b[38;5;241m=\u001b[39m sf\u001b[38;5;241m.\u001b[39mread(\n\u001b[1;32m    106\u001b[0m     path_or_fp, dtype\u001b[38;5;241m=\u001b[39m\u001b[38;5;124m\"\u001b[39m\u001b[38;5;124mfloat32\u001b[39m\u001b[38;5;124m\"\u001b[39m, always_2d\u001b[38;5;241m=\u001b[39m\u001b[38;5;28;01mTrue\u001b[39;00m, frames\u001b[38;5;241m=\u001b[39mframes, start\u001b[38;5;241m=\u001b[39mstart\n\u001b[1;32m    107\u001b[0m )\n\u001b[1;32m    108\u001b[0m waveform \u001b[38;5;241m=\u001b[39m waveform\u001b[38;5;241m.\u001b[39mT  \u001b[38;5;66;03m# T x C -> C x T\u001b[39;00m\n\u001b[0;32m--> 109\u001b[0m waveform, sample_rate \u001b[38;5;241m=\u001b[39m \u001b[43mconvert_waveform\u001b[49m\u001b[43m(\u001b[49m\n\u001b[1;32m    110\u001b[0m \u001b[43m    \u001b[49m\u001b[43mwaveform\u001b[49m\u001b[43m,\u001b[49m\n\u001b[1;32m    111\u001b[0m \u001b[43m    \u001b[49m\u001b[43msample_rate\u001b[49m\u001b[43m,\u001b[49m\n\u001b[1;32m    112\u001b[0m \u001b[43m    \u001b[49m\u001b[43mnormalize_volume\u001b[49m\u001b[38;5;241;43m=\u001b[39;49m\u001b[43mnormalize_volume\u001b[49m\u001b[43m,\u001b[49m\n\u001b[1;32m    113\u001b[0m \u001b[43m    \u001b[49m\u001b[43mto_mono\u001b[49m\u001b[38;5;241;43m=\u001b[39;49m\u001b[43mmono\u001b[49m\u001b[43m,\u001b[49m\n\u001b[1;32m    114\u001b[0m \u001b[43m    \u001b[49m\u001b[43mto_sample_rate\u001b[49m\u001b[38;5;241;43m=\u001b[39;49m\u001b[43moutput_sample_rate\u001b[49m\u001b[43m,\u001b[49m\n\u001b[1;32m    115\u001b[0m \u001b[43m\u001b[49m\u001b[43m)\u001b[49m\n\u001b[1;32m    117\u001b[0m \u001b[38;5;28;01mif\u001b[39;00m \u001b[38;5;129;01mnot\u001b[39;00m normalization:\n\u001b[1;32m    118\u001b[0m     waveform \u001b[38;5;241m*\u001b[39m\u001b[38;5;241m=\u001b[39m \u001b[38;5;241m2\u001b[39m\u001b[38;5;241m*\u001b[39m\u001b[38;5;241m*\u001b[39m\u001b[38;5;241m15\u001b[39m  \u001b[38;5;66;03m# denormalized to 16-bit signed integers\u001b[39;00m\n",
      "File \u001b[0;32m~/Git/fairseq/fairseq/data/audio/audio_utils.py:60\u001b[0m, in \u001b[0;36mconvert_waveform\u001b[0;34m(waveform, sample_rate, normalize_volume, to_mono, to_sample_rate)\u001b[0m\n\u001b[1;32m     58\u001b[0m is_np_input \u001b[38;5;241m=\u001b[39m \u001b[38;5;28misinstance\u001b[39m(waveform, np\u001b[38;5;241m.\u001b[39mndarray)\n\u001b[1;32m     59\u001b[0m _waveform \u001b[38;5;241m=\u001b[39m torch\u001b[38;5;241m.\u001b[39mfrom_numpy(waveform) \u001b[38;5;28;01mif\u001b[39;00m is_np_input \u001b[38;5;28;01melse\u001b[39;00m waveform\n\u001b[0;32m---> 60\u001b[0m converted, converted_sample_rate \u001b[38;5;241m=\u001b[39m \u001b[43mta_sox\u001b[49m\u001b[38;5;241;43m.\u001b[39;49m\u001b[43mapply_effects_tensor\u001b[49m\u001b[43m(\u001b[49m\n\u001b[1;32m     61\u001b[0m \u001b[43m    \u001b[49m\u001b[43m_waveform\u001b[49m\u001b[43m,\u001b[49m\u001b[43m \u001b[49m\u001b[43msample_rate\u001b[49m\u001b[43m,\u001b[49m\u001b[43m \u001b[49m\u001b[43meffects\u001b[49m\n\u001b[1;32m     62\u001b[0m \u001b[43m\u001b[49m\u001b[43m)\u001b[49m\n\u001b[1;32m     63\u001b[0m \u001b[38;5;28;01mif\u001b[39;00m is_np_input:\n\u001b[1;32m     64\u001b[0m     converted \u001b[38;5;241m=\u001b[39m converted\u001b[38;5;241m.\u001b[39mnumpy()\n",
      "File \u001b[0;32m/mntcephfs/lab_data/shoinoue/miniconda3/envs/fairseq/lib/python3.10/site-packages/torchaudio/sox_effects/sox_effects.py:156\u001b[0m, in \u001b[0;36mapply_effects_tensor\u001b[0;34m(tensor, sample_rate, effects, channels_first)\u001b[0m\n\u001b[1;32m     55\u001b[0m \u001b[38;5;28;01mdef\u001b[39;00m \u001b[38;5;21mapply_effects_tensor\u001b[39m(\n\u001b[1;32m     56\u001b[0m     tensor: torch\u001b[38;5;241m.\u001b[39mTensor,\n\u001b[1;32m     57\u001b[0m     sample_rate: \u001b[38;5;28mint\u001b[39m,\n\u001b[1;32m     58\u001b[0m     effects: List[List[\u001b[38;5;28mstr\u001b[39m]],\n\u001b[1;32m     59\u001b[0m     channels_first: \u001b[38;5;28mbool\u001b[39m \u001b[38;5;241m=\u001b[39m \u001b[38;5;28;01mTrue\u001b[39;00m,\n\u001b[1;32m     60\u001b[0m ) \u001b[38;5;241m-\u001b[39m\u001b[38;5;241m>\u001b[39m Tuple[torch\u001b[38;5;241m.\u001b[39mTensor, \u001b[38;5;28mint\u001b[39m]:\n\u001b[1;32m     61\u001b[0m \u001b[38;5;250m    \u001b[39m\u001b[38;5;124;03m\"\"\"Apply sox effects to given Tensor\u001b[39;00m\n\u001b[1;32m     62\u001b[0m \n\u001b[1;32m     63\u001b[0m \u001b[38;5;124;03m    .. devices:: CPU\u001b[39;00m\n\u001b[0;32m   (...)\u001b[0m\n\u001b[1;32m    154\u001b[0m \u001b[38;5;124;03m        >>> assert sample_rate == 8000\u001b[39;00m\n\u001b[1;32m    155\u001b[0m \u001b[38;5;124;03m    \"\"\"\u001b[39;00m\n\u001b[0;32m--> 156\u001b[0m     \u001b[38;5;28;01mreturn\u001b[39;00m \u001b[43msox_ext\u001b[49m\u001b[38;5;241;43m.\u001b[39;49m\u001b[43mapply_effects_tensor\u001b[49m(tensor, sample_rate, effects, channels_first)\n",
      "File \u001b[0;32m/mntcephfs/lab_data/shoinoue/miniconda3/envs/fairseq/lib/python3.10/site-packages/torchaudio/_extension/utils.py:121\u001b[0m, in \u001b[0;36m_LazyImporter.__getattr__\u001b[0;34m(self, item)\u001b[0m\n\u001b[1;32m    120\u001b[0m \u001b[38;5;28;01mdef\u001b[39;00m \u001b[38;5;21m__getattr__\u001b[39m(\u001b[38;5;28mself\u001b[39m, item):\n\u001b[0;32m--> 121\u001b[0m     \u001b[38;5;28;43mself\u001b[39;49m\u001b[38;5;241;43m.\u001b[39;49m\u001b[43m_import_once\u001b[49m\u001b[43m(\u001b[49m\u001b[43m)\u001b[49m\n\u001b[1;32m    122\u001b[0m     \u001b[38;5;28;01mreturn\u001b[39;00m \u001b[38;5;28mgetattr\u001b[39m(\u001b[38;5;28mself\u001b[39m\u001b[38;5;241m.\u001b[39mmodule, item)\n",
      "File \u001b[0;32m/mntcephfs/lab_data/shoinoue/miniconda3/envs/fairseq/lib/python3.10/site-packages/torchaudio/_extension/utils.py:135\u001b[0m, in \u001b[0;36m_LazyImporter._import_once\u001b[0;34m(self)\u001b[0m\n\u001b[1;32m    133\u001b[0m \u001b[38;5;28;01mdef\u001b[39;00m \u001b[38;5;21m_import_once\u001b[39m(\u001b[38;5;28mself\u001b[39m):\n\u001b[1;32m    134\u001b[0m     \u001b[38;5;28;01mif\u001b[39;00m \u001b[38;5;28mself\u001b[39m\u001b[38;5;241m.\u001b[39mmodule \u001b[38;5;129;01mis\u001b[39;00m \u001b[38;5;28;01mNone\u001b[39;00m:\n\u001b[0;32m--> 135\u001b[0m         \u001b[38;5;28mself\u001b[39m\u001b[38;5;241m.\u001b[39mmodule \u001b[38;5;241m=\u001b[39m \u001b[38;5;28;43mself\u001b[39;49m\u001b[38;5;241;43m.\u001b[39;49m\u001b[43mimport_func\u001b[49m\u001b[43m(\u001b[49m\u001b[43m)\u001b[49m\n\u001b[1;32m    136\u001b[0m         \u001b[38;5;66;03m# Note:\u001b[39;00m\n\u001b[1;32m    137\u001b[0m         \u001b[38;5;66;03m# By attaching the module attributes to self,\u001b[39;00m\n\u001b[1;32m    138\u001b[0m         \u001b[38;5;66;03m# module attributes are directly accessible.\u001b[39;00m\n\u001b[1;32m    139\u001b[0m         \u001b[38;5;66;03m# This allows to avoid calling __getattr__ for every attribute access.\u001b[39;00m\n\u001b[1;32m    140\u001b[0m         \u001b[38;5;28mself\u001b[39m\u001b[38;5;241m.\u001b[39m\u001b[38;5;18m__dict__\u001b[39m\u001b[38;5;241m.\u001b[39mupdate(\u001b[38;5;28mself\u001b[39m\u001b[38;5;241m.\u001b[39mmodule\u001b[38;5;241m.\u001b[39m\u001b[38;5;18m__dict__\u001b[39m)\n",
      "File \u001b[0;32m/mntcephfs/lab_data/shoinoue/miniconda3/envs/fairseq/lib/python3.10/site-packages/torchaudio/_extension/utils.py:85\u001b[0m, in \u001b[0;36m_init_sox\u001b[0;34m()\u001b[0m\n\u001b[1;32m     84\u001b[0m \u001b[38;5;28;01mdef\u001b[39;00m \u001b[38;5;21m_init_sox\u001b[39m():\n\u001b[0;32m---> 85\u001b[0m     ext \u001b[38;5;241m=\u001b[39m \u001b[43m_import_sox_ext\u001b[49m\u001b[43m(\u001b[49m\u001b[43m)\u001b[49m\n\u001b[1;32m     86\u001b[0m     ext\u001b[38;5;241m.\u001b[39mset_verbosity(\u001b[38;5;241m0\u001b[39m)\n\u001b[1;32m     88\u001b[0m     \u001b[38;5;28;01mimport\u001b[39;00m \u001b[38;5;21;01matexit\u001b[39;00m\n",
      "File \u001b[0;32m/mntcephfs/lab_data/shoinoue/miniconda3/envs/fairseq/lib/python3.10/site-packages/torchaudio/_extension/utils.py:80\u001b[0m, in \u001b[0;36m_import_sox_ext\u001b[0;34m()\u001b[0m\n\u001b[1;32m     72\u001b[0m \u001b[38;5;28;01mif\u001b[39;00m \u001b[38;5;129;01mnot\u001b[39;00m importlib\u001b[38;5;241m.\u001b[39mutil\u001b[38;5;241m.\u001b[39mfind_spec(ext):\n\u001b[1;32m     73\u001b[0m     \u001b[38;5;28;01mraise\u001b[39;00m \u001b[38;5;167;01mRuntimeError\u001b[39;00m(\n\u001b[1;32m     74\u001b[0m         \u001b[38;5;66;03m# fmt: off\u001b[39;00m\n\u001b[1;32m     75\u001b[0m         \u001b[38;5;124m\"\u001b[39m\u001b[38;5;124mTorchAudio is not built with sox extension. \u001b[39m\u001b[38;5;124m\"\u001b[39m\n\u001b[1;32m     76\u001b[0m         \u001b[38;5;124m\"\u001b[39m\u001b[38;5;124mPlease build TorchAudio with libsox support. (BUILD_SOX=1)\u001b[39m\u001b[38;5;124m\"\u001b[39m\n\u001b[1;32m     77\u001b[0m         \u001b[38;5;66;03m# fmt: on\u001b[39;00m\n\u001b[1;32m     78\u001b[0m     )\n\u001b[0;32m---> 80\u001b[0m \u001b[43m_load_lib\u001b[49m\u001b[43m(\u001b[49m\u001b[38;5;124;43m\"\u001b[39;49m\u001b[38;5;124;43mlibtorchaudio_sox\u001b[39;49m\u001b[38;5;124;43m\"\u001b[39;49m\u001b[43m)\u001b[49m\n\u001b[1;32m     81\u001b[0m \u001b[38;5;28;01mreturn\u001b[39;00m importlib\u001b[38;5;241m.\u001b[39mimport_module(ext)\n",
      "File \u001b[0;32m/mntcephfs/lab_data/shoinoue/miniconda3/envs/fairseq/lib/python3.10/site-packages/torchaudio/_extension/utils.py:60\u001b[0m, in \u001b[0;36m_load_lib\u001b[0;34m(lib)\u001b[0m\n\u001b[1;32m     58\u001b[0m \u001b[38;5;28;01mif\u001b[39;00m \u001b[38;5;129;01mnot\u001b[39;00m path\u001b[38;5;241m.\u001b[39mexists():\n\u001b[1;32m     59\u001b[0m     \u001b[38;5;28;01mreturn\u001b[39;00m \u001b[38;5;28;01mFalse\u001b[39;00m\n\u001b[0;32m---> 60\u001b[0m \u001b[43mtorch\u001b[49m\u001b[38;5;241;43m.\u001b[39;49m\u001b[43mops\u001b[49m\u001b[38;5;241;43m.\u001b[39;49m\u001b[43mload_library\u001b[49m\u001b[43m(\u001b[49m\u001b[43mpath\u001b[49m\u001b[43m)\u001b[49m\n\u001b[1;32m     61\u001b[0m \u001b[38;5;28;01mreturn\u001b[39;00m \u001b[38;5;28;01mTrue\u001b[39;00m\n",
      "File \u001b[0;32m/mntcephfs/lab_data/shoinoue/miniconda3/envs/fairseq/lib/python3.10/site-packages/torch/_ops.py:1032\u001b[0m, in \u001b[0;36m_Ops.load_library\u001b[0;34m(self, path)\u001b[0m\n\u001b[1;32m   1027\u001b[0m path \u001b[38;5;241m=\u001b[39m _utils_internal\u001b[38;5;241m.\u001b[39mresolve_library_path(path)\n\u001b[1;32m   1028\u001b[0m \u001b[38;5;28;01mwith\u001b[39;00m dl_open_guard():\n\u001b[1;32m   1029\u001b[0m     \u001b[38;5;66;03m# Import the shared library into the process, thus running its\u001b[39;00m\n\u001b[1;32m   1030\u001b[0m     \u001b[38;5;66;03m# static (global) initialization code in order to register custom\u001b[39;00m\n\u001b[1;32m   1031\u001b[0m     \u001b[38;5;66;03m# operators with the JIT.\u001b[39;00m\n\u001b[0;32m-> 1032\u001b[0m     \u001b[43mctypes\u001b[49m\u001b[38;5;241;43m.\u001b[39;49m\u001b[43mCDLL\u001b[49m\u001b[43m(\u001b[49m\u001b[43mpath\u001b[49m\u001b[43m)\u001b[49m\n\u001b[1;32m   1033\u001b[0m \u001b[38;5;28mself\u001b[39m\u001b[38;5;241m.\u001b[39mloaded_libraries\u001b[38;5;241m.\u001b[39madd(path)\n",
      "File \u001b[0;32m/mntcephfs/lab_data/shoinoue/miniconda3/envs/fairseq/lib/python3.10/ctypes/__init__.py:374\u001b[0m, in \u001b[0;36mCDLL.__init__\u001b[0;34m(self, name, mode, handle, use_errno, use_last_error, winmode)\u001b[0m\n\u001b[1;32m    371\u001b[0m \u001b[38;5;28mself\u001b[39m\u001b[38;5;241m.\u001b[39m_FuncPtr \u001b[38;5;241m=\u001b[39m _FuncPtr\n\u001b[1;32m    373\u001b[0m \u001b[38;5;28;01mif\u001b[39;00m handle \u001b[38;5;129;01mis\u001b[39;00m \u001b[38;5;28;01mNone\u001b[39;00m:\n\u001b[0;32m--> 374\u001b[0m     \u001b[38;5;28mself\u001b[39m\u001b[38;5;241m.\u001b[39m_handle \u001b[38;5;241m=\u001b[39m \u001b[43m_dlopen\u001b[49m\u001b[43m(\u001b[49m\u001b[38;5;28;43mself\u001b[39;49m\u001b[38;5;241;43m.\u001b[39;49m\u001b[43m_name\u001b[49m\u001b[43m,\u001b[49m\u001b[43m \u001b[49m\u001b[43mmode\u001b[49m\u001b[43m)\u001b[49m\n\u001b[1;32m    375\u001b[0m \u001b[38;5;28;01melse\u001b[39;00m:\n\u001b[1;32m    376\u001b[0m     \u001b[38;5;28mself\u001b[39m\u001b[38;5;241m.\u001b[39m_handle \u001b[38;5;241m=\u001b[39m handle\n",
      "\u001b[0;31mOSError\u001b[0m: libsox.so: cannot open shared object file: No such file or directory"
     ]
    }
   ],
   "source": [
    "wav = get_features_or_waveform(path, need_waveform=True, use_sample_rate=task.cfg.sample_rate)\n",
    "# if wav.ndim == 2:\n",
    "#     wav = wav.mean(-1)\n",
    "# assert wav.ndim == 1, wav.ndim"
   ]
  },
  {
   "cell_type": "code",
   "execution_count": null,
   "id": "c9684946-ecf8-4c97-bf56-4ea154ec7396",
   "metadata": {},
   "outputs": [],
   "source": []
  },
  {
   "cell_type": "code",
   "execution_count": null,
   "id": "9a4cfa97-269a-4788-8db8-5de7dcc385e4",
   "metadata": {},
   "outputs": [],
   "source": []
  },
  {
   "cell_type": "code",
   "execution_count": null,
   "id": "dd5e560d-ff40-4f4a-ba83-f791dacb40f8",
   "metadata": {},
   "outputs": [],
   "source": []
  }
 ],
 "metadata": {
  "kernelspec": {
   "display_name": "Python 3 (ipykernel)",
   "language": "python",
   "name": "python3"
  },
  "language_info": {
   "codemirror_mode": {
    "name": "ipython",
    "version": 3
   },
   "file_extension": ".py",
   "mimetype": "text/x-python",
   "name": "python",
   "nbconvert_exporter": "python",
   "pygments_lexer": "ipython3",
   "version": "3.8.19"
  }
 },
 "nbformat": 4,
 "nbformat_minor": 5
}
