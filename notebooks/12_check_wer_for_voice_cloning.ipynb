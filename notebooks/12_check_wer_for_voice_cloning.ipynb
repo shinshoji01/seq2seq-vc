{
 "cells": [
  {
   "cell_type": "code",
   "execution_count": 6,
   "id": "ccd9f9c4-cc61-4ce9-bb55-230d41c90af2",
   "metadata": {},
   "outputs": [],
   "source": [
    "# !pip3 install -U openai-whisper -i https://mirrors.aliyun.com/pypi/simple/\n",
    "# !pip3 install jiwer -i https://mirrors.aliyun.com/pypi/simple/\n",
    "# !pip3 install noisereduce -i https://mirrors.aliyun.com/pypi/simple/ "
   ]
  },
  {
   "cell_type": "code",
   "execution_count": 65,
   "id": "97faa7e1-5b11-44fc-ba79-692e832df006",
   "metadata": {},
   "outputs": [],
   "source": [
    "import warnings\n",
    "warnings.filterwarnings(\"ignore\")\n",
    "\n",
    "from pathlib import Path\n",
    "from tqdm import tqdm\n",
    "import torch\n",
    "import librosa\n",
    "import numpy as np\n",
    "import glob\n",
    "import os\n",
    "\n",
    "import sys\n",
    "sys.path.append(\"/home/shoinoue/Git/cuhksz-phd/sho_util/pyfiles/\")\n",
    "from sound import play_audio\n",
    "\n",
    "import whisper\n",
    "from whisper.normalizers.english import EnglishTextNormalizer\n",
    "normalizer = EnglishTextNormalizer()\n",
    "import jiwer\n",
    "import pandas as pd\n",
    "import scipy.stats as st\n",
    "import math\n",
    "from IPython.display import clear_output\n",
    "\n",
    "sr = 16000"
   ]
  },
  {
   "cell_type": "markdown",
   "id": "6ffd5967-b219-4a83-9304-a4fd82ee5003",
   "metadata": {},
   "source": [
    "## Whisper"
   ]
  },
  {
   "cell_type": "code",
   "execution_count": 66,
   "id": "8aa4f54c-988d-4f36-9476-bbecfabb064a",
   "metadata": {},
   "outputs": [],
   "source": [
    "models = {\n",
    "    \"tiny\": whisper.load_model(\"tiny.en\"),\n",
    "    \"base\": whisper.load_model(\"base.en\"),\n",
    "    \"small\": whisper.load_model(\"small.en\"),\n",
    "    \"medium\": whisper.load_model(\"medium.en\"),\n",
    "    \"large\": whisper.load_model(\"large\"),\n",
    "}"
   ]
  },
  {
   "cell_type": "markdown",
   "id": "05a90fe8-92a1-4365-a105-5281f6c3566a",
   "metadata": {},
   "source": [
    "- ACed samples"
   ]
  },
  {
   "cell_type": "code",
   "execution_count": 67,
   "id": "a1d9d35c-6bc4-4686-a153-8a201d823623",
   "metadata": {},
   "outputs": [],
   "source": [
    "files = glob.glob(\"./SPAT/transliteration/*.npy\")\n",
    "files.sort()\n",
    "groundtruth_dir = {}\n",
    "for file in files:\n",
    "    key = os.path.basename(file)[:-4]\n",
    "    text = np.load(file, allow_pickle=True).item()[\"Original English\"]\n",
    "    groundtruth_dir[key] = normalizer(text)"
   ]
  },
  {
   "cell_type": "code",
   "execution_count": 68,
   "id": "6a7c1f20-ac73-4fd9-9a02-c1b9702851ea",
   "metadata": {},
   "outputs": [],
   "source": [
    "labels = {}\n",
    "labels[\"VTN_fine-tuning_nocondition_gt2syn_melmel_hubert_norepeating_small\"] = \"only-gt_small\"\n",
    "labels[\"VTN_fine-tuning_nocondition_gt2syn_melmel_hubert_norepeating\"] = \"only-gt_large\"\n",
    "labels[\"VTN_fine-tuning_nocondition_syn2syn_melmel_hubert_norepeating_small\"] = \"only-syn_small\"\n",
    "labels[\"VTN_fine-tuning_nocondition_syn2syn_melmel_hubert_norepeating\"] = \"only-syn_large\"\n",
    "labels[\"VTN_fine-tuning_nocondition_mix2syn_melmel_hubert_norepeating_small\"] = \"syn-gt_small\"\n",
    "labels[\"VTN_fine-tuning_nocondition_mix2syn_melmel_hubert_norepeating\"] = \"syn-gt_large\"\n",
    "base_dir = \"/mntcephfs/lab_data/shoinoue/Models/trained_models/AC_01/ckpts_16000/\""
   ]
  },
  {
   "cell_type": "code",
   "execution_count": 5,
   "id": "ed217a45-64eb-4585-bce9-ba43aa7dc4bf",
   "metadata": {},
   "outputs": [
    {
     "name": "stdout",
     "output_type": "stream",
     "text": [
      "tiny VTN_fine-tuning_nocondition_gt2syn_melmel_hubert_norepeating_small\n"
     ]
    },
    {
     "name": "stderr",
     "output_type": "stream",
     "text": [
      "100%|██████████| 105/105 [00:27<00:00,  3.75it/s]\n"
     ]
    },
    {
     "name": "stdout",
     "output_type": "stream",
     "text": [
      "tiny VTN_fine-tuning_nocondition_gt2syn_melmel_hubert_norepeating\n"
     ]
    },
    {
     "name": "stderr",
     "output_type": "stream",
     "text": [
      "100%|██████████| 105/105 [00:20<00:00,  5.20it/s]\n"
     ]
    },
    {
     "name": "stdout",
     "output_type": "stream",
     "text": [
      "tiny VTN_fine-tuning_nocondition_syn2syn_melmel_hubert_norepeating_small\n"
     ]
    },
    {
     "name": "stderr",
     "output_type": "stream",
     "text": [
      "100%|██████████| 105/105 [00:22<00:00,  4.63it/s]\n"
     ]
    },
    {
     "name": "stdout",
     "output_type": "stream",
     "text": [
      "tiny VTN_fine-tuning_nocondition_syn2syn_melmel_hubert_norepeating\n"
     ]
    },
    {
     "name": "stderr",
     "output_type": "stream",
     "text": [
      "100%|██████████| 105/105 [00:22<00:00,  4.71it/s]\n"
     ]
    },
    {
     "name": "stdout",
     "output_type": "stream",
     "text": [
      "tiny VTN_fine-tuning_nocondition_mix2syn_melmel_hubert_norepeating_small\n"
     ]
    },
    {
     "name": "stderr",
     "output_type": "stream",
     "text": [
      "100%|██████████| 100/100 [00:20<00:00,  4.98it/s]\n"
     ]
    },
    {
     "name": "stdout",
     "output_type": "stream",
     "text": [
      "tiny VTN_fine-tuning_nocondition_mix2syn_melmel_hubert_norepeating\n"
     ]
    },
    {
     "name": "stderr",
     "output_type": "stream",
     "text": [
      "100%|██████████| 100/100 [00:19<00:00,  5.11it/s]\n"
     ]
    },
    {
     "name": "stdout",
     "output_type": "stream",
     "text": [
      "base VTN_fine-tuning_nocondition_gt2syn_melmel_hubert_norepeating_small\n"
     ]
    },
    {
     "name": "stderr",
     "output_type": "stream",
     "text": [
      "100%|██████████| 105/105 [00:22<00:00,  4.58it/s]\n"
     ]
    },
    {
     "name": "stdout",
     "output_type": "stream",
     "text": [
      "base VTN_fine-tuning_nocondition_gt2syn_melmel_hubert_norepeating\n"
     ]
    },
    {
     "name": "stderr",
     "output_type": "stream",
     "text": [
      "100%|██████████| 105/105 [00:23<00:00,  4.47it/s]\n"
     ]
    },
    {
     "name": "stdout",
     "output_type": "stream",
     "text": [
      "base VTN_fine-tuning_nocondition_syn2syn_melmel_hubert_norepeating_small\n"
     ]
    },
    {
     "name": "stderr",
     "output_type": "stream",
     "text": [
      "100%|██████████| 105/105 [00:23<00:00,  4.51it/s]\n"
     ]
    },
    {
     "name": "stdout",
     "output_type": "stream",
     "text": [
      "base VTN_fine-tuning_nocondition_syn2syn_melmel_hubert_norepeating\n"
     ]
    },
    {
     "name": "stderr",
     "output_type": "stream",
     "text": [
      "100%|██████████| 105/105 [00:25<00:00,  4.18it/s]\n"
     ]
    },
    {
     "name": "stdout",
     "output_type": "stream",
     "text": [
      "base VTN_fine-tuning_nocondition_mix2syn_melmel_hubert_norepeating_small\n"
     ]
    },
    {
     "name": "stderr",
     "output_type": "stream",
     "text": [
      "100%|██████████| 100/100 [00:23<00:00,  4.24it/s]\n"
     ]
    },
    {
     "name": "stdout",
     "output_type": "stream",
     "text": [
      "base VTN_fine-tuning_nocondition_mix2syn_melmel_hubert_norepeating\n"
     ]
    },
    {
     "name": "stderr",
     "output_type": "stream",
     "text": [
      "100%|██████████| 100/100 [00:22<00:00,  4.47it/s]\n"
     ]
    },
    {
     "name": "stdout",
     "output_type": "stream",
     "text": [
      "small VTN_fine-tuning_nocondition_gt2syn_melmel_hubert_norepeating_small\n"
     ]
    },
    {
     "name": "stderr",
     "output_type": "stream",
     "text": [
      "100%|██████████| 105/105 [00:31<00:00,  3.38it/s]\n"
     ]
    },
    {
     "name": "stdout",
     "output_type": "stream",
     "text": [
      "small VTN_fine-tuning_nocondition_gt2syn_melmel_hubert_norepeating\n"
     ]
    },
    {
     "name": "stderr",
     "output_type": "stream",
     "text": [
      "100%|██████████| 105/105 [00:32<00:00,  3.21it/s]\n"
     ]
    },
    {
     "name": "stdout",
     "output_type": "stream",
     "text": [
      "small VTN_fine-tuning_nocondition_syn2syn_melmel_hubert_norepeating_small\n"
     ]
    },
    {
     "name": "stderr",
     "output_type": "stream",
     "text": [
      "100%|██████████| 105/105 [00:34<00:00,  3.03it/s]\n"
     ]
    },
    {
     "name": "stdout",
     "output_type": "stream",
     "text": [
      "small VTN_fine-tuning_nocondition_syn2syn_melmel_hubert_norepeating\n"
     ]
    },
    {
     "name": "stderr",
     "output_type": "stream",
     "text": [
      "100%|██████████| 105/105 [00:32<00:00,  3.26it/s]\n"
     ]
    },
    {
     "name": "stdout",
     "output_type": "stream",
     "text": [
      "small VTN_fine-tuning_nocondition_mix2syn_melmel_hubert_norepeating_small\n"
     ]
    },
    {
     "name": "stderr",
     "output_type": "stream",
     "text": [
      "100%|██████████| 100/100 [00:36<00:00,  2.71it/s]\n"
     ]
    },
    {
     "name": "stdout",
     "output_type": "stream",
     "text": [
      "small VTN_fine-tuning_nocondition_mix2syn_melmel_hubert_norepeating\n"
     ]
    },
    {
     "name": "stderr",
     "output_type": "stream",
     "text": [
      "100%|██████████| 100/100 [00:31<00:00,  3.20it/s]\n"
     ]
    },
    {
     "name": "stdout",
     "output_type": "stream",
     "text": [
      "medium VTN_fine-tuning_nocondition_gt2syn_melmel_hubert_norepeating_small\n"
     ]
    },
    {
     "name": "stderr",
     "output_type": "stream",
     "text": [
      "100%|██████████| 105/105 [00:50<00:00,  2.06it/s]\n"
     ]
    },
    {
     "name": "stdout",
     "output_type": "stream",
     "text": [
      "medium VTN_fine-tuning_nocondition_gt2syn_melmel_hubert_norepeating\n"
     ]
    },
    {
     "name": "stderr",
     "output_type": "stream",
     "text": [
      "100%|██████████| 105/105 [00:51<00:00,  2.05it/s]\n"
     ]
    },
    {
     "name": "stdout",
     "output_type": "stream",
     "text": [
      "medium VTN_fine-tuning_nocondition_syn2syn_melmel_hubert_norepeating_small\n"
     ]
    },
    {
     "name": "stderr",
     "output_type": "stream",
     "text": [
      "100%|██████████| 105/105 [00:52<00:00,  1.98it/s]\n"
     ]
    },
    {
     "name": "stdout",
     "output_type": "stream",
     "text": [
      "medium VTN_fine-tuning_nocondition_syn2syn_melmel_hubert_norepeating\n"
     ]
    },
    {
     "name": "stderr",
     "output_type": "stream",
     "text": [
      "100%|██████████| 105/105 [00:50<00:00,  2.07it/s]\n"
     ]
    },
    {
     "name": "stdout",
     "output_type": "stream",
     "text": [
      "medium VTN_fine-tuning_nocondition_mix2syn_melmel_hubert_norepeating_small\n"
     ]
    },
    {
     "name": "stderr",
     "output_type": "stream",
     "text": [
      "100%|██████████| 100/100 [00:53<00:00,  1.89it/s]\n"
     ]
    },
    {
     "name": "stdout",
     "output_type": "stream",
     "text": [
      "medium VTN_fine-tuning_nocondition_mix2syn_melmel_hubert_norepeating\n"
     ]
    },
    {
     "name": "stderr",
     "output_type": "stream",
     "text": [
      "100%|██████████| 100/100 [00:50<00:00,  1.99it/s]\n"
     ]
    },
    {
     "name": "stdout",
     "output_type": "stream",
     "text": [
      "large VTN_fine-tuning_nocondition_gt2syn_melmel_hubert_norepeating_small\n"
     ]
    },
    {
     "name": "stderr",
     "output_type": "stream",
     "text": [
      "100%|██████████| 105/105 [01:23<00:00,  1.26it/s]\n"
     ]
    },
    {
     "name": "stdout",
     "output_type": "stream",
     "text": [
      "large VTN_fine-tuning_nocondition_gt2syn_melmel_hubert_norepeating\n"
     ]
    },
    {
     "name": "stderr",
     "output_type": "stream",
     "text": [
      "100%|██████████| 105/105 [02:19<00:00,  1.33s/it]\n"
     ]
    },
    {
     "name": "stdout",
     "output_type": "stream",
     "text": [
      "large VTN_fine-tuning_nocondition_syn2syn_melmel_hubert_norepeating_small\n"
     ]
    },
    {
     "name": "stderr",
     "output_type": "stream",
     "text": [
      "100%|██████████| 105/105 [01:56<00:00,  1.11s/it]\n"
     ]
    },
    {
     "name": "stdout",
     "output_type": "stream",
     "text": [
      "large VTN_fine-tuning_nocondition_syn2syn_melmel_hubert_norepeating\n"
     ]
    },
    {
     "name": "stderr",
     "output_type": "stream",
     "text": [
      "100%|██████████| 105/105 [01:25<00:00,  1.23it/s]\n"
     ]
    },
    {
     "name": "stdout",
     "output_type": "stream",
     "text": [
      "large VTN_fine-tuning_nocondition_mix2syn_melmel_hubert_norepeating_small\n"
     ]
    },
    {
     "name": "stderr",
     "output_type": "stream",
     "text": [
      "100%|██████████| 100/100 [01:34<00:00,  1.06it/s]\n"
     ]
    },
    {
     "name": "stdout",
     "output_type": "stream",
     "text": [
      "large VTN_fine-tuning_nocondition_mix2syn_melmel_hubert_norepeating\n"
     ]
    },
    {
     "name": "stderr",
     "output_type": "stream",
     "text": [
      "100%|██████████| 100/100 [01:50<00:00,  1.10s/it]\n"
     ]
    }
   ],
   "source": [
    "wer_list = []\n",
    "cer_list = []\n",
    "testsamples = list(np.load(\"data_split_ARCTIC.npy\", allow_pickle=True))[2]\n",
    "for size in models:\n",
    "    wers = []\n",
    "    cers = []\n",
    "    for mn in labels:\n",
    "        print(size, mn)\n",
    "        files = glob.glob(base_dir + mn + \"/100000/wav/*.wav\")\n",
    "        files.sort()\n",
    "\n",
    "        predtexts = []\n",
    "        gttexts = []\n",
    "        for path in tqdm(files):\n",
    "            basename = os.path.basename(path)[:-4]\n",
    "            if not(basename in testsamples):\n",
    "                continue\n",
    "            predtext = normalizer(models[size].transcribe(path)[\"text\"])\n",
    "            predtexts += [predtext]\n",
    "            gttexts += [groundtruth_dir[basename]]\n",
    "        wer = jiwer.wer(gttexts, predtexts)\n",
    "        cer = jiwer.cer(gttexts, predtexts)\n",
    "        wers += [wer]\n",
    "        cers += [cer]\n",
    "    wer_list += [wers]\n",
    "    cer_list += [cers]"
   ]
  },
  {
   "cell_type": "code",
   "execution_count": 50,
   "id": "694973c1-eb10-4035-874e-85e28f303e40",
   "metadata": {},
   "outputs": [
    {
     "ename": "NameError",
     "evalue": "name 'labels' is not defined",
     "output_type": "error",
     "traceback": [
      "\u001b[0;31m---------------------------------------------------------------------------\u001b[0m",
      "\u001b[0;31mNameError\u001b[0m                                 Traceback (most recent call last)",
      "Cell \u001b[0;32mIn[50], line 1\u001b[0m\n\u001b[0;32m----> 1\u001b[0m df \u001b[38;5;241m=\u001b[39m pd\u001b[38;5;241m.\u001b[39mDataFrame(np\u001b[38;5;241m.\u001b[39marray(wer_list), index\u001b[38;5;241m=\u001b[39mmodels\u001b[38;5;241m.\u001b[39mkeys(), columns\u001b[38;5;241m=\u001b[39m\u001b[43mlabels\u001b[49m\u001b[38;5;241m.\u001b[39mvalues())\n\u001b[1;32m      2\u001b[0m df\n",
      "\u001b[0;31mNameError\u001b[0m: name 'labels' is not defined"
     ]
    }
   ],
   "source": [
    "df = pd.DataFrame(np.array(wer_list), index=models.keys(), columns=labels.values())\n",
    "df"
   ]
  },
  {
   "cell_type": "markdown",
   "id": "fdd69883-619c-48ec-bcc2-3f6e872b7ec5",
   "metadata": {},
   "source": [
    "- Transcribe one sample"
   ]
  },
  {
   "cell_type": "code",
   "execution_count": 14,
   "id": "94b89cdd-5893-4d31-8ba9-00d0751471cf",
   "metadata": {},
   "outputs": [
    {
     "name": "stdout",
     "output_type": "stream",
     "text": [
      " Amid-dirt-kugali-legana-chai, or isip-ni-yatra-ke-in-dankirup-mejalana-chai.\n",
      " Hamed dar kugali lakanachai, or isya pni yatra ke indan ke rupe mejalanachai.\n",
      " Hamed Dardkul Galilaganachahi, Orise apni yatra ke Indian ke roop mejalana chahi.\n",
      " That's all for today. And As always, I'll see you guys in the next video.\n",
      " हमें दर्द को गले लगाना चाहिए और इसे अपनी यात्रा के इंधन के रूप में जलाना चाहिए।\n"
     ]
    }
   ],
   "source": [
    "path = \"example.wav\"\n",
    "# path = \"voice_preview_Ken.wav\"\n",
    "# path = \"voice_preview_Ena.wav\"\n",
    "for size in models:\n",
    "    predtext = models[size].transcribe(path)[\"text\"]\n",
    "    print(predtext)"
   ]
  },
  {
   "cell_type": "markdown",
   "id": "0103f00c-1776-4d55-a69d-aa44be423ec6",
   "metadata": {},
   "source": [
    "# L2-arctic (all)"
   ]
  },
  {
   "cell_type": "code",
   "execution_count": 69,
   "id": "c6688234-c426-4f84-bbe7-b451bf621785",
   "metadata": {},
   "outputs": [],
   "source": [
    "information = [\n",
    "    [\"ABA\", \"Arabic\", \"M\"],\n",
    "    [\"SKA\", \"Arabic\", \"F\"],\n",
    "    [\"YBAA\", \"Arabic\", \"M\"],\n",
    "    [\"ZHAA\", \"Arabic\", \"F\"],\n",
    "    [\"BWC\", \"Mandarin\", \"M\"],\n",
    "    [\"LXC\", \"Mandarin\", \"F\"],\n",
    "    [\"NCC\", \"Mandarin\", \"F\"],\n",
    "    [\"TXHC\", \"Mandarin\", \"M\"],\n",
    "    [\"ASI\", \"Hindi\", \"M\"],\n",
    "    [\"RRBI\", \"Hindi\", \"M\"],\n",
    "    [\"SVBI\", \"Hindi\", \"F\"],\n",
    "    [\"TNI\", \"Hindi\", \"F\"],\n",
    "    [\"HJK\", \"Korean\", \"F\"],\n",
    "    [\"HKK\", \"Korean\", \"M\"],\n",
    "    [\"YDCK\", \"Korean\", \"F\"],\n",
    "    [\"YKWK\", \"Korean\", \"M\"],\n",
    "    [\"EBVS\", \"Spanish\", \"M\"],\n",
    "    [\"ERMS\", \"Spanish\", \"M\"],\n",
    "    [\"MBMPS\", \"Spanish\", \"F\"],\n",
    "    [\"NJS\", \"Spanish\", \"F\"],\n",
    "    [\"HQTV\", \"Vietnamese\", \"M\"],\n",
    "    [\"PNV\", \"Vietnamese\", \"F\"],\n",
    "    [\"THV\", \"Vietnamese\", \"F\"],\n",
    "    [\"TLV\", \"Vietnamese\", \"M\"],\n",
    "]\n",
    "information = np.array(information)"
   ]
  },
  {
   "cell_type": "code",
   "execution_count": 70,
   "id": "62cc4c99-b49e-481c-8f9b-3e082f76612e",
   "metadata": {},
   "outputs": [],
   "source": [
    "files = glob.glob(\"./SPAT/transliteration/*.npy\")\n",
    "files.sort()\n",
    "groundtruth_dir = {}\n",
    "for file in files:\n",
    "    key = os.path.basename(file)[:-4]\n",
    "    text = np.load(file, allow_pickle=True).item()[\"Original English\"]\n",
    "    groundtruth_dir[key] = normalizer(text)"
   ]
  },
  {
   "cell_type": "code",
   "execution_count": 71,
   "id": "60e01b76-6c1a-442d-bb22-d1ee32581acf",
   "metadata": {},
   "outputs": [],
   "source": [
    "base_dir = \"/mntcephfs/lab_data/shoinoue/Dataset/L2-ARCTIC/\"\n",
    "speakers = information[:,0]"
   ]
  },
  {
   "cell_type": "code",
   "execution_count": 72,
   "id": "a7abe053-2e4f-4e4d-b97c-ff354360eab1",
   "metadata": {},
   "outputs": [],
   "source": [
    "load = True\n",
    "save_path = \"evaluation/wers/l2-arctic.npy\"\n",
    "if load:\n",
    "    wer_list, cer_list = np.load(save_path)\n",
    "else:\n",
    "    wer_list = []\n",
    "    cer_list = []\n",
    "    testsamples = list(np.load(\"data_split_ARCTIC.npy\", allow_pickle=True))[2]\n",
    "    for size in models:\n",
    "        wers = []\n",
    "        cers = []\n",
    "        for spk in speakers:\n",
    "            print(size, spk)\n",
    "            spk_dir = base_dir + spk + \"/wav/\"\n",
    "            predtexts = []\n",
    "            gttexts = []\n",
    "            for basename in tqdm(testsamples):\n",
    "                path = spk_dir + basename + \".wav\"\n",
    "                if not(os.path.exists(path)):\n",
    "                    continue\n",
    "                predtext = normalizer(models[size].transcribe(path)[\"text\"])\n",
    "                predtexts += [predtext]\n",
    "                gttexts += [groundtruth_dir[basename]]\n",
    "            wer = jiwer.wer(gttexts, predtexts)\n",
    "            cer = jiwer.cer(gttexts, predtexts)\n",
    "            wers += [wer]\n",
    "            cers += [cer]\n",
    "        wer_list += [wers]\n",
    "        cer_list += [cers]\n",
    "    np.save(save_path, [wer_list, cer_list])"
   ]
  },
  {
   "cell_type": "code",
   "execution_count": 73,
   "id": "4f589615-4ad0-4e66-beb2-ce99d2bc4a8a",
   "metadata": {},
   "outputs": [],
   "source": [
    "columns = []\n",
    "accent_list = information[:, 1]\n",
    "for i in range(len(speakers)):\n",
    "    columns += [(accent_list[i], speakers[i])]\n",
    "columns = pd.MultiIndex.from_tuples(columns)"
   ]
  },
  {
   "cell_type": "code",
   "execution_count": 93,
   "id": "a0565dae-3aeb-4a9e-a388-494713eee91c",
   "metadata": {},
   "outputs": [
    {
     "data": {
      "text/html": [
       "<div>\n",
       "<style scoped>\n",
       "    .dataframe tbody tr th:only-of-type {\n",
       "        vertical-align: middle;\n",
       "    }\n",
       "\n",
       "    .dataframe tbody tr th {\n",
       "        vertical-align: top;\n",
       "    }\n",
       "\n",
       "    .dataframe thead th {\n",
       "        text-align: right;\n",
       "    }\n",
       "</style>\n",
       "<table border=\"1\" class=\"dataframe\">\n",
       "  <thead>\n",
       "    <tr style=\"text-align: right;\">\n",
       "      <th></th>\n",
       "      <th>Arabic</th>\n",
       "      <th>Mandarin</th>\n",
       "      <th>Hindi</th>\n",
       "      <th>Korean</th>\n",
       "      <th>Spanish</th>\n",
       "      <th>Vietnamese</th>\n",
       "    </tr>\n",
       "  </thead>\n",
       "  <tbody>\n",
       "    <tr>\n",
       "      <th>tiny</th>\n",
       "      <td>0.255182</td>\n",
       "      <td>0.274317</td>\n",
       "      <td>0.134426</td>\n",
       "      <td>0.160109</td>\n",
       "      <td>0.243915</td>\n",
       "      <td>0.355738</td>\n",
       "    </tr>\n",
       "    <tr>\n",
       "      <th>base</th>\n",
       "      <td>0.181688</td>\n",
       "      <td>0.220492</td>\n",
       "      <td>0.091803</td>\n",
       "      <td>0.128415</td>\n",
       "      <td>0.174764</td>\n",
       "      <td>0.302186</td>\n",
       "    </tr>\n",
       "    <tr>\n",
       "      <th>small</th>\n",
       "      <td>0.140225</td>\n",
       "      <td>0.157923</td>\n",
       "      <td>0.066940</td>\n",
       "      <td>0.093716</td>\n",
       "      <td>0.132419</td>\n",
       "      <td>0.242077</td>\n",
       "    </tr>\n",
       "    <tr>\n",
       "      <th>medium</th>\n",
       "      <td>0.104517</td>\n",
       "      <td>0.133060</td>\n",
       "      <td>0.057104</td>\n",
       "      <td>0.086612</td>\n",
       "      <td>0.110904</td>\n",
       "      <td>0.205738</td>\n",
       "    </tr>\n",
       "    <tr>\n",
       "      <th>large</th>\n",
       "      <td>0.412877</td>\n",
       "      <td>0.114481</td>\n",
       "      <td>0.046448</td>\n",
       "      <td>0.110929</td>\n",
       "      <td>0.087144</td>\n",
       "      <td>0.168306</td>\n",
       "    </tr>\n",
       "  </tbody>\n",
       "</table>\n",
       "</div>"
      ],
      "text/plain": [
       "          Arabic  Mandarin     Hindi    Korean   Spanish  Vietnamese\n",
       "tiny    0.255182  0.274317  0.134426  0.160109  0.243915    0.355738\n",
       "base    0.181688  0.220492  0.091803  0.128415  0.174764    0.302186\n",
       "small   0.140225  0.157923  0.066940  0.093716  0.132419    0.242077\n",
       "medium  0.104517  0.133060  0.057104  0.086612  0.110904    0.205738\n",
       "large   0.412877  0.114481  0.046448  0.110929  0.087144    0.168306"
      ]
     },
     "execution_count": 93,
     "metadata": {},
     "output_type": "execute_result"
    }
   ],
   "source": [
    "df = pd.DataFrame(np.array(wer_list), index=models.keys(), columns=columns)\n",
    "df = df.mean(level=0, axis=1)\n",
    "df"
   ]
  },
  {
   "cell_type": "markdown",
   "id": "82ce4121-d911-4b49-864b-4e7c1686cd94",
   "metadata": {},
   "source": [
    "- SPAccenT"
   ]
  },
  {
   "cell_type": "code",
   "execution_count": 56,
   "id": "c7a429dc-99cd-4ed3-925f-f520c26714dd",
   "metadata": {},
   "outputs": [],
   "source": [
    "base_dir = \"/mntcephfs/lab_data/shoinoue/Dataset/PD-AST/SLT/\"\n",
    "speakers = [os.path.basename(os.path.dirname(a)) for a in glob.glob(base_dir+\"*/\")]\n",
    "speakers.sort()\n",
    "speakers.remove(\"Japanese\")"
   ]
  },
  {
   "cell_type": "code",
   "execution_count": 57,
   "id": "dd6c0a8a-ba0a-42ea-aef1-72d33b1ebec5",
   "metadata": {},
   "outputs": [],
   "source": [
    "load = True\n",
    "save_path = \"evaluation/wers/slt_spaccent.npy\"\n",
    "if load:\n",
    "    wer_list, cer_list = np.load(save_path)\n",
    "else:\n",
    "    wer_list = []\n",
    "    cer_list = []\n",
    "    testsamples = list(np.load(\"data_split_ARCTIC.npy\", allow_pickle=True))[2]\n",
    "    for size in models:\n",
    "        wers = []\n",
    "        cers = []\n",
    "        for spk in speakers:\n",
    "            spk_dir = base_dir + spk + \"/wav/\"\n",
    "            predtexts = []\n",
    "            gttexts = []\n",
    "            for basename in tqdm(testsamples):\n",
    "                path = spk_dir + basename + \".wav\"\n",
    "                if not(os.path.exists(path)):\n",
    "                    continue\n",
    "                predtext = normalizer(models[size].transcribe(path)[\"text\"])\n",
    "                predtexts += [predtext]\n",
    "                gttexts += [groundtruth_dir[basename]]\n",
    "            wer = jiwer.wer(gttexts, predtexts)\n",
    "            cer = jiwer.cer(gttexts, predtexts)\n",
    "            wers += [wer]\n",
    "            cers += [cer]\n",
    "        wer_list += [wers]\n",
    "        cer_list += [cers]\n",
    "    np.save(save_path, [wer_list, cer_list])"
   ]
  },
  {
   "cell_type": "code",
   "execution_count": 58,
   "id": "220e4b28-2cb9-4eb0-a957-1af6bb8604c2",
   "metadata": {},
   "outputs": [
    {
     "data": {
      "text/html": [
       "<div>\n",
       "<style scoped>\n",
       "    .dataframe tbody tr th:only-of-type {\n",
       "        vertical-align: middle;\n",
       "    }\n",
       "\n",
       "    .dataframe tbody tr th {\n",
       "        vertical-align: top;\n",
       "    }\n",
       "\n",
       "    .dataframe thead th {\n",
       "        text-align: right;\n",
       "    }\n",
       "</style>\n",
       "<table border=\"1\" class=\"dataframe\">\n",
       "  <thead>\n",
       "    <tr style=\"text-align: right;\">\n",
       "      <th></th>\n",
       "      <th>English</th>\n",
       "      <th>Hindi</th>\n",
       "      <th>Korean</th>\n",
       "    </tr>\n",
       "  </thead>\n",
       "  <tbody>\n",
       "    <tr>\n",
       "      <th>tiny</th>\n",
       "      <td>0.036066</td>\n",
       "      <td>0.202186</td>\n",
       "      <td>0.859016</td>\n",
       "    </tr>\n",
       "    <tr>\n",
       "      <th>base</th>\n",
       "      <td>0.026230</td>\n",
       "      <td>0.149727</td>\n",
       "      <td>0.748634</td>\n",
       "    </tr>\n",
       "    <tr>\n",
       "      <th>small</th>\n",
       "      <td>0.021858</td>\n",
       "      <td>0.113661</td>\n",
       "      <td>0.532240</td>\n",
       "    </tr>\n",
       "    <tr>\n",
       "      <th>medium</th>\n",
       "      <td>0.028415</td>\n",
       "      <td>0.110383</td>\n",
       "      <td>0.469945</td>\n",
       "    </tr>\n",
       "    <tr>\n",
       "      <th>large</th>\n",
       "      <td>0.017486</td>\n",
       "      <td>0.085246</td>\n",
       "      <td>0.498361</td>\n",
       "    </tr>\n",
       "  </tbody>\n",
       "</table>\n",
       "</div>"
      ],
      "text/plain": [
       "         English     Hindi    Korean\n",
       "tiny    0.036066  0.202186  0.859016\n",
       "base    0.026230  0.149727  0.748634\n",
       "small   0.021858  0.113661  0.532240\n",
       "medium  0.028415  0.110383  0.469945\n",
       "large   0.017486  0.085246  0.498361"
      ]
     },
     "execution_count": 58,
     "metadata": {},
     "output_type": "execute_result"
    }
   ],
   "source": [
    "df = pd.DataFrame(np.array(wer_list), index=models.keys(), columns=speakers)\n",
    "df"
   ]
  },
  {
   "cell_type": "markdown",
   "id": "1304205a-a770-40cd-94da-e8ad06157c80",
   "metadata": {},
   "source": [
    "- L2-arctic"
   ]
  },
  {
   "cell_type": "code",
   "execution_count": 3,
   "id": "32c21c17-6714-4d1a-972f-0ed92718086c",
   "metadata": {},
   "outputs": [],
   "source": [
    "base_dir = \"/mntcephfs/lab_data/shoinoue/Dataset/L2-ARCTIC/\"\n",
    "spk = \"ASI\""
   ]
  },
  {
   "cell_type": "code",
   "execution_count": 4,
   "id": "d80eaa1a-3abd-4140-9ac8-c44a2d566dec",
   "metadata": {},
   "outputs": [],
   "source": [
    "files = glob.glob(base_dir + f\"{spk}/transcript/*\")\n",
    "files.sort()\n",
    "groundtruth_dir = {}\n",
    "for file in files:\n",
    "    f = open(file, \"r\")\n",
    "    text = f.read()\n",
    "    key = os.path.basename(file)[:-4]\n",
    "    groundtruth_dir[key] = normalizer(text)"
   ]
  },
  {
   "cell_type": "code",
   "execution_count": 43,
   "id": "8907a4e2-1ecd-4f23-83e8-5b74b1cb3431",
   "metadata": {},
   "outputs": [],
   "source": [
    "files = glob.glob(\"test/korean/arctic*.wav\")\n",
    "# files = glob.glob(\"test/gt/arctic*.wav\")\n",
    "# files = glob.glob(\"test/eng/arctic*.wav\")\n",
    "files.sort()"
   ]
  },
  {
   "cell_type": "code",
   "execution_count": 42,
   "id": "4b500de8-a3e2-479c-98d3-1278b0142f85",
   "metadata": {},
   "outputs": [
    {
     "name": "stdout",
     "output_type": "stream",
     "text": [
      "0.125 author of the danger trail philip still etc\n",
      "0.25 not at this particular case tom apologized with more\n",
      "0.0 for the 20th time that evening the 2 men shook hands\n",
      "0.4 loads but i am glad to see your game feel\n",
      "0.0 will we ever forget it\n"
     ]
    }
   ],
   "source": [
    "# Ground truth\n",
    "for path in files:\n",
    "    basename = os.path.basename(path)[:-4]\n",
    "    predtext = normalizer(models[size].transcribe(path)[\"text\"])\n",
    "    wer = jiwer.wer(groundtruth_dir[basename], [predtext])\n",
    "    # wer = jiwer.cer(groundtruth_dir[basename], [predtext])\n",
    "    print(wer, predtext)"
   ]
  }
 ],
 "metadata": {
  "kernelspec": {
   "display_name": "Python 3 (ipykernel)",
   "language": "python",
   "name": "python3"
  },
  "language_info": {
   "codemirror_mode": {
    "name": "ipython",
    "version": 3
   },
   "file_extension": ".py",
   "mimetype": "text/x-python",
   "name": "python",
   "nbconvert_exporter": "python",
   "pygments_lexer": "ipython3",
   "version": "3.8.19"
  }
 },
 "nbformat": 4,
 "nbformat_minor": 5
}
