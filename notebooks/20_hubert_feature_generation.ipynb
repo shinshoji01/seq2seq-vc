{
 "cells": [
  {
   "cell_type": "code",
   "execution_count": 3,
   "id": "672d9b33-601d-426e-9b93-c46e22906e56",
   "metadata": {},
   "outputs": [],
   "source": [
    "# !pip install Pillow -i https://pypi.tuna.tsinghua.edu.cn/simple\n",
    "# !pip install matplotlib -i https://pypi.tuna.tsinghua.edu.cn/simple\n",
    "# !pip install pandas -i https://pypi.tuna.tsinghua.edu.cn/simple\n",
    "# !pip install fairseq -i https://pypi.tuna.tsinghua.edu.cn/simple"
   ]
  },
  {
   "cell_type": "code",
   "execution_count": 1,
   "id": "677ca375-b216-4cfa-b710-f8899cf8ee10",
   "metadata": {},
   "outputs": [
    {
     "name": "stderr",
     "output_type": "stream",
     "text": [
      "/mntcephfs/lab_data/shoinoue/miniconda3/envs/cuhk/lib/python3.8/site-packages/tqdm/auto.py:21: TqdmWarning: IProgress not found. Please update jupyter and ipywidgets. See https://ipywidgets.readthedocs.io/en/stable/user_install.html\n",
      "  from .autonotebook import tqdm as notebook_tqdm\n",
      "################################################################################\n",
      "### WARNING, path does not exist: KALDI_ROOT=/mnt/matylda5/iveselyk/Tools/kaldi-trunk\n",
      "###          (please add 'export KALDI_ROOT=<your_path>' in your $HOME/.profile)\n",
      "###          (or run as: KALDI_ROOT=<your_path> python <your_script>.py)\n",
      "################################################################################\n",
      "\n"
     ]
    }
   ],
   "source": [
    "import os\n",
    "import sys\n",
    "import torch\n",
    "import torch.nn.functional as F\n",
    "import soundfile as sf\n",
    "import numpy as np\n",
    "import librosa\n",
    "import traceback\n",
    "\n",
    "from tqdm import tqdm\n",
    "from fairseq import checkpoint_utils\n",
    "\n",
    "import sys\n",
    "sys.path.append(\"../../cuhksz-phd/sho_util/pyfiles/\")\n",
    "from basic import plot_spectrogram\n",
    "\n",
    "sys.path.append(\"../\")\n",
    "from pyfiles.utils import trim_audio_and_save"
   ]
  },
  {
   "cell_type": "code",
   "execution_count": 2,
   "id": "ea080cb7-9473-4421-a731-4067e8fc588b",
   "metadata": {},
   "outputs": [
    {
     "name": "stdout",
     "output_type": "stream",
     "text": [
      "loading model(s) from /mntcephfs/lab_data/shoinoue/Models/trained_models/hubert/hubert_base_ls960.pt\n"
     ]
    },
    {
     "name": "stderr",
     "output_type": "stream",
     "text": [
      "2024-07-26 15:05:59 | INFO | fairseq.tasks.hubert_pretraining | current directory is /home/shoinoue/Git/seq2seq-vc/notebooks\n",
      "2024-07-26 15:05:59 | INFO | fairseq.tasks.hubert_pretraining | HubertPretrainingTask Config {'_name': 'hubert_pretraining', 'data': '/checkpoint/wnhsu/data/librispeech/960h/iter/250K_50hz_km100_mp0_65_v2', 'fine_tuning': False, 'labels': ['layer6.km500'], 'label_dir': None, 'label_rate': 50.0, 'sample_rate': 16000, 'normalize': False, 'enable_padding': False, 'max_keep_size': None, 'max_sample_size': 250000, 'min_sample_size': 32000, 'single_target': False, 'random_crop': True, 'pad_audio': False}\n",
      "2024-07-26 15:05:59 | INFO | fairseq.models.hubert.hubert | HubertModel Config: {'_name': 'hubert', 'label_rate': 50.0, 'extractor_mode': default, 'encoder_layers': 12, 'encoder_embed_dim': 768, 'encoder_ffn_embed_dim': 3072, 'encoder_attention_heads': 12, 'activation_fn': gelu, 'layer_type': transformer, 'dropout': 0.1, 'attention_dropout': 0.1, 'activation_dropout': 0.0, 'encoder_layerdrop': 0.05, 'dropout_input': 0.1, 'dropout_features': 0.1, 'final_dim': 256, 'untie_final_proj': False, 'layer_norm_first': False, 'conv_feature_layers': '[(512,10,5)] + [(512,3,2)] * 4 + [(512,2,2)] * 2', 'conv_bias': False, 'logit_temp': 0.1, 'target_glu': False, 'feature_grad_mult': 0.1, 'mask_length': 10, 'mask_prob': 0.8, 'mask_selection': static, 'mask_other': 0.0, 'no_mask_overlap': False, 'mask_min_space': 1, 'mask_channel_length': 10, 'mask_channel_prob': 0.0, 'mask_channel_selection': static, 'mask_channel_other': 0.0, 'no_mask_channel_overlap': False, 'mask_channel_min_space': 1, 'conv_pos': 128, 'conv_pos_groups': 16, 'latent_temp': [2.0, 0.5, 0.999995], 'skip_masked': False, 'skip_nomask': False, 'checkpoint_activations': False, 'required_seq_len_multiple': 2, 'depthwise_conv_kernel_size': 31, 'attn_type': '', 'pos_enc_type': 'abs', 'fp16': True}\n"
     ]
    }
   ],
   "source": [
    "model_path = \"/mntcephfs/lab_data/shoinoue/Models/trained_models/hubert/hubert_base_ls960.pt\"\n",
    "\n",
    "device = torch.device(\"cuda\" if torch.cuda.is_available() else \"cpu\")\n",
    "\n",
    "print(\"loading model(s) from {}\".format(model_path))\n",
    "models, saved_cfg, task = checkpoint_utils.load_model_ensemble_and_task(\n",
    "    [model_path],\n",
    "    suffix=\"\",\n",
    ")\n",
    "model = models[0].half() \n",
    "model = model.to(device)\n",
    "model.eval()\n",
    "\n",
    "def postprocess(feats, normalize=False):\n",
    "    if feats.dim() == 2:\n",
    "        feats = feats.mean(-1)\n",
    "\n",
    "    assert feats.dim() == 1, feats.dim()\n",
    "\n",
    "    if normalize:\n",
    "        with torch.no_grad():\n",
    "            feats = F.layer_norm(feats, feats.shape)\n",
    "    return feats"
   ]
  },
  {
   "cell_type": "code",
   "execution_count": 10,
   "id": "d874603d-5909-4cbd-b5b1-987b0d2fe378",
   "metadata": {},
   "outputs": [
    {
     "name": "stderr",
     "output_type": "stream",
     "text": [
      "109it [00:00, 1086.66it/s]"
     ]
    },
    {
     "name": "stdout",
     "output_type": "stream",
     "text": [
      "error : wav too short or too long  /mntcephfs/lee_dataset/tts/LibriTTS_R/test-clean/4507/16021/4507_16021_000025_000000.wav (491139,)\n",
      "error : wav too short or too long  /mntcephfs/lee_dataset/tts/LibriTTS_R/test-clean/4507/16021/4507_16021_000023_000002.wav (585728,)\n",
      "error : wav too short or too long  /mntcephfs/lee_dataset/tts/LibriTTS_R/test-clean/7127/75947/7127_75947_000079_000000.wav (3072,)\n",
      "error : wav too short or too long  /mntcephfs/lee_dataset/tts/LibriTTS_R/test-clean/1089/134686/1089_134686_000008_000000.wav (497152,)\n"
     ]
    },
    {
     "name": "stderr",
     "output_type": "stream",
     "text": [
      "357it [00:01, 221.46it/s] "
     ]
    },
    {
     "name": "stdout",
     "output_type": "stream",
     "text": [
      "error : wav too short or too long  /mntcephfs/lee_dataset/tts/LibriTTS_R/test-clean/7021/79730/7021_79730_000052_000000.wav (517891,)\n",
      "error : wav too short or too long  /mntcephfs/lee_dataset/tts/LibriTTS_R/train-clean-100/8465/246947/8465_246947_000028_000000.wav (3072,)\n",
      "error : wav too short or too long  /mntcephfs/lee_dataset/tts/LibriTTS_R/train-clean-100/1743/142912/1743_142912_000015_000001.wav (2560,)\n"
     ]
    },
    {
     "name": "stderr",
     "output_type": "stream",
     "text": [
      "482it [00:01, 329.66it/s]"
     ]
    },
    {
     "name": "stdout",
     "output_type": "stream",
     "text": [
      "error : wav too short or too long  /mntcephfs/lee_dataset/tts/LibriTTS_R/train-clean-100/669/129061/669_129061_000040_000004.wav (489731,)\n"
     ]
    },
    {
     "name": "stderr",
     "output_type": "stream",
     "text": [
      "586it [00:02, 227.78it/s]"
     ]
    },
    {
     "name": "stdout",
     "output_type": "stream",
     "text": [
      "error : wav too short or too long  /mntcephfs/lee_dataset/tts/LibriTTS_R/train-clean-100/669/129074/669_129074_000028_000000.wav (509059,)\n",
      "error : wav too short or too long  /mntcephfs/lee_dataset/tts/LibriTTS_R/train-clean-100/26/496/26_496_000029_000000.wav (488963,)\n",
      "error : wav too short or too long  /mntcephfs/lee_dataset/tts/LibriTTS_R/train-clean-100/26/496/26_496_000026_000000.wav (484739,)\n"
     ]
    },
    {
     "name": "stderr",
     "output_type": "stream",
     "text": [
      "791it [00:03, 213.19it/s]"
     ]
    },
    {
     "name": "stdout",
     "output_type": "stream",
     "text": [
      "error : wav too short or too long  /mntcephfs/lee_dataset/tts/LibriTTS_R/train-clean-100/7517/100437/7517_100437_000004_000001.wav (530819,)\n",
      "error : wav too short or too long  /mntcephfs/lee_dataset/tts/LibriTTS_R/train-clean-100/8095/274345/8095_274345_000033_000004.wav (498176,)\n"
     ]
    },
    {
     "name": "stderr",
     "output_type": "stream",
     "text": [
      "868it [00:04, 169.33it/s]"
     ]
    },
    {
     "name": "stdout",
     "output_type": "stream",
     "text": [
      "error : wav too short or too long  /mntcephfs/lee_dataset/tts/LibriTTS_R/train-clean-100/5322/7678/5322_7678_000004_000007.wav (488451,)\n",
      "error : wav too short or too long  /mntcephfs/lee_dataset/tts/LibriTTS_R/train-clean-100/8238/283452/8238_283452_000006_000000.wav (1920,)\n"
     ]
    },
    {
     "name": "stderr",
     "output_type": "stream",
     "text": [
      "924it [00:04, 163.67it/s]"
     ]
    },
    {
     "name": "stdout",
     "output_type": "stream",
     "text": [
      "error : wav too short or too long  /mntcephfs/lee_dataset/tts/LibriTTS_R/train-clean-100/254/145458/254_145458_000013_000001.wav (496640,)\n"
     ]
    },
    {
     "name": "stderr",
     "output_type": "stream",
     "text": [
      "967it [00:05, 145.30it/s]"
     ]
    },
    {
     "name": "stdout",
     "output_type": "stream",
     "text": [
      "error : wav too short or too long  /mntcephfs/lee_dataset/tts/LibriTTS_R/train-clean-100/839/130898/839_130898_000011_000001.wav (516611,)\n"
     ]
    },
    {
     "name": "stderr",
     "output_type": "stream",
     "text": [
      "1089it [00:05, 192.17it/s]"
     ]
    },
    {
     "name": "stdout",
     "output_type": "stream",
     "text": [
      "error : wav too short or too long  /mntcephfs/lee_dataset/tts/LibriTTS_R/train-clean-100/7780/274562/7780_274562_000005_000006.wav (485376,)\n",
      "error : wav too short or too long  /mntcephfs/lee_dataset/tts/LibriTTS_R/train-clean-100/78/369/78_369_000035_000003.wav (3072,)\n"
     ]
    },
    {
     "name": "stderr",
     "output_type": "stream",
     "text": [
      "1198it [06:20,  6.03s/it] "
     ]
    },
    {
     "name": "stdout",
     "output_type": "stream",
     "text": [
      "error : wav too short or too long  /mntcephfs/lee_dataset/tts/LibriTTS_R/train-clean-360/1806/143946/1806_143946_000008_000000.wav (515072,)\n"
     ]
    },
    {
     "name": "stderr",
     "output_type": "stream",
     "text": [
      "1291it [11:39,  1.86s/it]"
     ]
    },
    {
     "name": "stdout",
     "output_type": "stream",
     "text": [
      "error : wav too short or too long  /mntcephfs/lee_dataset/tts/LibriTTS_R/train-clean-360/7398/98878/7398_98878_000010_000001.wav (1920,)\n"
     ]
    },
    {
     "name": "stderr",
     "output_type": "stream",
     "text": [
      "1292it [11:41,  1.89s/it]"
     ]
    },
    {
     "name": "stdout",
     "output_type": "stream",
     "text": [
      "error : wav too short or too long  /mntcephfs/lee_dataset/tts/LibriTTS_R/train-clean-360/7398/98877/7398_98877_000012_000003.wav (2560,)\n"
     ]
    },
    {
     "name": "stderr",
     "output_type": "stream",
     "text": [
      "1330it [13:52,  5.24s/it]"
     ]
    },
    {
     "name": "stdout",
     "output_type": "stream",
     "text": [
      "error : wav too short or too long  /mntcephfs/lee_dataset/tts/LibriTTS_R/train-clean-360/1265/135635/1265_135635_000052_000000.wav (3072,)\n"
     ]
    },
    {
     "name": "stderr",
     "output_type": "stream",
     "text": [
      "1413it [21:20,  3.27s/it]"
     ]
    },
    {
     "name": "stdout",
     "output_type": "stream",
     "text": [
      "error : wav too short or too long  /mntcephfs/lee_dataset/tts/LibriTTS_R/train-clean-360/6446/40571/6446_40571_000013_000000.wav (645891,)\n"
     ]
    },
    {
     "name": "stderr",
     "output_type": "stream",
     "text": [
      "1418it [21:40,  4.15s/it]"
     ]
    },
    {
     "name": "stdout",
     "output_type": "stream",
     "text": [
      "error : wav too short or too long  /mntcephfs/lee_dataset/tts/LibriTTS_R/train-clean-360/7594/91192/7594_91192_000009_000002.wav (503296,)\n"
     ]
    },
    {
     "name": "stderr",
     "output_type": "stream",
     "text": [
      "1433it [22:29,  2.30s/it]"
     ]
    },
    {
     "name": "stdout",
     "output_type": "stream",
     "text": [
      "error : wav too short or too long  /mntcephfs/lee_dataset/tts/LibriTTS_R/train-clean-360/2709/158074/2709_158074_000032_000003.wav (1920,)\n"
     ]
    },
    {
     "name": "stderr",
     "output_type": "stream",
     "text": [
      "1458it [24:32,  3.96s/it]"
     ]
    },
    {
     "name": "stdout",
     "output_type": "stream",
     "text": [
      "error : wav too short or too long  /mntcephfs/lee_dataset/tts/LibriTTS_R/train-clean-360/5389/4861/5389_4861_000040_000001.wav (531971,)\n"
     ]
    },
    {
     "name": "stderr",
     "output_type": "stream",
     "text": [
      "1490it [25:50,  1.51s/it]"
     ]
    },
    {
     "name": "stdout",
     "output_type": "stream",
     "text": [
      "error : wav too short or too long  /mntcephfs/lee_dataset/tts/LibriTTS_R/train-clean-360/1182/134981/1182_134981_000027_000000.wav (2560,)\n"
     ]
    },
    {
     "name": "stderr",
     "output_type": "stream",
     "text": [
      "1536it [28:29,  3.38s/it]"
     ]
    },
    {
     "name": "stdout",
     "output_type": "stream",
     "text": [
      "error : wav too short or too long  /mntcephfs/lee_dataset/tts/LibriTTS_R/train-clean-360/2364/131735/2364_131735_000029_000005.wav (494211,)\n"
     ]
    },
    {
     "name": "stderr",
     "output_type": "stream",
     "text": [
      "1561it [30:17,  5.38s/it]"
     ]
    },
    {
     "name": "stdout",
     "output_type": "stream",
     "text": [
      "error : wav too short or too long  /mntcephfs/lee_dataset/tts/LibriTTS_R/train-clean-360/7484/39971/7484_39971_000005_000003.wav (513283,)\n"
     ]
    },
    {
     "name": "stderr",
     "output_type": "stream",
     "text": [
      "1592it [32:17,  5.14s/it]"
     ]
    },
    {
     "name": "stdout",
     "output_type": "stream",
     "text": [
      "error : wav too short or too long  /mntcephfs/lee_dataset/tts/LibriTTS_R/train-clean-360/6567/53342/6567_53342_000012_000001.wav (565248,)\n",
      "error : wav too short or too long  /mntcephfs/lee_dataset/tts/LibriTTS_R/train-clean-360/6567/53342/6567_53342_000015_000003.wav (498176,)\n"
     ]
    },
    {
     "name": "stderr",
     "output_type": "stream",
     "text": [
      "1605it [33:12,  3.46s/it]"
     ]
    },
    {
     "name": "stdout",
     "output_type": "stream",
     "text": [
      "error : wav too short or too long  /mntcephfs/lee_dataset/tts/LibriTTS_R/train-clean-360/6104/58845/6104_58845_000023_000000.wav (3072,)\n"
     ]
    },
    {
     "name": "stderr",
     "output_type": "stream",
     "text": [
      "1617it [33:59,  3.12s/it]"
     ]
    },
    {
     "name": "stdout",
     "output_type": "stream",
     "text": [
      "error : wav too short or too long  /mntcephfs/lee_dataset/tts/LibriTTS_R/train-clean-360/4806/26894/4806_26894_000004_000000.wav (1280,)\n"
     ]
    },
    {
     "name": "stderr",
     "output_type": "stream",
     "text": [
      "1719it [39:02,  3.82s/it]"
     ]
    },
    {
     "name": "stdout",
     "output_type": "stream",
     "text": [
      "error : wav too short or too long  /mntcephfs/lee_dataset/tts/LibriTTS_R/train-clean-360/6308/68358/6308_68358_000017_000000.wav (484099,)\n"
     ]
    },
    {
     "name": "stderr",
     "output_type": "stream",
     "text": [
      "1754it [40:59,  3.25s/it]"
     ]
    },
    {
     "name": "stdout",
     "output_type": "stream",
     "text": [
      "error : wav too short or too long  /mntcephfs/lee_dataset/tts/LibriTTS_R/train-clean-360/5583/41259/5583_41259_000007_000005.wav (3072,)\n"
     ]
    },
    {
     "name": "stderr",
     "output_type": "stream",
     "text": [
      "1773it [41:51,  2.16s/it]"
     ]
    },
    {
     "name": "stdout",
     "output_type": "stream",
     "text": [
      "error : wav too short or too long  /mntcephfs/lee_dataset/tts/LibriTTS_R/train-clean-360/4238/12895/4238_12895_000007_000005.wav (500611,)\n",
      "error : wav too short or too long  /mntcephfs/lee_dataset/tts/LibriTTS_R/train-clean-360/4238/12895/4238_12895_000006_000002.wav (548739,)\n"
     ]
    },
    {
     "name": "stderr",
     "output_type": "stream",
     "text": [
      "1904it [49:18,  2.81s/it]"
     ]
    },
    {
     "name": "stdout",
     "output_type": "stream",
     "text": [
      "error : wav too short or too long  /mntcephfs/lee_dataset/tts/LibriTTS_R/train-clean-360/8479/276730/8479_276730_000026_000000.wav (2560,)\n",
      "error : wav too short or too long  /mntcephfs/lee_dataset/tts/LibriTTS_R/train-clean-360/8479/276730/8479_276730_000042_000000.wav (1920,)\n",
      "error : wav too short or too long  /mntcephfs/lee_dataset/tts/LibriTTS_R/train-clean-360/8479/276730/8479_276730_000034_000000.wav (1920,)\n"
     ]
    },
    {
     "name": "stderr",
     "output_type": "stream",
     "text": [
      "1912it [49:56,  4.21s/it]"
     ]
    },
    {
     "name": "stdout",
     "output_type": "stream",
     "text": [
      "error : wav too short or too long  /mntcephfs/lee_dataset/tts/LibriTTS_R/train-clean-360/7258/91905/7258_91905_000006_000012.wav (498688,)\n"
     ]
    },
    {
     "name": "stderr",
     "output_type": "stream",
     "text": [
      "2053it [58:11,  5.53s/it]"
     ]
    },
    {
     "name": "stdout",
     "output_type": "stream",
     "text": [
      "error : wav too short or too long  /mntcephfs/lee_dataset/tts/LibriTTS_R/train-clean-360/454/134728/454_134728_000113_000000.wav (513411,)\n",
      "error : wav too short or too long  /mntcephfs/lee_dataset/tts/LibriTTS_R/train-clean-360/454/134728/454_134728_000011_000000.wav (537731,)\n",
      "error : wav too short or too long  /mntcephfs/lee_dataset/tts/LibriTTS_R/train-clean-360/454/134728/454_134728_000056_000000.wav (511363,)\n"
     ]
    },
    {
     "name": "stderr",
     "output_type": "stream",
     "text": [
      "2096it [1:01:22,  4.05s/it]"
     ]
    },
    {
     "name": "stdout",
     "output_type": "stream",
     "text": [
      "error : wav too short or too long  /mntcephfs/lee_dataset/tts/LibriTTS_R/train-clean-360/7437/117899/7437_117899_000011_000000.wav (2560,)\n"
     ]
    },
    {
     "name": "stderr",
     "output_type": "stream",
     "text": [
      "2326it [1:14:34,  5.09s/it]"
     ]
    },
    {
     "name": "stdout",
     "output_type": "stream",
     "text": [
      "error : wav too short or too long  /mntcephfs/lee_dataset/tts/LibriTTS_R/train-clean-360/1271/128145/1271_128145_000006_000000.wav (552323,)\n"
     ]
    },
    {
     "name": "stderr",
     "output_type": "stream",
     "text": [
      "2329it [1:14:42,  3.88s/it]"
     ]
    },
    {
     "name": "stdout",
     "output_type": "stream",
     "text": [
      "error : wav too short or too long  /mntcephfs/lee_dataset/tts/LibriTTS_R/train-clean-360/1271/133279/1271_133279_000015_000002.wav (480256,)\n",
      "error : wav too short or too long  /mntcephfs/lee_dataset/tts/LibriTTS_R/train-clean-360/1271/133279/1271_133279_000005_000006.wav (505344,)\n"
     ]
    },
    {
     "name": "stderr",
     "output_type": "stream",
     "text": [
      "2373it [1:17:54,  5.07s/it]"
     ]
    },
    {
     "name": "stdout",
     "output_type": "stream",
     "text": [
      "error : wav too short or too long  /mntcephfs/lee_dataset/tts/LibriTTS_R/train-clean-360/1027/125147/1027_125147_000124_000001.wav (3072,)\n"
     ]
    },
    {
     "name": "stderr",
     "output_type": "stream",
     "text": [
      "2563it [1:33:32,  4.92s/it]"
     ]
    },
    {
     "name": "stdout",
     "output_type": "stream",
     "text": [
      "error : wav too short or too long  /mntcephfs/lee_dataset/tts/LibriTTS_R/train-clean-360/7139/75362/7139_75362_000002_000002.wav (510979,)\n"
     ]
    },
    {
     "name": "stderr",
     "output_type": "stream",
     "text": [
      "2567it [1:33:51,  5.04s/it]"
     ]
    },
    {
     "name": "stdout",
     "output_type": "stream",
     "text": [
      "error : wav too short or too long  /mntcephfs/lee_dataset/tts/LibriTTS_R/train-clean-360/7139/75360/7139_75360_000011_000007.wav (491011,)\n"
     ]
    },
    {
     "name": "stderr",
     "output_type": "stream",
     "text": [
      "2579it [1:34:30,  2.05s/it]"
     ]
    },
    {
     "name": "stdout",
     "output_type": "stream",
     "text": [
      "error : wav too short or too long  /mntcephfs/lee_dataset/tts/LibriTTS_R/train-clean-360/1001/134708/1001_134708_000013_000000.wav (589824,)\n"
     ]
    },
    {
     "name": "stderr",
     "output_type": "stream",
     "text": [
      "2661it [1:40:45,  3.83s/it]"
     ]
    },
    {
     "name": "stdout",
     "output_type": "stream",
     "text": [
      "error : wav too short or too long  /mntcephfs/lee_dataset/tts/LibriTTS_R/train-clean-360/2240/148521/2240_148521_000010_000001.wav (489091,)\n"
     ]
    },
    {
     "name": "stderr",
     "output_type": "stream",
     "text": [
      "2689it [1:43:19,  4.61s/it]"
     ]
    },
    {
     "name": "stdout",
     "output_type": "stream",
     "text": [
      "error : wav too short or too long  /mntcephfs/lee_dataset/tts/LibriTTS_R/train-clean-360/335/125951/335_125951_000017_000002.wav (2560,)\n"
     ]
    },
    {
     "name": "stderr",
     "output_type": "stream",
     "text": [
      "2858it [1:54:41,  4.36s/it]"
     ]
    },
    {
     "name": "stdout",
     "output_type": "stream",
     "text": [
      "error : wav too short or too long  /mntcephfs/lee_dataset/tts/LibriTTS_R/train-clean-360/598/127704/598_127704_000016_000007.wav (483840,)\n"
     ]
    },
    {
     "name": "stderr",
     "output_type": "stream",
     "text": [
      "2980it [2:01:59,  2.40s/it]"
     ]
    },
    {
     "name": "stdout",
     "output_type": "stream",
     "text": [
      "error : wav too short or too long  /mntcephfs/lee_dataset/tts/LibriTTS_R/train-clean-360/5984/56837/5984_56837_000014_000004.wav (501760,)\n"
     ]
    },
    {
     "name": "stderr",
     "output_type": "stream",
     "text": [
      "2990it [2:02:55,  5.67s/it]"
     ]
    },
    {
     "name": "stdout",
     "output_type": "stream",
     "text": [
      "error : wav too short or too long  /mntcephfs/lee_dataset/tts/LibriTTS_R/train-clean-360/7240/108066/7240_108066_000005_000000.wav (526848,)\n"
     ]
    },
    {
     "name": "stderr",
     "output_type": "stream",
     "text": [
      "3136it [2:12:24,  4.41s/it]"
     ]
    },
    {
     "name": "stdout",
     "output_type": "stream",
     "text": [
      "error : wav too short or too long  /mntcephfs/lee_dataset/tts/LibriTTS_R/train-clean-360/7647/102250/7647_102250_000005_000000.wav (565248,)\n",
      "error : wav too short or too long  /mntcephfs/lee_dataset/tts/LibriTTS_R/train-clean-360/7647/102250/7647_102250_000012_000000.wav (482816,)\n",
      "error : wav too short or too long  /mntcephfs/lee_dataset/tts/LibriTTS_R/train-clean-360/7647/102250/7647_102250_000012_000003.wav (519168,)\n",
      "error : wav too short or too long  /mntcephfs/lee_dataset/tts/LibriTTS_R/train-clean-360/7647/102250/7647_102250_000010_000006.wav (559104,)\n"
     ]
    },
    {
     "name": "stderr",
     "output_type": "stream",
     "text": [
      "3270it [2:21:16,  3.03s/it]"
     ]
    },
    {
     "name": "stdout",
     "output_type": "stream",
     "text": [
      "error : wav too short or too long  /mntcephfs/lee_dataset/tts/LibriTTS_R/train-clean-360/699/132864/699_132864_000009_000000.wav (534019,)\n"
     ]
    },
    {
     "name": "stderr",
     "output_type": "stream",
     "text": [
      "3306it [2:23:27,  4.27s/it]"
     ]
    },
    {
     "name": "stdout",
     "output_type": "stream",
     "text": [
      "error : wav too short or too long  /mntcephfs/lee_dataset/tts/LibriTTS_R/train-clean-360/6373/65772/6373_65772_000004_000002.wav (521731,)\n"
     ]
    },
    {
     "name": "stderr",
     "output_type": "stream",
     "text": [
      "3388it [2:28:17,  1.97s/it]"
     ]
    },
    {
     "name": "stdout",
     "output_type": "stream",
     "text": [
      "error : wav too short or too long  /mntcephfs/lee_dataset/tts/LibriTTS_R/train-clean-360/8075/279229/8075_279229_000005_000001.wav (487299,)\n"
     ]
    },
    {
     "name": "stderr",
     "output_type": "stream",
     "text": [
      "3411it [2:29:35,  4.34s/it]"
     ]
    },
    {
     "name": "stdout",
     "output_type": "stream",
     "text": [
      "error : wav too short or too long  /mntcephfs/lee_dataset/tts/LibriTTS_R/train-clean-360/3032/19361/3032_19361_000041_000001.wav (488451,)\n"
     ]
    },
    {
     "name": "stderr",
     "output_type": "stream",
     "text": [
      "3505it [2:35:34,  3.26s/it]"
     ]
    },
    {
     "name": "stdout",
     "output_type": "stream",
     "text": [
      "error : wav too short or too long  /mntcephfs/lee_dataset/tts/LibriTTS_R/train-clean-360/2582/155973/2582_155973_000023_000001.wav (495616,)\n"
     ]
    },
    {
     "name": "stderr",
     "output_type": "stream",
     "text": [
      "3508it [2:35:47,  3.65s/it]"
     ]
    },
    {
     "name": "stdout",
     "output_type": "stream",
     "text": [
      "error : wav too short or too long  /mntcephfs/lee_dataset/tts/LibriTTS_R/train-clean-360/899/126232/899_126232_000007_000000.wav (487939,)\n"
     ]
    },
    {
     "name": "stderr",
     "output_type": "stream",
     "text": [
      "3590it [2:41:03,  4.97s/it]"
     ]
    },
    {
     "name": "stdout",
     "output_type": "stream",
     "text": [
      "error : wav too short or too long  /mntcephfs/lee_dataset/tts/LibriTTS_R/train-clean-360/3513/7741/3513_7741_000060_000001.wav (2560,)\n"
     ]
    },
    {
     "name": "stderr",
     "output_type": "stream",
     "text": [
      "3610it [2:42:07,  3.29s/it]"
     ]
    },
    {
     "name": "stdout",
     "output_type": "stream",
     "text": [
      "error : wav too short or too long  /mntcephfs/lee_dataset/tts/LibriTTS_R/train-clean-360/7515/220979/7515_220979_000011_000001.wav (509571,)\n"
     ]
    },
    {
     "name": "stderr",
     "output_type": "stream",
     "text": [
      "3612it [2:42:13,  3.34s/it]"
     ]
    },
    {
     "name": "stdout",
     "output_type": "stream",
     "text": [
      "error : wav too short or too long  /mntcephfs/lee_dataset/tts/LibriTTS_R/train-clean-360/7515/100431/7515_100431_000010_000005.wav (501760,)\n"
     ]
    },
    {
     "name": "stderr",
     "output_type": "stream",
     "text": [
      "3625it [2:42:52,  3.85s/it]"
     ]
    },
    {
     "name": "stdout",
     "output_type": "stream",
     "text": [
      "error : wav too short or too long  /mntcephfs/lee_dataset/tts/LibriTTS_R/train-clean-360/3728/105386/3728_105386_000010_000001.wav (2560,)\n"
     ]
    },
    {
     "name": "stderr",
     "output_type": "stream",
     "text": [
      "3644it [2:44:13,  5.19s/it]"
     ]
    },
    {
     "name": "stdout",
     "output_type": "stream",
     "text": [
      "error : wav too short or too long  /mntcephfs/lee_dataset/tts/LibriTTS_R/train-clean-360/4363/14936/4363_14936_000008_000000.wav (555011,)\n"
     ]
    },
    {
     "name": "stderr",
     "output_type": "stream",
     "text": [
      "3898it [3:00:12,  4.53s/it]"
     ]
    },
    {
     "name": "stdout",
     "output_type": "stream",
     "text": [
      "error : wav too short or too long  /mntcephfs/lee_dataset/tts/LibriTTS_R/train-clean-360/14/212/14_212_000011_000004.wav (3072,)\n",
      "error : wav too short or too long  /mntcephfs/lee_dataset/tts/LibriTTS_R/train-clean-360/14/212/14_212_000018_000001.wav (2560,)\n",
      "error : wav too short or too long  /mntcephfs/lee_dataset/tts/LibriTTS_R/train-clean-360/14/212/14_212_000011_000009.wav (3072,)\n"
     ]
    },
    {
     "name": "stderr",
     "output_type": "stream",
     "text": [
      "3971it [3:04:58,  2.79s/it]\n"
     ]
    }
   ],
   "source": [
    "### CMU-ARCTIC\n",
    "# wav_dir = \"/mntcephfs/lab_data/shoinoue/Dataset/CMU-ARCTIC/SLT/wav/\"\n",
    "# wav_dir = \"/mntcephfs/lab_data/shoinoue/Dataset/PD-AST/SLT/Hindi/wav/\"\n",
    "# output_dir = wav_dir[:-4] + \"hubert/\"\n",
    "# add = \"\"\n",
    "\n",
    "### LibriTTS-R\n",
    "wav_dir = \"/mntcephfs/lee_dataset/tts/LibriTTS_R/\"\n",
    "output_dir = \"/mntcephfs/lab_data/shoinoue/Dataset/LibriTTS_R/features/\"\n",
    "add = \"_hubert\"\n",
    "\n",
    "\n",
    "for subdir, dirs, files in tqdm(os.walk(wav_dir)):\n",
    "    os.makedirs(output_dir + subdir[len(wav_dir):], exist_ok=True)\n",
    "    for file in files:\n",
    "# for subdir, dirs, files in os.walk(wav_dir):\n",
    "#     os.makedirs(output_dir + subdir[len(wav_dir):], exist_ok=True)\n",
    "#     for file in tqdm(files):\n",
    "        if file[:2]!=\"._\" and file[-4:]==\".wav\":\n",
    "            if subdir[-1]==\"/\":\n",
    "                wav_path = subdir + file\n",
    "            else:\n",
    "                wav_path = subdir + \"/\" + file\n",
    "            savefile = output_dir + wav_path[len(wav_dir):-4] + f\"{add}.npy\"\n",
    "            if os.path.exists(savefile):\n",
    "                continue\n",
    "            \n",
    "            tempfile = \"temp.wav\"\n",
    "            trim_audio_and_save(wav_path, 16000, tempfile)\n",
    "            try:\n",
    "                wav, sr = sf.read(tempfile)\n",
    "            except Exception as e:\n",
    "                print(\"wav load error: \", wav_path)\n",
    "                traceback.print_exc()\n",
    "                continue\n",
    "\n",
    "            if (sr != 16000):\n",
    "                wav = librosa.resample(wav, orig_sr=sr, target_sr=16000)\n",
    "\n",
    "            if (wav.shape[0] < 3200 or wav.shape[0] > 30 * 16000):\n",
    "                print(\"error : wav too short or too long \", wav_path, wav.shape)\n",
    "                continue\n",
    "\n",
    "            feat = torch.from_numpy(wav).float()\n",
    "            feat = postprocess(feat, normalize=saved_cfg.task.normalize)\n",
    "            feats = feat.view(1, -1)\n",
    "            padding_mask = (torch.BoolTensor(feats.shape).fill_(False))\n",
    "\n",
    "            inputs = {\n",
    "                \"source\": feats.half().to(device),\n",
    "                \"padding_mask\": padding_mask.to(device),\n",
    "                \"output_layer\": 9\n",
    "            }\n",
    "\n",
    "            with torch.no_grad():\n",
    "                logits = model.extract_features(**inputs)\n",
    "\n",
    "            out_feat = logits[0].squeeze(0)\n",
    "            out_feat = out_feat.data.detach().cpu().numpy().astype(np.float16)\n",
    "            np.save(savefile, out_feat) "
   ]
  },
  {
   "cell_type": "code",
   "execution_count": null,
   "id": "e723a087-5128-499c-a532-53fa1fb1bf70",
   "metadata": {},
   "outputs": [],
   "source": []
  },
  {
   "cell_type": "code",
   "execution_count": null,
   "id": "1d49b34e-2c78-4883-a6ee-69369842be68",
   "metadata": {},
   "outputs": [],
   "source": []
  }
 ],
 "metadata": {
  "kernelspec": {
   "display_name": "Python 3 (ipykernel)",
   "language": "python",
   "name": "python3"
  },
  "language_info": {
   "codemirror_mode": {
    "name": "ipython",
    "version": 3
   },
   "file_extension": ".py",
   "mimetype": "text/x-python",
   "name": "python",
   "nbconvert_exporter": "python",
   "pygments_lexer": "ipython3",
   "version": "3.8.19"
  }
 },
 "nbformat": 4,
 "nbformat_minor": 5
}
