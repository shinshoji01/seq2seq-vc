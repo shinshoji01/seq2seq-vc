{
 "cells": [
  {
   "cell_type": "code",
   "execution_count": 22,
   "id": "24182e13-4f90-4085-b10d-80dd9894bb73",
   "metadata": {},
   "outputs": [],
   "source": [
    "import warnings\n",
    "warnings.filterwarnings(\"ignore\")\n",
    "import torch\n",
    "import sys\n",
    "\n",
    "import torchaudio\n",
    "import tgt\n",
    "import os\n",
    "import numpy as np\n",
    "from tqdm import tqdm\n",
    "import librosa\n",
    "import glob\n",
    "import soundfile\n",
    "\n",
    "sys.path.append(\"../\")\n",
    "from pyfiles.feature_extractor import WavLMExtractor\n",
    "from vocos.feature_extractors import MelSpectrogramFeatures\n",
    "\n",
    "sys.path.append(\"../../cuhksz-phd/sho_util/pyfiles/\")\n",
    "from sound import play_audio"
   ]
  },
  {
   "cell_type": "code",
   "execution_count": 23,
   "id": "b3162a69-4fe6-4fb8-b0c3-c62c22af1207",
   "metadata": {},
   "outputs": [],
   "source": [
    "data_dir = \"/mntcephfs/lab_data/shoinoue/\"\n",
    "dataset_dir = data_dir + \"Dataset/PD-AST/SLT/\"\n",
    "fs = 16000\n",
    "\n",
    "melgen = MelSpectrogramFeatures(sample_rate=fs)\n",
    "# wavlm = WavLMExtractor()\n",
    "speakers = [\"Hindi\"]\n",
    "# speakers = [os.path.basename(a) for a in glob.glob(dataset_dir + \"*\")]\n",
    "# speakers.sort()"
   ]
  },
  {
   "cell_type": "code",
   "execution_count": 43,
   "id": "16af6b55-0580-4793-914f-0d9c3c5e8c72",
   "metadata": {},
   "outputs": [
    {
     "name": "stdout",
     "output_type": "stream",
     "text": [
      "Hindi\n"
     ]
    },
    {
     "name": "stderr",
     "output_type": "stream",
     "text": [
      "100%|██████████| 1132/1132 [04:42<00:00,  4.01it/s]\n"
     ]
    }
   ],
   "source": [
    "save = True\n",
    "\n",
    "for spk in speakers:\n",
    "    print(spk)\n",
    "    wavlm_dir = f\"{dataset_dir}{spk}/wavlm/\"\n",
    "    mel_dir = f\"{dataset_dir}{spk}/mel/\"\n",
    "    os.makedirs(wavlm_dir, exist_ok=True)\n",
    "    os.makedirs(mel_dir, exist_ok=True)\n",
    "    filenames = glob.glob(dataset_dir + spk + \"/wav/*\")\n",
    "    filenames.sort()\n",
    "    for path in tqdm(filenames):\n",
    "        # wavlm\n",
    "        embedding = wavlm.get_feature(path).T.detach().cpu().numpy()\n",
    "        savepath = wavlm_dir + os.path.basename(path)[:-4] + \".npy\"\n",
    "        if save:\n",
    "            np.save(savepath, embedding)\n",
    "            \n",
    "        # mel\n",
    "        array = librosa.load(path, 44100)[0]\n",
    "        soundfile.write(\"temp.wav\", array, 44100)\n",
    "        y, sr = torchaudio.load(\"temp.wav\")\n",
    "        # y, sr = torchaudio.load(path)\n",
    "        if fs!=sr:\n",
    "            if y.size(0) > 1:  # mix to mono\n",
    "                y = y.mean(dim=0, keepdim=True)\n",
    "            y = torchaudio.functional.resample(y, orig_freq=sr, new_freq=fs)\n",
    "        mel = melgen(y[0])\n",
    "        savepath = mel_dir + os.path.basename(path)[:-4] + \".npy\"\n",
    "        if save:\n",
    "            np.save(savepath, mel)"
   ]
  },
  {
   "cell_type": "code",
   "execution_count": null,
   "id": "25708b34-cf53-4527-8b8e-0fff4430bd6a",
   "metadata": {},
   "outputs": [],
   "source": []
  }
 ],
 "metadata": {
  "kernelspec": {
   "display_name": "Python 3 (ipykernel)",
   "language": "python",
   "name": "python3"
  },
  "language_info": {
   "codemirror_mode": {
    "name": "ipython",
    "version": 3
   },
   "file_extension": ".py",
   "mimetype": "text/x-python",
   "name": "python",
   "nbconvert_exporter": "python",
   "pygments_lexer": "ipython3",
   "version": "3.10.14"
  }
 },
 "nbformat": 4,
 "nbformat_minor": 5
}
