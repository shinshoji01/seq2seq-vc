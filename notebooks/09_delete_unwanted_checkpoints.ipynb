{
 "cells": [
  {
   "cell_type": "code",
   "execution_count": 3,
   "id": "f7e52115-102e-4562-bc26-8d3d3d44a8fd",
   "metadata": {},
   "outputs": [],
   "source": [
    "import os\n",
    "import glob\n",
    "import numpy as np"
   ]
  },
  {
   "cell_type": "code",
   "execution_count": 1,
   "id": "ac98e89a-3fa8-45e1-8804-52f50ce39b2f",
   "metadata": {},
   "outputs": [],
   "source": [
    "# base_dir = \"/mntcephfs/lab_data/shoinoue/Models/trained_models/AC_01/ckpts/\"\n",
    "base_dir = \"/mntcephfs/lab_data/shoinoue/Models/trained_models/AC_01/ckpts_16000/\""
   ]
  },
  {
   "cell_type": "code",
   "execution_count": null,
   "id": "21f2dde3-dd33-45f9-a506-2db5b4a2fb2b",
   "metadata": {},
   "outputs": [],
   "source": [
    "args[\"resume\"] = \"/mntcephfs/lab_data/shoinoue/Models/trained_models/AC_01/ckpts_16000/nocondition_accentaddition_gt2syn_melmel_smaller/checkpoint-240000steps.pkl\""
   ]
  },
  {
   "cell_type": "code",
   "execution_count": null,
   "id": "d76292b7-225b-4a04-8207-933465dc4150",
   "metadata": {},
   "outputs": [],
   "source": [
    "args[\"outdir\"] = f\"/mntcephfs/lab_data/shoinoue/Models/trained_models/AC_01/ckpts_16000/pretraining_nocondition_LibriTTS-R_wavlmmel_smaller/checkpoint-20000steps.pkl\""
   ]
  },
  {
   "cell_type": "code",
   "execution_count": 7,
   "id": "dc4b9da0-41e8-42b2-9ca1-27ba7c887845",
   "metadata": {},
   "outputs": [
    {
     "name": "stdout",
     "output_type": "stream",
     "text": [
      "10 /mntcephfs/lab_data/shoinoue/Models/trained_models/AC_01/ckpts_16000/nocondition_accentaddition_gt2syn_melmel_small/\n",
      "8 /mntcephfs/lab_data/shoinoue/Models/trained_models/AC_01/ckpts_16000/pretraining_nocondition_LibriTTS-R_wavlmmel_smaller/\n",
      "15 /mntcephfs/lab_data/shoinoue/Models/trained_models/AC_01/ckpts_16000/pretraining_nocondition_LibriTTS-R_melmel_smaller/\n",
      "14 /mntcephfs/lab_data/shoinoue/Models/trained_models/AC_01/ckpts_16000/nocondition_accentaddition_gt2syn_melmel_smaller/\n"
     ]
    }
   ],
   "source": [
    "remove = False\n",
    "\n",
    "for tgt in glob.glob(base_dir + \"*/\"):\n",
    "    files = glob.glob(tgt + \"*steps.pkl\")\n",
    "    steps = np.array([int(a.split(\"-\")[-1].split(\"steps\")[0]) for a in glob.glob(tgt + \"*steps.pkl\")])\n",
    "    reserve_name = str(np.array(files)[np.argmax(steps)])\n",
    "    files.remove(reserve_name)\n",
    "    print(len(files), tgt)\n",
    "    for path in files:\n",
    "        if path!=reserve_name: # to make sure\n",
    "            if remove:\n",
    "                os.remove(path)"
   ]
  },
  {
   "cell_type": "code",
   "execution_count": null,
   "id": "425625d4-77d2-4747-b645-edd26897d972",
   "metadata": {},
   "outputs": [],
   "source": []
  }
 ],
 "metadata": {
  "kernelspec": {
   "display_name": "Python 3 (ipykernel)",
   "language": "python",
   "name": "python3"
  },
  "language_info": {
   "codemirror_mode": {
    "name": "ipython",
    "version": 3
   },
   "file_extension": ".py",
   "mimetype": "text/x-python",
   "name": "python",
   "nbconvert_exporter": "python",
   "pygments_lexer": "ipython3",
   "version": "3.8.19"
  }
 },
 "nbformat": 4,
 "nbformat_minor": 5
}
