{
 "cells": [
  {
   "cell_type": "code",
   "execution_count": 58,
   "id": "24182e13-4f90-4085-b10d-80dd9894bb73",
   "metadata": {},
   "outputs": [],
   "source": [
    "import warnings\n",
    "warnings.filterwarnings(\"ignore\")\n",
    "import torch\n",
    "import sys\n",
    "import os\n",
    "import numpy as np\n",
    "from tqdm import tqdm\n",
    "import glob\n",
    "import librosa\n",
    "import pandas as pd\n",
    "\n",
    "import sys\n",
    "sys.path.append(\"../../cuhksz-phd/sho_util/pyfiles/\")\n",
    "from secs import SpeechObjectiveEvaluation"
   ]
  },
  {
   "cell_type": "code",
   "execution_count": 60,
   "id": "f8e60fb7-6e58-4b58-a744-9b6f77a9c62d",
   "metadata": {},
   "outputs": [
    {
     "name": "stderr",
     "output_type": "stream",
     "text": [
      "Some weights of the model checkpoint at /mntcephfs/data/audiow/shoinoue/Model/hf_hub/wavlm/models--microsoft--wavlm-base-plus-sv/snapshots/feb593a6c23c1cc3d9510425c29b0a14d2b07b1e/ were not used when initializing WavLMForXVector: ['wavlm.encoder.pos_conv_embed.conv.weight_g', 'wavlm.encoder.pos_conv_embed.conv.weight_v']\n",
      "- This IS expected if you are initializing WavLMForXVector from the checkpoint of a model trained on another task or with another architecture (e.g. initializing a BertForSequenceClassification model from a BertForPreTraining model).\n",
      "- This IS NOT expected if you are initializing WavLMForXVector from the checkpoint of a model that you expect to be exactly identical (initializing a BertForSequenceClassification model from a BertForSequenceClassification model).\n",
      "Some weights of WavLMForXVector were not initialized from the model checkpoint at /mntcephfs/data/audiow/shoinoue/Model/hf_hub/wavlm/models--microsoft--wavlm-base-plus-sv/snapshots/feb593a6c23c1cc3d9510425c29b0a14d2b07b1e/ and are newly initialized: ['wavlm.encoder.pos_conv_embed.conv.parametrizations.weight.original0', 'wavlm.encoder.pos_conv_embed.conv.parametrizations.weight.original1']\n",
      "You should probably TRAIN this model on a down-stream task to be able to use it for predictions and inference.\n",
      "WARNING:root:unexpected tensor: projection.weight\n",
      "WARNING:root:unexpected tensor: projection.weight\n",
      "WARNING:root:unexpected tensor: projection.weight\n"
     ]
    },
    {
     "name": "stdout",
     "output_type": "stream",
     "text": [
      "Loaded the voice encoder model on cuda in 0.02 seconds.\n"
     ]
    }
   ],
   "source": [
    "sr = 16000\n",
    "models = [\"resemblyzer\", \"wavlm\", \"wespeaker\", \"wespeaker_lm\", \"wespeaker_nolm\"]\n",
    "# models = [\"resemblyzer\"]\n",
    "soe = SpeechObjectiveEvaluation(sr, models)\n",
    "\n",
    "def cosine_similarity(e1, e2): # from wespeaker, delete the normalizing part\n",
    "    e1 = torch.tensor(e1)\n",
    "    e2 = torch.tensor(e2)\n",
    "    cosine_score = torch.dot(e1, e2) / (torch.norm(e1) * torch.norm(e2))\n",
    "    cosine_score = cosine_score.item()\n",
    "    return cosine_score"
   ]
  },
  {
   "cell_type": "code",
   "execution_count": 61,
   "id": "f62f3bd8-d640-40d3-b05c-1978b8061db8",
   "metadata": {},
   "outputs": [],
   "source": [
    "base_dir = \"/mntcephfs/lab_data/shoinoue/Models/trained_models/AC_01/ckpts_16000/\"\n",
    "accent_dir = \"/mntcephfs/lab_data/shoinoue/Dataset/PD-AST/SLT/Hindi/wav/\"\n",
    "native_dir = \"/mntcephfs/lab_data/shoinoue/Dataset/PD-AST/SLT/English/wav/\"\n",
    "fs = 16000\n",
    "\n",
    "labels = {}\n",
    "labels[\"VTN_fine-tuning_nocondition_gt2syn_melmel_hubert_norepeating_small\"] = \"only-gt_small\"\n",
    "labels[\"VTN_fine-tuning_nocondition_gt2syn_melmel_hubert_norepeating\"] = \"only-gt_large\"\n",
    "labels[\"VTN_fine-tuning_nocondition_syn2syn_melmel_hubert_norepeating_small\"] = \"only-syn_small\"\n",
    "labels[\"VTN_fine-tuning_nocondition_syn2syn_melmel_hubert_norepeating\"] = \"only-syn_large\"\n",
    "labels[\"VTN_fine-tuning_nocondition_mix2syn_melmel_hubert_norepeating_small\"] = \"syn-gt_small\"\n",
    "labels[\"VTN_fine-tuning_nocondition_mix2syn_melmel_hubert_norepeating\"] = \"syn-gt_large\""
   ]
  },
  {
   "cell_type": "markdown",
   "id": "44d8e7ea-7049-49b0-a542-950ada8bde66",
   "metadata": {},
   "source": [
    "- Save"
   ]
  },
  {
   "cell_type": "code",
   "execution_count": 62,
   "id": "16af6b55-0580-4793-914f-0d9c3c5e8c72",
   "metadata": {},
   "outputs": [
    {
     "name": "stdout",
     "output_type": "stream",
     "text": [
      "VTN_fine-tuning_nocondition_gt2syn_melmel_hubert_norepeating_small\n"
     ]
    },
    {
     "name": "stderr",
     "output_type": "stream",
     "text": [
      "100%|██████████| 105/105 [04:23<00:00,  2.51s/it]\n"
     ]
    },
    {
     "name": "stdout",
     "output_type": "stream",
     "text": [
      "VTN_fine-tuning_nocondition_gt2syn_melmel_hubert_norepeating\n"
     ]
    },
    {
     "name": "stderr",
     "output_type": "stream",
     "text": [
      "100%|██████████| 105/105 [02:23<00:00,  1.37s/it]\n"
     ]
    },
    {
     "name": "stdout",
     "output_type": "stream",
     "text": [
      "VTN_fine-tuning_nocondition_syn2syn_melmel_hubert_norepeating_small\n"
     ]
    },
    {
     "name": "stderr",
     "output_type": "stream",
     "text": [
      "100%|██████████| 105/105 [02:14<00:00,  1.28s/it]\n"
     ]
    },
    {
     "name": "stdout",
     "output_type": "stream",
     "text": [
      "VTN_fine-tuning_nocondition_syn2syn_melmel_hubert_norepeating\n"
     ]
    },
    {
     "name": "stderr",
     "output_type": "stream",
     "text": [
      "100%|██████████| 105/105 [02:16<00:00,  1.30s/it]\n"
     ]
    },
    {
     "name": "stdout",
     "output_type": "stream",
     "text": [
      "VTN_fine-tuning_nocondition_mix2syn_melmel_hubert_norepeating_small\n"
     ]
    },
    {
     "name": "stderr",
     "output_type": "stream",
     "text": [
      "100%|██████████| 100/100 [02:08<00:00,  1.29s/it]\n"
     ]
    },
    {
     "name": "stdout",
     "output_type": "stream",
     "text": [
      "VTN_fine-tuning_nocondition_mix2syn_melmel_hubert_norepeating\n"
     ]
    },
    {
     "name": "stderr",
     "output_type": "stream",
     "text": [
      "100%|██████████| 100/100 [02:07<00:00,  1.28s/it]\n"
     ]
    }
   ],
   "source": [
    "save = False\n",
    "la = \"Hindi\"\n",
    "tempfile = \"temp.wav\"\n",
    "\n",
    "\n",
    "testsamples = list(np.load(\"data_split_ARCTIC.npy\", allow_pickle=True))[2]\n",
    "for mn in labels:\n",
    "    print(mn)\n",
    "    files = glob.glob(base_dir + mn + \"/100000/wav/*.wav\")\n",
    "    files.sort()\n",
    "    for path in tqdm(files):\n",
    "        basename = os.path.basename(path)[:-4]\n",
    "        accent = accent_dir + basename + \".wav\"\n",
    "        native = native_dir + basename + \".wav\"\n",
    "        save_path = \"/\".join(path.split(\"/\")[:-2])+\"/speaker_embeddings/\" + basename + \".npy\"\n",
    "        if not(os.path.exists(save_path)) or save:\n",
    "            data = soe.get_speaker_embedding(path)\n",
    "            dirname = os.path.dirname(save_path)\n",
    "            if not(os.path.exists(dirname)):\n",
    "                os.makedirs(dirname, exist_ok=True)\n",
    "            np.save(save_path, data)\n",
    "            \n",
    "        accent_path = f\"./evaluation/speaker_embeddings/{la}/{basename}.npy\"\n",
    "        native_path = f\"./evaluation/speaker_embeddings/English/{basename}.npy\"\n",
    "        paths = [accent_path, native_path]\n",
    "        if not(os.path.exists(accent_path) and os.path.exists(native_path)) or save:\n",
    "            for i, path in enumerate([accent, native]):\n",
    "                save_path = paths[i]\n",
    "                data = soe.get_speaker_embedding(path)\n",
    "                dirname = os.path.dirname(save_path)\n",
    "                if not(os.path.exists(dirname)):\n",
    "                    os.makedirs(dirname, exist_ok=True)\n",
    "                np.save(save_path, data)"
   ]
  },
  {
   "cell_type": "markdown",
   "id": "c6a4a34c-885b-43ba-aac8-1a6006586212",
   "metadata": {},
   "source": [
    "- Analysis"
   ]
  },
  {
   "cell_type": "code",
   "execution_count": 63,
   "id": "5c2eadc2-b757-4002-9e65-2a87612f6845",
   "metadata": {},
   "outputs": [
    {
     "name": "stdout",
     "output_type": "stream",
     "text": [
      "VTN_fine-tuning_nocondition_gt2syn_melmel_hubert_norepeating_small\n"
     ]
    },
    {
     "name": "stderr",
     "output_type": "stream",
     "text": [
      "100%|██████████| 105/105 [00:00<00:00, 452.85it/s]\n"
     ]
    },
    {
     "name": "stdout",
     "output_type": "stream",
     "text": [
      "VTN_fine-tuning_nocondition_gt2syn_melmel_hubert_norepeating\n"
     ]
    },
    {
     "name": "stderr",
     "output_type": "stream",
     "text": [
      "100%|██████████| 105/105 [00:00<00:00, 504.99it/s]\n"
     ]
    },
    {
     "name": "stdout",
     "output_type": "stream",
     "text": [
      "VTN_fine-tuning_nocondition_syn2syn_melmel_hubert_norepeating_small\n"
     ]
    },
    {
     "name": "stderr",
     "output_type": "stream",
     "text": [
      "100%|██████████| 105/105 [00:00<00:00, 591.78it/s]\n"
     ]
    },
    {
     "name": "stdout",
     "output_type": "stream",
     "text": [
      "VTN_fine-tuning_nocondition_syn2syn_melmel_hubert_norepeating\n"
     ]
    },
    {
     "name": "stderr",
     "output_type": "stream",
     "text": [
      "100%|██████████| 105/105 [00:00<00:00, 435.98it/s]\n"
     ]
    },
    {
     "name": "stdout",
     "output_type": "stream",
     "text": [
      "VTN_fine-tuning_nocondition_mix2syn_melmel_hubert_norepeating_small\n"
     ]
    },
    {
     "name": "stderr",
     "output_type": "stream",
     "text": [
      "100%|██████████| 100/100 [00:00<00:00, 457.60it/s]\n"
     ]
    },
    {
     "name": "stdout",
     "output_type": "stream",
     "text": [
      "VTN_fine-tuning_nocondition_mix2syn_melmel_hubert_norepeating\n"
     ]
    },
    {
     "name": "stderr",
     "output_type": "stream",
     "text": [
      "100%|██████████| 100/100 [00:00<00:00, 564.66it/s]\n"
     ]
    }
   ],
   "source": [
    "save = False\n",
    "la = \"Hindi\"\n",
    "scores = {}\n",
    "testsamples = list(np.load(\"data_split_ARCTIC.npy\", allow_pickle=True))[2]\n",
    "for mn in labels:\n",
    "    scores[mn] = {}\n",
    "    print(mn)\n",
    "    files = glob.glob(base_dir + mn + \"/100000/wav/*.wav\")\n",
    "    files.sort()\n",
    "    initial = True\n",
    "    for path in tqdm(files):\n",
    "        basename = os.path.basename(path)[:-4]\n",
    "        if not(basename in testsamples):\n",
    "            continue\n",
    "        pred_path = \"/\".join(path.split(\"/\")[:-2])+\"/speaker_embeddings/\" + basename + \".npy\"\n",
    "        accent_path = f\"./evaluation/speaker_embeddings/{la}/{basename}.npy\"\n",
    "        native_path = f\"./evaluation/speaker_embeddings/English/{basename}.npy\"\n",
    "        pred = np.load(pred_path, allow_pickle=True).item()\n",
    "        accent = np.load(accent_path, allow_pickle=True).item()\n",
    "        native = np.load(native_path, allow_pickle=True).item()\n",
    "        if initial:\n",
    "            for key in pred:\n",
    "                scores[mn][key] = []\n",
    "            initial = False\n",
    "        \n",
    "        for key in pred:\n",
    "            a = cosine_similarity(pred[key], accent[key])\n",
    "            b = cosine_similarity(pred[key], native[key])\n",
    "            diff = a-b\n",
    "            scores[mn][key] += [diff]"
   ]
  },
  {
   "cell_type": "code",
   "execution_count": 73,
   "id": "409421dd-3c51-4248-9838-4d1ec5533830",
   "metadata": {},
   "outputs": [],
   "source": [
    "for mn in list(labels.keys()):\n",
    "    for key in scores[mn]:\n",
    "        scores[mn][key] = np.mean(scores[mn][key])\n",
    "df = pd.DataFrame(scores).T\n",
    "df = np.round(df, 4)\n",
    "df.index = list(labels.values())"
   ]
  },
  {
   "cell_type": "code",
   "execution_count": 74,
   "id": "c13d10e2-7578-4323-a0c5-c251a6e9edf3",
   "metadata": {},
   "outputs": [
    {
     "data": {
      "text/html": [
       "<div>\n",
       "<style scoped>\n",
       "    .dataframe tbody tr th:only-of-type {\n",
       "        vertical-align: middle;\n",
       "    }\n",
       "\n",
       "    .dataframe tbody tr th {\n",
       "        vertical-align: top;\n",
       "    }\n",
       "\n",
       "    .dataframe thead th {\n",
       "        text-align: right;\n",
       "    }\n",
       "</style>\n",
       "<table border=\"1\" class=\"dataframe\">\n",
       "  <thead>\n",
       "    <tr style=\"text-align: right;\">\n",
       "      <th></th>\n",
       "      <th>wavlm</th>\n",
       "      <th>wespeaker</th>\n",
       "      <th>wespeaker_lm</th>\n",
       "      <th>wespeaker_nolm</th>\n",
       "      <th>resemblyzer</th>\n",
       "    </tr>\n",
       "  </thead>\n",
       "  <tbody>\n",
       "    <tr>\n",
       "      <th>only-gt_small</th>\n",
       "      <td>0.1347</td>\n",
       "      <td>0.1133</td>\n",
       "      <td>0.0794</td>\n",
       "      <td>0.0686</td>\n",
       "      <td>0.0328</td>\n",
       "    </tr>\n",
       "    <tr>\n",
       "      <th>only-gt_large</th>\n",
       "      <td>0.1331</td>\n",
       "      <td>0.0862</td>\n",
       "      <td>0.0638</td>\n",
       "      <td>0.0546</td>\n",
       "      <td>0.0393</td>\n",
       "    </tr>\n",
       "    <tr>\n",
       "      <th>only-syn_small</th>\n",
       "      <td>0.1380</td>\n",
       "      <td>0.0836</td>\n",
       "      <td>0.0617</td>\n",
       "      <td>0.0528</td>\n",
       "      <td>0.0302</td>\n",
       "    </tr>\n",
       "    <tr>\n",
       "      <th>only-syn_large</th>\n",
       "      <td>0.1310</td>\n",
       "      <td>0.0744</td>\n",
       "      <td>0.0645</td>\n",
       "      <td>0.0521</td>\n",
       "      <td>0.0378</td>\n",
       "    </tr>\n",
       "    <tr>\n",
       "      <th>syn-gt_small</th>\n",
       "      <td>0.1399</td>\n",
       "      <td>0.1499</td>\n",
       "      <td>0.0956</td>\n",
       "      <td>0.0847</td>\n",
       "      <td>0.0320</td>\n",
       "    </tr>\n",
       "    <tr>\n",
       "      <th>syn-gt_large</th>\n",
       "      <td>0.1381</td>\n",
       "      <td>0.1321</td>\n",
       "      <td>0.0831</td>\n",
       "      <td>0.0705</td>\n",
       "      <td>0.0427</td>\n",
       "    </tr>\n",
       "  </tbody>\n",
       "</table>\n",
       "</div>"
      ],
      "text/plain": [
       "                 wavlm  wespeaker  wespeaker_lm  wespeaker_nolm  resemblyzer\n",
       "only-gt_small   0.1347     0.1133        0.0794          0.0686       0.0328\n",
       "only-gt_large   0.1331     0.0862        0.0638          0.0546       0.0393\n",
       "only-syn_small  0.1380     0.0836        0.0617          0.0528       0.0302\n",
       "only-syn_large  0.1310     0.0744        0.0645          0.0521       0.0378\n",
       "syn-gt_small    0.1399     0.1499        0.0956          0.0847       0.0320\n",
       "syn-gt_large    0.1381     0.1321        0.0831          0.0705       0.0427"
      ]
     },
     "execution_count": 74,
     "metadata": {},
     "output_type": "execute_result"
    }
   ],
   "source": [
    "df"
   ]
  }
 ],
 "metadata": {
  "kernelspec": {
   "display_name": "Python 3 (ipykernel)",
   "language": "python",
   "name": "python3"
  },
  "language_info": {
   "codemirror_mode": {
    "name": "ipython",
    "version": 3
   },
   "file_extension": ".py",
   "mimetype": "text/x-python",
   "name": "python",
   "nbconvert_exporter": "python",
   "pygments_lexer": "ipython3",
   "version": "3.10.14"
  }
 },
 "nbformat": 4,
 "nbformat_minor": 5
}
