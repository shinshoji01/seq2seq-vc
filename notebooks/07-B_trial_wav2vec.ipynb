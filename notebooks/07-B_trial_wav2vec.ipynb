{
 "cells": [
  {
   "cell_type": "raw",
   "id": "b445cefa-5d5a-4b12-a528-cfd582f92d62",
   "metadata": {},
   "source": [
    "import torch\n",
    "from omegaconf import DictConfig, open_dict\n",
    "\n",
    "cp_path = \"/mntcephfs/lab_data/shoinoue/Models/trained_models/wav2vec/w2v_large_lv_fsh_swbd_cv_ftls960_updated.pt\"\n",
    "cp = torch.load(cp_path)\n",
    "wrong_key = ['eval_wer','eval_wer_config', 'eval_wer_tokenizer', 'eval_wer_post_process', 'autoregressive']\n",
    "cfg = DictConfig(cp['cfg'])\n",
    "with open_dict(cfg):\n",
    "    for k in wrong_key:\n",
    "        cfg.task.pop(k)\n",
    "cp['cfg'] = cfg\n",
    "torch.save(cp, cp_path[:-3] + \"_new.pt\")"
   ]
  },
  {
   "cell_type": "code",
   "execution_count": 23,
   "id": "156a34a3-b3c2-475f-bdc7-5d859d259cbe",
   "metadata": {},
   "outputs": [],
   "source": [
    "import warnings\n",
    "warnings.filterwarnings(\"ignore\")\n",
    "\n",
    "import torch\n",
    "import torch.nn as nn\n",
    "import librosa\n",
    "\n",
    "import soundfile as sf\n",
    "import fairseq\n",
    "\n",
    "class Dict2Obj(object):\n",
    "    def __init__(self, dictionary):\n",
    "        \"\"\"Constructor\"\"\"\n",
    "        for key in dictionary:\n",
    "            setattr(self, key, dictionary[key])"
   ]
  },
  {
   "cell_type": "code",
   "execution_count": 36,
   "id": "8c9abf66-8d5b-44d0-813b-5eec76cdc5d6",
   "metadata": {},
   "outputs": [],
   "source": [
    "fs = 16000\n",
    "# ckpt_path = \"/mntcephfs/lab_data/shoinoue/Models/trained_models/wav2vec/w2v_large_lv_fsh_swbd_cv_ftls960_updated.pt\"\n",
    "ckpt_path = \"/mntcephfs/lab_data/shoinoue/Models/trained_models/wav2vec/w2v_large_lv_fsh_swbd_cv_ftls960_updated_new.pt\"\n",
    "path = \"/mntcephfs/lab_data/shoinoue/Dataset/L2-ARCTIC/HKK/wav/arctic_a0001.wav\"\n",
    "\n",
    "state = torch.load(ckpt_path)\n",
    "# state[\"args\"] = state[\"cfg\"]\n",
    "# state[\"args\"] = Dict2Obj(state[\"args\"])\n",
    "# torch.save(state, ckpt_path[:-3] + \"_new.pt\")"
   ]
  },
  {
   "cell_type": "code",
   "execution_count": 37,
   "id": "bed573a2-9836-4d2e-bda0-4ff8ecd59bd5",
   "metadata": {},
   "outputs": [],
   "source": [
    "from fairseq import tasks"
   ]
  },
  {
   "cell_type": "code",
   "execution_count": 39,
   "id": "57fd3bd1-bf9f-481d-8823-d8f9bce5b31c",
   "metadata": {},
   "outputs": [
    {
     "ename": "AttributeError",
     "evalue": "'dict' object has no attribute 'task'",
     "output_type": "error",
     "traceback": [
      "\u001b[0;31m---------------------------------------------------------------------------\u001b[0m",
      "\u001b[0;31mAttributeError\u001b[0m                            Traceback (most recent call last)",
      "Cell \u001b[0;32mIn[39], line 1\u001b[0m\n\u001b[0;32m----> 1\u001b[0m \u001b[43mtasks\u001b[49m\u001b[38;5;241;43m.\u001b[39;49m\u001b[43msetup_task\u001b[49m\u001b[43m(\u001b[49m\u001b[43mstate\u001b[49m\u001b[43m[\u001b[49m\u001b[38;5;124;43m\"\u001b[39;49m\u001b[38;5;124;43mcfg\u001b[39;49m\u001b[38;5;124;43m\"\u001b[39;49m\u001b[43m]\u001b[49m\u001b[43m)\u001b[49m\n",
      "File \u001b[0;32m~/Git/fairseq/fairseq/tasks/__init__.py:28\u001b[0m, in \u001b[0;36msetup_task\u001b[0;34m(task_cfg, **kwargs)\u001b[0m\n\u001b[1;32m     26\u001b[0m \u001b[38;5;28;01mif\u001b[39;00m \u001b[38;5;28misinstance\u001b[39m(task_cfg, DictConfig):\n\u001b[1;32m     27\u001b[0m     \u001b[38;5;28;01mreturn\u001b[39;00m TASK_REGISTRY[task_cfg\u001b[38;5;241m.\u001b[39m_name]\u001b[38;5;241m.\u001b[39msetup_task(task_cfg, \u001b[38;5;241m*\u001b[39m\u001b[38;5;241m*\u001b[39mkwargs)\n\u001b[0;32m---> 28\u001b[0m \u001b[38;5;28;01mreturn\u001b[39;00m TASK_REGISTRY[\u001b[43mtask_cfg\u001b[49m\u001b[38;5;241;43m.\u001b[39;49m\u001b[43mtask\u001b[49m]\u001b[38;5;241m.\u001b[39msetup_task(task_cfg, \u001b[38;5;241m*\u001b[39m\u001b[38;5;241m*\u001b[39mkwargs)\n",
      "\u001b[0;31mAttributeError\u001b[0m: 'dict' object has no attribute 'task'"
     ]
    }
   ],
   "source": [
    "tasks.setup_task(state[\"cfg\"])"
   ]
  },
  {
   "cell_type": "code",
   "execution_count": null,
   "id": "8a38dd0c-c55f-463c-ac71-fe0e882be3d7",
   "metadata": {},
   "outputs": [],
   "source": [
    "state[\"args\"].task.build_model()"
   ]
  },
  {
   "cell_type": "code",
   "execution_count": 33,
   "id": "aecb1023-b9c3-43ec-9c4e-6bc1f435f00a",
   "metadata": {},
   "outputs": [],
   "source": [
    "def read_audio(fname, fs=16000):\n",
    "    \"\"\" Load an audio file and return PCM along with the sample rate \"\"\"\n",
    "\n",
    "    wav, sr = sf.read(fname)\n",
    "    if sr!=fs:\n",
    "        wav, _ = librosa.load(fname, fs)\n",
    "        sf.write(\"temp.wav\", wav, fs, subtype=\"PCM_24\") # 書き込み\n",
    "        wav, sr = sf.read(\"temp.wav\")\n",
    "    assert sr == fs\n",
    "\n",
    "    return wav, fs"
   ]
  },
  {
   "cell_type": "code",
   "execution_count": 34,
   "id": "544067a1-9665-4faf-b892-3c1c11a710c7",
   "metadata": {},
   "outputs": [],
   "source": [
    "class PretrainedWav2VecModel(nn.Module):\n",
    "    def __init__(self, fname):\n",
    "        super().__init__()\n",
    "\n",
    "        model, cfg, task = fairseq.checkpoint_utils.load_model_ensemble_and_task([fname])\n",
    "        model = model[0]\n",
    "        model.eval()\n",
    "\n",
    "        self.model = model\n",
    "\n",
    "    def forward(self, x):\n",
    "        with torch.no_grad():\n",
    "            z = self.model.feature_extractor(x)\n",
    "            if isinstance(z, tuple):\n",
    "                z = z[0]\n",
    "            c = self.model.feature_aggregator(z)\n",
    "        return z, c\n",
    "    \n",
    "class Prediction:\n",
    "    \"\"\" Lightweight wrapper around a fairspeech embedding model \"\"\"\n",
    "\n",
    "    def __init__(self, fname, gpu=0):\n",
    "        self.gpu = gpu\n",
    "        self.model = PretrainedWav2VecModel(fname).cuda(gpu)\n",
    "\n",
    "    def __call__(self, x):\n",
    "        x = torch.from_numpy(x).float().cuda(self.gpu)\n",
    "        with torch.no_grad():\n",
    "            z, c = self.model(x.unsqueeze(0))\n",
    "\n",
    "        return z.squeeze(0).cpu().numpy(), c.squeeze(0).cpu().numpy()"
   ]
  },
  {
   "cell_type": "code",
   "execution_count": 35,
   "id": "3bb305da-c837-491e-a26f-a89630d77794",
   "metadata": {},
   "outputs": [
    {
     "ename": "TypeError",
     "evalue": "unhashable type: 'dict'",
     "output_type": "error",
     "traceback": [
      "\u001b[0;31m---------------------------------------------------------------------------\u001b[0m",
      "\u001b[0;31mTypeError\u001b[0m                                 Traceback (most recent call last)",
      "Cell \u001b[0;32mIn[35], line 1\u001b[0m\n\u001b[0;32m----> 1\u001b[0m model \u001b[38;5;241m=\u001b[39m \u001b[43mPrediction\u001b[49m\u001b[43m(\u001b[49m\u001b[43mckpt_path\u001b[49m\u001b[43m,\u001b[49m\u001b[43m \u001b[49m\u001b[38;5;241;43m0\u001b[39;49m\u001b[43m)\u001b[49m\n\u001b[1;32m      2\u001b[0m wav, sr \u001b[38;5;241m=\u001b[39m read_audio(path)\n",
      "Cell \u001b[0;32mIn[34], line 24\u001b[0m, in \u001b[0;36mPrediction.__init__\u001b[0;34m(self, fname, gpu)\u001b[0m\n\u001b[1;32m     22\u001b[0m \u001b[38;5;28;01mdef\u001b[39;00m \u001b[38;5;21m__init__\u001b[39m(\u001b[38;5;28mself\u001b[39m, fname, gpu\u001b[38;5;241m=\u001b[39m\u001b[38;5;241m0\u001b[39m):\n\u001b[1;32m     23\u001b[0m     \u001b[38;5;28mself\u001b[39m\u001b[38;5;241m.\u001b[39mgpu \u001b[38;5;241m=\u001b[39m gpu\n\u001b[0;32m---> 24\u001b[0m     \u001b[38;5;28mself\u001b[39m\u001b[38;5;241m.\u001b[39mmodel \u001b[38;5;241m=\u001b[39m \u001b[43mPretrainedWav2VecModel\u001b[49m\u001b[43m(\u001b[49m\u001b[43mfname\u001b[49m\u001b[43m)\u001b[49m\u001b[38;5;241m.\u001b[39mcuda(gpu)\n",
      "Cell \u001b[0;32mIn[34], line 5\u001b[0m, in \u001b[0;36mPretrainedWav2VecModel.__init__\u001b[0;34m(self, fname)\u001b[0m\n\u001b[1;32m      2\u001b[0m \u001b[38;5;28;01mdef\u001b[39;00m \u001b[38;5;21m__init__\u001b[39m(\u001b[38;5;28mself\u001b[39m, fname):\n\u001b[1;32m      3\u001b[0m     \u001b[38;5;28msuper\u001b[39m()\u001b[38;5;241m.\u001b[39m\u001b[38;5;21m__init__\u001b[39m()\n\u001b[0;32m----> 5\u001b[0m     model, cfg, task \u001b[38;5;241m=\u001b[39m \u001b[43mfairseq\u001b[49m\u001b[38;5;241;43m.\u001b[39;49m\u001b[43mcheckpoint_utils\u001b[49m\u001b[38;5;241;43m.\u001b[39;49m\u001b[43mload_model_ensemble_and_task\u001b[49m\u001b[43m(\u001b[49m\u001b[43m[\u001b[49m\u001b[43mfname\u001b[49m\u001b[43m]\u001b[49m\u001b[43m)\u001b[49m\n\u001b[1;32m      6\u001b[0m     model \u001b[38;5;241m=\u001b[39m model[\u001b[38;5;241m0\u001b[39m]\n\u001b[1;32m      7\u001b[0m     model\u001b[38;5;241m.\u001b[39meval()\n",
      "File \u001b[0;32m~/Git/fairseq/fairseq/checkpoint_utils.py:279\u001b[0m, in \u001b[0;36mload_model_ensemble_and_task\u001b[0;34m(filenames, arg_overrides, task, strict, suffix, num_shards)\u001b[0m\n\u001b[1;32m    277\u001b[0m \u001b[38;5;28;01mif\u001b[39;00m \u001b[38;5;129;01mnot\u001b[39;00m PathManager\u001b[38;5;241m.\u001b[39mexists(filename):\n\u001b[1;32m    278\u001b[0m     \u001b[38;5;28;01mraise\u001b[39;00m \u001b[38;5;167;01mIOError\u001b[39;00m(\u001b[38;5;124m\"\u001b[39m\u001b[38;5;124mModel file not found: \u001b[39m\u001b[38;5;132;01m{}\u001b[39;00m\u001b[38;5;124m\"\u001b[39m\u001b[38;5;241m.\u001b[39mformat(filename))\n\u001b[0;32m--> 279\u001b[0m state \u001b[38;5;241m=\u001b[39m \u001b[43mload_checkpoint_to_cpu\u001b[49m\u001b[43m(\u001b[49m\u001b[43mfilename\u001b[49m\u001b[43m,\u001b[49m\u001b[43m \u001b[49m\u001b[43marg_overrides\u001b[49m\u001b[43m)\u001b[49m\n\u001b[1;32m    280\u001b[0m \u001b[38;5;28;01mif\u001b[39;00m shard_idx \u001b[38;5;241m==\u001b[39m \u001b[38;5;241m0\u001b[39m:\n\u001b[1;32m    281\u001b[0m     args \u001b[38;5;241m=\u001b[39m state[\u001b[38;5;124m\"\u001b[39m\u001b[38;5;124margs\u001b[39m\u001b[38;5;124m\"\u001b[39m]\n",
      "File \u001b[0;32m~/Git/fairseq/fairseq/checkpoint_utils.py:232\u001b[0m, in \u001b[0;36mload_checkpoint_to_cpu\u001b[0;34m(path, arg_overrides)\u001b[0m\n\u001b[1;32m    230\u001b[0m     \u001b[38;5;28;01mfor\u001b[39;00m arg_name, arg_val \u001b[38;5;129;01min\u001b[39;00m arg_overrides\u001b[38;5;241m.\u001b[39mitems():\n\u001b[1;32m    231\u001b[0m         \u001b[38;5;28msetattr\u001b[39m(args, arg_name, arg_val)\n\u001b[0;32m--> 232\u001b[0m state \u001b[38;5;241m=\u001b[39m \u001b[43m_upgrade_state_dict\u001b[49m\u001b[43m(\u001b[49m\u001b[43mstate\u001b[49m\u001b[43m)\u001b[49m\n\u001b[1;32m    233\u001b[0m \u001b[38;5;28;01mreturn\u001b[39;00m state\n",
      "File \u001b[0;32m~/Git/fairseq/fairseq/checkpoint_utils.py:434\u001b[0m, in \u001b[0;36m_upgrade_state_dict\u001b[0;34m(state)\u001b[0m\n\u001b[1;32m    428\u001b[0m     state[\u001b[38;5;124m\"\u001b[39m\u001b[38;5;124mextra_state\u001b[39m\u001b[38;5;124m\"\u001b[39m][\u001b[38;5;124m\"\u001b[39m\u001b[38;5;124mtrain_iterator\u001b[39m\u001b[38;5;124m\"\u001b[39m][\u001b[38;5;124m\"\u001b[39m\u001b[38;5;124mepoch\u001b[39m\u001b[38;5;124m\"\u001b[39m] \u001b[38;5;241m=\u001b[39m \u001b[38;5;28mmax\u001b[39m(\n\u001b[1;32m    429\u001b[0m         state[\u001b[38;5;124m\"\u001b[39m\u001b[38;5;124mextra_state\u001b[39m\u001b[38;5;124m\"\u001b[39m][\u001b[38;5;124m\"\u001b[39m\u001b[38;5;124mtrain_iterator\u001b[39m\u001b[38;5;124m\"\u001b[39m]\u001b[38;5;241m.\u001b[39mget(\u001b[38;5;124m\"\u001b[39m\u001b[38;5;124mepoch\u001b[39m\u001b[38;5;124m\"\u001b[39m, \u001b[38;5;241m1\u001b[39m),\n\u001b[1;32m    430\u001b[0m         \u001b[38;5;241m1\u001b[39m,\n\u001b[1;32m    431\u001b[0m     )\n\u001b[1;32m    433\u001b[0m \u001b[38;5;66;03m# set any missing default values in the task, model or other registries\u001b[39;00m\n\u001b[0;32m--> 434\u001b[0m registry\u001b[38;5;241m.\u001b[39mset_defaults(state[\u001b[38;5;124m\"\u001b[39m\u001b[38;5;124margs\u001b[39m\u001b[38;5;124m\"\u001b[39m], \u001b[43mtasks\u001b[49m\u001b[38;5;241;43m.\u001b[39;49m\u001b[43mTASK_REGISTRY\u001b[49m\u001b[43m[\u001b[49m\u001b[43mstate\u001b[49m\u001b[43m[\u001b[49m\u001b[38;5;124;43m\"\u001b[39;49m\u001b[38;5;124;43margs\u001b[39;49m\u001b[38;5;124;43m\"\u001b[39;49m\u001b[43m]\u001b[49m\u001b[38;5;241;43m.\u001b[39;49m\u001b[43mtask\u001b[49m\u001b[43m]\u001b[49m)\n\u001b[1;32m    435\u001b[0m registry\u001b[38;5;241m.\u001b[39mset_defaults(state[\u001b[38;5;124m\"\u001b[39m\u001b[38;5;124margs\u001b[39m\u001b[38;5;124m\"\u001b[39m], models\u001b[38;5;241m.\u001b[39mARCH_MODEL_REGISTRY[state[\u001b[38;5;124m\"\u001b[39m\u001b[38;5;124margs\u001b[39m\u001b[38;5;124m\"\u001b[39m]\u001b[38;5;241m.\u001b[39march])\n\u001b[1;32m    436\u001b[0m \u001b[38;5;28;01mfor\u001b[39;00m registry_name, REGISTRY \u001b[38;5;129;01min\u001b[39;00m registry\u001b[38;5;241m.\u001b[39mREGISTRIES\u001b[38;5;241m.\u001b[39mitems():\n",
      "\u001b[0;31mTypeError\u001b[0m: unhashable type: 'dict'"
     ]
    }
   ],
   "source": [
    "model = Prediction(ckpt_path, 0)\n",
    "wav, sr = read_audio(path)"
   ]
  },
  {
   "cell_type": "code",
   "execution_count": null,
   "id": "c496295e-c029-44eb-a758-f7cd52a56c98",
   "metadata": {},
   "outputs": [],
   "source": [
    "z, c = model(wav)"
   ]
  },
  {
   "cell_type": "code",
   "execution_count": null,
   "id": "e5790bfb-1d9a-469f-9328-7234ad40497d",
   "metadata": {},
   "outputs": [],
   "source": []
  },
  {
   "cell_type": "code",
   "execution_count": null,
   "id": "6286c52b-8505-4294-88ad-4092601a0929",
   "metadata": {},
   "outputs": [],
   "source": []
  }
 ],
 "metadata": {
  "kernelspec": {
   "display_name": "Python 3 (ipykernel)",
   "language": "python",
   "name": "python3"
  },
  "language_info": {
   "codemirror_mode": {
    "name": "ipython",
    "version": 3
   },
   "file_extension": ".py",
   "mimetype": "text/x-python",
   "name": "python",
   "nbconvert_exporter": "python",
   "pygments_lexer": "ipython3",
   "version": "3.8.19"
  }
 },
 "nbformat": 4,
 "nbformat_minor": 5
}
