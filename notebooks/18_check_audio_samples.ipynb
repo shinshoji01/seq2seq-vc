{
 "cells": [
  {
   "cell_type": "code",
   "execution_count": 2,
   "id": "4ec619fe-6350-4770-8d89-e5eb8b502e86",
   "metadata": {},
   "outputs": [],
   "source": [
    "import warnings\n",
    "warnings.filterwarnings(\"ignore\")\n",
    "\n",
    "from tqdm import tqdm\n",
    "import torch\n",
    "import librosa\n",
    "import numpy as np\n",
    "import glob\n",
    "import os\n",
    "from tqdm import tqdm\n",
    "import pandas as pd\n",
    "import shutil\n",
    "\n",
    "import sys\n",
    "sys.path.append(\"../../cuhksz-phd/sho_util/pyfiles/\")\n",
    "from sound import play_audio\n",
    "\n",
    "from IPython.display import clear_output\n",
    "sr = 16000"
   ]
  },
  {
   "cell_type": "code",
   "execution_count": 19,
   "id": "4abbb87e-9eb0-4a0a-a1b0-924a31c9e665",
   "metadata": {},
   "outputs": [],
   "source": [
    "sample_num = 5\n",
    "play = False\n",
    "\n",
    "# scp -i ~/.ssh/id_rsa_gpu shoinoue@10.26.6.81:\"/home/shoinoue/Git/seq2seq-vc/notebooks/tosend/*\" ~/Downloads/samples/\n",
    "dirs = {\n",
    "##### gt: CMU-ARCTIC, english: Elevenlabs English, hindi: Elevellabs transliterated Hindi\n",
    "# \"gt\": \"/mntcephfs/lab_data/shoinoue/Dataset/CMU-ARCTIC/SLT/wav/\",\n",
    "# \"english\": \"/mntcephfs/lab_data/shoinoue/Dataset/PD-AST/SLT/English/wav/\",\n",
    "# \"hindi\": \"/mntcephfs/lab_data/shoinoue/Dataset/PD-AST/SLT/Hindi/wav/\",\n",
    "    \n",
    "##### gt: L2-ARCTIC, english: CosyVoice cross lingual version (xvector), hindi: CosyVoice zeroshot version (speechprompt+xvector)\n",
    "# \"gt\": \"/mntcephfs/lab_data/shoinoue/Dataset/L2-ARCTIC/ASI/wav/\",\n",
    "# \"english\": \"/mntcephfs/lab_data/shoinoue/Dataset/L2-ARCTIC/ASI/cosyvoice/wav/\",\n",
    "# \"hindi\": \"/mntcephfs/lab_data/shoinoue/Dataset/L2-ARCTIC/ASI/cosyvoice/wavzs/\",\n",
    "    \n",
    "##### dataset scalability on spat\n",
    "# \"gt\": \"/mntcephfs/lab_data/shoinoue/Dataset/PD-AST/SLT/English/wav/\",\n",
    "# \"spat\": \"/mntcephfs/lab_data/shoinoue/Dataset/PD-AST/SLT/Hindi/wav/\",\n",
    "# \"cosyvoice\": \"/mntcephfs/lab_data/shoinoue/Dataset/PD-AST/SLT/Hindi/cosyvoice/wav/\",\n",
    "    \n",
    "##### different samples for xvector and speech prompt\n",
    "# \"speaker\": \"/mntcephfs/lab_data/shoinoue/Dataset/CMU-ARCTIC/SLT/wav/\",\n",
    "# \"accent\": \"/mntcephfs/lab_data/shoinoue/Dataset/L2-ARCTIC/ASI/wav/\",\n",
    "# \"cosyvoice\": \"/mntcephfs/lab_data/shoinoue/Dataset/PD-AST/SLT/Hindi/cosyvoice/fromASI/\",\n",
    "    \n",
    "# \"speaker\": \"/mntcephfs/lab_data/shoinoue/Dataset/L2-ARCTIC/ASI/wav/\",\n",
    "# \"accent\": \"/mntcephfs/lab_data/shoinoue/Dataset/CMU-ARCTIC/SLT/wav/\",\n",
    "# \"cosyvoice\": \"/mntcephfs/lab_data/shoinoue/Dataset/L2-ARCTIC/ASI/cosyvoice/fromSLT/\",\n",
    "    \n",
    "##### native Hindi speech prompt + english pronunciation\n",
    "# \"speaker\": \"/mntcephfs/lab_data/shoinoue/Dataset/CMU-ARCTIC/SLT/wav/\",\n",
    "# \"cosyvoice\": \"/mntcephfs/lab_data/shoinoue/Dataset/PD-AST/SLT/Hindi/cosyvoice/fromnativehindi/\",\n",
    "    \n",
    "##### Korean zero-shot\n",
    "\"gt\": \"/mntcephfs/lab_data/shoinoue/Dataset/L2-ARCTIC/HKK/wav/\",\n",
    "\"cosyvoice\": \"/mntcephfs/lab_data/shoinoue/Dataset/L2-ARCTIC/HKK/cosyvoice/wavzs/\",\n",
    "}\n",
    "\n",
    "candidates = [os.path.basename(a) for a in glob.glob(dirs[list(dirs.keys())[0]]+\"*.wav\")]\n",
    "candidates.sort()\n",
    "commons = []\n",
    "savedir = \"./tosend/\"\n",
    "shutil.rmtree(savedir, ignore_errors=True)\n",
    "os.makedirs(savedir, exist_ok=True)\n",
    "for basename in candidates:\n",
    "    exist = True\n",
    "    for key in dirs:\n",
    "        if not os.path.exists(dirs[key]+basename):\n",
    "            exist = False\n",
    "            break\n",
    "    if exist:\n",
    "        commons += [basename]\n",
    "for basename in commons[:sample_num]:\n",
    "    for key in dirs:\n",
    "        src = dirs[key] + basename\n",
    "        if play:\n",
    "            play_audio(src, sr)\n",
    "        tgt = f\"{savedir}{basename[:-4]}_{key}.wav\"\n",
    "        shutil.copy(src, tgt)"
   ]
  },
  {
   "cell_type": "code",
   "execution_count": null,
   "id": "9f78c2b4-878d-42ab-b3fb-63cad347601c",
   "metadata": {},
   "outputs": [],
   "source": []
  },
  {
   "cell_type": "code",
   "execution_count": null,
   "id": "8e13838c-ddad-4e9f-b771-879f22d64493",
   "metadata": {},
   "outputs": [],
   "source": []
  },
  {
   "cell_type": "code",
   "execution_count": 5,
   "id": "b5ada4a3-74fb-46c6-8b11-6c31cd815607",
   "metadata": {},
   "outputs": [
    {
     "data": {
      "text/plain": [
       "'./tosend/'"
      ]
     },
     "execution_count": 5,
     "metadata": {},
     "output_type": "execute_result"
    }
   ],
   "source": [
    "savedir"
   ]
  },
  {
   "cell_type": "code",
   "execution_count": null,
   "id": "120bc648-b10b-4a90-81eb-7b0c7e28506b",
   "metadata": {},
   "outputs": [],
   "source": []
  },
  {
   "cell_type": "code",
   "execution_count": null,
   "id": "e3c59bae-fa9c-426a-8ff9-f14d336fea53",
   "metadata": {},
   "outputs": [],
   "source": []
  }
 ],
 "metadata": {
  "kernelspec": {
   "display_name": "Python 3 (ipykernel)",
   "language": "python",
   "name": "python3"
  },
  "language_info": {
   "codemirror_mode": {
    "name": "ipython",
    "version": 3
   },
   "file_extension": ".py",
   "mimetype": "text/x-python",
   "name": "python",
   "nbconvert_exporter": "python",
   "pygments_lexer": "ipython3",
   "version": "3.8.19"
  }
 },
 "nbformat": 4,
 "nbformat_minor": 5
}
