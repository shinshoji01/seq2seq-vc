{
 "cells": [
  {
   "cell_type": "code",
   "execution_count": 2,
   "id": "70d7b446-aebc-446b-8e9a-47037528e25f",
   "metadata": {},
   "outputs": [
    {
     "name": "stderr",
     "output_type": "stream",
     "text": [
      "/mntcephfs/lab_data/shoinoue/miniconda3/envs/newaccent/lib/python3.10/site-packages/tqdm/auto.py:21: TqdmWarning: IProgress not found. Please update jupyter and ipywidgets. See https://ipywidgets.readthedocs.io/en/stable/user_install.html\n",
      "  from .autonotebook import tqdm as notebook_tqdm\n",
      "torchvision is not available - cannot save figures\n"
     ]
    }
   ],
   "source": []
  },
  {
   "cell_type": "code",
   "execution_count": 3,
   "id": "041b94f4-2262-423d-8d6d-c21113cd582a",
   "metadata": {},
   "outputs": [],
   "source": [
    "file = '/mntcephfs/lab_data/shoinoue/Dataset/L2-ARCTIC/ASI/wav/arctic_b0539.wav'"
   ]
  },
  {
   "cell_type": "code",
   "execution_count": 4,
   "id": "c8b7366d-d9b1-41bc-b92a-72e5102ed68e",
   "metadata": {},
   "outputs": [],
   "source": []
  },
  {
   "cell_type": "code",
   "execution_count": 5,
   "id": "0dae4f55-c798-4da5-82bb-a517caf970b4",
   "metadata": {},
   "outputs": [
    {
     "data": {
      "text/plain": [
       "'YOU WERE MAKING THEM TALK SHOP RUTH CHARGED HIM'"
      ]
     },
     "execution_count": 5,
     "metadata": {},
     "output_type": "execute_result"
    }
   ],
   "source": []
  },
  {
   "cell_type": "code",
   "execution_count": null,
   "id": "36a5f979-80eb-4ee7-8b45-e3df4013e8dc",
   "metadata": {},
   "outputs": [],
   "source": []
  }
 ],
 "metadata": {
  "kernelspec": {
   "display_name": "Python 3 (ipykernel)",
   "language": "python",
   "name": "python3"
  },
  "language_info": {
   "codemirror_mode": {
    "name": "ipython",
    "version": 3
   },
   "file_extension": ".py",
   "mimetype": "text/x-python",
   "name": "python",
   "nbconvert_exporter": "python",
   "pygments_lexer": "ipython3",
   "version": "3.10.14"
  }
 },
 "nbformat": 4,
 "nbformat_minor": 5
}
