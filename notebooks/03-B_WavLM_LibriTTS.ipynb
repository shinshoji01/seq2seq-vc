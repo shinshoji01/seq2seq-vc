{
 "cells": [
  {
   "cell_type": "code",
   "execution_count": 1,
   "id": "24182e13-4f90-4085-b10d-80dd9894bb73",
   "metadata": {},
   "outputs": [
    {
     "name": "stderr",
     "output_type": "stream",
     "text": [
      "################################################################################\n",
      "### WARNING, path does not exist: KALDI_ROOT=/mnt/matylda5/iveselyk/Tools/kaldi-trunk\n",
      "###          (please add 'export KALDI_ROOT=<your_path>' in your $HOME/.profile)\n",
      "###          (or run as: KALDI_ROOT=<your_path> python <your_script>.py)\n",
      "################################################################################\n",
      "\n"
     ]
    }
   ],
   "source": [
    "import warnings\n",
    "warnings.filterwarnings(\"ignore\")\n",
    "import torch\n",
    "import sys\n",
    "\n",
    "import tgt\n",
    "import os\n",
    "import numpy as np\n",
    "from tqdm import tqdm\n",
    "import librosa\n",
    "import glob\n",
    "\n",
    "sys.path.append(\"../\")\n",
    "from pyfiles.utils import trim_audio_and_save\n",
    "\n",
    "sys.path.append(\"../\")\n",
    "from pyfiles.feature_extractor import WavLMExtractor"
   ]
  },
  {
   "cell_type": "code",
   "execution_count": 2,
   "id": "252570ef-9653-4f4c-ace2-b41603d3c118",
   "metadata": {},
   "outputs": [],
   "source": [
    "dataset_dir = \"/mntcephfs/lee_dataset/tts/LibriTTS_R/\"\n",
    "feat_base_dir = \"/mntcephfs/lab_data/shoinoue/Dataset/LibriTTS_R/features/\"\n",
    "\n",
    "wavlm = WavLMExtractor()\n",
    "speakers = [os.path.basename(a) for a in glob.glob(dataset_dir + \"*/*\")]\n",
    "speakers.sort()"
   ]
  },
  {
   "cell_type": "code",
   "execution_count": 3,
   "id": "16af6b55-0580-4793-914f-0d9c3c5e8c72",
   "metadata": {},
   "outputs": [
    {
     "name": "stderr",
     "output_type": "stream",
     "text": [
      "100%|██████████| 1230/1230 [00:02<00:00, 462.38it/s]\n",
      "  0%|          | 389/160267 [01:12<8:18:16,  5.35it/s] \n",
      "Exception ignored in: <bound method IPythonKernel._clean_thread_parent_frames of <ipykernel.ipkernel.IPythonKernel object at 0x155550312d90>>\n",
      "Traceback (most recent call last):\n",
      "  File \"/mntcephfs/lab_data/shoinoue/miniconda3/envs/cuhk/lib/python3.8/site-packages/ipykernel/ipkernel.py\", line 775, in _clean_thread_parent_frames\n",
      "    def _clean_thread_parent_frames(\n",
      "KeyboardInterrupt: \n",
      "\n",
      "KeyboardInterrupt\n",
      "\n"
     ]
    }
   ],
   "source": [
    "save = True\n",
    "tempfile = \"temp3.wav\"\n",
    "trim_threshold_in_db = 30\n",
    "\n",
    "files = []\n",
    "for spk in tqdm(speakers):\n",
    "    files += glob.glob(dataset_dir + f\"*/{spk}/*/*.wav\")\n",
    "files.sort()\n",
    "for path in tqdm(files):\n",
    "    trim_audio_and_save(path, savepath=tempfile, trim_threshold_in_db=trim_threshold_in_db)\n",
    "    embedding = wavlm.get_feature(tempfile).T.detach().cpu().numpy()\n",
    "    savepath = feat_base_dir + \"/\".join(path.split(\"/\")[-4:])[:-4] + \"_wavlm.npy\"\n",
    "    if save:\n",
    "        np.save(savepath, embedding)"
   ]
  },
  {
   "cell_type": "markdown",
   "id": "e2cd08a4-73b9-4775-a1ab-a0e4623fbe78",
   "metadata": {},
   "source": [
    "# Normalize"
   ]
  },
  {
   "cell_type": "code",
   "execution_count": null,
   "id": "0d78731b-6f00-4ce1-8c4a-84bdb4f1a657",
   "metadata": {},
   "outputs": [],
   "source": [
    "from sklearn.preprocessing import StandardScaler\n",
    "import numpy as np\n",
    "import joblib"
   ]
  },
  {
   "cell_type": "code",
   "execution_count": null,
   "id": "1a2a5479-2d35-42e1-b992-2c1d8684bad1",
   "metadata": {},
   "outputs": [],
   "source": [
    "scaler_name = \"LibriTTS-R_wavlm\""
   ]
  },
  {
   "cell_type": "code",
   "execution_count": null,
   "id": "a73d1afb-5a45-4c87-a2e5-c43afa2b4751",
   "metadata": {},
   "outputs": [],
   "source": [
    "scaler = StandardScaler()\n",
    "files = []\n",
    "for spk in tqdm(speakers):\n",
    "    files += glob.glob(feat_base_dir + f\"train*/{spk}/*/*[0-9]_wavlm.npy\")\n",
    "files.sort()\n",
    "for path in tqdm(files):\n",
    "    mel = np.load(path)\n",
    "    scaler.partial_fit(mel.T)\n",
    "            \n",
    "scaler_filename = f\"ckpts/scalers/{scaler_name}.save\"\n",
    "joblib.dump(scaler, scaler_filename) \n",
    "# a = joblib.load(scaler_filename)"
   ]
  },
  {
   "cell_type": "code",
   "execution_count": null,
   "id": "3136f6e9-bdb3-414c-b2f3-5e92bb1552be",
   "metadata": {},
   "outputs": [],
   "source": []
  }
 ],
 "metadata": {
  "kernelspec": {
   "display_name": "Python 3 (ipykernel)",
   "language": "python",
   "name": "python3"
  },
  "language_info": {
   "codemirror_mode": {
    "name": "ipython",
    "version": 3
   },
   "file_extension": ".py",
   "mimetype": "text/x-python",
   "name": "python",
   "nbconvert_exporter": "python",
   "pygments_lexer": "ipython3",
   "version": "3.8.19"
  }
 },
 "nbformat": 4,
 "nbformat_minor": 5
}
