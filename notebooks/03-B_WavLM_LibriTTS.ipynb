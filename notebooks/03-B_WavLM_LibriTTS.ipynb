{
 "cells": [
  {
   "cell_type": "code",
   "execution_count": 1,
   "id": "24182e13-4f90-4085-b10d-80dd9894bb73",
   "metadata": {},
   "outputs": [],
   "source": [
    "import warnings\n",
    "warnings.filterwarnings(\"ignore\")\n",
    "import torch\n",
    "import sys\n",
    "\n",
    "import tgt\n",
    "import os\n",
    "import numpy as np\n",
    "from tqdm import tqdm\n",
    "import librosa\n",
    "import glob\n",
    "\n",
    "sys.path.append(\"../\")\n",
    "from pyfiles.feature_extractor import WavLMExtractor"
   ]
  },
  {
   "cell_type": "code",
   "execution_count": 2,
   "id": "252570ef-9653-4f4c-ace2-b41603d3c118",
   "metadata": {},
   "outputs": [],
   "source": [
    "dataset_dir = \"/mntcephfs/lee_dataset/tts/LibriTTS_R/\"\n",
    "feat_base_dir = \"/mntcephfs/lab_data/shoinoue/Dataset/LibriTTS_R/features/\"\n",
    "\n",
    "wavlm = WavLMExtractor()\n",
    "speakers = [os.path.basename(a) for a in glob.glob(dataset_dir + \"*/*\")]\n",
    "speakers.sort()"
   ]
  },
  {
   "cell_type": "code",
   "execution_count": null,
   "id": "37947db4-f97a-47c6-829f-72a06d3f19de",
   "metadata": {},
   "outputs": [],
   "source": [
    "import os\n",
    "# os.remove(\"/tmp/<file_name>.txt\")"
   ]
  },
  {
   "cell_type": "code",
   "execution_count": 31,
   "id": "7e4f8e4a-177c-4cfd-a107-b67eab1d1093",
   "metadata": {},
   "outputs": [],
   "source": [
    "for path in files:\n",
    "    os.remove(path)"
   ]
  },
  {
   "cell_type": "code",
   "execution_count": 34,
   "id": "7546d7bf-edf7-46a3-80d7-f35da82cdc59",
   "metadata": {},
   "outputs": [
    {
     "name": "stderr",
     "output_type": "stream",
     "text": [
      "100%|██████████| 1230/1230 [00:00<00:00, 1930.34it/s]\n"
     ]
    }
   ],
   "source": [
    "files = []\n",
    "for spk in tqdm(speakers):\n",
    "    files += glob.glob(feat_base_dir + f\"*/{spk}/*/*.npy\")\n",
    "files.sort()"
   ]
  },
  {
   "cell_type": "code",
   "execution_count": 35,
   "id": "7e53c692-760a-47d1-b41c-a24e82cc9b86",
   "metadata": {},
   "outputs": [
    {
     "data": {
      "text/plain": [
       "0"
      ]
     },
     "execution_count": 35,
     "metadata": {},
     "output_type": "execute_result"
    }
   ],
   "source": [
    "len(files)"
   ]
  },
  {
   "cell_type": "code",
   "execution_count": 36,
   "id": "16af6b55-0580-4793-914f-0d9c3c5e8c72",
   "metadata": {},
   "outputs": [
    {
     "name": "stderr",
     "output_type": "stream",
     "text": [
      "100%|██████████| 1230/1230 [00:01<00:00, 722.16it/s]\n",
      "  0%|          | 15/12167 [00:07<1:40:13,  2.02it/s]\n"
     ]
    },
    {
     "ename": "KeyboardInterrupt",
     "evalue": "",
     "output_type": "error",
     "traceback": [
      "\u001b[0;31m---------------------------------------------------------------------------\u001b[0m",
      "\u001b[0;31mKeyboardInterrupt\u001b[0m                         Traceback (most recent call last)",
      "Cell \u001b[0;32mIn[36], line 11\u001b[0m\n\u001b[1;32m      9\u001b[0m savepath \u001b[38;5;241m=\u001b[39m feat_base_dir \u001b[38;5;241m+\u001b[39m \u001b[38;5;124m\"\u001b[39m\u001b[38;5;124m/\u001b[39m\u001b[38;5;124m\"\u001b[39m\u001b[38;5;241m.\u001b[39mjoin(path\u001b[38;5;241m.\u001b[39msplit(\u001b[38;5;124m\"\u001b[39m\u001b[38;5;124m/\u001b[39m\u001b[38;5;124m\"\u001b[39m)[\u001b[38;5;241m-\u001b[39m\u001b[38;5;241m4\u001b[39m:])[:\u001b[38;5;241m-\u001b[39m\u001b[38;5;241m4\u001b[39m] \u001b[38;5;241m+\u001b[39m \u001b[38;5;124m\"\u001b[39m\u001b[38;5;124m_wavlm.npy\u001b[39m\u001b[38;5;124m\"\u001b[39m\n\u001b[1;32m     10\u001b[0m \u001b[38;5;28;01mif\u001b[39;00m save:\n\u001b[0;32m---> 11\u001b[0m     \u001b[43mnp\u001b[49m\u001b[38;5;241;43m.\u001b[39;49m\u001b[43msave\u001b[49m\u001b[43m(\u001b[49m\u001b[43msavepath\u001b[49m\u001b[43m,\u001b[49m\u001b[43m \u001b[49m\u001b[43membedding\u001b[49m\u001b[43m)\u001b[49m\n",
      "File \u001b[0;32m<__array_function__ internals>:5\u001b[0m, in \u001b[0;36msave\u001b[0;34m(*args, **kwargs)\u001b[0m\n",
      "File \u001b[0;32m/mntcephfs/lab_data/shoinoue/miniconda3/envs/cuhk/lib/python3.8/site-packages/numpy/lib/npyio.py:525\u001b[0m, in \u001b[0;36msave\u001b[0;34m(file, arr, allow_pickle, fix_imports)\u001b[0m\n\u001b[1;32m    523\u001b[0m     \u001b[38;5;28;01mif\u001b[39;00m \u001b[38;5;129;01mnot\u001b[39;00m file\u001b[38;5;241m.\u001b[39mendswith(\u001b[38;5;124m'\u001b[39m\u001b[38;5;124m.npy\u001b[39m\u001b[38;5;124m'\u001b[39m):\n\u001b[1;32m    524\u001b[0m         file \u001b[38;5;241m=\u001b[39m file \u001b[38;5;241m+\u001b[39m \u001b[38;5;124m'\u001b[39m\u001b[38;5;124m.npy\u001b[39m\u001b[38;5;124m'\u001b[39m\n\u001b[0;32m--> 525\u001b[0m     file_ctx \u001b[38;5;241m=\u001b[39m \u001b[38;5;28;43mopen\u001b[39;49m\u001b[43m(\u001b[49m\u001b[43mfile\u001b[49m\u001b[43m,\u001b[49m\u001b[43m \u001b[49m\u001b[38;5;124;43m\"\u001b[39;49m\u001b[38;5;124;43mwb\u001b[39;49m\u001b[38;5;124;43m\"\u001b[39;49m\u001b[43m)\u001b[49m\n\u001b[1;32m    527\u001b[0m \u001b[38;5;28;01mwith\u001b[39;00m file_ctx \u001b[38;5;28;01mas\u001b[39;00m fid:\n\u001b[1;32m    528\u001b[0m     arr \u001b[38;5;241m=\u001b[39m np\u001b[38;5;241m.\u001b[39masanyarray(arr)\n",
      "\u001b[0;31mKeyboardInterrupt\u001b[0m: "
     ]
    }
   ],
   "source": [
    "save = True\n",
    "\n",
    "files = []\n",
    "for spk in tqdm(speakers):\n",
    "    files += glob.glob(dataset_dir + f\"*/{spk}/*/*.wav\")\n",
    "files.sort()\n",
    "for path in tqdm(files[148100:]):\n",
    "    embedding = wavlm.get_feature(path).T.detach().cpu().numpy()\n",
    "    savepath = feat_base_dir + \"/\".join(path.split(\"/\")[-4:])[:-4] + \"_wavlm.npy\"\n",
    "    if save:\n",
    "        np.save(savepath, embedding)"
   ]
  },
  {
   "cell_type": "markdown",
   "id": "e2cd08a4-73b9-4775-a1ab-a0e4623fbe78",
   "metadata": {},
   "source": [
    "# Normalize"
   ]
  },
  {
   "cell_type": "code",
   "execution_count": 24,
   "id": "0d78731b-6f00-4ce1-8c4a-84bdb4f1a657",
   "metadata": {},
   "outputs": [],
   "source": [
    "from sklearn.preprocessing import StandardScaler\n",
    "import numpy as np\n",
    "import joblib"
   ]
  },
  {
   "cell_type": "code",
   "execution_count": 26,
   "id": "1a2a5479-2d35-42e1-b992-2c1d8684bad1",
   "metadata": {},
   "outputs": [],
   "source": [
    "scaler_name = \"LibriTTS-R_wavlm\""
   ]
  },
  {
   "cell_type": "code",
   "execution_count": 30,
   "id": "a73d1afb-5a45-4c87-a2e5-c43afa2b4751",
   "metadata": {},
   "outputs": [
    {
     "name": "stderr",
     "output_type": "stream",
     "text": [
      "100%|██████████| 1230/1230 [00:04<00:00, 282.54it/s]\n",
      "100%|██████████| 333/333 [00:01<00:00, 287.49it/s]\n"
     ]
    }
   ],
   "source": [
    "scaler = StandardScaler()\n",
    "files = []\n",
    "for spk in tqdm(speakers):\n",
    "    files += glob.glob(feat_base_dir + f\"train*/{spk}/*/*[0-9]_wavlm.npy\")\n",
    "files.sort()\n",
    "for path in tqdm(files):\n",
    "    mel = np.load(path)\n",
    "    scaler.partial_fit(mel.T)\n",
    "            \n",
    "scaler_filename = f\"ckpts/scalers/{scaler_name}.save\"\n",
    "joblib.dump(scaler, scaler_filename) \n",
    "# a = joblib.load(scaler_filename)"
   ]
  }
 ],
 "metadata": {
  "kernelspec": {
   "display_name": "Python 3 (ipykernel)",
   "language": "python",
   "name": "python3"
  },
  "language_info": {
   "codemirror_mode": {
    "name": "ipython",
    "version": 3
   },
   "file_extension": ".py",
   "mimetype": "text/x-python",
   "name": "python",
   "nbconvert_exporter": "python",
   "pygments_lexer": "ipython3",
   "version": "3.8.19"
  }
 },
 "nbformat": 4,
 "nbformat_minor": 5
}
