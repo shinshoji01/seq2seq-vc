{
 "cells": [
  {
   "cell_type": "code",
   "execution_count": 1,
   "id": "24182e13-4f90-4085-b10d-80dd9894bb73",
   "metadata": {},
   "outputs": [
    {
     "name": "stderr",
     "output_type": "stream",
     "text": [
      "################################################################################\n",
      "### WARNING, path does not exist: KALDI_ROOT=/mnt/matylda5/iveselyk/Tools/kaldi-trunk\n",
      "###          (please add 'export KALDI_ROOT=<your_path>' in your $HOME/.profile)\n",
      "###          (or run as: KALDI_ROOT=<your_path> python <your_script>.py)\n",
      "################################################################################\n",
      "\n"
     ]
    }
   ],
   "source": [
    "import warnings\n",
    "warnings.filterwarnings(\"ignore\")\n",
    "import torch\n",
    "import sys\n",
    "\n",
    "import os\n",
    "import numpy as np\n",
    "from tqdm import tqdm\n",
    "import torchaudio\n",
    "import librosa\n",
    "import glob\n",
    "\n",
    "sys.path.append(\"../../cuhksz-phd/sho_util/pyfiles/\")\n",
    "from pytorch import cuda2numpy, cuda2cpu\n",
    "from basic import plot_spectrogram\n",
    "from sound import play_audio\n",
    "\n",
    "sys.path.append(\"../\")\n",
    "from pyfiles.processsound import trim_audio_and_save\n",
    "\n",
    "import json\n",
    "sys.path.append(\"./../../hifi-gan/\")\n",
    "from meldataset import mel_spectrogram, load_wav\n",
    "from env import AttrDict, build_env\n",
    "config = f'../../hifi-gan/config_16kHz.json'\n",
    "with open(config) as f:\n",
    "    data = f.read()\n",
    "json_config = json.loads(data)\n",
    "h = AttrDict(json_config)"
   ]
  },
  {
   "cell_type": "code",
   "execution_count": 17,
   "id": "252570ef-9653-4f4c-ace2-b41603d3c118",
   "metadata": {},
   "outputs": [],
   "source": [
    "data_dir = \"/mntcephfs/lab_data/shoinoue/\"\n",
    "dataset_dir = data_dir + \"Dataset/PD-AST/SLT/\"\n",
    "# dataset_dir = data_dir + \"Dataset/PD-AST/SLT_add/\"\n",
    "fs = 16000\n",
    "trim_threshold_in_db = 30\n",
    "# speakers = [\"English\", \"Korean\"]\n",
    "speakers = [\"Hindi\", \"English\"]\n",
    "\n",
    "def get_mel_spectrogram(path, MAX_WAV_VALUE=32768.0):\n",
    "    audio, _ = load_wav(path, h.sampling_rate)\n",
    "    if audio.max()>1.0:\n",
    "        audio = audio / MAX_WAV_VALUE\n",
    "    audio = torch.FloatTensor(audio)\n",
    "    audio = audio.unsqueeze(0)\n",
    "    mel = mel_spectrogram(audio, h.n_fft, h.num_mels,\n",
    "                          h.sampling_rate, h.hop_size, h.win_size, h.fmin, h.fmax,\n",
    "                          center=False)\n",
    "    mel = np.array(mel[0])\n",
    "    return mel"
   ]
  },
  {
   "cell_type": "code",
   "execution_count": 18,
   "id": "db325f19-b6e1-4055-a7a7-fcf0f48585e1",
   "metadata": {},
   "outputs": [
    {
     "name": "stdout",
     "output_type": "stream",
     "text": [
      "Hindi\n"
     ]
    },
    {
     "name": "stderr",
     "output_type": "stream",
     "text": [
      "100%|██████████| 1132/1132 [02:16<00:00,  8.27it/s]\n"
     ]
    },
    {
     "name": "stdout",
     "output_type": "stream",
     "text": [
      "English\n"
     ]
    },
    {
     "name": "stderr",
     "output_type": "stream",
     "text": [
      "100%|██████████| 1132/1132 [01:56<00:00,  9.72it/s]\n"
     ]
    }
   ],
   "source": [
    "save = True\n",
    "tempfile = \"temp1.wav\"\n",
    "\n",
    "for spk in speakers:\n",
    "    print(spk)\n",
    "    mel_dir = f\"{dataset_dir}{spk}/hifiganmel/\"\n",
    "    os.makedirs(mel_dir, exist_ok=True)\n",
    "    filenames = glob.glob(dataset_dir + spk + \"/wav/*\")\n",
    "    filenames.sort()\n",
    "    for path in tqdm(filenames):\n",
    "        trim_audio_and_save(path, savepath=tempfile, trim_threshold_in_db=trim_threshold_in_db)\n",
    "        mel = get_mel_spectrogram(tempfile)\n",
    "        savepath = mel_dir + os.path.basename(path)[:-4] + \".npy\"\n",
    "        if save:\n",
    "            np.save(savepath, mel)"
   ]
  },
  {
   "cell_type": "code",
   "execution_count": 19,
   "id": "6c135a01-a611-4730-b095-961900a87b3e",
   "metadata": {},
   "outputs": [],
   "source": [
    "data_dir = \"/mntcephfs/lab_data/shoinoue/\"\n",
    "# dataset_dir = data_dir + \"Dataset/PD-AST/SLT/\"\n",
    "dataset_dir = data_dir + \"Dataset/PD-AST/SLT_add/\"\n",
    "fs = 16000\n",
    "trim_threshold_in_db = 30\n",
    "# speakers = [\"English\", \"Korean\"]\n",
    "speakers = [\"Hindi\", \"English\"]\n",
    "\n",
    "def get_mel_spectrogram(path, MAX_WAV_VALUE=32768.0):\n",
    "    audio, _ = load_wav(path, h.sampling_rate)\n",
    "    if audio.max()>1.0:\n",
    "        audio = audio / MAX_WAV_VALUE\n",
    "    audio = torch.FloatTensor(audio)\n",
    "    audio = audio.unsqueeze(0)\n",
    "    mel = mel_spectrogram(audio, h.n_fft, h.num_mels,\n",
    "                          h.sampling_rate, h.hop_size, h.win_size, h.fmin, h.fmax,\n",
    "                          center=False)\n",
    "    mel = np.array(mel[0])\n",
    "    return mel"
   ]
  },
  {
   "cell_type": "code",
   "execution_count": 20,
   "id": "9953dfa7-66fb-421b-9928-3f2f10b9a76f",
   "metadata": {},
   "outputs": [
    {
     "name": "stdout",
     "output_type": "stream",
     "text": [
      "Hindi\n"
     ]
    },
    {
     "name": "stderr",
     "output_type": "stream",
     "text": [
      "100%|██████████| 4500/4500 [05:47<00:00, 12.93it/s]\n"
     ]
    },
    {
     "name": "stdout",
     "output_type": "stream",
     "text": [
      "English\n"
     ]
    },
    {
     "name": "stderr",
     "output_type": "stream",
     "text": [
      "100%|██████████| 4500/4500 [05:34<00:00, 13.44it/s]\n"
     ]
    }
   ],
   "source": [
    "save = True\n",
    "tempfile = \"temp1.wav\"\n",
    "\n",
    "for spk in speakers:\n",
    "    print(spk)\n",
    "    mel_dir = f\"{dataset_dir}{spk}/hifiganmel/\"\n",
    "    os.makedirs(mel_dir, exist_ok=True)\n",
    "    filenames = glob.glob(dataset_dir + spk + \"/wav/*\")\n",
    "    filenames.sort()\n",
    "    for path in tqdm(filenames):\n",
    "        trim_audio_and_save(path, savepath=tempfile, trim_threshold_in_db=trim_threshold_in_db)\n",
    "        mel = get_mel_spectrogram(tempfile)\n",
    "        savepath = mel_dir + os.path.basename(path)[:-4] + \".npy\"\n",
    "        if save:\n",
    "            np.save(savepath, mel)"
   ]
  },
  {
   "cell_type": "code",
   "execution_count": null,
   "id": "76380d40-3447-4640-8c92-bd2ed6bddf1d",
   "metadata": {},
   "outputs": [],
   "source": []
  }
 ],
 "metadata": {
  "kernelspec": {
   "display_name": "Python 3 (ipykernel)",
   "language": "python",
   "name": "python3"
  },
  "language_info": {
   "codemirror_mode": {
    "name": "ipython",
    "version": 3
   },
   "file_extension": ".py",
   "mimetype": "text/x-python",
   "name": "python",
   "nbconvert_exporter": "python",
   "pygments_lexer": "ipython3",
   "version": "3.8.19"
  }
 },
 "nbformat": 4,
 "nbformat_minor": 5
}
